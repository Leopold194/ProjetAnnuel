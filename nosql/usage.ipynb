{
 "cells": [
  {
   "cell_type": "code",
   "execution_count": 2,
   "id": "d605d34d",
   "metadata": {},
   "outputs": [
    {
     "data": {
      "text/plain": [
       "<Figure size 1500x0 with 0 Axes>"
      ]
     },
     "metadata": {},
     "output_type": "display_data"
    }
   ],
   "source": [
    "from pymongo import MongoClient\n",
    "import gridfs\n",
    "from PIL import Image\n",
    "from io import BytesIO\n",
    "import matplotlib.pyplot as plt\n",
    "\n",
    "# Initialisation\n",
    "def init_fs(uri=\"mongodb://localhost:27017\", db_name=\"affiches\"):\n",
    "    client = MongoClient(uri)\n",
    "    db = client[db_name]\n",
    "    return gridfs.GridFS(db)\n",
    "\n",
    "# Récupération des images\n",
    "def get_all_images(n=15):\n",
    "    fs = init_fs()\n",
    "    files = list(fs.find().sort(\"uploadDate\", -1).limit(n))  # les plus récents d'abord\n",
    "    images = []\n",
    "    for f in files:\n",
    "        data = f.read()\n",
    "        img = Image.open(BytesIO(data))\n",
    "        images.append((f.filename, img))\n",
    "    return images\n",
    "\n",
    "# Affichage\n",
    "images = get_all_images(n=15)\n",
    "cols = 5\n",
    "rows = (len(images) + cols - 1) // cols\n",
    "plt.figure(figsize=(15, 3 * rows))\n",
    "\n",
    "for i, (filename, img) in enumerate(images):\n",
    "    plt.subplot(rows, cols, i + 1)\n",
    "    plt.imshow(img)\n",
    "    plt.axis(\"off\")\n",
    "    plt.title(filename, fontsize=8)\n",
    "\n",
    "plt.tight_layout()\n",
    "plt.show()\n"
   ]
  },
  {
   "cell_type": "code",
   "execution_count": 19,
   "id": "b4300d42",
   "metadata": {},
   "outputs": [
    {
     "data": {
      "application/vnd.plotly.v1+json": {
       "config": {
        "plotlyServerURL": "https://plot.ly"
       },
       "data": [
        {
         "alignmentgroup": "True",
         "hovertemplate": "Algorithme=rosenblatt<br>Genres=%{x}<br>Test Accuracy=%{y}<extra></extra>",
         "legendgroup": "rosenblatt",
         "marker": {
          "color": "#636efa"
         },
         "name": "rosenblatt",
         "notched": false,
         "offsetgroup": "rosenblatt",
         "orientation": "v",
         "showlegend": true,
         "type": "box",
         "x": [
          "Horreur|Animation",
          "Horreur|Animation",
          "Horreur|Animation|Action",
          "Horreur|Animation|Action"
         ],
         "x0": " ",
         "xaxis": "x",
         "y": {
          "bdata": "KVyPwvUo6D9xPQrXo3DpP5ayDHGsi+E/1zTvOEVH4j8=",
          "dtype": "f8"
         },
         "y0": " ",
         "yaxis": "y"
        },
        {
         "alignmentgroup": "True",
         "hovertemplate": "Algorithme=gradient-descent<br>Genres=%{x}<br>Test Accuracy=%{y}<extra></extra>",
         "legendgroup": "gradient-descent",
         "marker": {
          "color": "#EF553B"
         },
         "name": "gradient-descent",
         "notched": false,
         "offsetgroup": "gradient-descent",
         "orientation": "v",
         "showlegend": true,
         "type": "box",
         "x": [
          "Horreur|Animation",
          "Horreur|Animation",
          "Horreur|Animation|Action",
          "Horreur|Animation|Action"
         ],
         "x0": " ",
         "xaxis": "x",
         "y": {
          "bdata": "ZmZmZmZm6D/Xo3A9CtfpP09AE2HD0+E/MnctIR/04j8=",
          "dtype": "f8"
         },
         "y0": " ",
         "yaxis": "y"
        }
       ],
       "layout": {
        "boxmode": "group",
        "legend": {
         "title": {
          "text": "Algorithme"
         },
         "tracegroupgap": 0
        },
        "shapes": [
         {
          "line": {
           "color": "green",
           "dash": "dash",
           "width": 2
          },
          "type": "line",
          "x0": -0.4,
          "x1": 0.4,
          "y0": 0.5,
          "y1": 0.5
         },
         {
          "line": {
           "color": "blue",
           "dash": "dash",
           "width": 2
          },
          "type": "line",
          "x0": 0.6,
          "x1": 1.4,
          "y0": 0.33,
          "y1": 0.33
         }
        ],
        "template": {
         "data": {
          "bar": [
           {
            "error_x": {
             "color": "#2a3f5f"
            },
            "error_y": {
             "color": "#2a3f5f"
            },
            "marker": {
             "line": {
              "color": "#E5ECF6",
              "width": 0.5
             },
             "pattern": {
              "fillmode": "overlay",
              "size": 10,
              "solidity": 0.2
             }
            },
            "type": "bar"
           }
          ],
          "barpolar": [
           {
            "marker": {
             "line": {
              "color": "#E5ECF6",
              "width": 0.5
             },
             "pattern": {
              "fillmode": "overlay",
              "size": 10,
              "solidity": 0.2
             }
            },
            "type": "barpolar"
           }
          ],
          "carpet": [
           {
            "aaxis": {
             "endlinecolor": "#2a3f5f",
             "gridcolor": "white",
             "linecolor": "white",
             "minorgridcolor": "white",
             "startlinecolor": "#2a3f5f"
            },
            "baxis": {
             "endlinecolor": "#2a3f5f",
             "gridcolor": "white",
             "linecolor": "white",
             "minorgridcolor": "white",
             "startlinecolor": "#2a3f5f"
            },
            "type": "carpet"
           }
          ],
          "choropleth": [
           {
            "colorbar": {
             "outlinewidth": 0,
             "ticks": ""
            },
            "type": "choropleth"
           }
          ],
          "contour": [
           {
            "colorbar": {
             "outlinewidth": 0,
             "ticks": ""
            },
            "colorscale": [
             [
              0,
              "#0d0887"
             ],
             [
              0.1111111111111111,
              "#46039f"
             ],
             [
              0.2222222222222222,
              "#7201a8"
             ],
             [
              0.3333333333333333,
              "#9c179e"
             ],
             [
              0.4444444444444444,
              "#bd3786"
             ],
             [
              0.5555555555555556,
              "#d8576b"
             ],
             [
              0.6666666666666666,
              "#ed7953"
             ],
             [
              0.7777777777777778,
              "#fb9f3a"
             ],
             [
              0.8888888888888888,
              "#fdca26"
             ],
             [
              1,
              "#f0f921"
             ]
            ],
            "type": "contour"
           }
          ],
          "contourcarpet": [
           {
            "colorbar": {
             "outlinewidth": 0,
             "ticks": ""
            },
            "type": "contourcarpet"
           }
          ],
          "heatmap": [
           {
            "colorbar": {
             "outlinewidth": 0,
             "ticks": ""
            },
            "colorscale": [
             [
              0,
              "#0d0887"
             ],
             [
              0.1111111111111111,
              "#46039f"
             ],
             [
              0.2222222222222222,
              "#7201a8"
             ],
             [
              0.3333333333333333,
              "#9c179e"
             ],
             [
              0.4444444444444444,
              "#bd3786"
             ],
             [
              0.5555555555555556,
              "#d8576b"
             ],
             [
              0.6666666666666666,
              "#ed7953"
             ],
             [
              0.7777777777777778,
              "#fb9f3a"
             ],
             [
              0.8888888888888888,
              "#fdca26"
             ],
             [
              1,
              "#f0f921"
             ]
            ],
            "type": "heatmap"
           }
          ],
          "histogram": [
           {
            "marker": {
             "pattern": {
              "fillmode": "overlay",
              "size": 10,
              "solidity": 0.2
             }
            },
            "type": "histogram"
           }
          ],
          "histogram2d": [
           {
            "colorbar": {
             "outlinewidth": 0,
             "ticks": ""
            },
            "colorscale": [
             [
              0,
              "#0d0887"
             ],
             [
              0.1111111111111111,
              "#46039f"
             ],
             [
              0.2222222222222222,
              "#7201a8"
             ],
             [
              0.3333333333333333,
              "#9c179e"
             ],
             [
              0.4444444444444444,
              "#bd3786"
             ],
             [
              0.5555555555555556,
              "#d8576b"
             ],
             [
              0.6666666666666666,
              "#ed7953"
             ],
             [
              0.7777777777777778,
              "#fb9f3a"
             ],
             [
              0.8888888888888888,
              "#fdca26"
             ],
             [
              1,
              "#f0f921"
             ]
            ],
            "type": "histogram2d"
           }
          ],
          "histogram2dcontour": [
           {
            "colorbar": {
             "outlinewidth": 0,
             "ticks": ""
            },
            "colorscale": [
             [
              0,
              "#0d0887"
             ],
             [
              0.1111111111111111,
              "#46039f"
             ],
             [
              0.2222222222222222,
              "#7201a8"
             ],
             [
              0.3333333333333333,
              "#9c179e"
             ],
             [
              0.4444444444444444,
              "#bd3786"
             ],
             [
              0.5555555555555556,
              "#d8576b"
             ],
             [
              0.6666666666666666,
              "#ed7953"
             ],
             [
              0.7777777777777778,
              "#fb9f3a"
             ],
             [
              0.8888888888888888,
              "#fdca26"
             ],
             [
              1,
              "#f0f921"
             ]
            ],
            "type": "histogram2dcontour"
           }
          ],
          "mesh3d": [
           {
            "colorbar": {
             "outlinewidth": 0,
             "ticks": ""
            },
            "type": "mesh3d"
           }
          ],
          "parcoords": [
           {
            "line": {
             "colorbar": {
              "outlinewidth": 0,
              "ticks": ""
             }
            },
            "type": "parcoords"
           }
          ],
          "pie": [
           {
            "automargin": true,
            "type": "pie"
           }
          ],
          "scatter": [
           {
            "fillpattern": {
             "fillmode": "overlay",
             "size": 10,
             "solidity": 0.2
            },
            "type": "scatter"
           }
          ],
          "scatter3d": [
           {
            "line": {
             "colorbar": {
              "outlinewidth": 0,
              "ticks": ""
             }
            },
            "marker": {
             "colorbar": {
              "outlinewidth": 0,
              "ticks": ""
             }
            },
            "type": "scatter3d"
           }
          ],
          "scattercarpet": [
           {
            "marker": {
             "colorbar": {
              "outlinewidth": 0,
              "ticks": ""
             }
            },
            "type": "scattercarpet"
           }
          ],
          "scattergeo": [
           {
            "marker": {
             "colorbar": {
              "outlinewidth": 0,
              "ticks": ""
             }
            },
            "type": "scattergeo"
           }
          ],
          "scattergl": [
           {
            "marker": {
             "colorbar": {
              "outlinewidth": 0,
              "ticks": ""
             }
            },
            "type": "scattergl"
           }
          ],
          "scattermap": [
           {
            "marker": {
             "colorbar": {
              "outlinewidth": 0,
              "ticks": ""
             }
            },
            "type": "scattermap"
           }
          ],
          "scattermapbox": [
           {
            "marker": {
             "colorbar": {
              "outlinewidth": 0,
              "ticks": ""
             }
            },
            "type": "scattermapbox"
           }
          ],
          "scatterpolar": [
           {
            "marker": {
             "colorbar": {
              "outlinewidth": 0,
              "ticks": ""
             }
            },
            "type": "scatterpolar"
           }
          ],
          "scatterpolargl": [
           {
            "marker": {
             "colorbar": {
              "outlinewidth": 0,
              "ticks": ""
             }
            },
            "type": "scatterpolargl"
           }
          ],
          "scatterternary": [
           {
            "marker": {
             "colorbar": {
              "outlinewidth": 0,
              "ticks": ""
             }
            },
            "type": "scatterternary"
           }
          ],
          "surface": [
           {
            "colorbar": {
             "outlinewidth": 0,
             "ticks": ""
            },
            "colorscale": [
             [
              0,
              "#0d0887"
             ],
             [
              0.1111111111111111,
              "#46039f"
             ],
             [
              0.2222222222222222,
              "#7201a8"
             ],
             [
              0.3333333333333333,
              "#9c179e"
             ],
             [
              0.4444444444444444,
              "#bd3786"
             ],
             [
              0.5555555555555556,
              "#d8576b"
             ],
             [
              0.6666666666666666,
              "#ed7953"
             ],
             [
              0.7777777777777778,
              "#fb9f3a"
             ],
             [
              0.8888888888888888,
              "#fdca26"
             ],
             [
              1,
              "#f0f921"
             ]
            ],
            "type": "surface"
           }
          ],
          "table": [
           {
            "cells": {
             "fill": {
              "color": "#EBF0F8"
             },
             "line": {
              "color": "white"
             }
            },
            "header": {
             "fill": {
              "color": "#C8D4E3"
             },
             "line": {
              "color": "white"
             }
            },
            "type": "table"
           }
          ]
         },
         "layout": {
          "annotationdefaults": {
           "arrowcolor": "#2a3f5f",
           "arrowhead": 0,
           "arrowwidth": 1
          },
          "autotypenumbers": "strict",
          "coloraxis": {
           "colorbar": {
            "outlinewidth": 0,
            "ticks": ""
           }
          },
          "colorscale": {
           "diverging": [
            [
             0,
             "#8e0152"
            ],
            [
             0.1,
             "#c51b7d"
            ],
            [
             0.2,
             "#de77ae"
            ],
            [
             0.3,
             "#f1b6da"
            ],
            [
             0.4,
             "#fde0ef"
            ],
            [
             0.5,
             "#f7f7f7"
            ],
            [
             0.6,
             "#e6f5d0"
            ],
            [
             0.7,
             "#b8e186"
            ],
            [
             0.8,
             "#7fbc41"
            ],
            [
             0.9,
             "#4d9221"
            ],
            [
             1,
             "#276419"
            ]
           ],
           "sequential": [
            [
             0,
             "#0d0887"
            ],
            [
             0.1111111111111111,
             "#46039f"
            ],
            [
             0.2222222222222222,
             "#7201a8"
            ],
            [
             0.3333333333333333,
             "#9c179e"
            ],
            [
             0.4444444444444444,
             "#bd3786"
            ],
            [
             0.5555555555555556,
             "#d8576b"
            ],
            [
             0.6666666666666666,
             "#ed7953"
            ],
            [
             0.7777777777777778,
             "#fb9f3a"
            ],
            [
             0.8888888888888888,
             "#fdca26"
            ],
            [
             1,
             "#f0f921"
            ]
           ],
           "sequentialminus": [
            [
             0,
             "#0d0887"
            ],
            [
             0.1111111111111111,
             "#46039f"
            ],
            [
             0.2222222222222222,
             "#7201a8"
            ],
            [
             0.3333333333333333,
             "#9c179e"
            ],
            [
             0.4444444444444444,
             "#bd3786"
            ],
            [
             0.5555555555555556,
             "#d8576b"
            ],
            [
             0.6666666666666666,
             "#ed7953"
            ],
            [
             0.7777777777777778,
             "#fb9f3a"
            ],
            [
             0.8888888888888888,
             "#fdca26"
            ],
            [
             1,
             "#f0f921"
            ]
           ]
          },
          "colorway": [
           "#636efa",
           "#EF553B",
           "#00cc96",
           "#ab63fa",
           "#FFA15A",
           "#19d3f3",
           "#FF6692",
           "#B6E880",
           "#FF97FF",
           "#FECB52"
          ],
          "font": {
           "color": "#2a3f5f"
          },
          "geo": {
           "bgcolor": "white",
           "lakecolor": "white",
           "landcolor": "#E5ECF6",
           "showlakes": true,
           "showland": true,
           "subunitcolor": "white"
          },
          "hoverlabel": {
           "align": "left"
          },
          "hovermode": "closest",
          "mapbox": {
           "style": "light"
          },
          "paper_bgcolor": "white",
          "plot_bgcolor": "#E5ECF6",
          "polar": {
           "angularaxis": {
            "gridcolor": "white",
            "linecolor": "white",
            "ticks": ""
           },
           "bgcolor": "#E5ECF6",
           "radialaxis": {
            "gridcolor": "white",
            "linecolor": "white",
            "ticks": ""
           }
          },
          "scene": {
           "xaxis": {
            "backgroundcolor": "#E5ECF6",
            "gridcolor": "white",
            "gridwidth": 2,
            "linecolor": "white",
            "showbackground": true,
            "ticks": "",
            "zerolinecolor": "white"
           },
           "yaxis": {
            "backgroundcolor": "#E5ECF6",
            "gridcolor": "white",
            "gridwidth": 2,
            "linecolor": "white",
            "showbackground": true,
            "ticks": "",
            "zerolinecolor": "white"
           },
           "zaxis": {
            "backgroundcolor": "#E5ECF6",
            "gridcolor": "white",
            "gridwidth": 2,
            "linecolor": "white",
            "showbackground": true,
            "ticks": "",
            "zerolinecolor": "white"
           }
          },
          "shapedefaults": {
           "line": {
            "color": "#2a3f5f"
           }
          },
          "ternary": {
           "aaxis": {
            "gridcolor": "white",
            "linecolor": "white",
            "ticks": ""
           },
           "baxis": {
            "gridcolor": "white",
            "linecolor": "white",
            "ticks": ""
           },
           "bgcolor": "#E5ECF6",
           "caxis": {
            "gridcolor": "white",
            "linecolor": "white",
            "ticks": ""
           }
          },
          "title": {
           "x": 0.05
          },
          "xaxis": {
           "automargin": true,
           "gridcolor": "white",
           "linecolor": "white",
           "ticks": "",
           "title": {
            "standoff": 15
           },
           "zerolinecolor": "white",
           "zerolinewidth": 2
          },
          "yaxis": {
           "automargin": true,
           "gridcolor": "white",
           "linecolor": "white",
           "ticks": "",
           "title": {
            "standoff": 15
           },
           "zerolinecolor": "white",
           "zerolinewidth": 2
          }
         }
        },
        "title": {
         "text": "Comparaison des test accuracy selon l'algorithme et les genres (Plotly)"
        },
        "xaxis": {
         "anchor": "y",
         "domain": [
          0,
          1
         ],
         "title": {
          "text": "Genres"
         }
        },
        "yaxis": {
         "anchor": "x",
         "domain": [
          0,
          1
         ],
         "range": [
          0,
          1
         ],
         "title": {
          "text": "Test Accuracy"
         }
        }
       }
      }
     },
     "metadata": {},
     "output_type": "display_data"
    }
   ],
   "source": [
    "import pandas as pd\n",
    "import plotly.express as px\n",
    "\n",
    "# Données\n",
    "data = [\n",
    "    [\"2025-07-23T16:03:48.475172\", \"rbf\", \"Horreur|Animation\", \"15x10\", 0.7375, 0.755, 500, 0.1, \"rosenblatt\", 1000, 0.05],\n",
    "    [\"2025-07-23T16:05:26.881932\", \"rbf\", \"Horreur|Animation\", \"15x10\", 0.7819, 0.795, 500, 0.1, \"rosenblatt\", 5000, 0.05],\n",
    "    [\"2025-07-23T16:06:37.863566\", \"rbf\", \"Horreur|Animation\", \"15x10\", 0.7362, 0.7625, 500, 0.1, \"gradient-descent\", 1000, 0.05],\n",
    "    [\"2025-07-23T16:08:46.235103\", \"rbf\", \"Horreur|Animation\", \"15x10\", 0.7913, 0.8075, 500, 0.1, \"gradient-descent\", 5000, 0.05],\n",
    "    [\"2025-07-23T16:10:37.569219\", \"rbf\", \"Horreur|Animation|Action\", \"15x10\", 0.5424, 0.5483, 500, 0.1, \"rosenblatt\", 1000, 0.05],\n",
    "    [\"2025-07-23T16:13:45.712492\", \"rbf\", \"Horreur|Animation|Action\", \"15x10\", 0.5767, 0.5712, 500, 0.1, \"rosenblatt\", 5000, 0.05],\n",
    "    [\"2025-07-23T16:16:11.127309\", \"rbf\", \"Horreur|Animation|Action\", \"15x10\", 0.5543, 0.5571, 500, 0.1, \"gradient-descent\", 1000, 0.05],\n",
    "    [\"2025-07-23T16:22:24.462194\", \"rbf\", \"Horreur|Animation|Action\", \"15x10\", 0.5996, 0.5923, 500, 0.1, \"gradient-descent\", 5000, 0.05],\n",
    "]\n",
    "\n",
    "columns = [\n",
    "    \"timestamp\", \"model\", \"genres\", \"shape\", \"train_acc\", \"test_acc\", \"nb_centers\",\n",
    "    \"std\", \"algo\", \"epochs\", \"lr\"\n",
    "]\n",
    "\n",
    "df = pd.DataFrame(data, columns=columns)\n",
    "\n",
    "# Plotly boxplot interactif\n",
    "fig = px.box(\n",
    "    df,\n",
    "    x=\"genres\",\n",
    "    y=\"test_acc\",\n",
    "    color=\"algo\",\n",
    "    title=\"Comparaison des test accuracy selon l'algorithme et les genres (Plotly)\",\n",
    "    labels={\"test_acc\": \"Test Accuracy\", \"genres\": \"Genres\", \"algo\": \"Algorithme\"}\n",
    ")\n",
    "\n",
    "genres_uniques = df[\"genres\"].unique()\n",
    "x_positions = {genre: i for i, genre in enumerate(genres_uniques)}\n",
    "\n",
    "fig.update_layout(\n",
    "    yaxis=dict(range=[0, 1]),\n",
    "    boxmode='group',\n",
    "    legend_title=\"Algorithme\",\n",
    "    xaxis_title=\"Genres\",\n",
    "    yaxis_title=\"Test Accuracy\",\n",
    "    shapes=[\n",
    "        # Ligne à 0.5 pour Horreur|Animation (2 genres)\n",
    "        dict(\n",
    "            type=\"line\",\n",
    "            x0=x_positions[\"Horreur|Animation\"] - 0.4,\n",
    "            x1=x_positions[\"Horreur|Animation\"] + 0.4,\n",
    "            y0=0.5,\n",
    "            y1=0.5,\n",
    "            line=dict(color=\"green\", width=2, dash=\"dash\")\n",
    "        ),\n",
    "        # Ligne à 0.33 pour Horreur|Animation|Action (3 genres)\n",
    "        dict(\n",
    "            type=\"line\",\n",
    "            x0=x_positions[\"Horreur|Animation|Action\"] - 0.4,\n",
    "            x1=x_positions[\"Horreur|Animation|Action\"] + 0.4,\n",
    "            y0=0.33,\n",
    "            y1=0.33,\n",
    "            line=dict(color=\"blue\", width=2, dash=\"dash\")\n",
    "        )\n",
    "    ]\n",
    ")\n",
    "\n",
    "\n",
    "fig.show()"
   ]
  },
  {
   "cell_type": "code",
   "execution_count": 26,
   "id": "c925e735",
   "metadata": {},
   "outputs": [
    {
     "data": {
      "application/vnd.plotly.v1+json": {
       "config": {
        "plotlyServerURL": "https://plot.ly"
       },
       "data": [
        {
         "jitter": 0.5,
         "name": "Rosenblatt",
         "pointpos": 0,
         "type": "box",
         "x": [
          0,
          0,
          0,
          0
         ],
         "y": {
          "bdata": "uB6F61G4IUCkcD0K18NEQMP1KFyPwjxArkfhehS2Y0A=",
          "dtype": "f8"
         }
        },
        {
         "jitter": 0.5,
         "name": "Gradient Descent",
         "pointpos": 0,
         "type": "box",
         "x": [
          0.4,
          0.4,
          0.4,
          0.4
         ],
         "y": {
          "bdata": "AAAAAACALEDhehSuR0FaQFyPwvUovEFAUrgehevZaUA=",
          "dtype": "f8"
         }
        }
       ],
       "layout": {
        "boxmode": "overlay",
        "legend": {
         "title": {
          "text": "Algorithme"
         }
        },
        "template": {
         "data": {
          "bar": [
           {
            "error_x": {
             "color": "#2a3f5f"
            },
            "error_y": {
             "color": "#2a3f5f"
            },
            "marker": {
             "line": {
              "color": "#E5ECF6",
              "width": 0.5
             },
             "pattern": {
              "fillmode": "overlay",
              "size": 10,
              "solidity": 0.2
             }
            },
            "type": "bar"
           }
          ],
          "barpolar": [
           {
            "marker": {
             "line": {
              "color": "#E5ECF6",
              "width": 0.5
             },
             "pattern": {
              "fillmode": "overlay",
              "size": 10,
              "solidity": 0.2
             }
            },
            "type": "barpolar"
           }
          ],
          "carpet": [
           {
            "aaxis": {
             "endlinecolor": "#2a3f5f",
             "gridcolor": "white",
             "linecolor": "white",
             "minorgridcolor": "white",
             "startlinecolor": "#2a3f5f"
            },
            "baxis": {
             "endlinecolor": "#2a3f5f",
             "gridcolor": "white",
             "linecolor": "white",
             "minorgridcolor": "white",
             "startlinecolor": "#2a3f5f"
            },
            "type": "carpet"
           }
          ],
          "choropleth": [
           {
            "colorbar": {
             "outlinewidth": 0,
             "ticks": ""
            },
            "type": "choropleth"
           }
          ],
          "contour": [
           {
            "colorbar": {
             "outlinewidth": 0,
             "ticks": ""
            },
            "colorscale": [
             [
              0,
              "#0d0887"
             ],
             [
              0.1111111111111111,
              "#46039f"
             ],
             [
              0.2222222222222222,
              "#7201a8"
             ],
             [
              0.3333333333333333,
              "#9c179e"
             ],
             [
              0.4444444444444444,
              "#bd3786"
             ],
             [
              0.5555555555555556,
              "#d8576b"
             ],
             [
              0.6666666666666666,
              "#ed7953"
             ],
             [
              0.7777777777777778,
              "#fb9f3a"
             ],
             [
              0.8888888888888888,
              "#fdca26"
             ],
             [
              1,
              "#f0f921"
             ]
            ],
            "type": "contour"
           }
          ],
          "contourcarpet": [
           {
            "colorbar": {
             "outlinewidth": 0,
             "ticks": ""
            },
            "type": "contourcarpet"
           }
          ],
          "heatmap": [
           {
            "colorbar": {
             "outlinewidth": 0,
             "ticks": ""
            },
            "colorscale": [
             [
              0,
              "#0d0887"
             ],
             [
              0.1111111111111111,
              "#46039f"
             ],
             [
              0.2222222222222222,
              "#7201a8"
             ],
             [
              0.3333333333333333,
              "#9c179e"
             ],
             [
              0.4444444444444444,
              "#bd3786"
             ],
             [
              0.5555555555555556,
              "#d8576b"
             ],
             [
              0.6666666666666666,
              "#ed7953"
             ],
             [
              0.7777777777777778,
              "#fb9f3a"
             ],
             [
              0.8888888888888888,
              "#fdca26"
             ],
             [
              1,
              "#f0f921"
             ]
            ],
            "type": "heatmap"
           }
          ],
          "histogram": [
           {
            "marker": {
             "pattern": {
              "fillmode": "overlay",
              "size": 10,
              "solidity": 0.2
             }
            },
            "type": "histogram"
           }
          ],
          "histogram2d": [
           {
            "colorbar": {
             "outlinewidth": 0,
             "ticks": ""
            },
            "colorscale": [
             [
              0,
              "#0d0887"
             ],
             [
              0.1111111111111111,
              "#46039f"
             ],
             [
              0.2222222222222222,
              "#7201a8"
             ],
             [
              0.3333333333333333,
              "#9c179e"
             ],
             [
              0.4444444444444444,
              "#bd3786"
             ],
             [
              0.5555555555555556,
              "#d8576b"
             ],
             [
              0.6666666666666666,
              "#ed7953"
             ],
             [
              0.7777777777777778,
              "#fb9f3a"
             ],
             [
              0.8888888888888888,
              "#fdca26"
             ],
             [
              1,
              "#f0f921"
             ]
            ],
            "type": "histogram2d"
           }
          ],
          "histogram2dcontour": [
           {
            "colorbar": {
             "outlinewidth": 0,
             "ticks": ""
            },
            "colorscale": [
             [
              0,
              "#0d0887"
             ],
             [
              0.1111111111111111,
              "#46039f"
             ],
             [
              0.2222222222222222,
              "#7201a8"
             ],
             [
              0.3333333333333333,
              "#9c179e"
             ],
             [
              0.4444444444444444,
              "#bd3786"
             ],
             [
              0.5555555555555556,
              "#d8576b"
             ],
             [
              0.6666666666666666,
              "#ed7953"
             ],
             [
              0.7777777777777778,
              "#fb9f3a"
             ],
             [
              0.8888888888888888,
              "#fdca26"
             ],
             [
              1,
              "#f0f921"
             ]
            ],
            "type": "histogram2dcontour"
           }
          ],
          "mesh3d": [
           {
            "colorbar": {
             "outlinewidth": 0,
             "ticks": ""
            },
            "type": "mesh3d"
           }
          ],
          "parcoords": [
           {
            "line": {
             "colorbar": {
              "outlinewidth": 0,
              "ticks": ""
             }
            },
            "type": "parcoords"
           }
          ],
          "pie": [
           {
            "automargin": true,
            "type": "pie"
           }
          ],
          "scatter": [
           {
            "fillpattern": {
             "fillmode": "overlay",
             "size": 10,
             "solidity": 0.2
            },
            "type": "scatter"
           }
          ],
          "scatter3d": [
           {
            "line": {
             "colorbar": {
              "outlinewidth": 0,
              "ticks": ""
             }
            },
            "marker": {
             "colorbar": {
              "outlinewidth": 0,
              "ticks": ""
             }
            },
            "type": "scatter3d"
           }
          ],
          "scattercarpet": [
           {
            "marker": {
             "colorbar": {
              "outlinewidth": 0,
              "ticks": ""
             }
            },
            "type": "scattercarpet"
           }
          ],
          "scattergeo": [
           {
            "marker": {
             "colorbar": {
              "outlinewidth": 0,
              "ticks": ""
             }
            },
            "type": "scattergeo"
           }
          ],
          "scattergl": [
           {
            "marker": {
             "colorbar": {
              "outlinewidth": 0,
              "ticks": ""
             }
            },
            "type": "scattergl"
           }
          ],
          "scattermap": [
           {
            "marker": {
             "colorbar": {
              "outlinewidth": 0,
              "ticks": ""
             }
            },
            "type": "scattermap"
           }
          ],
          "scattermapbox": [
           {
            "marker": {
             "colorbar": {
              "outlinewidth": 0,
              "ticks": ""
             }
            },
            "type": "scattermapbox"
           }
          ],
          "scatterpolar": [
           {
            "marker": {
             "colorbar": {
              "outlinewidth": 0,
              "ticks": ""
             }
            },
            "type": "scatterpolar"
           }
          ],
          "scatterpolargl": [
           {
            "marker": {
             "colorbar": {
              "outlinewidth": 0,
              "ticks": ""
             }
            },
            "type": "scatterpolargl"
           }
          ],
          "scatterternary": [
           {
            "marker": {
             "colorbar": {
              "outlinewidth": 0,
              "ticks": ""
             }
            },
            "type": "scatterternary"
           }
          ],
          "surface": [
           {
            "colorbar": {
             "outlinewidth": 0,
             "ticks": ""
            },
            "colorscale": [
             [
              0,
              "#0d0887"
             ],
             [
              0.1111111111111111,
              "#46039f"
             ],
             [
              0.2222222222222222,
              "#7201a8"
             ],
             [
              0.3333333333333333,
              "#9c179e"
             ],
             [
              0.4444444444444444,
              "#bd3786"
             ],
             [
              0.5555555555555556,
              "#d8576b"
             ],
             [
              0.6666666666666666,
              "#ed7953"
             ],
             [
              0.7777777777777778,
              "#fb9f3a"
             ],
             [
              0.8888888888888888,
              "#fdca26"
             ],
             [
              1,
              "#f0f921"
             ]
            ],
            "type": "surface"
           }
          ],
          "table": [
           {
            "cells": {
             "fill": {
              "color": "#EBF0F8"
             },
             "line": {
              "color": "white"
             }
            },
            "header": {
             "fill": {
              "color": "#C8D4E3"
             },
             "line": {
              "color": "white"
             }
            },
            "type": "table"
           }
          ]
         },
         "layout": {
          "annotationdefaults": {
           "arrowcolor": "#2a3f5f",
           "arrowhead": 0,
           "arrowwidth": 1
          },
          "autotypenumbers": "strict",
          "coloraxis": {
           "colorbar": {
            "outlinewidth": 0,
            "ticks": ""
           }
          },
          "colorscale": {
           "diverging": [
            [
             0,
             "#8e0152"
            ],
            [
             0.1,
             "#c51b7d"
            ],
            [
             0.2,
             "#de77ae"
            ],
            [
             0.3,
             "#f1b6da"
            ],
            [
             0.4,
             "#fde0ef"
            ],
            [
             0.5,
             "#f7f7f7"
            ],
            [
             0.6,
             "#e6f5d0"
            ],
            [
             0.7,
             "#b8e186"
            ],
            [
             0.8,
             "#7fbc41"
            ],
            [
             0.9,
             "#4d9221"
            ],
            [
             1,
             "#276419"
            ]
           ],
           "sequential": [
            [
             0,
             "#0d0887"
            ],
            [
             0.1111111111111111,
             "#46039f"
            ],
            [
             0.2222222222222222,
             "#7201a8"
            ],
            [
             0.3333333333333333,
             "#9c179e"
            ],
            [
             0.4444444444444444,
             "#bd3786"
            ],
            [
             0.5555555555555556,
             "#d8576b"
            ],
            [
             0.6666666666666666,
             "#ed7953"
            ],
            [
             0.7777777777777778,
             "#fb9f3a"
            ],
            [
             0.8888888888888888,
             "#fdca26"
            ],
            [
             1,
             "#f0f921"
            ]
           ],
           "sequentialminus": [
            [
             0,
             "#0d0887"
            ],
            [
             0.1111111111111111,
             "#46039f"
            ],
            [
             0.2222222222222222,
             "#7201a8"
            ],
            [
             0.3333333333333333,
             "#9c179e"
            ],
            [
             0.4444444444444444,
             "#bd3786"
            ],
            [
             0.5555555555555556,
             "#d8576b"
            ],
            [
             0.6666666666666666,
             "#ed7953"
            ],
            [
             0.7777777777777778,
             "#fb9f3a"
            ],
            [
             0.8888888888888888,
             "#fdca26"
            ],
            [
             1,
             "#f0f921"
            ]
           ]
          },
          "colorway": [
           "#636efa",
           "#EF553B",
           "#00cc96",
           "#ab63fa",
           "#FFA15A",
           "#19d3f3",
           "#FF6692",
           "#B6E880",
           "#FF97FF",
           "#FECB52"
          ],
          "font": {
           "color": "#2a3f5f"
          },
          "geo": {
           "bgcolor": "white",
           "lakecolor": "white",
           "landcolor": "#E5ECF6",
           "showlakes": true,
           "showland": true,
           "subunitcolor": "white"
          },
          "hoverlabel": {
           "align": "left"
          },
          "hovermode": "closest",
          "mapbox": {
           "style": "light"
          },
          "paper_bgcolor": "white",
          "plot_bgcolor": "#E5ECF6",
          "polar": {
           "angularaxis": {
            "gridcolor": "white",
            "linecolor": "white",
            "ticks": ""
           },
           "bgcolor": "#E5ECF6",
           "radialaxis": {
            "gridcolor": "white",
            "linecolor": "white",
            "ticks": ""
           }
          },
          "scene": {
           "xaxis": {
            "backgroundcolor": "#E5ECF6",
            "gridcolor": "white",
            "gridwidth": 2,
            "linecolor": "white",
            "showbackground": true,
            "ticks": "",
            "zerolinecolor": "white"
           },
           "yaxis": {
            "backgroundcolor": "#E5ECF6",
            "gridcolor": "white",
            "gridwidth": 2,
            "linecolor": "white",
            "showbackground": true,
            "ticks": "",
            "zerolinecolor": "white"
           },
           "zaxis": {
            "backgroundcolor": "#E5ECF6",
            "gridcolor": "white",
            "gridwidth": 2,
            "linecolor": "white",
            "showbackground": true,
            "ticks": "",
            "zerolinecolor": "white"
           }
          },
          "shapedefaults": {
           "line": {
            "color": "#2a3f5f"
           }
          },
          "ternary": {
           "aaxis": {
            "gridcolor": "white",
            "linecolor": "white",
            "ticks": ""
           },
           "baxis": {
            "gridcolor": "white",
            "linecolor": "white",
            "ticks": ""
           },
           "bgcolor": "#E5ECF6",
           "caxis": {
            "gridcolor": "white",
            "linecolor": "white",
            "ticks": ""
           }
          },
          "title": {
           "x": 0.05
          },
          "xaxis": {
           "automargin": true,
           "gridcolor": "white",
           "linecolor": "white",
           "ticks": "",
           "title": {
            "standoff": 15
           },
           "zerolinecolor": "white",
           "zerolinewidth": 2
          },
          "yaxis": {
           "automargin": true,
           "gridcolor": "white",
           "linecolor": "white",
           "ticks": "",
           "title": {
            "standoff": 15
           },
           "zerolinecolor": "white",
           "zerolinewidth": 2
          }
         }
        },
        "title": {
         "text": "Comparaison du temps d'entraînement : Rosenblatt vs Gradient Descent"
        },
        "xaxis": {
         "showgrid": false,
         "ticktext": [
          "Temps d'entraînement (s)"
         ],
         "tickvals": [
          0.2
         ],
         "zeroline": false
        },
        "yaxis": {
         "showgrid": true,
         "title": {
          "text": "Durée (secondes)"
         },
         "zeroline": false
        }
       }
      }
     },
     "metadata": {},
     "output_type": "display_data"
    }
   ],
   "source": [
    "import pandas as pd\n",
    "import plotly.graph_objects as go\n",
    "\n",
    "df = pd.read_csv('../results/logs/rbf3.csv', parse_dates=['timestamp'])\n",
    "\n",
    "fig = go.Figure()\n",
    "\n",
    "# Positions x numériques pour bien coller les boxplots\n",
    "\n",
    "# Temps - Rosenblatt\n",
    "fig.add_trace(go.Box(\n",
    "    y=df.loc[df['algo'] == 'rosenblatt', 'train_duration_seconds'],\n",
    "    x=[0]*len(df.loc[df['algo'] == 'rosenblatt']),\n",
    "    name='Rosenblatt',\n",
    "    jitter=0.5,\n",
    "    pointpos=0\n",
    "))\n",
    "\n",
    "# Temps - Gradient Descent\n",
    "fig.add_trace(go.Box(\n",
    "    y=df.loc[df['algo'] == 'gradient-descent', 'train_duration_seconds'],\n",
    "    x=[0.4]*len(df.loc[df['algo'] == 'gradient-descent']),\n",
    "    name='Gradient Descent',\n",
    "    jitter=0.5,\n",
    "    pointpos=0\n",
    "))\n",
    "\n",
    "fig.update_layout(\n",
    "    title=\"Comparaison du temps d'entraînement : Rosenblatt vs Gradient Descent\",\n",
    "    xaxis=dict(\n",
    "        tickvals=[0.2],\n",
    "        ticktext=['Temps d\\'entraînement (s)'],\n",
    "        zeroline=False,\n",
    "        showgrid=False,\n",
    "    ),\n",
    "    yaxis=dict(\n",
    "        title='Durée (secondes)',\n",
    "        zeroline=False,\n",
    "        showgrid=True,\n",
    "    ),\n",
    "    boxmode='overlay',\n",
    "    legend_title_text='Algorithme',\n",
    ")\n",
    "\n",
    "fig.show()"
   ]
  },
  {
   "cell_type": "code",
   "execution_count": 11,
   "id": "9778f7f9",
   "metadata": {},
   "outputs": [
    {
     "name": "stdout",
     "output_type": "stream",
     "text": [
      "                    timestamp model         categories   size  train_accuracy  \\\n",
      "0  2025-07-22T11:22:56.499974   rbf  Horreur|Animation  15x10          0.6269   \n",
      "1  2025-07-22T11:22:58.970819   rbf  Horreur|Animation  15x10          0.7456   \n",
      "2  2025-07-22T11:23:01.400210   rbf  Horreur|Animation  15x10          0.7488   \n",
      "3  2025-07-22T11:23:03.797447   rbf  Horreur|Animation  15x10          0.7469   \n",
      "4  2025-07-22T11:23:13.458299   rbf  Horreur|Animation  15x10          0.7506   \n",
      "\n",
      "   test_accuracy   C  gamma        algo  epochs  learning_rate  \n",
      "0         0.6600  10   0.01  rosenblatt    1000          0.001  \n",
      "1         0.7675  10   0.01  rosenblatt    1000          0.010  \n",
      "2         0.7750  10   0.01  rosenblatt    1000          0.050  \n",
      "3         0.7625  10   0.01  rosenblatt    1000          0.100  \n",
      "4         0.7700  10   0.01  rosenblatt    5000          0.001  \n",
      "🏆 MEILLEUR MODÈLE:\n",
      "Test Accuracy: 0.7900 (79.0%)\n",
      "Train Accuracy: 0.7981 (79.8%)\n",
      "Learning Rate: 0.05\n",
      "Epochs: 5000\n",
      "Écart Train-Test: 0.0081\n",
      "--------------------------------------------------\n"
     ]
    },
    {
     "data": {
      "application/vnd.plotly.v1+json": {
       "config": {
        "plotlyServerURL": "https://plot.ly"
       },
       "data": [
        {
         "line": {
          "color": "#ff7f0e",
          "width": 3
         },
         "marker": {
          "size": 8
         },
         "mode": "lines+markers",
         "name": "Train Accuracy",
         "type": "scatter",
         "x": [
          0,
          1,
          2,
          3,
          4,
          5,
          6,
          7,
          8,
          9,
          10,
          11,
          12,
          13,
          14,
          15,
          16,
          17,
          18,
          19,
          20,
          21,
          22,
          23,
          24,
          25,
          26,
          27,
          28,
          29,
          30,
          31,
          32,
          33,
          34,
          35,
          36,
          37,
          38,
          39,
          40,
          41,
          42,
          43,
          44,
          45,
          46,
          47,
          48,
          49,
          50,
          51,
          52,
          53,
          54,
          55,
          56,
          57,
          58,
          59,
          60,
          61,
          62,
          63,
          64,
          65,
          66,
          67,
          68,
          69,
          70,
          71,
          72,
          73,
          74,
          75,
          76,
          77,
          78,
          79,
          80,
          81,
          82,
          83,
          84,
          85,
          86,
          87,
          88,
          89,
          90,
          91,
          92,
          93,
          94,
          95,
          96,
          97,
          98,
          99,
          100,
          101,
          102,
          103,
          104,
          105,
          106,
          107,
          108,
          109,
          110,
          111,
          112,
          113,
          114,
          115,
          116,
          117,
          118,
          119,
          120,
          121,
          122,
          123,
          124,
          125,
          126,
          127,
          128,
          129,
          130,
          131,
          132,
          133,
          134,
          135,
          136,
          137,
          138,
          139,
          140,
          141,
          142
         ],
         "y": {
          "bdata": "yJi7lpAP5D8kufyH9NvnP2fV52or9uc/nzws1Jrm5z9NFYxK6gToP9xGA3gLJOg/j8L1KFyP6D8ukKD4MeboPy7/If32deA/OGdEaW/w5z8UrkfhehToP7mNBvAWSOg/TRWMSuoE6D8UrkfhehToP0Otad5xiug/j1N0JJf/6D+ASL99HTjjP5T2Bl+YTOc/+1xtxf6y5z9NhA1Pr5TnPxB6Nqs+V+c/OdbFbTSA5z/7XG3F/rLnP+xRuB6F6+c/Q61p3nGK4j9wzojS3uDnP0dy+Q/pt+c/R3L5D+m35z/NzMzMzMzmP0dy+Q/pt+c/Z9Xnaiv25z89m1Wfq63oP+zAOSNKe98/ih9j7lpC4D+KH2PuWkLgP4XrUbgehd8/HhZqTfOO3z988rBQa5rfP4XrUbgehd8/hetRuB6F3z/swDkjSnvfP4ofY+5aQuA/ih9j7lpC4D+KH2PuWkLgPx4Wak3zjt8/ih9j7lpC4D+KH2PuWkLgP4ofY+5aQuA/8fRKWYY44D/7XG3F/rLnP02EDU+vlOc/w2SqYFRS5z9NhA1Pr5TnP2ZmZmZmZug/GlHaG3xh6D8UrkfhehToP5T2Bl+YTOc/5q4l5IOe5z8u/yH99nXoP+LplbIMceg/qaROQBNh5z8u/yH99nXoP2b35GGh1ug/qRPQRNjw6D+ze/KwUGvgPxB6Nqs+V+c/JCh+jLlr5z8+eVioNc3nPy6QoPgx5uI/FR3J5T+k5z9m9+RhodboP1yPwvUoXOk/Lv8h/fZ14D+KH2PuWkLoP9IA3gIJiuc/cM6I0t7g5z+amZmZmZnjP9IA3gIJiuc/9ihcj8L16D/7y+7Jw0LpP4ofY+5aQuA/8fRKWYY44D/ChqdXyjLgP65H4XoUrt8/8fRKWYY44D/Xo3A9CtffP/H0SlmGOOA/8fRKWYY44D/x9EpZhjjgP8KGp1fKMuA/woanV8oy4D/ChqdXyjLgP8KGp1fKMuA/woanV8oy4D/ChqdXyjLgP/H0SlmGOOA/hetRuB6F3z9X7C+7Jw/lPx4Wak3zjuE/j1N0JJf/4D+ZKhiV1AnoP8KGp1fKMug/9ihcj8L15D9m9+RhodbkP4XrUbgehd8/3EYDeAsk6D+At0CC4sfoP2uad5yiI+c/yJi7lpAP6D+At0CC4sfoP2b35GGh1ug/TYQNT6+U5z9m9+RhodbmP+zAOSNKe+c/+1xtxf6y5z+z6nO1FfvnP6MBvAUSFOc/s+pztRX75z/SAN4CCYrpPyS5/If02+k/GeJYF7fR5j8VHcnlP6TnP5kqGJXUCeg/PZtVn6ut6D+ASL99HTjnP5kqGJXUCeg/cT0K16Nw6T/sUbgehevpPxUdyeU/pN8/FR3J5T+k3z8Fo5I6AU3gPz0K16NwPeA/KVyPwvUo4D/HKTqSy3/gP9zXgXNGlOA/gEi/fR044T+lTkATYcPfP0dy+Q/pt98/PQrXo3A94D9mZmZmZmbgP5Axdy0hH+A/PQrXo3A94D+kcD0K16PgPw==",
          "dtype": "f8"
         }
        },
        {
         "line": {
          "color": "#1f77b4",
          "width": 3
         },
         "marker": {
          "size": 8
         },
         "mode": "lines+markers",
         "name": "Test Accuracy",
         "type": "scatter",
         "x": [
          0,
          1,
          2,
          3,
          4,
          5,
          6,
          7,
          8,
          9,
          10,
          11,
          12,
          13,
          14,
          15,
          16,
          17,
          18,
          19,
          20,
          21,
          22,
          23,
          24,
          25,
          26,
          27,
          28,
          29,
          30,
          31,
          32,
          33,
          34,
          35,
          36,
          37,
          38,
          39,
          40,
          41,
          42,
          43,
          44,
          45,
          46,
          47,
          48,
          49,
          50,
          51,
          52,
          53,
          54,
          55,
          56,
          57,
          58,
          59,
          60,
          61,
          62,
          63,
          64,
          65,
          66,
          67,
          68,
          69,
          70,
          71,
          72,
          73,
          74,
          75,
          76,
          77,
          78,
          79,
          80,
          81,
          82,
          83,
          84,
          85,
          86,
          87,
          88,
          89,
          90,
          91,
          92,
          93,
          94,
          95,
          96,
          97,
          98,
          99,
          100,
          101,
          102,
          103,
          104,
          105,
          106,
          107,
          108,
          109,
          110,
          111,
          112,
          113,
          114,
          115,
          116,
          117,
          118,
          119,
          120,
          121,
          122,
          123,
          124,
          125,
          126,
          127,
          128,
          129,
          130,
          131,
          132,
          133,
          134,
          135,
          136,
          137,
          138,
          139,
          140,
          141,
          142
         ],
         "y": {
          "bdata": "H4XrUbge5T+PwvUoXI/oP83MzMzMzOg/ZmZmZmZm6D+kcD0K16PoP83MzMzMzOg/CtejcD0K6T/2KFyPwvXoP65H4XoUruE/pHA9Ctej6D/NzMzMzMzoP6RwPQrXo+g/exSuR+F66D/NzMzMzMzoP6RwPQrXo+g/exSuR+F66D89CtejcD3kPwAAAAAAAOY/UrgehetR6D8pXI/C9SjoP5qZmZmZmec/FK5H4XoU6D8pXI/C9SjoP4/C9Shcj+g/16NwPQrX4z+kcD0K16PoPylcj8L1KOg/PQrXo3A96D/hehSuR+HmPylcj8L1KOg/uB6F61G46D/2KFyPwvXoPwrXo3A9CuE/7FG4HoXr3T/sUbgehevdPwrXo3A9CuE/H4XrUbge4T8fhetRuB7hPwrXo3A9CuE/CtejcD0K4T8K16NwPQrhP+xRuB6F690/7FG4HoXr3T/sUbgehevdPwrXo3A9CuE/7FG4HoXr3T/sUbgehevdP+xRuB6F690/j8L1KFyP3j8AAAAAAADoP+xRuB6F6+c/rkfhehSu5z9SuB6F61HoP6RwPQrXo+g/uB6F61G46D+PwvUoXI/oPz0K16NwPeY/ZmZmZmZm6D+4HoXrUbjoPwrXo3A9Cuk/PQrXo3A96D+4HoXrUbjoPzMzMzMzM+k/CtejcD0K6T9mZmZmZmbeP3sUrkfheuY/7FG4HoXr5z8UrkfhehToP8P1KFyPwuE/FK5H4XoU6D8fhetRuB7pP/YoXI/C9eg/PQrXo3A93j89CtejcD3oP1K4HoXrUeg/4XoUrkfh6D8pXI/C9SjiP1K4HoXrUeg/CtejcD0K6T8K16NwPQrpP+xRuB6F690/7FG4HoXr3T/sUbgehevdPx+F61G4HuE/7FG4HoXr3T9I4XoUrkfhP3E9CtejcOE/7FG4HoXr3T/sUbgehevdP+xRuB6F690/7FG4HoXr3T/sUbgehevdP+xRuB6F690/7FG4HoXr3T/sUbgehevdP+xRuB6F690/CtejcD0K4T+F61G4HoXlP4/C9Shcj+A/FK5H4XoU4D97FK5H4XroP2ZmZmZmZug/MzMzMzMz5T/2KFyPwvXkPwrXo3A9CuE/j8L1KFyP6D/NzMzMzMzoP+xRuB6F6+c/exSuR+F66D/NzMzMzMzoP+F6FK5H4eg/FK5H4XoU6D9I4XoUrkfnPxSuR+F6FOg/PQrXo3A96D9mZmZmZmboP8P1KFyPwuc/exSuR+F66D9I4XoUrkfpPzMzMzMzM+k/CtejcD0K5z8pXI/C9SjoP2ZmZmZmZug/CtejcD0K6T/D9Shcj8LnP2ZmZmZmZug/9ihcj8L16D/hehSuR+HoPwrXo3A9CuE/w/UoXI/C3T9I4XoUrkfhPzMzMzMzM+E/SOF6FK5H4T9I4XoUrkfhP0jhehSuR+E/MzMzMzMz4T8K16NwPQrhP8P1KFyPwt0/w/UoXI/C3T/D9Shcj8LdP0jhehSuR+E/w/UoXI/C3T/D9Shcj8LdPw==",
          "dtype": "f8"
         }
        },
        {
         "marker": {
          "color": "red",
          "size": 15,
          "symbol": "star"
         },
         "mode": "markers",
         "name": "Meilleur modèle",
         "type": "scatter",
         "x": [
          118
         ],
         "y": [
          0.79
         ]
        }
       ],
       "layout": {
        "height": 500,
        "hovermode": "x unified",
        "template": {
         "data": {
          "bar": [
           {
            "error_x": {
             "color": "#2a3f5f"
            },
            "error_y": {
             "color": "#2a3f5f"
            },
            "marker": {
             "line": {
              "color": "white",
              "width": 0.5
             },
             "pattern": {
              "fillmode": "overlay",
              "size": 10,
              "solidity": 0.2
             }
            },
            "type": "bar"
           }
          ],
          "barpolar": [
           {
            "marker": {
             "line": {
              "color": "white",
              "width": 0.5
             },
             "pattern": {
              "fillmode": "overlay",
              "size": 10,
              "solidity": 0.2
             }
            },
            "type": "barpolar"
           }
          ],
          "carpet": [
           {
            "aaxis": {
             "endlinecolor": "#2a3f5f",
             "gridcolor": "#C8D4E3",
             "linecolor": "#C8D4E3",
             "minorgridcolor": "#C8D4E3",
             "startlinecolor": "#2a3f5f"
            },
            "baxis": {
             "endlinecolor": "#2a3f5f",
             "gridcolor": "#C8D4E3",
             "linecolor": "#C8D4E3",
             "minorgridcolor": "#C8D4E3",
             "startlinecolor": "#2a3f5f"
            },
            "type": "carpet"
           }
          ],
          "choropleth": [
           {
            "colorbar": {
             "outlinewidth": 0,
             "ticks": ""
            },
            "type": "choropleth"
           }
          ],
          "contour": [
           {
            "colorbar": {
             "outlinewidth": 0,
             "ticks": ""
            },
            "colorscale": [
             [
              0,
              "#0d0887"
             ],
             [
              0.1111111111111111,
              "#46039f"
             ],
             [
              0.2222222222222222,
              "#7201a8"
             ],
             [
              0.3333333333333333,
              "#9c179e"
             ],
             [
              0.4444444444444444,
              "#bd3786"
             ],
             [
              0.5555555555555556,
              "#d8576b"
             ],
             [
              0.6666666666666666,
              "#ed7953"
             ],
             [
              0.7777777777777778,
              "#fb9f3a"
             ],
             [
              0.8888888888888888,
              "#fdca26"
             ],
             [
              1,
              "#f0f921"
             ]
            ],
            "type": "contour"
           }
          ],
          "contourcarpet": [
           {
            "colorbar": {
             "outlinewidth": 0,
             "ticks": ""
            },
            "type": "contourcarpet"
           }
          ],
          "heatmap": [
           {
            "colorbar": {
             "outlinewidth": 0,
             "ticks": ""
            },
            "colorscale": [
             [
              0,
              "#0d0887"
             ],
             [
              0.1111111111111111,
              "#46039f"
             ],
             [
              0.2222222222222222,
              "#7201a8"
             ],
             [
              0.3333333333333333,
              "#9c179e"
             ],
             [
              0.4444444444444444,
              "#bd3786"
             ],
             [
              0.5555555555555556,
              "#d8576b"
             ],
             [
              0.6666666666666666,
              "#ed7953"
             ],
             [
              0.7777777777777778,
              "#fb9f3a"
             ],
             [
              0.8888888888888888,
              "#fdca26"
             ],
             [
              1,
              "#f0f921"
             ]
            ],
            "type": "heatmap"
           }
          ],
          "histogram": [
           {
            "marker": {
             "pattern": {
              "fillmode": "overlay",
              "size": 10,
              "solidity": 0.2
             }
            },
            "type": "histogram"
           }
          ],
          "histogram2d": [
           {
            "colorbar": {
             "outlinewidth": 0,
             "ticks": ""
            },
            "colorscale": [
             [
              0,
              "#0d0887"
             ],
             [
              0.1111111111111111,
              "#46039f"
             ],
             [
              0.2222222222222222,
              "#7201a8"
             ],
             [
              0.3333333333333333,
              "#9c179e"
             ],
             [
              0.4444444444444444,
              "#bd3786"
             ],
             [
              0.5555555555555556,
              "#d8576b"
             ],
             [
              0.6666666666666666,
              "#ed7953"
             ],
             [
              0.7777777777777778,
              "#fb9f3a"
             ],
             [
              0.8888888888888888,
              "#fdca26"
             ],
             [
              1,
              "#f0f921"
             ]
            ],
            "type": "histogram2d"
           }
          ],
          "histogram2dcontour": [
           {
            "colorbar": {
             "outlinewidth": 0,
             "ticks": ""
            },
            "colorscale": [
             [
              0,
              "#0d0887"
             ],
             [
              0.1111111111111111,
              "#46039f"
             ],
             [
              0.2222222222222222,
              "#7201a8"
             ],
             [
              0.3333333333333333,
              "#9c179e"
             ],
             [
              0.4444444444444444,
              "#bd3786"
             ],
             [
              0.5555555555555556,
              "#d8576b"
             ],
             [
              0.6666666666666666,
              "#ed7953"
             ],
             [
              0.7777777777777778,
              "#fb9f3a"
             ],
             [
              0.8888888888888888,
              "#fdca26"
             ],
             [
              1,
              "#f0f921"
             ]
            ],
            "type": "histogram2dcontour"
           }
          ],
          "mesh3d": [
           {
            "colorbar": {
             "outlinewidth": 0,
             "ticks": ""
            },
            "type": "mesh3d"
           }
          ],
          "parcoords": [
           {
            "line": {
             "colorbar": {
              "outlinewidth": 0,
              "ticks": ""
             }
            },
            "type": "parcoords"
           }
          ],
          "pie": [
           {
            "automargin": true,
            "type": "pie"
           }
          ],
          "scatter": [
           {
            "fillpattern": {
             "fillmode": "overlay",
             "size": 10,
             "solidity": 0.2
            },
            "type": "scatter"
           }
          ],
          "scatter3d": [
           {
            "line": {
             "colorbar": {
              "outlinewidth": 0,
              "ticks": ""
             }
            },
            "marker": {
             "colorbar": {
              "outlinewidth": 0,
              "ticks": ""
             }
            },
            "type": "scatter3d"
           }
          ],
          "scattercarpet": [
           {
            "marker": {
             "colorbar": {
              "outlinewidth": 0,
              "ticks": ""
             }
            },
            "type": "scattercarpet"
           }
          ],
          "scattergeo": [
           {
            "marker": {
             "colorbar": {
              "outlinewidth": 0,
              "ticks": ""
             }
            },
            "type": "scattergeo"
           }
          ],
          "scattergl": [
           {
            "marker": {
             "colorbar": {
              "outlinewidth": 0,
              "ticks": ""
             }
            },
            "type": "scattergl"
           }
          ],
          "scattermap": [
           {
            "marker": {
             "colorbar": {
              "outlinewidth": 0,
              "ticks": ""
             }
            },
            "type": "scattermap"
           }
          ],
          "scattermapbox": [
           {
            "marker": {
             "colorbar": {
              "outlinewidth": 0,
              "ticks": ""
             }
            },
            "type": "scattermapbox"
           }
          ],
          "scatterpolar": [
           {
            "marker": {
             "colorbar": {
              "outlinewidth": 0,
              "ticks": ""
             }
            },
            "type": "scatterpolar"
           }
          ],
          "scatterpolargl": [
           {
            "marker": {
             "colorbar": {
              "outlinewidth": 0,
              "ticks": ""
             }
            },
            "type": "scatterpolargl"
           }
          ],
          "scatterternary": [
           {
            "marker": {
             "colorbar": {
              "outlinewidth": 0,
              "ticks": ""
             }
            },
            "type": "scatterternary"
           }
          ],
          "surface": [
           {
            "colorbar": {
             "outlinewidth": 0,
             "ticks": ""
            },
            "colorscale": [
             [
              0,
              "#0d0887"
             ],
             [
              0.1111111111111111,
              "#46039f"
             ],
             [
              0.2222222222222222,
              "#7201a8"
             ],
             [
              0.3333333333333333,
              "#9c179e"
             ],
             [
              0.4444444444444444,
              "#bd3786"
             ],
             [
              0.5555555555555556,
              "#d8576b"
             ],
             [
              0.6666666666666666,
              "#ed7953"
             ],
             [
              0.7777777777777778,
              "#fb9f3a"
             ],
             [
              0.8888888888888888,
              "#fdca26"
             ],
             [
              1,
              "#f0f921"
             ]
            ],
            "type": "surface"
           }
          ],
          "table": [
           {
            "cells": {
             "fill": {
              "color": "#EBF0F8"
             },
             "line": {
              "color": "white"
             }
            },
            "header": {
             "fill": {
              "color": "#C8D4E3"
             },
             "line": {
              "color": "white"
             }
            },
            "type": "table"
           }
          ]
         },
         "layout": {
          "annotationdefaults": {
           "arrowcolor": "#2a3f5f",
           "arrowhead": 0,
           "arrowwidth": 1
          },
          "autotypenumbers": "strict",
          "coloraxis": {
           "colorbar": {
            "outlinewidth": 0,
            "ticks": ""
           }
          },
          "colorscale": {
           "diverging": [
            [
             0,
             "#8e0152"
            ],
            [
             0.1,
             "#c51b7d"
            ],
            [
             0.2,
             "#de77ae"
            ],
            [
             0.3,
             "#f1b6da"
            ],
            [
             0.4,
             "#fde0ef"
            ],
            [
             0.5,
             "#f7f7f7"
            ],
            [
             0.6,
             "#e6f5d0"
            ],
            [
             0.7,
             "#b8e186"
            ],
            [
             0.8,
             "#7fbc41"
            ],
            [
             0.9,
             "#4d9221"
            ],
            [
             1,
             "#276419"
            ]
           ],
           "sequential": [
            [
             0,
             "#0d0887"
            ],
            [
             0.1111111111111111,
             "#46039f"
            ],
            [
             0.2222222222222222,
             "#7201a8"
            ],
            [
             0.3333333333333333,
             "#9c179e"
            ],
            [
             0.4444444444444444,
             "#bd3786"
            ],
            [
             0.5555555555555556,
             "#d8576b"
            ],
            [
             0.6666666666666666,
             "#ed7953"
            ],
            [
             0.7777777777777778,
             "#fb9f3a"
            ],
            [
             0.8888888888888888,
             "#fdca26"
            ],
            [
             1,
             "#f0f921"
            ]
           ],
           "sequentialminus": [
            [
             0,
             "#0d0887"
            ],
            [
             0.1111111111111111,
             "#46039f"
            ],
            [
             0.2222222222222222,
             "#7201a8"
            ],
            [
             0.3333333333333333,
             "#9c179e"
            ],
            [
             0.4444444444444444,
             "#bd3786"
            ],
            [
             0.5555555555555556,
             "#d8576b"
            ],
            [
             0.6666666666666666,
             "#ed7953"
            ],
            [
             0.7777777777777778,
             "#fb9f3a"
            ],
            [
             0.8888888888888888,
             "#fdca26"
            ],
            [
             1,
             "#f0f921"
            ]
           ]
          },
          "colorway": [
           "#636efa",
           "#EF553B",
           "#00cc96",
           "#ab63fa",
           "#FFA15A",
           "#19d3f3",
           "#FF6692",
           "#B6E880",
           "#FF97FF",
           "#FECB52"
          ],
          "font": {
           "color": "#2a3f5f"
          },
          "geo": {
           "bgcolor": "white",
           "lakecolor": "white",
           "landcolor": "white",
           "showlakes": true,
           "showland": true,
           "subunitcolor": "#C8D4E3"
          },
          "hoverlabel": {
           "align": "left"
          },
          "hovermode": "closest",
          "mapbox": {
           "style": "light"
          },
          "paper_bgcolor": "white",
          "plot_bgcolor": "white",
          "polar": {
           "angularaxis": {
            "gridcolor": "#EBF0F8",
            "linecolor": "#EBF0F8",
            "ticks": ""
           },
           "bgcolor": "white",
           "radialaxis": {
            "gridcolor": "#EBF0F8",
            "linecolor": "#EBF0F8",
            "ticks": ""
           }
          },
          "scene": {
           "xaxis": {
            "backgroundcolor": "white",
            "gridcolor": "#DFE8F3",
            "gridwidth": 2,
            "linecolor": "#EBF0F8",
            "showbackground": true,
            "ticks": "",
            "zerolinecolor": "#EBF0F8"
           },
           "yaxis": {
            "backgroundcolor": "white",
            "gridcolor": "#DFE8F3",
            "gridwidth": 2,
            "linecolor": "#EBF0F8",
            "showbackground": true,
            "ticks": "",
            "zerolinecolor": "#EBF0F8"
           },
           "zaxis": {
            "backgroundcolor": "white",
            "gridcolor": "#DFE8F3",
            "gridwidth": 2,
            "linecolor": "#EBF0F8",
            "showbackground": true,
            "ticks": "",
            "zerolinecolor": "#EBF0F8"
           }
          },
          "shapedefaults": {
           "line": {
            "color": "#2a3f5f"
           }
          },
          "ternary": {
           "aaxis": {
            "gridcolor": "#DFE8F3",
            "linecolor": "#A2B1C6",
            "ticks": ""
           },
           "baxis": {
            "gridcolor": "#DFE8F3",
            "linecolor": "#A2B1C6",
            "ticks": ""
           },
           "bgcolor": "white",
           "caxis": {
            "gridcolor": "#DFE8F3",
            "linecolor": "#A2B1C6",
            "ticks": ""
           }
          },
          "title": {
           "x": 0.05
          },
          "xaxis": {
           "automargin": true,
           "gridcolor": "#EBF0F8",
           "linecolor": "#EBF0F8",
           "ticks": "",
           "title": {
            "standoff": 15
           },
           "zerolinecolor": "#EBF0F8",
           "zerolinewidth": 2
          },
          "yaxis": {
           "automargin": true,
           "gridcolor": "#EBF0F8",
           "linecolor": "#EBF0F8",
           "ticks": "",
           "title": {
            "standoff": 15
           },
           "zerolinecolor": "#EBF0F8",
           "zerolinewidth": 2
          }
         }
        },
        "title": {
         "text": "📊 Comparaison Train vs Test Accuracy"
        },
        "xaxis": {
         "title": {
          "text": "Expériences"
         }
        },
        "yaxis": {
         "title": {
          "text": "Accuracy"
         }
        }
       }
      }
     },
     "metadata": {},
     "output_type": "display_data"
    },
    {
     "data": {
      "application/vnd.plotly.v1+json": {
       "config": {
        "plotlyServerURL": "https://plot.ly"
       },
       "data": [
        {
         "alignmentgroup": "True",
         "hovertemplate": "learning_rate=%{x}<br>test_accuracy=%{y}<extra></extra>",
         "legendgroup": "0.001",
         "marker": {
          "color": "rgb(141,211,199)"
         },
         "name": "0.001",
         "notched": false,
         "offsetgroup": "0.001",
         "orientation": "v",
         "showlegend": true,
         "type": "box",
         "x": {
          "bdata": "/Knx0k1iUD/8qfHSTWJQP/yp8dJNYlA//Knx0k1iUD/8qfHSTWJQP/yp8dJNYlA//Knx0k1iUD/8qfHSTWJQP/yp8dJNYlA//Knx0k1iUD/8qfHSTWJQP/yp8dJNYlA//Knx0k1iUD/8qfHSTWJQP/yp8dJNYlA//Knx0k1iUD/8qfHSTWJQP/yp8dJNYlA//Knx0k1iUD/8qfHSTWJQP/yp8dJNYlA//Knx0k1iUD/8qfHSTWJQP/yp8dJNYlA//Knx0k1iUD/8qfHSTWJQP/yp8dJNYlA//Knx0k1iUD/8qfHSTWJQP/yp8dJNYlA//Knx0k1iUD/8qfHSTWJQP/yp8dJNYlA//Knx0k1iUD/8qfHSTWJQP/yp8dJNYlA/",
          "dtype": "f8"
         },
         "x0": " ",
         "xaxis": "x",
         "y": {
          "bdata": "H4XrUbge5T+kcD0K16PoP65H4XoUruE/exSuR+F66D89CtejcD3kP5qZmZmZmec/16NwPQrX4z/hehSuR+HmPwrXo3A9CuE/H4XrUbge4T8K16NwPQrhPwrXo3A9CuE/j8L1KFyP3j9SuB6F61HoPz0K16NwPeY/PQrXo3A96D9mZmZmZmbeP8P1KFyPwuE/PQrXo3A93j8pXI/C9SjiP+xRuB6F690/7FG4HoXr3T/sUbgehevdP+xRuB6F690/CtejcD0K4T97FK5H4XroPwrXo3A9CuE/exSuR+F66D9I4XoUrkfnP8P1KFyPwuc/CtejcD0K5z/D9Shcj8LnPwrXo3A9CuE/SOF6FK5H4T8K16NwPQrhP0jhehSuR+E/",
          "dtype": "f8"
         },
         "y0": " ",
         "yaxis": "y"
        },
        {
         "alignmentgroup": "True",
         "hovertemplate": "learning_rate=%{x}<br>test_accuracy=%{y}<extra></extra>",
         "legendgroup": "0.01",
         "marker": {
          "color": "rgb(255,255,179)"
         },
         "name": "0.01",
         "notched": false,
         "offsetgroup": "0.01",
         "orientation": "v",
         "showlegend": true,
         "type": "box",
         "x": {
          "bdata": "exSuR+F6hD97FK5H4XqEP3sUrkfheoQ/exSuR+F6hD97FK5H4XqEP3sUrkfheoQ/exSuR+F6hD97FK5H4XqEP3sUrkfheoQ/exSuR+F6hD97FK5H4XqEP3sUrkfheoQ/exSuR+F6hD97FK5H4XqEP3sUrkfheoQ/exSuR+F6hD97FK5H4XqEP3sUrkfheoQ/exSuR+F6hD97FK5H4XqEP3sUrkfheoQ/exSuR+F6hD97FK5H4XqEP3sUrkfheoQ/exSuR+F6hD97FK5H4XqEP3sUrkfheoQ/exSuR+F6hD97FK5H4XqEP3sUrkfheoQ/exSuR+F6hD97FK5H4XqEP3sUrkfheoQ/exSuR+F6hD97FK5H4XqEP3sUrkfheoQ/",
          "dtype": "f8"
         },
         "x0": " ",
         "xaxis": "x",
         "y": {
          "bdata": "j8L1KFyP6D/NzMzMzMzoP6RwPQrXo+g/zczMzMzM6D8AAAAAAADmPxSuR+F6FOg/pHA9Ctej6D8pXI/C9SjoP+xRuB6F690/H4XrUbge4T/sUbgehevdP+xRuB6F690/AAAAAAAA6D+kcD0K16PoP2ZmZmZmZug/uB6F61G46D97FK5H4XrmPxSuR+F6FOg/PQrXo3A96D9SuB6F61HoP+xRuB6F690/SOF6FK5H4T/sUbgehevdP+xRuB6F690/hetRuB6F5T9mZmZmZmboP4/C9Shcj+g/zczMzMzM6D8UrkfhehToP3sUrkfheug/KVyPwvUo6D9mZmZmZmboP8P1KFyPwt0/SOF6FK5H4T/D9Shcj8LdP8P1KFyPwt0/",
          "dtype": "f8"
         },
         "y0": " ",
         "yaxis": "y"
        },
        {
         "alignmentgroup": "True",
         "hovertemplate": "learning_rate=%{x}<br>test_accuracy=%{y}<extra></extra>",
         "legendgroup": "0.05",
         "marker": {
          "color": "rgb(190,186,218)"
         },
         "name": "0.05",
         "notched": false,
         "offsetgroup": "0.05",
         "orientation": "v",
         "showlegend": true,
         "type": "box",
         "x": {
          "bdata": "mpmZmZmZqT+amZmZmZmpP5qZmZmZmak/mpmZmZmZqT+amZmZmZmpP5qZmZmZmak/mpmZmZmZqT+amZmZmZmpP5qZmZmZmak/mpmZmZmZqT+amZmZmZmpP5qZmZmZmak/mpmZmZmZqT+amZmZmZmpP5qZmZmZmak/mpmZmZmZqT+amZmZmZmpP5qZmZmZmak/mpmZmZmZqT+amZmZmZmpP5qZmZmZmak/mpmZmZmZqT+amZmZmZmpP5qZmZmZmak/mpmZmZmZqT+amZmZmZmpP5qZmZmZmak/mpmZmZmZqT+amZmZmZmpP5qZmZmZmak/mpmZmZmZqT+amZmZmZmpP5qZmZmZmak/mpmZmZmZqT+amZmZmZmpP5qZmZmZmak/",
          "dtype": "f8"
         },
         "x0": " ",
         "xaxis": "x",
         "y": {
          "bdata": "zczMzMzM6D8K16NwPQrpP83MzMzMzOg/pHA9Ctej6D9SuB6F61HoPylcj8L1KOg/KVyPwvUo6D+4HoXrUbjoP+xRuB6F690/CtejcD0K4T/sUbgehevdP+xRuB6F690/7FG4HoXr5z+4HoXrUbjoP7gehetRuOg/MzMzMzMz6T/sUbgehevnPx+F61G4Huk/UrgehetR6D8K16NwPQrpP+xRuB6F690/cT0K16Nw4T/sUbgehevdP+xRuB6F690/j8L1KFyP4D8zMzMzMzPlP83MzMzMzOg/4XoUrkfh6D89CtejcD3oP0jhehSuR+k/ZmZmZmZm6D/2KFyPwvXoP0jhehSuR+E/SOF6FK5H4T/D9Shcj8LdP8P1KFyPwt0/",
          "dtype": "f8"
         },
         "y0": " ",
         "yaxis": "y"
        },
        {
         "alignmentgroup": "True",
         "hovertemplate": "learning_rate=%{x}<br>test_accuracy=%{y}<extra></extra>",
         "legendgroup": "0.1",
         "marker": {
          "color": "rgb(251,128,114)"
         },
         "name": "0.1",
         "notched": false,
         "offsetgroup": "0.1",
         "orientation": "v",
         "showlegend": true,
         "type": "box",
         "x": {
          "bdata": "mpmZmZmZuT+amZmZmZm5P5qZmZmZmbk/mpmZmZmZuT+amZmZmZm5P5qZmZmZmbk/mpmZmZmZuT+amZmZmZm5P5qZmZmZmbk/mpmZmZmZuT+amZmZmZm5P5qZmZmZmbk/mpmZmZmZuT+amZmZmZm5P5qZmZmZmbk/mpmZmZmZuT+amZmZmZm5P5qZmZmZmbk/mpmZmZmZuT+amZmZmZm5P5qZmZmZmbk/mpmZmZmZuT+amZmZmZm5P5qZmZmZmbk/mpmZmZmZuT+amZmZmZm5P5qZmZmZmbk/mpmZmZmZuT+amZmZmZm5P5qZmZmZmbk/mpmZmZmZuT+amZmZmZm5P5qZmZmZmbk/mpmZmZmZuT+amZmZmZm5Pw==",
          "dtype": "f8"
         },
         "x0": " ",
         "xaxis": "x",
         "y": {
          "bdata": "ZmZmZmZm6D/2KFyPwvXoP6RwPQrXo+g/exSuR+F66D8pXI/C9SjoP4/C9Shcj+g/PQrXo3A96D/2KFyPwvXoPwrXo3A9CuE/CtejcD0K4T/sUbgehevdP+xRuB6F690/rkfhehSu5z+PwvUoXI/oPwrXo3A9Cuk/CtejcD0K6T8UrkfhehToP/YoXI/C9eg/4XoUrkfh6D8K16NwPQrpPx+F61G4HuE/7FG4HoXr3T/sUbgehevdP+xRuB6F690/FK5H4XoU4D/2KFyPwvXkP+xRuB6F6+c/FK5H4XoU6D9mZmZmZmboPzMzMzMzM+k/CtejcD0K6T/hehSuR+HoPzMzMzMzM+E/MzMzMzMz4T/D9Shcj8LdPw==",
          "dtype": "f8"
         },
         "y0": " ",
         "yaxis": "y"
        },
        {
         "marker": {
          "color": "red",
          "opacity": 0.7,
          "size": 10
         },
         "mode": "markers",
         "name": "Données individuelles",
         "type": "scatter",
         "x": {
          "bdata": "/Knx0k1iUD97FK5H4XqEP5qZmZmZmak/mpmZmZmZuT/8qfHSTWJQP3sUrkfheoQ/mpmZmZmZqT+amZmZmZm5P/yp8dJNYlA/exSuR+F6hD+amZmZmZmpP5qZmZmZmbk//Knx0k1iUD97FK5H4XqEP5qZmZmZmak/mpmZmZmZuT/8qfHSTWJQP3sUrkfheoQ/mpmZmZmZqT+amZmZmZm5P/yp8dJNYlA/exSuR+F6hD+amZmZmZmpP5qZmZmZmbk//Knx0k1iUD97FK5H4XqEP5qZmZmZmak/mpmZmZmZuT/8qfHSTWJQP3sUrkfheoQ/mpmZmZmZqT+amZmZmZm5P/yp8dJNYlA/exSuR+F6hD+amZmZmZmpP5qZmZmZmbk//Knx0k1iUD97FK5H4XqEP5qZmZmZmak/mpmZmZmZuT/8qfHSTWJQP3sUrkfheoQ/mpmZmZmZqT+amZmZmZm5P/yp8dJNYlA/exSuR+F6hD+amZmZmZmpP5qZmZmZmbk//Knx0k1iUD97FK5H4XqEP5qZmZmZmak/mpmZmZmZuT/8qfHSTWJQP3sUrkfheoQ/mpmZmZmZqT+amZmZmZm5P/yp8dJNYlA/exSuR+F6hD+amZmZmZmpP5qZmZmZmbk//Knx0k1iUD97FK5H4XqEP5qZmZmZmak/mpmZmZmZuT/8qfHSTWJQP3sUrkfheoQ/mpmZmZmZqT+amZmZmZm5P/yp8dJNYlA/exSuR+F6hD+amZmZmZmpP5qZmZmZmbk//Knx0k1iUD97FK5H4XqEP5qZmZmZmak/mpmZmZmZuT/8qfHSTWJQP3sUrkfheoQ/mpmZmZmZqT+amZmZmZm5P/yp8dJNYlA/exSuR+F6hD+amZmZmZmpP5qZmZmZmbk//Knx0k1iUD97FK5H4XqEP5qZmZmZmak/mpmZmZmZuT/8qfHSTWJQP3sUrkfheoQ/mpmZmZmZqT+amZmZmZm5P/yp8dJNYlA/exSuR+F6hD+amZmZmZmpP5qZmZmZmbk//Knx0k1iUD97FK5H4XqEP5qZmZmZmak/mpmZmZmZuT/8qfHSTWJQP3sUrkfheoQ/mpmZmZmZqT+amZmZmZm5P/yp8dJNYlA/exSuR+F6hD+amZmZmZmpP5qZmZmZmbk//Knx0k1iUD97FK5H4XqEP5qZmZmZmak/mpmZmZmZuT/8qfHSTWJQP3sUrkfheoQ/mpmZmZmZqT+amZmZmZm5P/yp8dJNYlA/exSuR+F6hD+amZmZmZmpP5qZmZmZmbk//Knx0k1iUD97FK5H4XqEP5qZmZmZmak/mpmZmZmZuT/8qfHSTWJQP3sUrkfheoQ/mpmZmZmZqT+amZmZmZm5P/yp8dJNYlA/exSuR+F6hD+amZmZmZmpP5qZmZmZmbk//Knx0k1iUD97FK5H4XqEP5qZmZmZmak/mpmZmZmZuT/8qfHSTWJQP3sUrkfheoQ/mpmZmZmZqT+amZmZmZm5P/yp8dJNYlA/exSuR+F6hD+amZmZmZmpPw==",
          "dtype": "f8"
         },
         "y": {
          "bdata": "H4XrUbge5T+PwvUoXI/oP83MzMzMzOg/ZmZmZmZm6D+kcD0K16PoP83MzMzMzOg/CtejcD0K6T/2KFyPwvXoP65H4XoUruE/pHA9Ctej6D/NzMzMzMzoP6RwPQrXo+g/exSuR+F66D/NzMzMzMzoP6RwPQrXo+g/exSuR+F66D89CtejcD3kPwAAAAAAAOY/UrgehetR6D8pXI/C9SjoP5qZmZmZmec/FK5H4XoU6D8pXI/C9SjoP4/C9Shcj+g/16NwPQrX4z+kcD0K16PoPylcj8L1KOg/PQrXo3A96D/hehSuR+HmPylcj8L1KOg/uB6F61G46D/2KFyPwvXoPwrXo3A9CuE/7FG4HoXr3T/sUbgehevdPwrXo3A9CuE/H4XrUbge4T8fhetRuB7hPwrXo3A9CuE/CtejcD0K4T8K16NwPQrhP+xRuB6F690/7FG4HoXr3T/sUbgehevdPwrXo3A9CuE/7FG4HoXr3T/sUbgehevdP+xRuB6F690/j8L1KFyP3j8AAAAAAADoP+xRuB6F6+c/rkfhehSu5z9SuB6F61HoP6RwPQrXo+g/uB6F61G46D+PwvUoXI/oPz0K16NwPeY/ZmZmZmZm6D+4HoXrUbjoPwrXo3A9Cuk/PQrXo3A96D+4HoXrUbjoPzMzMzMzM+k/CtejcD0K6T9mZmZmZmbeP3sUrkfheuY/7FG4HoXr5z8UrkfhehToP8P1KFyPwuE/FK5H4XoU6D8fhetRuB7pP/YoXI/C9eg/PQrXo3A93j89CtejcD3oP1K4HoXrUeg/4XoUrkfh6D8pXI/C9SjiP1K4HoXrUeg/CtejcD0K6T8K16NwPQrpP+xRuB6F690/7FG4HoXr3T/sUbgehevdPx+F61G4HuE/7FG4HoXr3T9I4XoUrkfhP3E9CtejcOE/7FG4HoXr3T/sUbgehevdP+xRuB6F690/7FG4HoXr3T/sUbgehevdP+xRuB6F690/7FG4HoXr3T/sUbgehevdP+xRuB6F690/CtejcD0K4T+F61G4HoXlP4/C9Shcj+A/FK5H4XoU4D97FK5H4XroP2ZmZmZmZug/MzMzMzMz5T/2KFyPwvXkPwrXo3A9CuE/j8L1KFyP6D/NzMzMzMzoP+xRuB6F6+c/exSuR+F66D/NzMzMzMzoP+F6FK5H4eg/FK5H4XoU6D9I4XoUrkfnPxSuR+F6FOg/PQrXo3A96D9mZmZmZmboP8P1KFyPwuc/exSuR+F66D9I4XoUrkfpPzMzMzMzM+k/CtejcD0K5z8pXI/C9SjoP2ZmZmZmZug/CtejcD0K6T/D9Shcj8LnP2ZmZmZmZug/9ihcj8L16D/hehSuR+HoPwrXo3A9CuE/w/UoXI/C3T9I4XoUrkfhPzMzMzMzM+E/SOF6FK5H4T9I4XoUrkfhP0jhehSuR+E/MzMzMzMz4T8K16NwPQrhP8P1KFyPwt0/w/UoXI/C3T/D9Shcj8LdP0jhehSuR+E/w/UoXI/C3T/D9Shcj8LdPw==",
          "dtype": "f8"
         }
        }
       ],
       "layout": {
        "boxmode": "overlay",
        "height": 500,
        "legend": {
         "title": {
          "text": "learning_rate"
         },
         "tracegroupgap": 0
        },
        "template": {
         "data": {
          "bar": [
           {
            "error_x": {
             "color": "#2a3f5f"
            },
            "error_y": {
             "color": "#2a3f5f"
            },
            "marker": {
             "line": {
              "color": "white",
              "width": 0.5
             },
             "pattern": {
              "fillmode": "overlay",
              "size": 10,
              "solidity": 0.2
             }
            },
            "type": "bar"
           }
          ],
          "barpolar": [
           {
            "marker": {
             "line": {
              "color": "white",
              "width": 0.5
             },
             "pattern": {
              "fillmode": "overlay",
              "size": 10,
              "solidity": 0.2
             }
            },
            "type": "barpolar"
           }
          ],
          "carpet": [
           {
            "aaxis": {
             "endlinecolor": "#2a3f5f",
             "gridcolor": "#C8D4E3",
             "linecolor": "#C8D4E3",
             "minorgridcolor": "#C8D4E3",
             "startlinecolor": "#2a3f5f"
            },
            "baxis": {
             "endlinecolor": "#2a3f5f",
             "gridcolor": "#C8D4E3",
             "linecolor": "#C8D4E3",
             "minorgridcolor": "#C8D4E3",
             "startlinecolor": "#2a3f5f"
            },
            "type": "carpet"
           }
          ],
          "choropleth": [
           {
            "colorbar": {
             "outlinewidth": 0,
             "ticks": ""
            },
            "type": "choropleth"
           }
          ],
          "contour": [
           {
            "colorbar": {
             "outlinewidth": 0,
             "ticks": ""
            },
            "colorscale": [
             [
              0,
              "#0d0887"
             ],
             [
              0.1111111111111111,
              "#46039f"
             ],
             [
              0.2222222222222222,
              "#7201a8"
             ],
             [
              0.3333333333333333,
              "#9c179e"
             ],
             [
              0.4444444444444444,
              "#bd3786"
             ],
             [
              0.5555555555555556,
              "#d8576b"
             ],
             [
              0.6666666666666666,
              "#ed7953"
             ],
             [
              0.7777777777777778,
              "#fb9f3a"
             ],
             [
              0.8888888888888888,
              "#fdca26"
             ],
             [
              1,
              "#f0f921"
             ]
            ],
            "type": "contour"
           }
          ],
          "contourcarpet": [
           {
            "colorbar": {
             "outlinewidth": 0,
             "ticks": ""
            },
            "type": "contourcarpet"
           }
          ],
          "heatmap": [
           {
            "colorbar": {
             "outlinewidth": 0,
             "ticks": ""
            },
            "colorscale": [
             [
              0,
              "#0d0887"
             ],
             [
              0.1111111111111111,
              "#46039f"
             ],
             [
              0.2222222222222222,
              "#7201a8"
             ],
             [
              0.3333333333333333,
              "#9c179e"
             ],
             [
              0.4444444444444444,
              "#bd3786"
             ],
             [
              0.5555555555555556,
              "#d8576b"
             ],
             [
              0.6666666666666666,
              "#ed7953"
             ],
             [
              0.7777777777777778,
              "#fb9f3a"
             ],
             [
              0.8888888888888888,
              "#fdca26"
             ],
             [
              1,
              "#f0f921"
             ]
            ],
            "type": "heatmap"
           }
          ],
          "histogram": [
           {
            "marker": {
             "pattern": {
              "fillmode": "overlay",
              "size": 10,
              "solidity": 0.2
             }
            },
            "type": "histogram"
           }
          ],
          "histogram2d": [
           {
            "colorbar": {
             "outlinewidth": 0,
             "ticks": ""
            },
            "colorscale": [
             [
              0,
              "#0d0887"
             ],
             [
              0.1111111111111111,
              "#46039f"
             ],
             [
              0.2222222222222222,
              "#7201a8"
             ],
             [
              0.3333333333333333,
              "#9c179e"
             ],
             [
              0.4444444444444444,
              "#bd3786"
             ],
             [
              0.5555555555555556,
              "#d8576b"
             ],
             [
              0.6666666666666666,
              "#ed7953"
             ],
             [
              0.7777777777777778,
              "#fb9f3a"
             ],
             [
              0.8888888888888888,
              "#fdca26"
             ],
             [
              1,
              "#f0f921"
             ]
            ],
            "type": "histogram2d"
           }
          ],
          "histogram2dcontour": [
           {
            "colorbar": {
             "outlinewidth": 0,
             "ticks": ""
            },
            "colorscale": [
             [
              0,
              "#0d0887"
             ],
             [
              0.1111111111111111,
              "#46039f"
             ],
             [
              0.2222222222222222,
              "#7201a8"
             ],
             [
              0.3333333333333333,
              "#9c179e"
             ],
             [
              0.4444444444444444,
              "#bd3786"
             ],
             [
              0.5555555555555556,
              "#d8576b"
             ],
             [
              0.6666666666666666,
              "#ed7953"
             ],
             [
              0.7777777777777778,
              "#fb9f3a"
             ],
             [
              0.8888888888888888,
              "#fdca26"
             ],
             [
              1,
              "#f0f921"
             ]
            ],
            "type": "histogram2dcontour"
           }
          ],
          "mesh3d": [
           {
            "colorbar": {
             "outlinewidth": 0,
             "ticks": ""
            },
            "type": "mesh3d"
           }
          ],
          "parcoords": [
           {
            "line": {
             "colorbar": {
              "outlinewidth": 0,
              "ticks": ""
             }
            },
            "type": "parcoords"
           }
          ],
          "pie": [
           {
            "automargin": true,
            "type": "pie"
           }
          ],
          "scatter": [
           {
            "fillpattern": {
             "fillmode": "overlay",
             "size": 10,
             "solidity": 0.2
            },
            "type": "scatter"
           }
          ],
          "scatter3d": [
           {
            "line": {
             "colorbar": {
              "outlinewidth": 0,
              "ticks": ""
             }
            },
            "marker": {
             "colorbar": {
              "outlinewidth": 0,
              "ticks": ""
             }
            },
            "type": "scatter3d"
           }
          ],
          "scattercarpet": [
           {
            "marker": {
             "colorbar": {
              "outlinewidth": 0,
              "ticks": ""
             }
            },
            "type": "scattercarpet"
           }
          ],
          "scattergeo": [
           {
            "marker": {
             "colorbar": {
              "outlinewidth": 0,
              "ticks": ""
             }
            },
            "type": "scattergeo"
           }
          ],
          "scattergl": [
           {
            "marker": {
             "colorbar": {
              "outlinewidth": 0,
              "ticks": ""
             }
            },
            "type": "scattergl"
           }
          ],
          "scattermap": [
           {
            "marker": {
             "colorbar": {
              "outlinewidth": 0,
              "ticks": ""
             }
            },
            "type": "scattermap"
           }
          ],
          "scattermapbox": [
           {
            "marker": {
             "colorbar": {
              "outlinewidth": 0,
              "ticks": ""
             }
            },
            "type": "scattermapbox"
           }
          ],
          "scatterpolar": [
           {
            "marker": {
             "colorbar": {
              "outlinewidth": 0,
              "ticks": ""
             }
            },
            "type": "scatterpolar"
           }
          ],
          "scatterpolargl": [
           {
            "marker": {
             "colorbar": {
              "outlinewidth": 0,
              "ticks": ""
             }
            },
            "type": "scatterpolargl"
           }
          ],
          "scatterternary": [
           {
            "marker": {
             "colorbar": {
              "outlinewidth": 0,
              "ticks": ""
             }
            },
            "type": "scatterternary"
           }
          ],
          "surface": [
           {
            "colorbar": {
             "outlinewidth": 0,
             "ticks": ""
            },
            "colorscale": [
             [
              0,
              "#0d0887"
             ],
             [
              0.1111111111111111,
              "#46039f"
             ],
             [
              0.2222222222222222,
              "#7201a8"
             ],
             [
              0.3333333333333333,
              "#9c179e"
             ],
             [
              0.4444444444444444,
              "#bd3786"
             ],
             [
              0.5555555555555556,
              "#d8576b"
             ],
             [
              0.6666666666666666,
              "#ed7953"
             ],
             [
              0.7777777777777778,
              "#fb9f3a"
             ],
             [
              0.8888888888888888,
              "#fdca26"
             ],
             [
              1,
              "#f0f921"
             ]
            ],
            "type": "surface"
           }
          ],
          "table": [
           {
            "cells": {
             "fill": {
              "color": "#EBF0F8"
             },
             "line": {
              "color": "white"
             }
            },
            "header": {
             "fill": {
              "color": "#C8D4E3"
             },
             "line": {
              "color": "white"
             }
            },
            "type": "table"
           }
          ]
         },
         "layout": {
          "annotationdefaults": {
           "arrowcolor": "#2a3f5f",
           "arrowhead": 0,
           "arrowwidth": 1
          },
          "autotypenumbers": "strict",
          "coloraxis": {
           "colorbar": {
            "outlinewidth": 0,
            "ticks": ""
           }
          },
          "colorscale": {
           "diverging": [
            [
             0,
             "#8e0152"
            ],
            [
             0.1,
             "#c51b7d"
            ],
            [
             0.2,
             "#de77ae"
            ],
            [
             0.3,
             "#f1b6da"
            ],
            [
             0.4,
             "#fde0ef"
            ],
            [
             0.5,
             "#f7f7f7"
            ],
            [
             0.6,
             "#e6f5d0"
            ],
            [
             0.7,
             "#b8e186"
            ],
            [
             0.8,
             "#7fbc41"
            ],
            [
             0.9,
             "#4d9221"
            ],
            [
             1,
             "#276419"
            ]
           ],
           "sequential": [
            [
             0,
             "#0d0887"
            ],
            [
             0.1111111111111111,
             "#46039f"
            ],
            [
             0.2222222222222222,
             "#7201a8"
            ],
            [
             0.3333333333333333,
             "#9c179e"
            ],
            [
             0.4444444444444444,
             "#bd3786"
            ],
            [
             0.5555555555555556,
             "#d8576b"
            ],
            [
             0.6666666666666666,
             "#ed7953"
            ],
            [
             0.7777777777777778,
             "#fb9f3a"
            ],
            [
             0.8888888888888888,
             "#fdca26"
            ],
            [
             1,
             "#f0f921"
            ]
           ],
           "sequentialminus": [
            [
             0,
             "#0d0887"
            ],
            [
             0.1111111111111111,
             "#46039f"
            ],
            [
             0.2222222222222222,
             "#7201a8"
            ],
            [
             0.3333333333333333,
             "#9c179e"
            ],
            [
             0.4444444444444444,
             "#bd3786"
            ],
            [
             0.5555555555555556,
             "#d8576b"
            ],
            [
             0.6666666666666666,
             "#ed7953"
            ],
            [
             0.7777777777777778,
             "#fb9f3a"
            ],
            [
             0.8888888888888888,
             "#fdca26"
            ],
            [
             1,
             "#f0f921"
            ]
           ]
          },
          "colorway": [
           "#636efa",
           "#EF553B",
           "#00cc96",
           "#ab63fa",
           "#FFA15A",
           "#19d3f3",
           "#FF6692",
           "#B6E880",
           "#FF97FF",
           "#FECB52"
          ],
          "font": {
           "color": "#2a3f5f"
          },
          "geo": {
           "bgcolor": "white",
           "lakecolor": "white",
           "landcolor": "white",
           "showlakes": true,
           "showland": true,
           "subunitcolor": "#C8D4E3"
          },
          "hoverlabel": {
           "align": "left"
          },
          "hovermode": "closest",
          "mapbox": {
           "style": "light"
          },
          "paper_bgcolor": "white",
          "plot_bgcolor": "white",
          "polar": {
           "angularaxis": {
            "gridcolor": "#EBF0F8",
            "linecolor": "#EBF0F8",
            "ticks": ""
           },
           "bgcolor": "white",
           "radialaxis": {
            "gridcolor": "#EBF0F8",
            "linecolor": "#EBF0F8",
            "ticks": ""
           }
          },
          "scene": {
           "xaxis": {
            "backgroundcolor": "white",
            "gridcolor": "#DFE8F3",
            "gridwidth": 2,
            "linecolor": "#EBF0F8",
            "showbackground": true,
            "ticks": "",
            "zerolinecolor": "#EBF0F8"
           },
           "yaxis": {
            "backgroundcolor": "white",
            "gridcolor": "#DFE8F3",
            "gridwidth": 2,
            "linecolor": "#EBF0F8",
            "showbackground": true,
            "ticks": "",
            "zerolinecolor": "#EBF0F8"
           },
           "zaxis": {
            "backgroundcolor": "white",
            "gridcolor": "#DFE8F3",
            "gridwidth": 2,
            "linecolor": "#EBF0F8",
            "showbackground": true,
            "ticks": "",
            "zerolinecolor": "#EBF0F8"
           }
          },
          "shapedefaults": {
           "line": {
            "color": "#2a3f5f"
           }
          },
          "ternary": {
           "aaxis": {
            "gridcolor": "#DFE8F3",
            "linecolor": "#A2B1C6",
            "ticks": ""
           },
           "baxis": {
            "gridcolor": "#DFE8F3",
            "linecolor": "#A2B1C6",
            "ticks": ""
           },
           "bgcolor": "white",
           "caxis": {
            "gridcolor": "#DFE8F3",
            "linecolor": "#A2B1C6",
            "ticks": ""
           }
          },
          "title": {
           "x": 0.05
          },
          "xaxis": {
           "automargin": true,
           "gridcolor": "#EBF0F8",
           "linecolor": "#EBF0F8",
           "ticks": "",
           "title": {
            "standoff": 15
           },
           "zerolinecolor": "#EBF0F8",
           "zerolinewidth": 2
          },
          "yaxis": {
           "automargin": true,
           "gridcolor": "#EBF0F8",
           "linecolor": "#EBF0F8",
           "ticks": "",
           "title": {
            "standoff": 15
           },
           "zerolinecolor": "#EBF0F8",
           "zerolinewidth": 2
          }
         }
        },
        "title": {
         "text": "📈 Impact du Learning Rate sur Test Accuracy"
        },
        "xaxis": {
         "anchor": "y",
         "categoryarray": [
          0.001,
          0.01,
          0.05,
          0.1
         ],
         "categoryorder": "array",
         "domain": [
          0,
          1
         ],
         "title": {
          "text": "learning_rate"
         }
        },
        "yaxis": {
         "anchor": "x",
         "domain": [
          0,
          1
         ],
         "title": {
          "text": "test_accuracy"
         }
        }
       }
      }
     },
     "metadata": {},
     "output_type": "display_data"
    },
    {
     "data": {
      "application/vnd.plotly.v1+json": {
       "config": {
        "plotlyServerURL": "https://plot.ly"
       },
       "data": [
        {
         "hovertemplate": "epochs=%{x}<br>test_accuracy=%{y}<br>train_accuracy=%{marker.size}<br>learning_rate=%{marker.color}<extra></extra>",
         "legendgroup": "",
         "marker": {
          "color": {
           "bdata": "/Knx0k1iUD97FK5H4XqEP5qZmZmZmak/mpmZmZmZuT/8qfHSTWJQP3sUrkfheoQ/mpmZmZmZqT+amZmZmZm5P/yp8dJNYlA/exSuR+F6hD+amZmZmZmpP5qZmZmZmbk//Knx0k1iUD97FK5H4XqEP5qZmZmZmak/mpmZmZmZuT/8qfHSTWJQP3sUrkfheoQ/mpmZmZmZqT+amZmZmZm5P/yp8dJNYlA/exSuR+F6hD+amZmZmZmpP5qZmZmZmbk//Knx0k1iUD97FK5H4XqEP5qZmZmZmak/mpmZmZmZuT/8qfHSTWJQP3sUrkfheoQ/mpmZmZmZqT+amZmZmZm5P/yp8dJNYlA/exSuR+F6hD+amZmZmZmpP5qZmZmZmbk//Knx0k1iUD97FK5H4XqEP5qZmZmZmak/mpmZmZmZuT/8qfHSTWJQP3sUrkfheoQ/mpmZmZmZqT+amZmZmZm5P/yp8dJNYlA/exSuR+F6hD+amZmZmZmpP5qZmZmZmbk//Knx0k1iUD97FK5H4XqEP5qZmZmZmak/mpmZmZmZuT/8qfHSTWJQP3sUrkfheoQ/mpmZmZmZqT+amZmZmZm5P/yp8dJNYlA/exSuR+F6hD+amZmZmZmpP5qZmZmZmbk//Knx0k1iUD97FK5H4XqEP5qZmZmZmak/mpmZmZmZuT/8qfHSTWJQP3sUrkfheoQ/mpmZmZmZqT+amZmZmZm5P/yp8dJNYlA/exSuR+F6hD+amZmZmZmpP5qZmZmZmbk//Knx0k1iUD97FK5H4XqEP5qZmZmZmak/mpmZmZmZuT/8qfHSTWJQP3sUrkfheoQ/mpmZmZmZqT+amZmZmZm5P/yp8dJNYlA/exSuR+F6hD+amZmZmZmpP5qZmZmZmbk//Knx0k1iUD97FK5H4XqEP5qZmZmZmak/mpmZmZmZuT/8qfHSTWJQP3sUrkfheoQ/mpmZmZmZqT+amZmZmZm5P/yp8dJNYlA/exSuR+F6hD+amZmZmZmpP5qZmZmZmbk//Knx0k1iUD97FK5H4XqEP5qZmZmZmak/mpmZmZmZuT/8qfHSTWJQP3sUrkfheoQ/mpmZmZmZqT+amZmZmZm5P/yp8dJNYlA/exSuR+F6hD+amZmZmZmpP5qZmZmZmbk//Knx0k1iUD97FK5H4XqEP5qZmZmZmak/mpmZmZmZuT/8qfHSTWJQP3sUrkfheoQ/mpmZmZmZqT+amZmZmZm5P/yp8dJNYlA/exSuR+F6hD+amZmZmZmpP5qZmZmZmbk//Knx0k1iUD97FK5H4XqEP5qZmZmZmak/mpmZmZmZuT/8qfHSTWJQP3sUrkfheoQ/mpmZmZmZqT+amZmZmZm5P/yp8dJNYlA/exSuR+F6hD+amZmZmZmpP5qZmZmZmbk//Knx0k1iUD97FK5H4XqEP5qZmZmZmak/mpmZmZmZuT/8qfHSTWJQP3sUrkfheoQ/mpmZmZmZqT+amZmZmZm5P/yp8dJNYlA/exSuR+F6hD+amZmZmZmpPw==",
           "dtype": "f8"
          },
          "coloraxis": "coloraxis",
          "size": {
           "bdata": "yJi7lpAP5D8kufyH9NvnP2fV52or9uc/nzws1Jrm5z9NFYxK6gToP9xGA3gLJOg/j8L1KFyP6D8ukKD4MeboPy7/If32deA/OGdEaW/w5z8UrkfhehToP7mNBvAWSOg/TRWMSuoE6D8UrkfhehToP0Otad5xiug/j1N0JJf/6D+ASL99HTjjP5T2Bl+YTOc/+1xtxf6y5z9NhA1Pr5TnPxB6Nqs+V+c/OdbFbTSA5z/7XG3F/rLnP+xRuB6F6+c/Q61p3nGK4j9wzojS3uDnP0dy+Q/pt+c/R3L5D+m35z/NzMzMzMzmP0dy+Q/pt+c/Z9Xnaiv25z89m1Wfq63oP+zAOSNKe98/ih9j7lpC4D+KH2PuWkLgP4XrUbgehd8/HhZqTfOO3z988rBQa5rfP4XrUbgehd8/hetRuB6F3z/swDkjSnvfP4ofY+5aQuA/ih9j7lpC4D+KH2PuWkLgPx4Wak3zjt8/ih9j7lpC4D+KH2PuWkLgP4ofY+5aQuA/8fRKWYY44D/7XG3F/rLnP02EDU+vlOc/w2SqYFRS5z9NhA1Pr5TnP2ZmZmZmZug/GlHaG3xh6D8UrkfhehToP5T2Bl+YTOc/5q4l5IOe5z8u/yH99nXoP+LplbIMceg/qaROQBNh5z8u/yH99nXoP2b35GGh1ug/qRPQRNjw6D+ze/KwUGvgPxB6Nqs+V+c/JCh+jLlr5z8+eVioNc3nPy6QoPgx5uI/FR3J5T+k5z9m9+RhodboP1yPwvUoXOk/Lv8h/fZ14D+KH2PuWkLoP9IA3gIJiuc/cM6I0t7g5z+amZmZmZnjP9IA3gIJiuc/9ihcj8L16D/7y+7Jw0LpP4ofY+5aQuA/8fRKWYY44D/ChqdXyjLgP65H4XoUrt8/8fRKWYY44D/Xo3A9CtffP/H0SlmGOOA/8fRKWYY44D/x9EpZhjjgP8KGp1fKMuA/woanV8oy4D/ChqdXyjLgP8KGp1fKMuA/woanV8oy4D/ChqdXyjLgP/H0SlmGOOA/hetRuB6F3z9X7C+7Jw/lPx4Wak3zjuE/j1N0JJf/4D+ZKhiV1AnoP8KGp1fKMug/9ihcj8L15D9m9+RhodbkP4XrUbgehd8/3EYDeAsk6D+At0CC4sfoP2uad5yiI+c/yJi7lpAP6D+At0CC4sfoP2b35GGh1ug/TYQNT6+U5z9m9+RhodbmP+zAOSNKe+c/+1xtxf6y5z+z6nO1FfvnP6MBvAUSFOc/s+pztRX75z/SAN4CCYrpPyS5/If02+k/GeJYF7fR5j8VHcnlP6TnP5kqGJXUCeg/PZtVn6ut6D+ASL99HTjnP5kqGJXUCeg/cT0K16Nw6T/sUbgehevpPxUdyeU/pN8/FR3J5T+k3z8Fo5I6AU3gPz0K16NwPeA/KVyPwvUo4D/HKTqSy3/gP9zXgXNGlOA/gEi/fR044T+lTkATYcPfP0dy+Q/pt98/PQrXo3A94D9mZmZmZmbgP5Axdy0hH+A/PQrXo3A94D+kcD0K16PgPw==",
           "dtype": "f8"
          },
          "sizemode": "area",
          "sizeref": 0.0020250000000000003,
          "symbol": "circle"
         },
         "mode": "markers",
         "name": "",
         "orientation": "v",
         "showlegend": false,
         "type": "scatter",
         "x": {
          "bdata": "6APoA+gD6AOIE4gTiBOIE+gD6APoA+gDiBOIE4gTiBPoA+gD6APoA4gTiBOIE4gT6APoA+gD6AOIE4gTiBOIE+gD6APoA+gDiBOIE4gTiBPoA+gD6APoA4gTiBOIE4gT6APoA+gD6AOIE4gTiBOIE+gD6APoA+gDiBOIE4gTiBPoA+gD6APoA4gTiBOIE4gT6APoA+gD6AOIE4gTiBOIE+gD6APoA+gDiBOIE4gTiBPoA+gD6APoA4gTiBOIE4gT6APoA+gD6AOIE4gTiBOIE+gD6APoA+gDiBOIE4gTiBPoA+gD6APoA4gTiBOIE4gT6APoA+gD6AOIE4gTiBOIE+gD6APoA+gDiBOIE4gTiBPoA+gD6APoA4gTiBOIEw==",
          "dtype": "i2"
         },
         "xaxis": "x",
         "y": {
          "bdata": "H4XrUbge5T+PwvUoXI/oP83MzMzMzOg/ZmZmZmZm6D+kcD0K16PoP83MzMzMzOg/CtejcD0K6T/2KFyPwvXoP65H4XoUruE/pHA9Ctej6D/NzMzMzMzoP6RwPQrXo+g/exSuR+F66D/NzMzMzMzoP6RwPQrXo+g/exSuR+F66D89CtejcD3kPwAAAAAAAOY/UrgehetR6D8pXI/C9SjoP5qZmZmZmec/FK5H4XoU6D8pXI/C9SjoP4/C9Shcj+g/16NwPQrX4z+kcD0K16PoPylcj8L1KOg/PQrXo3A96D/hehSuR+HmPylcj8L1KOg/uB6F61G46D/2KFyPwvXoPwrXo3A9CuE/7FG4HoXr3T/sUbgehevdPwrXo3A9CuE/H4XrUbge4T8fhetRuB7hPwrXo3A9CuE/CtejcD0K4T8K16NwPQrhP+xRuB6F690/7FG4HoXr3T/sUbgehevdPwrXo3A9CuE/7FG4HoXr3T/sUbgehevdP+xRuB6F690/j8L1KFyP3j8AAAAAAADoP+xRuB6F6+c/rkfhehSu5z9SuB6F61HoP6RwPQrXo+g/uB6F61G46D+PwvUoXI/oPz0K16NwPeY/ZmZmZmZm6D+4HoXrUbjoPwrXo3A9Cuk/PQrXo3A96D+4HoXrUbjoPzMzMzMzM+k/CtejcD0K6T9mZmZmZmbeP3sUrkfheuY/7FG4HoXr5z8UrkfhehToP8P1KFyPwuE/FK5H4XoU6D8fhetRuB7pP/YoXI/C9eg/PQrXo3A93j89CtejcD3oP1K4HoXrUeg/4XoUrkfh6D8pXI/C9SjiP1K4HoXrUeg/CtejcD0K6T8K16NwPQrpP+xRuB6F690/7FG4HoXr3T/sUbgehevdPx+F61G4HuE/7FG4HoXr3T9I4XoUrkfhP3E9CtejcOE/7FG4HoXr3T/sUbgehevdP+xRuB6F690/7FG4HoXr3T/sUbgehevdP+xRuB6F690/7FG4HoXr3T/sUbgehevdP+xRuB6F690/CtejcD0K4T+F61G4HoXlP4/C9Shcj+A/FK5H4XoU4D97FK5H4XroP2ZmZmZmZug/MzMzMzMz5T/2KFyPwvXkPwrXo3A9CuE/j8L1KFyP6D/NzMzMzMzoP+xRuB6F6+c/exSuR+F66D/NzMzMzMzoP+F6FK5H4eg/FK5H4XoU6D9I4XoUrkfnPxSuR+F6FOg/PQrXo3A96D9mZmZmZmboP8P1KFyPwuc/exSuR+F66D9I4XoUrkfpPzMzMzMzM+k/CtejcD0K5z8pXI/C9SjoP2ZmZmZmZug/CtejcD0K6T/D9Shcj8LnP2ZmZmZmZug/9ihcj8L16D/hehSuR+HoPwrXo3A9CuE/w/UoXI/C3T9I4XoUrkfhPzMzMzMzM+E/SOF6FK5H4T9I4XoUrkfhP0jhehSuR+E/MzMzMzMz4T8K16NwPQrhP8P1KFyPwt0/w/UoXI/C3T/D9Shcj8LdP0jhehSuR+E/w/UoXI/C3T/D9Shcj8LdPw==",
          "dtype": "f8"
         },
         "yaxis": "y"
        }
       ],
       "layout": {
        "coloraxis": {
         "colorbar": {
          "title": {
           "text": "learning_rate"
          }
         },
         "colorscale": [
          [
           0,
           "#440154"
          ],
          [
           0.1111111111111111,
           "#482878"
          ],
          [
           0.2222222222222222,
           "#3e4989"
          ],
          [
           0.3333333333333333,
           "#31688e"
          ],
          [
           0.4444444444444444,
           "#26828e"
          ],
          [
           0.5555555555555556,
           "#1f9e89"
          ],
          [
           0.6666666666666666,
           "#35b779"
          ],
          [
           0.7777777777777778,
           "#6ece58"
          ],
          [
           0.8888888888888888,
           "#b5de2b"
          ],
          [
           1,
           "#fde725"
          ]
         ]
        },
        "height": 500,
        "legend": {
         "itemsizing": "constant",
         "tracegroupgap": 0
        },
        "template": {
         "data": {
          "bar": [
           {
            "error_x": {
             "color": "#2a3f5f"
            },
            "error_y": {
             "color": "#2a3f5f"
            },
            "marker": {
             "line": {
              "color": "white",
              "width": 0.5
             },
             "pattern": {
              "fillmode": "overlay",
              "size": 10,
              "solidity": 0.2
             }
            },
            "type": "bar"
           }
          ],
          "barpolar": [
           {
            "marker": {
             "line": {
              "color": "white",
              "width": 0.5
             },
             "pattern": {
              "fillmode": "overlay",
              "size": 10,
              "solidity": 0.2
             }
            },
            "type": "barpolar"
           }
          ],
          "carpet": [
           {
            "aaxis": {
             "endlinecolor": "#2a3f5f",
             "gridcolor": "#C8D4E3",
             "linecolor": "#C8D4E3",
             "minorgridcolor": "#C8D4E3",
             "startlinecolor": "#2a3f5f"
            },
            "baxis": {
             "endlinecolor": "#2a3f5f",
             "gridcolor": "#C8D4E3",
             "linecolor": "#C8D4E3",
             "minorgridcolor": "#C8D4E3",
             "startlinecolor": "#2a3f5f"
            },
            "type": "carpet"
           }
          ],
          "choropleth": [
           {
            "colorbar": {
             "outlinewidth": 0,
             "ticks": ""
            },
            "type": "choropleth"
           }
          ],
          "contour": [
           {
            "colorbar": {
             "outlinewidth": 0,
             "ticks": ""
            },
            "colorscale": [
             [
              0,
              "#0d0887"
             ],
             [
              0.1111111111111111,
              "#46039f"
             ],
             [
              0.2222222222222222,
              "#7201a8"
             ],
             [
              0.3333333333333333,
              "#9c179e"
             ],
             [
              0.4444444444444444,
              "#bd3786"
             ],
             [
              0.5555555555555556,
              "#d8576b"
             ],
             [
              0.6666666666666666,
              "#ed7953"
             ],
             [
              0.7777777777777778,
              "#fb9f3a"
             ],
             [
              0.8888888888888888,
              "#fdca26"
             ],
             [
              1,
              "#f0f921"
             ]
            ],
            "type": "contour"
           }
          ],
          "contourcarpet": [
           {
            "colorbar": {
             "outlinewidth": 0,
             "ticks": ""
            },
            "type": "contourcarpet"
           }
          ],
          "heatmap": [
           {
            "colorbar": {
             "outlinewidth": 0,
             "ticks": ""
            },
            "colorscale": [
             [
              0,
              "#0d0887"
             ],
             [
              0.1111111111111111,
              "#46039f"
             ],
             [
              0.2222222222222222,
              "#7201a8"
             ],
             [
              0.3333333333333333,
              "#9c179e"
             ],
             [
              0.4444444444444444,
              "#bd3786"
             ],
             [
              0.5555555555555556,
              "#d8576b"
             ],
             [
              0.6666666666666666,
              "#ed7953"
             ],
             [
              0.7777777777777778,
              "#fb9f3a"
             ],
             [
              0.8888888888888888,
              "#fdca26"
             ],
             [
              1,
              "#f0f921"
             ]
            ],
            "type": "heatmap"
           }
          ],
          "histogram": [
           {
            "marker": {
             "pattern": {
              "fillmode": "overlay",
              "size": 10,
              "solidity": 0.2
             }
            },
            "type": "histogram"
           }
          ],
          "histogram2d": [
           {
            "colorbar": {
             "outlinewidth": 0,
             "ticks": ""
            },
            "colorscale": [
             [
              0,
              "#0d0887"
             ],
             [
              0.1111111111111111,
              "#46039f"
             ],
             [
              0.2222222222222222,
              "#7201a8"
             ],
             [
              0.3333333333333333,
              "#9c179e"
             ],
             [
              0.4444444444444444,
              "#bd3786"
             ],
             [
              0.5555555555555556,
              "#d8576b"
             ],
             [
              0.6666666666666666,
              "#ed7953"
             ],
             [
              0.7777777777777778,
              "#fb9f3a"
             ],
             [
              0.8888888888888888,
              "#fdca26"
             ],
             [
              1,
              "#f0f921"
             ]
            ],
            "type": "histogram2d"
           }
          ],
          "histogram2dcontour": [
           {
            "colorbar": {
             "outlinewidth": 0,
             "ticks": ""
            },
            "colorscale": [
             [
              0,
              "#0d0887"
             ],
             [
              0.1111111111111111,
              "#46039f"
             ],
             [
              0.2222222222222222,
              "#7201a8"
             ],
             [
              0.3333333333333333,
              "#9c179e"
             ],
             [
              0.4444444444444444,
              "#bd3786"
             ],
             [
              0.5555555555555556,
              "#d8576b"
             ],
             [
              0.6666666666666666,
              "#ed7953"
             ],
             [
              0.7777777777777778,
              "#fb9f3a"
             ],
             [
              0.8888888888888888,
              "#fdca26"
             ],
             [
              1,
              "#f0f921"
             ]
            ],
            "type": "histogram2dcontour"
           }
          ],
          "mesh3d": [
           {
            "colorbar": {
             "outlinewidth": 0,
             "ticks": ""
            },
            "type": "mesh3d"
           }
          ],
          "parcoords": [
           {
            "line": {
             "colorbar": {
              "outlinewidth": 0,
              "ticks": ""
             }
            },
            "type": "parcoords"
           }
          ],
          "pie": [
           {
            "automargin": true,
            "type": "pie"
           }
          ],
          "scatter": [
           {
            "fillpattern": {
             "fillmode": "overlay",
             "size": 10,
             "solidity": 0.2
            },
            "type": "scatter"
           }
          ],
          "scatter3d": [
           {
            "line": {
             "colorbar": {
              "outlinewidth": 0,
              "ticks": ""
             }
            },
            "marker": {
             "colorbar": {
              "outlinewidth": 0,
              "ticks": ""
             }
            },
            "type": "scatter3d"
           }
          ],
          "scattercarpet": [
           {
            "marker": {
             "colorbar": {
              "outlinewidth": 0,
              "ticks": ""
             }
            },
            "type": "scattercarpet"
           }
          ],
          "scattergeo": [
           {
            "marker": {
             "colorbar": {
              "outlinewidth": 0,
              "ticks": ""
             }
            },
            "type": "scattergeo"
           }
          ],
          "scattergl": [
           {
            "marker": {
             "colorbar": {
              "outlinewidth": 0,
              "ticks": ""
             }
            },
            "type": "scattergl"
           }
          ],
          "scattermap": [
           {
            "marker": {
             "colorbar": {
              "outlinewidth": 0,
              "ticks": ""
             }
            },
            "type": "scattermap"
           }
          ],
          "scattermapbox": [
           {
            "marker": {
             "colorbar": {
              "outlinewidth": 0,
              "ticks": ""
             }
            },
            "type": "scattermapbox"
           }
          ],
          "scatterpolar": [
           {
            "marker": {
             "colorbar": {
              "outlinewidth": 0,
              "ticks": ""
             }
            },
            "type": "scatterpolar"
           }
          ],
          "scatterpolargl": [
           {
            "marker": {
             "colorbar": {
              "outlinewidth": 0,
              "ticks": ""
             }
            },
            "type": "scatterpolargl"
           }
          ],
          "scatterternary": [
           {
            "marker": {
             "colorbar": {
              "outlinewidth": 0,
              "ticks": ""
             }
            },
            "type": "scatterternary"
           }
          ],
          "surface": [
           {
            "colorbar": {
             "outlinewidth": 0,
             "ticks": ""
            },
            "colorscale": [
             [
              0,
              "#0d0887"
             ],
             [
              0.1111111111111111,
              "#46039f"
             ],
             [
              0.2222222222222222,
              "#7201a8"
             ],
             [
              0.3333333333333333,
              "#9c179e"
             ],
             [
              0.4444444444444444,
              "#bd3786"
             ],
             [
              0.5555555555555556,
              "#d8576b"
             ],
             [
              0.6666666666666666,
              "#ed7953"
             ],
             [
              0.7777777777777778,
              "#fb9f3a"
             ],
             [
              0.8888888888888888,
              "#fdca26"
             ],
             [
              1,
              "#f0f921"
             ]
            ],
            "type": "surface"
           }
          ],
          "table": [
           {
            "cells": {
             "fill": {
              "color": "#EBF0F8"
             },
             "line": {
              "color": "white"
             }
            },
            "header": {
             "fill": {
              "color": "#C8D4E3"
             },
             "line": {
              "color": "white"
             }
            },
            "type": "table"
           }
          ]
         },
         "layout": {
          "annotationdefaults": {
           "arrowcolor": "#2a3f5f",
           "arrowhead": 0,
           "arrowwidth": 1
          },
          "autotypenumbers": "strict",
          "coloraxis": {
           "colorbar": {
            "outlinewidth": 0,
            "ticks": ""
           }
          },
          "colorscale": {
           "diverging": [
            [
             0,
             "#8e0152"
            ],
            [
             0.1,
             "#c51b7d"
            ],
            [
             0.2,
             "#de77ae"
            ],
            [
             0.3,
             "#f1b6da"
            ],
            [
             0.4,
             "#fde0ef"
            ],
            [
             0.5,
             "#f7f7f7"
            ],
            [
             0.6,
             "#e6f5d0"
            ],
            [
             0.7,
             "#b8e186"
            ],
            [
             0.8,
             "#7fbc41"
            ],
            [
             0.9,
             "#4d9221"
            ],
            [
             1,
             "#276419"
            ]
           ],
           "sequential": [
            [
             0,
             "#0d0887"
            ],
            [
             0.1111111111111111,
             "#46039f"
            ],
            [
             0.2222222222222222,
             "#7201a8"
            ],
            [
             0.3333333333333333,
             "#9c179e"
            ],
            [
             0.4444444444444444,
             "#bd3786"
            ],
            [
             0.5555555555555556,
             "#d8576b"
            ],
            [
             0.6666666666666666,
             "#ed7953"
            ],
            [
             0.7777777777777778,
             "#fb9f3a"
            ],
            [
             0.8888888888888888,
             "#fdca26"
            ],
            [
             1,
             "#f0f921"
            ]
           ],
           "sequentialminus": [
            [
             0,
             "#0d0887"
            ],
            [
             0.1111111111111111,
             "#46039f"
            ],
            [
             0.2222222222222222,
             "#7201a8"
            ],
            [
             0.3333333333333333,
             "#9c179e"
            ],
            [
             0.4444444444444444,
             "#bd3786"
            ],
            [
             0.5555555555555556,
             "#d8576b"
            ],
            [
             0.6666666666666666,
             "#ed7953"
            ],
            [
             0.7777777777777778,
             "#fb9f3a"
            ],
            [
             0.8888888888888888,
             "#fdca26"
            ],
            [
             1,
             "#f0f921"
            ]
           ]
          },
          "colorway": [
           "#636efa",
           "#EF553B",
           "#00cc96",
           "#ab63fa",
           "#FFA15A",
           "#19d3f3",
           "#FF6692",
           "#B6E880",
           "#FF97FF",
           "#FECB52"
          ],
          "font": {
           "color": "#2a3f5f"
          },
          "geo": {
           "bgcolor": "white",
           "lakecolor": "white",
           "landcolor": "white",
           "showlakes": true,
           "showland": true,
           "subunitcolor": "#C8D4E3"
          },
          "hoverlabel": {
           "align": "left"
          },
          "hovermode": "closest",
          "mapbox": {
           "style": "light"
          },
          "paper_bgcolor": "white",
          "plot_bgcolor": "white",
          "polar": {
           "angularaxis": {
            "gridcolor": "#EBF0F8",
            "linecolor": "#EBF0F8",
            "ticks": ""
           },
           "bgcolor": "white",
           "radialaxis": {
            "gridcolor": "#EBF0F8",
            "linecolor": "#EBF0F8",
            "ticks": ""
           }
          },
          "scene": {
           "xaxis": {
            "backgroundcolor": "white",
            "gridcolor": "#DFE8F3",
            "gridwidth": 2,
            "linecolor": "#EBF0F8",
            "showbackground": true,
            "ticks": "",
            "zerolinecolor": "#EBF0F8"
           },
           "yaxis": {
            "backgroundcolor": "white",
            "gridcolor": "#DFE8F3",
            "gridwidth": 2,
            "linecolor": "#EBF0F8",
            "showbackground": true,
            "ticks": "",
            "zerolinecolor": "#EBF0F8"
           },
           "zaxis": {
            "backgroundcolor": "white",
            "gridcolor": "#DFE8F3",
            "gridwidth": 2,
            "linecolor": "#EBF0F8",
            "showbackground": true,
            "ticks": "",
            "zerolinecolor": "#EBF0F8"
           }
          },
          "shapedefaults": {
           "line": {
            "color": "#2a3f5f"
           }
          },
          "ternary": {
           "aaxis": {
            "gridcolor": "#DFE8F3",
            "linecolor": "#A2B1C6",
            "ticks": ""
           },
           "baxis": {
            "gridcolor": "#DFE8F3",
            "linecolor": "#A2B1C6",
            "ticks": ""
           },
           "bgcolor": "white",
           "caxis": {
            "gridcolor": "#DFE8F3",
            "linecolor": "#A2B1C6",
            "ticks": ""
           }
          },
          "title": {
           "x": 0.05
          },
          "xaxis": {
           "automargin": true,
           "gridcolor": "#EBF0F8",
           "linecolor": "#EBF0F8",
           "ticks": "",
           "title": {
            "standoff": 15
           },
           "zerolinecolor": "#EBF0F8",
           "zerolinewidth": 2
          },
          "yaxis": {
           "automargin": true,
           "gridcolor": "#EBF0F8",
           "linecolor": "#EBF0F8",
           "ticks": "",
           "title": {
            "standoff": 15
           },
           "zerolinecolor": "#EBF0F8",
           "zerolinewidth": 2
          }
         }
        },
        "title": {
         "text": "⏱️ Impact Époques vs Learning Rate sur Test Accuracy"
        },
        "xaxis": {
         "anchor": "y",
         "domain": [
          0,
          1
         ],
         "title": {
          "text": "epochs"
         }
        },
        "yaxis": {
         "anchor": "x",
         "domain": [
          0,
          1
         ],
         "title": {
          "text": "test_accuracy"
         }
        }
       }
      }
     },
     "metadata": {},
     "output_type": "display_data"
    },
    {
     "data": {
      "application/vnd.plotly.v1+json": {
       "config": {
        "plotlyServerURL": "https://plot.ly"
       },
       "data": [
        {
         "colorscale": [
          [
           0,
           "rgb(49,54,149)"
          ],
          [
           0.1,
           "rgb(69,117,180)"
          ],
          [
           0.2,
           "rgb(116,173,209)"
          ],
          [
           0.3,
           "rgb(171,217,233)"
          ],
          [
           0.4,
           "rgb(224,243,248)"
          ],
          [
           0.5,
           "rgb(255,255,191)"
          ],
          [
           0.6,
           "rgb(254,224,144)"
          ],
          [
           0.7,
           "rgb(253,174,97)"
          ],
          [
           0.8,
           "rgb(244,109,67)"
          ],
          [
           0.9,
           "rgb(215,48,39)"
          ],
          [
           1,
           "rgb(165,0,38)"
          ]
         ],
         "text": {
          "bdata": "jErqBDQR4j/ek4eFWtPkP6kT0ETY8OQ/9P3UeOkm5T8qqRPQRNjkP8zuycNCreU/HOviNhrA5T+SXP5D+u3lPw==",
          "dtype": "f8",
          "shape": "2, 4"
         },
         "textfont": {
          "size": 12
         },
         "texttemplate": "%{text}",
         "type": "heatmap",
         "x": {
          "bdata": "/Knx0k1iUD97FK5H4XqEP5qZmZmZmak/mpmZmZmZuT8=",
          "dtype": "f8"
         },
         "y": {
          "bdata": "6AOIEw==",
          "dtype": "i2"
         },
         "z": {
          "bdata": "ERERERER4j/UBjptoNPkP0YCvnk18eQ/0UjAN68m5T+DLdiCLdjkPwO+eTXxrOU/a+JZ0UjA5T/u7e3t7e3lPw==",
          "dtype": "f8",
          "shape": "2, 4"
         }
        }
       ],
       "layout": {
        "height": 500,
        "template": {
         "data": {
          "bar": [
           {
            "error_x": {
             "color": "#2a3f5f"
            },
            "error_y": {
             "color": "#2a3f5f"
            },
            "marker": {
             "line": {
              "color": "white",
              "width": 0.5
             },
             "pattern": {
              "fillmode": "overlay",
              "size": 10,
              "solidity": 0.2
             }
            },
            "type": "bar"
           }
          ],
          "barpolar": [
           {
            "marker": {
             "line": {
              "color": "white",
              "width": 0.5
             },
             "pattern": {
              "fillmode": "overlay",
              "size": 10,
              "solidity": 0.2
             }
            },
            "type": "barpolar"
           }
          ],
          "carpet": [
           {
            "aaxis": {
             "endlinecolor": "#2a3f5f",
             "gridcolor": "#C8D4E3",
             "linecolor": "#C8D4E3",
             "minorgridcolor": "#C8D4E3",
             "startlinecolor": "#2a3f5f"
            },
            "baxis": {
             "endlinecolor": "#2a3f5f",
             "gridcolor": "#C8D4E3",
             "linecolor": "#C8D4E3",
             "minorgridcolor": "#C8D4E3",
             "startlinecolor": "#2a3f5f"
            },
            "type": "carpet"
           }
          ],
          "choropleth": [
           {
            "colorbar": {
             "outlinewidth": 0,
             "ticks": ""
            },
            "type": "choropleth"
           }
          ],
          "contour": [
           {
            "colorbar": {
             "outlinewidth": 0,
             "ticks": ""
            },
            "colorscale": [
             [
              0,
              "#0d0887"
             ],
             [
              0.1111111111111111,
              "#46039f"
             ],
             [
              0.2222222222222222,
              "#7201a8"
             ],
             [
              0.3333333333333333,
              "#9c179e"
             ],
             [
              0.4444444444444444,
              "#bd3786"
             ],
             [
              0.5555555555555556,
              "#d8576b"
             ],
             [
              0.6666666666666666,
              "#ed7953"
             ],
             [
              0.7777777777777778,
              "#fb9f3a"
             ],
             [
              0.8888888888888888,
              "#fdca26"
             ],
             [
              1,
              "#f0f921"
             ]
            ],
            "type": "contour"
           }
          ],
          "contourcarpet": [
           {
            "colorbar": {
             "outlinewidth": 0,
             "ticks": ""
            },
            "type": "contourcarpet"
           }
          ],
          "heatmap": [
           {
            "colorbar": {
             "outlinewidth": 0,
             "ticks": ""
            },
            "colorscale": [
             [
              0,
              "#0d0887"
             ],
             [
              0.1111111111111111,
              "#46039f"
             ],
             [
              0.2222222222222222,
              "#7201a8"
             ],
             [
              0.3333333333333333,
              "#9c179e"
             ],
             [
              0.4444444444444444,
              "#bd3786"
             ],
             [
              0.5555555555555556,
              "#d8576b"
             ],
             [
              0.6666666666666666,
              "#ed7953"
             ],
             [
              0.7777777777777778,
              "#fb9f3a"
             ],
             [
              0.8888888888888888,
              "#fdca26"
             ],
             [
              1,
              "#f0f921"
             ]
            ],
            "type": "heatmap"
           }
          ],
          "histogram": [
           {
            "marker": {
             "pattern": {
              "fillmode": "overlay",
              "size": 10,
              "solidity": 0.2
             }
            },
            "type": "histogram"
           }
          ],
          "histogram2d": [
           {
            "colorbar": {
             "outlinewidth": 0,
             "ticks": ""
            },
            "colorscale": [
             [
              0,
              "#0d0887"
             ],
             [
              0.1111111111111111,
              "#46039f"
             ],
             [
              0.2222222222222222,
              "#7201a8"
             ],
             [
              0.3333333333333333,
              "#9c179e"
             ],
             [
              0.4444444444444444,
              "#bd3786"
             ],
             [
              0.5555555555555556,
              "#d8576b"
             ],
             [
              0.6666666666666666,
              "#ed7953"
             ],
             [
              0.7777777777777778,
              "#fb9f3a"
             ],
             [
              0.8888888888888888,
              "#fdca26"
             ],
             [
              1,
              "#f0f921"
             ]
            ],
            "type": "histogram2d"
           }
          ],
          "histogram2dcontour": [
           {
            "colorbar": {
             "outlinewidth": 0,
             "ticks": ""
            },
            "colorscale": [
             [
              0,
              "#0d0887"
             ],
             [
              0.1111111111111111,
              "#46039f"
             ],
             [
              0.2222222222222222,
              "#7201a8"
             ],
             [
              0.3333333333333333,
              "#9c179e"
             ],
             [
              0.4444444444444444,
              "#bd3786"
             ],
             [
              0.5555555555555556,
              "#d8576b"
             ],
             [
              0.6666666666666666,
              "#ed7953"
             ],
             [
              0.7777777777777778,
              "#fb9f3a"
             ],
             [
              0.8888888888888888,
              "#fdca26"
             ],
             [
              1,
              "#f0f921"
             ]
            ],
            "type": "histogram2dcontour"
           }
          ],
          "mesh3d": [
           {
            "colorbar": {
             "outlinewidth": 0,
             "ticks": ""
            },
            "type": "mesh3d"
           }
          ],
          "parcoords": [
           {
            "line": {
             "colorbar": {
              "outlinewidth": 0,
              "ticks": ""
             }
            },
            "type": "parcoords"
           }
          ],
          "pie": [
           {
            "automargin": true,
            "type": "pie"
           }
          ],
          "scatter": [
           {
            "fillpattern": {
             "fillmode": "overlay",
             "size": 10,
             "solidity": 0.2
            },
            "type": "scatter"
           }
          ],
          "scatter3d": [
           {
            "line": {
             "colorbar": {
              "outlinewidth": 0,
              "ticks": ""
             }
            },
            "marker": {
             "colorbar": {
              "outlinewidth": 0,
              "ticks": ""
             }
            },
            "type": "scatter3d"
           }
          ],
          "scattercarpet": [
           {
            "marker": {
             "colorbar": {
              "outlinewidth": 0,
              "ticks": ""
             }
            },
            "type": "scattercarpet"
           }
          ],
          "scattergeo": [
           {
            "marker": {
             "colorbar": {
              "outlinewidth": 0,
              "ticks": ""
             }
            },
            "type": "scattergeo"
           }
          ],
          "scattergl": [
           {
            "marker": {
             "colorbar": {
              "outlinewidth": 0,
              "ticks": ""
             }
            },
            "type": "scattergl"
           }
          ],
          "scattermap": [
           {
            "marker": {
             "colorbar": {
              "outlinewidth": 0,
              "ticks": ""
             }
            },
            "type": "scattermap"
           }
          ],
          "scattermapbox": [
           {
            "marker": {
             "colorbar": {
              "outlinewidth": 0,
              "ticks": ""
             }
            },
            "type": "scattermapbox"
           }
          ],
          "scatterpolar": [
           {
            "marker": {
             "colorbar": {
              "outlinewidth": 0,
              "ticks": ""
             }
            },
            "type": "scatterpolar"
           }
          ],
          "scatterpolargl": [
           {
            "marker": {
             "colorbar": {
              "outlinewidth": 0,
              "ticks": ""
             }
            },
            "type": "scatterpolargl"
           }
          ],
          "scatterternary": [
           {
            "marker": {
             "colorbar": {
              "outlinewidth": 0,
              "ticks": ""
             }
            },
            "type": "scatterternary"
           }
          ],
          "surface": [
           {
            "colorbar": {
             "outlinewidth": 0,
             "ticks": ""
            },
            "colorscale": [
             [
              0,
              "#0d0887"
             ],
             [
              0.1111111111111111,
              "#46039f"
             ],
             [
              0.2222222222222222,
              "#7201a8"
             ],
             [
              0.3333333333333333,
              "#9c179e"
             ],
             [
              0.4444444444444444,
              "#bd3786"
             ],
             [
              0.5555555555555556,
              "#d8576b"
             ],
             [
              0.6666666666666666,
              "#ed7953"
             ],
             [
              0.7777777777777778,
              "#fb9f3a"
             ],
             [
              0.8888888888888888,
              "#fdca26"
             ],
             [
              1,
              "#f0f921"
             ]
            ],
            "type": "surface"
           }
          ],
          "table": [
           {
            "cells": {
             "fill": {
              "color": "#EBF0F8"
             },
             "line": {
              "color": "white"
             }
            },
            "header": {
             "fill": {
              "color": "#C8D4E3"
             },
             "line": {
              "color": "white"
             }
            },
            "type": "table"
           }
          ]
         },
         "layout": {
          "annotationdefaults": {
           "arrowcolor": "#2a3f5f",
           "arrowhead": 0,
           "arrowwidth": 1
          },
          "autotypenumbers": "strict",
          "coloraxis": {
           "colorbar": {
            "outlinewidth": 0,
            "ticks": ""
           }
          },
          "colorscale": {
           "diverging": [
            [
             0,
             "#8e0152"
            ],
            [
             0.1,
             "#c51b7d"
            ],
            [
             0.2,
             "#de77ae"
            ],
            [
             0.3,
             "#f1b6da"
            ],
            [
             0.4,
             "#fde0ef"
            ],
            [
             0.5,
             "#f7f7f7"
            ],
            [
             0.6,
             "#e6f5d0"
            ],
            [
             0.7,
             "#b8e186"
            ],
            [
             0.8,
             "#7fbc41"
            ],
            [
             0.9,
             "#4d9221"
            ],
            [
             1,
             "#276419"
            ]
           ],
           "sequential": [
            [
             0,
             "#0d0887"
            ],
            [
             0.1111111111111111,
             "#46039f"
            ],
            [
             0.2222222222222222,
             "#7201a8"
            ],
            [
             0.3333333333333333,
             "#9c179e"
            ],
            [
             0.4444444444444444,
             "#bd3786"
            ],
            [
             0.5555555555555556,
             "#d8576b"
            ],
            [
             0.6666666666666666,
             "#ed7953"
            ],
            [
             0.7777777777777778,
             "#fb9f3a"
            ],
            [
             0.8888888888888888,
             "#fdca26"
            ],
            [
             1,
             "#f0f921"
            ]
           ],
           "sequentialminus": [
            [
             0,
             "#0d0887"
            ],
            [
             0.1111111111111111,
             "#46039f"
            ],
            [
             0.2222222222222222,
             "#7201a8"
            ],
            [
             0.3333333333333333,
             "#9c179e"
            ],
            [
             0.4444444444444444,
             "#bd3786"
            ],
            [
             0.5555555555555556,
             "#d8576b"
            ],
            [
             0.6666666666666666,
             "#ed7953"
            ],
            [
             0.7777777777777778,
             "#fb9f3a"
            ],
            [
             0.8888888888888888,
             "#fdca26"
            ],
            [
             1,
             "#f0f921"
            ]
           ]
          },
          "colorway": [
           "#636efa",
           "#EF553B",
           "#00cc96",
           "#ab63fa",
           "#FFA15A",
           "#19d3f3",
           "#FF6692",
           "#B6E880",
           "#FF97FF",
           "#FECB52"
          ],
          "font": {
           "color": "#2a3f5f"
          },
          "geo": {
           "bgcolor": "white",
           "lakecolor": "white",
           "landcolor": "white",
           "showlakes": true,
           "showland": true,
           "subunitcolor": "#C8D4E3"
          },
          "hoverlabel": {
           "align": "left"
          },
          "hovermode": "closest",
          "mapbox": {
           "style": "light"
          },
          "paper_bgcolor": "white",
          "plot_bgcolor": "white",
          "polar": {
           "angularaxis": {
            "gridcolor": "#EBF0F8",
            "linecolor": "#EBF0F8",
            "ticks": ""
           },
           "bgcolor": "white",
           "radialaxis": {
            "gridcolor": "#EBF0F8",
            "linecolor": "#EBF0F8",
            "ticks": ""
           }
          },
          "scene": {
           "xaxis": {
            "backgroundcolor": "white",
            "gridcolor": "#DFE8F3",
            "gridwidth": 2,
            "linecolor": "#EBF0F8",
            "showbackground": true,
            "ticks": "",
            "zerolinecolor": "#EBF0F8"
           },
           "yaxis": {
            "backgroundcolor": "white",
            "gridcolor": "#DFE8F3",
            "gridwidth": 2,
            "linecolor": "#EBF0F8",
            "showbackground": true,
            "ticks": "",
            "zerolinecolor": "#EBF0F8"
           },
           "zaxis": {
            "backgroundcolor": "white",
            "gridcolor": "#DFE8F3",
            "gridwidth": 2,
            "linecolor": "#EBF0F8",
            "showbackground": true,
            "ticks": "",
            "zerolinecolor": "#EBF0F8"
           }
          },
          "shapedefaults": {
           "line": {
            "color": "#2a3f5f"
           }
          },
          "ternary": {
           "aaxis": {
            "gridcolor": "#DFE8F3",
            "linecolor": "#A2B1C6",
            "ticks": ""
           },
           "baxis": {
            "gridcolor": "#DFE8F3",
            "linecolor": "#A2B1C6",
            "ticks": ""
           },
           "bgcolor": "white",
           "caxis": {
            "gridcolor": "#DFE8F3",
            "linecolor": "#A2B1C6",
            "ticks": ""
           }
          },
          "title": {
           "x": 0.05
          },
          "xaxis": {
           "automargin": true,
           "gridcolor": "#EBF0F8",
           "linecolor": "#EBF0F8",
           "ticks": "",
           "title": {
            "standoff": 15
           },
           "zerolinecolor": "#EBF0F8",
           "zerolinewidth": 2
          },
          "yaxis": {
           "automargin": true,
           "gridcolor": "#EBF0F8",
           "linecolor": "#EBF0F8",
           "ticks": "",
           "title": {
            "standoff": 15
           },
           "zerolinecolor": "#EBF0F8",
           "zerolinewidth": 2
          }
         }
        },
        "title": {
         "text": "🔥 Heatmap: Test Accuracy par Époques et Learning Rate"
        },
        "xaxis": {
         "title": {
          "text": "Learning Rate"
         }
        },
        "yaxis": {
         "title": {
          "text": "Époques"
         }
        }
       }
      }
     },
     "metadata": {},
     "output_type": "display_data"
    },
    {
     "data": {
      "application/vnd.plotly.v1+json": {
       "config": {
        "plotlyServerURL": "https://plot.ly"
       },
       "data": [
        {
         "line": {
          "color": "orange"
         },
         "name": "Train Accuracy",
         "type": "scatter",
         "x": [
          "2025-07-22T11:22:56.499974",
          "2025-07-22T11:22:58.970819",
          "2025-07-22T11:23:01.400210",
          "2025-07-22T11:23:03.797447",
          "2025-07-22T11:23:13.458299",
          "2025-07-22T11:23:23.150889",
          "2025-07-22T11:23:32.789551",
          "2025-07-22T11:23:42.319186",
          "2025-07-22T11:23:44.921674",
          "2025-07-22T11:23:47.579211",
          "2025-07-22T11:23:50.195105",
          "2025-07-22T11:23:52.785981",
          "2025-07-22T11:24:03.754021",
          "2025-07-22T11:24:14.960041",
          "2025-07-22T11:24:25.729278",
          "2025-07-22T11:24:36.664707",
          "2025-07-22T11:24:38.902715",
          "2025-07-22T11:24:41.236637",
          "2025-07-22T11:24:43.545165",
          "2025-07-22T11:24:45.760706",
          "2025-07-22T11:24:55.092761",
          "2025-07-22T11:25:04.595175",
          "2025-07-22T11:25:13.963434",
          "2025-07-22T11:25:23.117890",
          "2025-07-22T11:25:25.824022",
          "2025-07-22T11:25:28.296886",
          "2025-07-22T11:25:31.072412",
          "2025-07-22T11:25:33.716663",
          "2025-07-22T11:25:44.402883",
          "2025-07-22T11:25:55.155420",
          "2025-07-22T11:26:05.826307",
          "2025-07-22T11:26:16.747499",
          "2025-07-22T11:26:18.916548",
          "2025-07-22T11:26:21.284274",
          "2025-07-22T11:26:23.523242",
          "2025-07-22T11:26:25.937439",
          "2025-07-22T11:26:35.067900",
          "2025-07-22T11:26:44.312454",
          "2025-07-22T11:26:53.669522",
          "2025-07-22T11:27:05.221323",
          "2025-07-22T11:27:09.673783",
          "2025-07-22T11:27:13.642533",
          "2025-07-22T11:27:17.824543",
          "2025-07-22T11:27:21.237552",
          "2025-07-22T11:27:39.589394",
          "2025-07-22T11:27:55.768038",
          "2025-07-22T11:28:11.005778",
          "2025-07-22T11:28:25.118578",
          "2025-07-22T11:28:35.858530",
          "2025-07-22T11:28:45.841575",
          "2025-07-22T11:28:57.060949",
          "2025-07-22T11:29:06.123837",
          "2025-07-22T11:29:33.085849",
          "2025-07-22T11:30:01.372551",
          "2025-07-22T11:30:30.737848",
          "2025-07-22T11:30:55.428383",
          "2025-07-22T11:31:05.818819",
          "2025-07-22T11:31:17.291451",
          "2025-07-22T11:31:29.146149",
          "2025-07-22T11:31:40.292400",
          "2025-07-22T11:32:14.074633",
          "2025-07-22T11:32:37.808094",
          "2025-07-22T11:33:01.240682",
          "2025-07-22T11:33:25.022509",
          "2025-07-22T11:33:31.738744",
          "2025-07-22T11:33:38.541823",
          "2025-07-22T11:33:45.315235",
          "2025-07-22T11:33:52.234062",
          "2025-07-22T11:34:10.296460",
          "2025-07-22T11:34:28.112763",
          "2025-07-22T11:34:46.185200",
          "2025-07-22T11:35:39.405488",
          "2025-07-22T11:35:49.097511",
          "2025-07-22T11:35:56.918213",
          "2025-07-22T11:36:04.714327",
          "2025-07-22T11:36:12.674923",
          "2025-07-22T11:36:35.577019",
          "2025-07-22T11:37:00.828837",
          "2025-07-22T11:37:25.176183",
          "2025-07-22T11:37:47.930657",
          "2025-07-22T11:37:54.613290",
          "2025-07-22T11:38:01.471086",
          "2025-07-22T11:38:08.226943",
          "2025-07-22T11:38:14.859944",
          "2025-07-22T11:38:34.516249",
          "2025-07-22T11:38:52.489260",
          "2025-07-22T11:39:10.429597",
          "2025-07-22T11:39:29.161542",
          "2025-07-22T11:39:37.079867",
          "2025-07-22T11:39:44.621474",
          "2025-07-22T11:39:52.171250",
          "2025-07-22T11:39:59.894718",
          "2025-07-22T11:40:33.628609",
          "2025-07-22T11:40:56.547770",
          "2025-07-22T11:41:19.453493",
          "2025-07-22T11:41:43.851814",
          "2025-07-22T11:42:49.989667",
          "2025-07-22T11:44:31.433531",
          "2025-07-22T11:47:38.910647",
          "2025-07-22T11:50:13.323808",
          "2025-07-22T11:51:54.048759",
          "2025-07-22T11:53:35.096261",
          "2025-07-22T11:55:14.487997",
          "2025-07-22T11:58:12.795934",
          "2025-07-22T12:01:27.945791",
          "2025-07-22T12:03:44.202707",
          "2025-07-22T12:05:24.846525",
          "2025-07-22T12:06:42.523251",
          "2025-07-22T12:09:33.656558",
          "2025-07-22T12:11:48.212280",
          "2025-07-22T12:14:21.791866",
          "2025-07-22T12:16:40.433910",
          "2025-07-22T12:18:01.838700",
          "2025-07-22T12:19:20.559806",
          "2025-07-22T12:20:28.193773",
          "2025-07-22T12:21:34.391449",
          "2025-07-22T12:23:15.490130",
          "2025-07-22T12:24:58.380171",
          "2025-07-22T12:26:45.855893",
          "2025-07-22T12:28:23.725920",
          "2025-07-22T12:29:55.300871",
          "2025-07-22T12:31:57.193909",
          "2025-07-22T12:33:07.431910",
          "2025-07-22T12:35:25.374152",
          "2025-07-22T12:37:30.241444",
          "2025-07-22T12:39:43.629476",
          "2025-07-22T12:42:00.380519",
          "2025-07-22T12:44:04.680174",
          "2025-07-22T12:45:09.514461",
          "2025-07-22T12:46:15.625638",
          "2025-07-22T12:47:22.701210",
          "2025-07-22T12:48:27.297542",
          "2025-07-22T12:50:02.743867",
          "2025-07-22T12:51:42.306102",
          "2025-07-22T12:53:19.521174",
          "2025-07-22T12:55:20.352437",
          "2025-07-22T12:56:30.241968",
          "2025-07-22T12:57:39.357809",
          "2025-07-22T12:58:49.054815",
          "2025-07-22T13:00:11.810557",
          "2025-07-22T13:02:15.122848",
          "2025-07-22T13:04:24.975046",
          "2025-07-22T13:06:52.337511"
         ],
         "xaxis": "x",
         "y": {
          "bdata": "yJi7lpAP5D8kufyH9NvnP2fV52or9uc/nzws1Jrm5z9NFYxK6gToP9xGA3gLJOg/j8L1KFyP6D8ukKD4MeboPy7/If32deA/OGdEaW/w5z8UrkfhehToP7mNBvAWSOg/TRWMSuoE6D8UrkfhehToP0Otad5xiug/j1N0JJf/6D+ASL99HTjjP5T2Bl+YTOc/+1xtxf6y5z9NhA1Pr5TnPxB6Nqs+V+c/OdbFbTSA5z/7XG3F/rLnP+xRuB6F6+c/Q61p3nGK4j9wzojS3uDnP0dy+Q/pt+c/R3L5D+m35z/NzMzMzMzmP0dy+Q/pt+c/Z9Xnaiv25z89m1Wfq63oP+zAOSNKe98/ih9j7lpC4D+KH2PuWkLgP4XrUbgehd8/HhZqTfOO3z988rBQa5rfP4XrUbgehd8/hetRuB6F3z/swDkjSnvfP4ofY+5aQuA/ih9j7lpC4D+KH2PuWkLgPx4Wak3zjt8/ih9j7lpC4D+KH2PuWkLgP4ofY+5aQuA/8fRKWYY44D/7XG3F/rLnP02EDU+vlOc/w2SqYFRS5z9NhA1Pr5TnP2ZmZmZmZug/GlHaG3xh6D8UrkfhehToP5T2Bl+YTOc/5q4l5IOe5z8u/yH99nXoP+LplbIMceg/qaROQBNh5z8u/yH99nXoP2b35GGh1ug/qRPQRNjw6D+ze/KwUGvgPxB6Nqs+V+c/JCh+jLlr5z8+eVioNc3nPy6QoPgx5uI/FR3J5T+k5z9m9+RhodboP1yPwvUoXOk/Lv8h/fZ14D+KH2PuWkLoP9IA3gIJiuc/cM6I0t7g5z+amZmZmZnjP9IA3gIJiuc/9ihcj8L16D/7y+7Jw0LpP4ofY+5aQuA/8fRKWYY44D/ChqdXyjLgP65H4XoUrt8/8fRKWYY44D/Xo3A9CtffP/H0SlmGOOA/8fRKWYY44D/x9EpZhjjgP8KGp1fKMuA/woanV8oy4D/ChqdXyjLgP8KGp1fKMuA/woanV8oy4D/ChqdXyjLgP/H0SlmGOOA/hetRuB6F3z9X7C+7Jw/lPx4Wak3zjuE/j1N0JJf/4D+ZKhiV1AnoP8KGp1fKMug/9ihcj8L15D9m9+RhodbkP4XrUbgehd8/3EYDeAsk6D+At0CC4sfoP2uad5yiI+c/yJi7lpAP6D+At0CC4sfoP2b35GGh1ug/TYQNT6+U5z9m9+RhodbmP+zAOSNKe+c/+1xtxf6y5z+z6nO1FfvnP6MBvAUSFOc/s+pztRX75z/SAN4CCYrpPyS5/If02+k/GeJYF7fR5j8VHcnlP6TnP5kqGJXUCeg/PZtVn6ut6D+ASL99HTjnP5kqGJXUCeg/cT0K16Nw6T/sUbgehevpPxUdyeU/pN8/FR3J5T+k3z8Fo5I6AU3gPz0K16NwPeA/KVyPwvUo4D/HKTqSy3/gP9zXgXNGlOA/gEi/fR044T+lTkATYcPfP0dy+Q/pt98/PQrXo3A94D9mZmZmZmbgP5Axdy0hH+A/PQrXo3A94D+kcD0K16PgPw==",
          "dtype": "f8"
         },
         "yaxis": "y"
        },
        {
         "line": {
          "color": "blue"
         },
         "name": "Test Accuracy",
         "type": "scatter",
         "x": [
          "2025-07-22T11:22:56.499974",
          "2025-07-22T11:22:58.970819",
          "2025-07-22T11:23:01.400210",
          "2025-07-22T11:23:03.797447",
          "2025-07-22T11:23:13.458299",
          "2025-07-22T11:23:23.150889",
          "2025-07-22T11:23:32.789551",
          "2025-07-22T11:23:42.319186",
          "2025-07-22T11:23:44.921674",
          "2025-07-22T11:23:47.579211",
          "2025-07-22T11:23:50.195105",
          "2025-07-22T11:23:52.785981",
          "2025-07-22T11:24:03.754021",
          "2025-07-22T11:24:14.960041",
          "2025-07-22T11:24:25.729278",
          "2025-07-22T11:24:36.664707",
          "2025-07-22T11:24:38.902715",
          "2025-07-22T11:24:41.236637",
          "2025-07-22T11:24:43.545165",
          "2025-07-22T11:24:45.760706",
          "2025-07-22T11:24:55.092761",
          "2025-07-22T11:25:04.595175",
          "2025-07-22T11:25:13.963434",
          "2025-07-22T11:25:23.117890",
          "2025-07-22T11:25:25.824022",
          "2025-07-22T11:25:28.296886",
          "2025-07-22T11:25:31.072412",
          "2025-07-22T11:25:33.716663",
          "2025-07-22T11:25:44.402883",
          "2025-07-22T11:25:55.155420",
          "2025-07-22T11:26:05.826307",
          "2025-07-22T11:26:16.747499",
          "2025-07-22T11:26:18.916548",
          "2025-07-22T11:26:21.284274",
          "2025-07-22T11:26:23.523242",
          "2025-07-22T11:26:25.937439",
          "2025-07-22T11:26:35.067900",
          "2025-07-22T11:26:44.312454",
          "2025-07-22T11:26:53.669522",
          "2025-07-22T11:27:05.221323",
          "2025-07-22T11:27:09.673783",
          "2025-07-22T11:27:13.642533",
          "2025-07-22T11:27:17.824543",
          "2025-07-22T11:27:21.237552",
          "2025-07-22T11:27:39.589394",
          "2025-07-22T11:27:55.768038",
          "2025-07-22T11:28:11.005778",
          "2025-07-22T11:28:25.118578",
          "2025-07-22T11:28:35.858530",
          "2025-07-22T11:28:45.841575",
          "2025-07-22T11:28:57.060949",
          "2025-07-22T11:29:06.123837",
          "2025-07-22T11:29:33.085849",
          "2025-07-22T11:30:01.372551",
          "2025-07-22T11:30:30.737848",
          "2025-07-22T11:30:55.428383",
          "2025-07-22T11:31:05.818819",
          "2025-07-22T11:31:17.291451",
          "2025-07-22T11:31:29.146149",
          "2025-07-22T11:31:40.292400",
          "2025-07-22T11:32:14.074633",
          "2025-07-22T11:32:37.808094",
          "2025-07-22T11:33:01.240682",
          "2025-07-22T11:33:25.022509",
          "2025-07-22T11:33:31.738744",
          "2025-07-22T11:33:38.541823",
          "2025-07-22T11:33:45.315235",
          "2025-07-22T11:33:52.234062",
          "2025-07-22T11:34:10.296460",
          "2025-07-22T11:34:28.112763",
          "2025-07-22T11:34:46.185200",
          "2025-07-22T11:35:39.405488",
          "2025-07-22T11:35:49.097511",
          "2025-07-22T11:35:56.918213",
          "2025-07-22T11:36:04.714327",
          "2025-07-22T11:36:12.674923",
          "2025-07-22T11:36:35.577019",
          "2025-07-22T11:37:00.828837",
          "2025-07-22T11:37:25.176183",
          "2025-07-22T11:37:47.930657",
          "2025-07-22T11:37:54.613290",
          "2025-07-22T11:38:01.471086",
          "2025-07-22T11:38:08.226943",
          "2025-07-22T11:38:14.859944",
          "2025-07-22T11:38:34.516249",
          "2025-07-22T11:38:52.489260",
          "2025-07-22T11:39:10.429597",
          "2025-07-22T11:39:29.161542",
          "2025-07-22T11:39:37.079867",
          "2025-07-22T11:39:44.621474",
          "2025-07-22T11:39:52.171250",
          "2025-07-22T11:39:59.894718",
          "2025-07-22T11:40:33.628609",
          "2025-07-22T11:40:56.547770",
          "2025-07-22T11:41:19.453493",
          "2025-07-22T11:41:43.851814",
          "2025-07-22T11:42:49.989667",
          "2025-07-22T11:44:31.433531",
          "2025-07-22T11:47:38.910647",
          "2025-07-22T11:50:13.323808",
          "2025-07-22T11:51:54.048759",
          "2025-07-22T11:53:35.096261",
          "2025-07-22T11:55:14.487997",
          "2025-07-22T11:58:12.795934",
          "2025-07-22T12:01:27.945791",
          "2025-07-22T12:03:44.202707",
          "2025-07-22T12:05:24.846525",
          "2025-07-22T12:06:42.523251",
          "2025-07-22T12:09:33.656558",
          "2025-07-22T12:11:48.212280",
          "2025-07-22T12:14:21.791866",
          "2025-07-22T12:16:40.433910",
          "2025-07-22T12:18:01.838700",
          "2025-07-22T12:19:20.559806",
          "2025-07-22T12:20:28.193773",
          "2025-07-22T12:21:34.391449",
          "2025-07-22T12:23:15.490130",
          "2025-07-22T12:24:58.380171",
          "2025-07-22T12:26:45.855893",
          "2025-07-22T12:28:23.725920",
          "2025-07-22T12:29:55.300871",
          "2025-07-22T12:31:57.193909",
          "2025-07-22T12:33:07.431910",
          "2025-07-22T12:35:25.374152",
          "2025-07-22T12:37:30.241444",
          "2025-07-22T12:39:43.629476",
          "2025-07-22T12:42:00.380519",
          "2025-07-22T12:44:04.680174",
          "2025-07-22T12:45:09.514461",
          "2025-07-22T12:46:15.625638",
          "2025-07-22T12:47:22.701210",
          "2025-07-22T12:48:27.297542",
          "2025-07-22T12:50:02.743867",
          "2025-07-22T12:51:42.306102",
          "2025-07-22T12:53:19.521174",
          "2025-07-22T12:55:20.352437",
          "2025-07-22T12:56:30.241968",
          "2025-07-22T12:57:39.357809",
          "2025-07-22T12:58:49.054815",
          "2025-07-22T13:00:11.810557",
          "2025-07-22T13:02:15.122848",
          "2025-07-22T13:04:24.975046",
          "2025-07-22T13:06:52.337511"
         ],
         "xaxis": "x",
         "y": {
          "bdata": "H4XrUbge5T+PwvUoXI/oP83MzMzMzOg/ZmZmZmZm6D+kcD0K16PoP83MzMzMzOg/CtejcD0K6T/2KFyPwvXoP65H4XoUruE/pHA9Ctej6D/NzMzMzMzoP6RwPQrXo+g/exSuR+F66D/NzMzMzMzoP6RwPQrXo+g/exSuR+F66D89CtejcD3kPwAAAAAAAOY/UrgehetR6D8pXI/C9SjoP5qZmZmZmec/FK5H4XoU6D8pXI/C9SjoP4/C9Shcj+g/16NwPQrX4z+kcD0K16PoPylcj8L1KOg/PQrXo3A96D/hehSuR+HmPylcj8L1KOg/uB6F61G46D/2KFyPwvXoPwrXo3A9CuE/7FG4HoXr3T/sUbgehevdPwrXo3A9CuE/H4XrUbge4T8fhetRuB7hPwrXo3A9CuE/CtejcD0K4T8K16NwPQrhP+xRuB6F690/7FG4HoXr3T/sUbgehevdPwrXo3A9CuE/7FG4HoXr3T/sUbgehevdP+xRuB6F690/j8L1KFyP3j8AAAAAAADoP+xRuB6F6+c/rkfhehSu5z9SuB6F61HoP6RwPQrXo+g/uB6F61G46D+PwvUoXI/oPz0K16NwPeY/ZmZmZmZm6D+4HoXrUbjoPwrXo3A9Cuk/PQrXo3A96D+4HoXrUbjoPzMzMzMzM+k/CtejcD0K6T9mZmZmZmbeP3sUrkfheuY/7FG4HoXr5z8UrkfhehToP8P1KFyPwuE/FK5H4XoU6D8fhetRuB7pP/YoXI/C9eg/PQrXo3A93j89CtejcD3oP1K4HoXrUeg/4XoUrkfh6D8pXI/C9SjiP1K4HoXrUeg/CtejcD0K6T8K16NwPQrpP+xRuB6F690/7FG4HoXr3T/sUbgehevdPx+F61G4HuE/7FG4HoXr3T9I4XoUrkfhP3E9CtejcOE/7FG4HoXr3T/sUbgehevdP+xRuB6F690/7FG4HoXr3T/sUbgehevdP+xRuB6F690/7FG4HoXr3T/sUbgehevdP+xRuB6F690/CtejcD0K4T+F61G4HoXlP4/C9Shcj+A/FK5H4XoU4D97FK5H4XroP2ZmZmZmZug/MzMzMzMz5T/2KFyPwvXkPwrXo3A9CuE/j8L1KFyP6D/NzMzMzMzoP+xRuB6F6+c/exSuR+F66D/NzMzMzMzoP+F6FK5H4eg/FK5H4XoU6D9I4XoUrkfnPxSuR+F6FOg/PQrXo3A96D9mZmZmZmboP8P1KFyPwuc/exSuR+F66D9I4XoUrkfpPzMzMzMzM+k/CtejcD0K5z8pXI/C9SjoP2ZmZmZmZug/CtejcD0K6T/D9Shcj8LnP2ZmZmZmZug/9ihcj8L16D/hehSuR+HoPwrXo3A9CuE/w/UoXI/C3T9I4XoUrkfhPzMzMzMzM+E/SOF6FK5H4T9I4XoUrkfhP0jhehSuR+E/MzMzMzMz4T8K16NwPQrhP8P1KFyPwt0/w/UoXI/C3T/D9Shcj8LdP0jhehSuR+E/w/UoXI/C3T/D9Shcj8LdPw==",
          "dtype": "f8"
         },
         "yaxis": "y"
        },
        {
         "fill": "tonexty",
         "line": {
          "color": "red"
         },
         "name": "Écart Train-Test",
         "type": "scatter",
         "x": [
          "2025-07-22T11:22:56.499974",
          "2025-07-22T11:22:58.970819",
          "2025-07-22T11:23:01.400210",
          "2025-07-22T11:23:03.797447",
          "2025-07-22T11:23:13.458299",
          "2025-07-22T11:23:23.150889",
          "2025-07-22T11:23:32.789551",
          "2025-07-22T11:23:42.319186",
          "2025-07-22T11:23:44.921674",
          "2025-07-22T11:23:47.579211",
          "2025-07-22T11:23:50.195105",
          "2025-07-22T11:23:52.785981",
          "2025-07-22T11:24:03.754021",
          "2025-07-22T11:24:14.960041",
          "2025-07-22T11:24:25.729278",
          "2025-07-22T11:24:36.664707",
          "2025-07-22T11:24:38.902715",
          "2025-07-22T11:24:41.236637",
          "2025-07-22T11:24:43.545165",
          "2025-07-22T11:24:45.760706",
          "2025-07-22T11:24:55.092761",
          "2025-07-22T11:25:04.595175",
          "2025-07-22T11:25:13.963434",
          "2025-07-22T11:25:23.117890",
          "2025-07-22T11:25:25.824022",
          "2025-07-22T11:25:28.296886",
          "2025-07-22T11:25:31.072412",
          "2025-07-22T11:25:33.716663",
          "2025-07-22T11:25:44.402883",
          "2025-07-22T11:25:55.155420",
          "2025-07-22T11:26:05.826307",
          "2025-07-22T11:26:16.747499",
          "2025-07-22T11:26:18.916548",
          "2025-07-22T11:26:21.284274",
          "2025-07-22T11:26:23.523242",
          "2025-07-22T11:26:25.937439",
          "2025-07-22T11:26:35.067900",
          "2025-07-22T11:26:44.312454",
          "2025-07-22T11:26:53.669522",
          "2025-07-22T11:27:05.221323",
          "2025-07-22T11:27:09.673783",
          "2025-07-22T11:27:13.642533",
          "2025-07-22T11:27:17.824543",
          "2025-07-22T11:27:21.237552",
          "2025-07-22T11:27:39.589394",
          "2025-07-22T11:27:55.768038",
          "2025-07-22T11:28:11.005778",
          "2025-07-22T11:28:25.118578",
          "2025-07-22T11:28:35.858530",
          "2025-07-22T11:28:45.841575",
          "2025-07-22T11:28:57.060949",
          "2025-07-22T11:29:06.123837",
          "2025-07-22T11:29:33.085849",
          "2025-07-22T11:30:01.372551",
          "2025-07-22T11:30:30.737848",
          "2025-07-22T11:30:55.428383",
          "2025-07-22T11:31:05.818819",
          "2025-07-22T11:31:17.291451",
          "2025-07-22T11:31:29.146149",
          "2025-07-22T11:31:40.292400",
          "2025-07-22T11:32:14.074633",
          "2025-07-22T11:32:37.808094",
          "2025-07-22T11:33:01.240682",
          "2025-07-22T11:33:25.022509",
          "2025-07-22T11:33:31.738744",
          "2025-07-22T11:33:38.541823",
          "2025-07-22T11:33:45.315235",
          "2025-07-22T11:33:52.234062",
          "2025-07-22T11:34:10.296460",
          "2025-07-22T11:34:28.112763",
          "2025-07-22T11:34:46.185200",
          "2025-07-22T11:35:39.405488",
          "2025-07-22T11:35:49.097511",
          "2025-07-22T11:35:56.918213",
          "2025-07-22T11:36:04.714327",
          "2025-07-22T11:36:12.674923",
          "2025-07-22T11:36:35.577019",
          "2025-07-22T11:37:00.828837",
          "2025-07-22T11:37:25.176183",
          "2025-07-22T11:37:47.930657",
          "2025-07-22T11:37:54.613290",
          "2025-07-22T11:38:01.471086",
          "2025-07-22T11:38:08.226943",
          "2025-07-22T11:38:14.859944",
          "2025-07-22T11:38:34.516249",
          "2025-07-22T11:38:52.489260",
          "2025-07-22T11:39:10.429597",
          "2025-07-22T11:39:29.161542",
          "2025-07-22T11:39:37.079867",
          "2025-07-22T11:39:44.621474",
          "2025-07-22T11:39:52.171250",
          "2025-07-22T11:39:59.894718",
          "2025-07-22T11:40:33.628609",
          "2025-07-22T11:40:56.547770",
          "2025-07-22T11:41:19.453493",
          "2025-07-22T11:41:43.851814",
          "2025-07-22T11:42:49.989667",
          "2025-07-22T11:44:31.433531",
          "2025-07-22T11:47:38.910647",
          "2025-07-22T11:50:13.323808",
          "2025-07-22T11:51:54.048759",
          "2025-07-22T11:53:35.096261",
          "2025-07-22T11:55:14.487997",
          "2025-07-22T11:58:12.795934",
          "2025-07-22T12:01:27.945791",
          "2025-07-22T12:03:44.202707",
          "2025-07-22T12:05:24.846525",
          "2025-07-22T12:06:42.523251",
          "2025-07-22T12:09:33.656558",
          "2025-07-22T12:11:48.212280",
          "2025-07-22T12:14:21.791866",
          "2025-07-22T12:16:40.433910",
          "2025-07-22T12:18:01.838700",
          "2025-07-22T12:19:20.559806",
          "2025-07-22T12:20:28.193773",
          "2025-07-22T12:21:34.391449",
          "2025-07-22T12:23:15.490130",
          "2025-07-22T12:24:58.380171",
          "2025-07-22T12:26:45.855893",
          "2025-07-22T12:28:23.725920",
          "2025-07-22T12:29:55.300871",
          "2025-07-22T12:31:57.193909",
          "2025-07-22T12:33:07.431910",
          "2025-07-22T12:35:25.374152",
          "2025-07-22T12:37:30.241444",
          "2025-07-22T12:39:43.629476",
          "2025-07-22T12:42:00.380519",
          "2025-07-22T12:44:04.680174",
          "2025-07-22T12:45:09.514461",
          "2025-07-22T12:46:15.625638",
          "2025-07-22T12:47:22.701210",
          "2025-07-22T12:48:27.297542",
          "2025-07-22T12:50:02.743867",
          "2025-07-22T12:51:42.306102",
          "2025-07-22T12:53:19.521174",
          "2025-07-22T12:55:20.352437",
          "2025-07-22T12:56:30.241968",
          "2025-07-22T12:57:39.357809",
          "2025-07-22T12:58:49.054815",
          "2025-07-22T13:00:11.810557",
          "2025-07-22T13:02:15.122848",
          "2025-07-22T13:04:24.975046",
          "2025-07-22T13:06:52.337511"
         ],
         "xaxis": "x2",
         "y": {
          "bdata": "cMX+snvyoL9gLSEf9GyWv8Dsnjws1Jq/wHGKjuTyj7/gaiv2l92TvyC+MJkqGJW/wB6F61G4jr8AkDF3LSFfvwCI9NvXgaO/gC0hH/Rslr8g16NwPQqXv8C6uI0G8Ia/gMt/SL99jb8g16NwPQqXvwBhw9MrZWm/gOLHmLuWkD/QG3xhMlWgv0Bpb/CFyaQ/4Gor9pfdk7+A+zpwzoiSv4Dix5i7loC/YPs6cM6Ikr+Ay39Iv32Nv2AUrkfhepS/QGlv8IXJpL+ARpT2Bl+Yv4B4eqUsQ4y/wP6ye/KwkL8AFK5H4Xpkv4B4eqUsQ4y/ICqpE9BEmL9AbqMBvAWCv0Bpb/CFyaS/QGlv8IXJpD9AaW/whcmkP3gUrkfheqS/AKFns+pzpb8QvjCZKhilv3gUrkfheqS/eBSuR+F6pL9AaW/whcmkv0Bpb/CFyaQ/QGlv8IXJpD9AaW/whcmkP7C/7J48LKS/QGlv8IXJpD9AaW/whcmkP0Bpb/CFyaQ/MHUCmggbnj9AwaikTkCDv8Bns+pztYW/wLq4jQbwhr+ggCbChqeXvwAfhetRuH6/gGez6nO1hb/AHoXrUbiOv3DF/rJ78qA/APAWSFD8mL+A4seYu5aAvwClvcEXJpO/gLIMcayLm7+A4seYu5aAv0DzjlN0JIe/AGHD0ytlab8AiPTb14GjP6CyDHGsi5s/AHKKjuTyj7+ANc07TtGBv7CmeccpOqI/wD+k374OjL9AbqMBvAWCv4CZmZmZmYk/+KBns+pzpT8ANFUwKqlDPwDwFkhQ/Ji/EMe6uI0GoL8Q16NwPQqnPwDwFkhQ/Ji/ABSuR+F6ZL+AeHqlLEN8P0Bpb/CFyaQ/sL/snjwspD/A3LWEfNCjP4AUrkfheqS/sL/snjwspD/I9Shcj8KlvwCI9NvXgaO/sL/snjwspD+wv+yePCykP8DctYR80KM/wNy1hHzQoz/A3LWEfNCjP8DctYR80KM/wNy1hHzQoz/A3LWEfNCjP7C/7J48LKQ/eBSuR+F6pL+Ay39Iv32Nv+Bxio7k8p8/YK+UZYhjnT+AeHqlLEOMvwDSb18Hznm/gB6F61G4fr8AkDF3LSFvv3gUrkfheqS/wOyePCzUir8ANFUwKqlDvyDwFkhQ/Ji/wOyePCzUir8ANFUwKqlDvwD2Bl+YTFW/wHGKjuTyj7+AeHqlLEOMvwClvcEXJpO/QKg1zTtOkb/A7J48LNSKvwCEns2qz5W/AHKKjuTyj7+A4seYu5aAPyC+MJkqGJU/gHh6pSxDfL+A4seYu5aQv0DzjlN0JIe/QPOOU3Qkh79gqDXNO06Rv0DzjlN0JIe/wB6F61G4jj+wcD0K16OgP/iH9NvXgaO/IHUCmggbnj9gyAc9m1Wfv8AehetRuJ6/8FG4HoXrob8g8BZIUPyYv4AtIR/0bJa/ADRVMCqpQz94+zpwzoiiv0DIBz2bVZ8/uPUoXI/CpT9IuB6F61GoP4D7OnDOiKK/uPUoXI/CpT8oXI/C9SisPw==",
          "dtype": "f8"
         },
         "yaxis": "y2"
        }
       ],
       "layout": {
        "annotations": [
         {
          "font": {
           "size": 16
          },
          "showarrow": false,
          "text": "Accuracy dans le temps",
          "x": 0.5,
          "xanchor": "center",
          "xref": "paper",
          "y": 1,
          "yanchor": "bottom",
          "yref": "paper"
         },
         {
          "font": {
           "size": 16
          },
          "showarrow": false,
          "text": "Écart Train-Test dans le temps",
          "x": 0.5,
          "xanchor": "center",
          "xref": "paper",
          "y": 0.45,
          "yanchor": "bottom",
          "yref": "paper"
         }
        ],
        "height": 700,
        "template": {
         "data": {
          "bar": [
           {
            "error_x": {
             "color": "#2a3f5f"
            },
            "error_y": {
             "color": "#2a3f5f"
            },
            "marker": {
             "line": {
              "color": "white",
              "width": 0.5
             },
             "pattern": {
              "fillmode": "overlay",
              "size": 10,
              "solidity": 0.2
             }
            },
            "type": "bar"
           }
          ],
          "barpolar": [
           {
            "marker": {
             "line": {
              "color": "white",
              "width": 0.5
             },
             "pattern": {
              "fillmode": "overlay",
              "size": 10,
              "solidity": 0.2
             }
            },
            "type": "barpolar"
           }
          ],
          "carpet": [
           {
            "aaxis": {
             "endlinecolor": "#2a3f5f",
             "gridcolor": "#C8D4E3",
             "linecolor": "#C8D4E3",
             "minorgridcolor": "#C8D4E3",
             "startlinecolor": "#2a3f5f"
            },
            "baxis": {
             "endlinecolor": "#2a3f5f",
             "gridcolor": "#C8D4E3",
             "linecolor": "#C8D4E3",
             "minorgridcolor": "#C8D4E3",
             "startlinecolor": "#2a3f5f"
            },
            "type": "carpet"
           }
          ],
          "choropleth": [
           {
            "colorbar": {
             "outlinewidth": 0,
             "ticks": ""
            },
            "type": "choropleth"
           }
          ],
          "contour": [
           {
            "colorbar": {
             "outlinewidth": 0,
             "ticks": ""
            },
            "colorscale": [
             [
              0,
              "#0d0887"
             ],
             [
              0.1111111111111111,
              "#46039f"
             ],
             [
              0.2222222222222222,
              "#7201a8"
             ],
             [
              0.3333333333333333,
              "#9c179e"
             ],
             [
              0.4444444444444444,
              "#bd3786"
             ],
             [
              0.5555555555555556,
              "#d8576b"
             ],
             [
              0.6666666666666666,
              "#ed7953"
             ],
             [
              0.7777777777777778,
              "#fb9f3a"
             ],
             [
              0.8888888888888888,
              "#fdca26"
             ],
             [
              1,
              "#f0f921"
             ]
            ],
            "type": "contour"
           }
          ],
          "contourcarpet": [
           {
            "colorbar": {
             "outlinewidth": 0,
             "ticks": ""
            },
            "type": "contourcarpet"
           }
          ],
          "heatmap": [
           {
            "colorbar": {
             "outlinewidth": 0,
             "ticks": ""
            },
            "colorscale": [
             [
              0,
              "#0d0887"
             ],
             [
              0.1111111111111111,
              "#46039f"
             ],
             [
              0.2222222222222222,
              "#7201a8"
             ],
             [
              0.3333333333333333,
              "#9c179e"
             ],
             [
              0.4444444444444444,
              "#bd3786"
             ],
             [
              0.5555555555555556,
              "#d8576b"
             ],
             [
              0.6666666666666666,
              "#ed7953"
             ],
             [
              0.7777777777777778,
              "#fb9f3a"
             ],
             [
              0.8888888888888888,
              "#fdca26"
             ],
             [
              1,
              "#f0f921"
             ]
            ],
            "type": "heatmap"
           }
          ],
          "histogram": [
           {
            "marker": {
             "pattern": {
              "fillmode": "overlay",
              "size": 10,
              "solidity": 0.2
             }
            },
            "type": "histogram"
           }
          ],
          "histogram2d": [
           {
            "colorbar": {
             "outlinewidth": 0,
             "ticks": ""
            },
            "colorscale": [
             [
              0,
              "#0d0887"
             ],
             [
              0.1111111111111111,
              "#46039f"
             ],
             [
              0.2222222222222222,
              "#7201a8"
             ],
             [
              0.3333333333333333,
              "#9c179e"
             ],
             [
              0.4444444444444444,
              "#bd3786"
             ],
             [
              0.5555555555555556,
              "#d8576b"
             ],
             [
              0.6666666666666666,
              "#ed7953"
             ],
             [
              0.7777777777777778,
              "#fb9f3a"
             ],
             [
              0.8888888888888888,
              "#fdca26"
             ],
             [
              1,
              "#f0f921"
             ]
            ],
            "type": "histogram2d"
           }
          ],
          "histogram2dcontour": [
           {
            "colorbar": {
             "outlinewidth": 0,
             "ticks": ""
            },
            "colorscale": [
             [
              0,
              "#0d0887"
             ],
             [
              0.1111111111111111,
              "#46039f"
             ],
             [
              0.2222222222222222,
              "#7201a8"
             ],
             [
              0.3333333333333333,
              "#9c179e"
             ],
             [
              0.4444444444444444,
              "#bd3786"
             ],
             [
              0.5555555555555556,
              "#d8576b"
             ],
             [
              0.6666666666666666,
              "#ed7953"
             ],
             [
              0.7777777777777778,
              "#fb9f3a"
             ],
             [
              0.8888888888888888,
              "#fdca26"
             ],
             [
              1,
              "#f0f921"
             ]
            ],
            "type": "histogram2dcontour"
           }
          ],
          "mesh3d": [
           {
            "colorbar": {
             "outlinewidth": 0,
             "ticks": ""
            },
            "type": "mesh3d"
           }
          ],
          "parcoords": [
           {
            "line": {
             "colorbar": {
              "outlinewidth": 0,
              "ticks": ""
             }
            },
            "type": "parcoords"
           }
          ],
          "pie": [
           {
            "automargin": true,
            "type": "pie"
           }
          ],
          "scatter": [
           {
            "fillpattern": {
             "fillmode": "overlay",
             "size": 10,
             "solidity": 0.2
            },
            "type": "scatter"
           }
          ],
          "scatter3d": [
           {
            "line": {
             "colorbar": {
              "outlinewidth": 0,
              "ticks": ""
             }
            },
            "marker": {
             "colorbar": {
              "outlinewidth": 0,
              "ticks": ""
             }
            },
            "type": "scatter3d"
           }
          ],
          "scattercarpet": [
           {
            "marker": {
             "colorbar": {
              "outlinewidth": 0,
              "ticks": ""
             }
            },
            "type": "scattercarpet"
           }
          ],
          "scattergeo": [
           {
            "marker": {
             "colorbar": {
              "outlinewidth": 0,
              "ticks": ""
             }
            },
            "type": "scattergeo"
           }
          ],
          "scattergl": [
           {
            "marker": {
             "colorbar": {
              "outlinewidth": 0,
              "ticks": ""
             }
            },
            "type": "scattergl"
           }
          ],
          "scattermap": [
           {
            "marker": {
             "colorbar": {
              "outlinewidth": 0,
              "ticks": ""
             }
            },
            "type": "scattermap"
           }
          ],
          "scattermapbox": [
           {
            "marker": {
             "colorbar": {
              "outlinewidth": 0,
              "ticks": ""
             }
            },
            "type": "scattermapbox"
           }
          ],
          "scatterpolar": [
           {
            "marker": {
             "colorbar": {
              "outlinewidth": 0,
              "ticks": ""
             }
            },
            "type": "scatterpolar"
           }
          ],
          "scatterpolargl": [
           {
            "marker": {
             "colorbar": {
              "outlinewidth": 0,
              "ticks": ""
             }
            },
            "type": "scatterpolargl"
           }
          ],
          "scatterternary": [
           {
            "marker": {
             "colorbar": {
              "outlinewidth": 0,
              "ticks": ""
             }
            },
            "type": "scatterternary"
           }
          ],
          "surface": [
           {
            "colorbar": {
             "outlinewidth": 0,
             "ticks": ""
            },
            "colorscale": [
             [
              0,
              "#0d0887"
             ],
             [
              0.1111111111111111,
              "#46039f"
             ],
             [
              0.2222222222222222,
              "#7201a8"
             ],
             [
              0.3333333333333333,
              "#9c179e"
             ],
             [
              0.4444444444444444,
              "#bd3786"
             ],
             [
              0.5555555555555556,
              "#d8576b"
             ],
             [
              0.6666666666666666,
              "#ed7953"
             ],
             [
              0.7777777777777778,
              "#fb9f3a"
             ],
             [
              0.8888888888888888,
              "#fdca26"
             ],
             [
              1,
              "#f0f921"
             ]
            ],
            "type": "surface"
           }
          ],
          "table": [
           {
            "cells": {
             "fill": {
              "color": "#EBF0F8"
             },
             "line": {
              "color": "white"
             }
            },
            "header": {
             "fill": {
              "color": "#C8D4E3"
             },
             "line": {
              "color": "white"
             }
            },
            "type": "table"
           }
          ]
         },
         "layout": {
          "annotationdefaults": {
           "arrowcolor": "#2a3f5f",
           "arrowhead": 0,
           "arrowwidth": 1
          },
          "autotypenumbers": "strict",
          "coloraxis": {
           "colorbar": {
            "outlinewidth": 0,
            "ticks": ""
           }
          },
          "colorscale": {
           "diverging": [
            [
             0,
             "#8e0152"
            ],
            [
             0.1,
             "#c51b7d"
            ],
            [
             0.2,
             "#de77ae"
            ],
            [
             0.3,
             "#f1b6da"
            ],
            [
             0.4,
             "#fde0ef"
            ],
            [
             0.5,
             "#f7f7f7"
            ],
            [
             0.6,
             "#e6f5d0"
            ],
            [
             0.7,
             "#b8e186"
            ],
            [
             0.8,
             "#7fbc41"
            ],
            [
             0.9,
             "#4d9221"
            ],
            [
             1,
             "#276419"
            ]
           ],
           "sequential": [
            [
             0,
             "#0d0887"
            ],
            [
             0.1111111111111111,
             "#46039f"
            ],
            [
             0.2222222222222222,
             "#7201a8"
            ],
            [
             0.3333333333333333,
             "#9c179e"
            ],
            [
             0.4444444444444444,
             "#bd3786"
            ],
            [
             0.5555555555555556,
             "#d8576b"
            ],
            [
             0.6666666666666666,
             "#ed7953"
            ],
            [
             0.7777777777777778,
             "#fb9f3a"
            ],
            [
             0.8888888888888888,
             "#fdca26"
            ],
            [
             1,
             "#f0f921"
            ]
           ],
           "sequentialminus": [
            [
             0,
             "#0d0887"
            ],
            [
             0.1111111111111111,
             "#46039f"
            ],
            [
             0.2222222222222222,
             "#7201a8"
            ],
            [
             0.3333333333333333,
             "#9c179e"
            ],
            [
             0.4444444444444444,
             "#bd3786"
            ],
            [
             0.5555555555555556,
             "#d8576b"
            ],
            [
             0.6666666666666666,
             "#ed7953"
            ],
            [
             0.7777777777777778,
             "#fb9f3a"
            ],
            [
             0.8888888888888888,
             "#fdca26"
            ],
            [
             1,
             "#f0f921"
            ]
           ]
          },
          "colorway": [
           "#636efa",
           "#EF553B",
           "#00cc96",
           "#ab63fa",
           "#FFA15A",
           "#19d3f3",
           "#FF6692",
           "#B6E880",
           "#FF97FF",
           "#FECB52"
          ],
          "font": {
           "color": "#2a3f5f"
          },
          "geo": {
           "bgcolor": "white",
           "lakecolor": "white",
           "landcolor": "white",
           "showlakes": true,
           "showland": true,
           "subunitcolor": "#C8D4E3"
          },
          "hoverlabel": {
           "align": "left"
          },
          "hovermode": "closest",
          "mapbox": {
           "style": "light"
          },
          "paper_bgcolor": "white",
          "plot_bgcolor": "white",
          "polar": {
           "angularaxis": {
            "gridcolor": "#EBF0F8",
            "linecolor": "#EBF0F8",
            "ticks": ""
           },
           "bgcolor": "white",
           "radialaxis": {
            "gridcolor": "#EBF0F8",
            "linecolor": "#EBF0F8",
            "ticks": ""
           }
          },
          "scene": {
           "xaxis": {
            "backgroundcolor": "white",
            "gridcolor": "#DFE8F3",
            "gridwidth": 2,
            "linecolor": "#EBF0F8",
            "showbackground": true,
            "ticks": "",
            "zerolinecolor": "#EBF0F8"
           },
           "yaxis": {
            "backgroundcolor": "white",
            "gridcolor": "#DFE8F3",
            "gridwidth": 2,
            "linecolor": "#EBF0F8",
            "showbackground": true,
            "ticks": "",
            "zerolinecolor": "#EBF0F8"
           },
           "zaxis": {
            "backgroundcolor": "white",
            "gridcolor": "#DFE8F3",
            "gridwidth": 2,
            "linecolor": "#EBF0F8",
            "showbackground": true,
            "ticks": "",
            "zerolinecolor": "#EBF0F8"
           }
          },
          "shapedefaults": {
           "line": {
            "color": "#2a3f5f"
           }
          },
          "ternary": {
           "aaxis": {
            "gridcolor": "#DFE8F3",
            "linecolor": "#A2B1C6",
            "ticks": ""
           },
           "baxis": {
            "gridcolor": "#DFE8F3",
            "linecolor": "#A2B1C6",
            "ticks": ""
           },
           "bgcolor": "white",
           "caxis": {
            "gridcolor": "#DFE8F3",
            "linecolor": "#A2B1C6",
            "ticks": ""
           }
          },
          "title": {
           "x": 0.05
          },
          "xaxis": {
           "automargin": true,
           "gridcolor": "#EBF0F8",
           "linecolor": "#EBF0F8",
           "ticks": "",
           "title": {
            "standoff": 15
           },
           "zerolinecolor": "#EBF0F8",
           "zerolinewidth": 2
          },
          "yaxis": {
           "automargin": true,
           "gridcolor": "#EBF0F8",
           "linecolor": "#EBF0F8",
           "ticks": "",
           "title": {
            "standoff": 15
           },
           "zerolinecolor": "#EBF0F8",
           "zerolinewidth": 2
          }
         }
        },
        "title": {
         "text": "🏆 Évolution temporelle des performances"
        },
        "xaxis": {
         "anchor": "y",
         "domain": [
          0,
          1
         ]
        },
        "xaxis2": {
         "anchor": "y2",
         "domain": [
          0,
          1
         ]
        },
        "yaxis": {
         "anchor": "x",
         "domain": [
          0.55,
          1
         ]
        },
        "yaxis2": {
         "anchor": "x2",
         "domain": [
          0,
          0.45
         ]
        }
       }
      }
     },
     "metadata": {},
     "output_type": "display_data"
    },
    {
     "name": "stdout",
     "output_type": "stream",
     "text": [
      "\n",
      "📊 ANALYSE STATISTIQUE DÉTAILLÉE:\n",
      "\n",
      "Performances par Learning Rate:\n",
      "              test_accuracy                 train_accuracy                  \\\n",
      "                       mean     std     max           mean     std     max   \n",
      "learning_rate                                                                \n",
      "0.001                0.6080  0.1124  0.7700         0.5988  0.1076  0.7519   \n",
      "0.010                0.6641  0.1319  0.7750         0.6634  0.1157  0.7744   \n",
      "0.050                0.6671  0.1358  0.7900         0.6668  0.1211  0.7981   \n",
      "0.100                0.6728  0.1311  0.7875         0.6718  0.1227  0.8100   \n",
      "\n",
      "              accuracy_gap          \n",
      "                      mean     std  \n",
      "learning_rate                       \n",
      "0.001              -0.0092  0.0317  \n",
      "0.010              -0.0007  0.0270  \n",
      "0.050              -0.0002  0.0265  \n",
      "0.100              -0.0010  0.0260  \n",
      "\n",
      "Performances par nombre d'époques:\n",
      "       test_accuracy                 train_accuracy                  \\\n",
      "                mean     std     max           mean     std     max   \n",
      "epochs                                                                \n",
      "1000          0.6327  0.1302  0.7825         0.6305  0.1167  0.7744   \n",
      "5000          0.6733  0.1263  0.7900         0.6699  0.1198  0.8100   \n",
      "\n",
      "       accuracy_gap          \n",
      "               mean     std  \n",
      "epochs                       \n",
      "1000        -0.0022  0.0299  \n",
      "5000        -0.0034  0.0259  \n"
     ]
    },
    {
     "data": {
      "application/vnd.plotly.v1+json": {
       "config": {
        "plotlyServerURL": "https://plot.ly"
       },
       "data": [
        {
         "marker": {
          "color": {
           "bdata": "cMX+snvyoL9gLSEf9GyWv8Dsnjws1Jq/wHGKjuTyj7/gaiv2l92TvyC+MJkqGJW/wB6F61G4jr8AkDF3LSFfvwCI9NvXgaO/gC0hH/Rslr8g16NwPQqXv8C6uI0G8Ia/gMt/SL99jb8g16NwPQqXvwBhw9MrZWm/gOLHmLuWkD/QG3xhMlWgv0Bpb/CFyaQ/4Gor9pfdk7+A+zpwzoiSv4Dix5i7loC/YPs6cM6Ikr+Ay39Iv32Nv2AUrkfhepS/QGlv8IXJpL+ARpT2Bl+Yv4B4eqUsQ4y/wP6ye/KwkL8AFK5H4Xpkv4B4eqUsQ4y/ICqpE9BEmL9AbqMBvAWCv0Bpb/CFyaS/QGlv8IXJpD9AaW/whcmkP3gUrkfheqS/AKFns+pzpb8QvjCZKhilv3gUrkfheqS/eBSuR+F6pL9AaW/whcmkv0Bpb/CFyaQ/QGlv8IXJpD9AaW/whcmkP7C/7J48LKS/QGlv8IXJpD9AaW/whcmkP0Bpb/CFyaQ/MHUCmggbnj9AwaikTkCDv8Bns+pztYW/wLq4jQbwhr+ggCbChqeXvwAfhetRuH6/gGez6nO1hb/AHoXrUbiOv3DF/rJ78qA/APAWSFD8mL+A4seYu5aAvwClvcEXJpO/gLIMcayLm7+A4seYu5aAv0DzjlN0JIe/AGHD0ytlab8AiPTb14GjP6CyDHGsi5s/AHKKjuTyj7+ANc07TtGBv7CmeccpOqI/wD+k374OjL9AbqMBvAWCv4CZmZmZmYk/+KBns+pzpT8ANFUwKqlDPwDwFkhQ/Ji/EMe6uI0GoL8Q16NwPQqnPwDwFkhQ/Ji/ABSuR+F6ZL+AeHqlLEN8P0Bpb/CFyaQ/sL/snjwspD/A3LWEfNCjP4AUrkfheqS/sL/snjwspD/I9Shcj8KlvwCI9NvXgaO/sL/snjwspD+wv+yePCykP8DctYR80KM/wNy1hHzQoz/A3LWEfNCjP8DctYR80KM/wNy1hHzQoz/A3LWEfNCjP7C/7J48LKQ/eBSuR+F6pL+Ay39Iv32Nv+Bxio7k8p8/YK+UZYhjnT+AeHqlLEOMvwDSb18Hznm/gB6F61G4fr8AkDF3LSFvv3gUrkfheqS/wOyePCzUir8ANFUwKqlDvyDwFkhQ/Ji/wOyePCzUir8ANFUwKqlDvwD2Bl+YTFW/wHGKjuTyj7+AeHqlLEOMvwClvcEXJpO/QKg1zTtOkb/A7J48LNSKvwCEns2qz5W/AHKKjuTyj7+A4seYu5aAPyC+MJkqGJU/gHh6pSxDfL+A4seYu5aQv0DzjlN0JIe/QPOOU3Qkh79gqDXNO06Rv0DzjlN0JIe/wB6F61G4jj+wcD0K16OgP/iH9NvXgaO/IHUCmggbnj9gyAc9m1Wfv8AehetRuJ6/8FG4HoXrob8g8BZIUPyYv4AtIR/0bJa/ADRVMCqpQz94+zpwzoiiv0DIBz2bVZ8/uPUoXI/CpT9IuB6F61GoP4D7OnDOiKK/uPUoXI/CpT8oXI/C9SisPw==",
           "dtype": "f8"
          },
          "colorbar": {
           "title": {
            "text": "Écart Train-Test"
           }
          },
          "colorscale": [
           [
            0,
            "rgb(165,0,38)"
           ],
           [
            0.1,
            "rgb(215,48,39)"
           ],
           [
            0.2,
            "rgb(244,109,67)"
           ],
           [
            0.3,
            "rgb(253,174,97)"
           ],
           [
            0.4,
            "rgb(254,224,144)"
           ],
           [
            0.5,
            "rgb(255,255,191)"
           ],
           [
            0.6,
            "rgb(224,243,248)"
           ],
           [
            0.7,
            "rgb(171,217,233)"
           ],
           [
            0.8,
            "rgb(116,173,209)"
           ],
           [
            0.9,
            "rgb(69,117,180)"
           ],
           [
            1,
            "rgb(49,54,149)"
           ]
          ],
          "line": {
           "color": "black",
           "width": 2
          },
          "size": 15
         },
         "mode": "markers+text",
         "name": "Modèles",
         "text": [
          "LR:0.001, E:1000",
          "LR:0.01, E:1000",
          "LR:0.05, E:1000",
          "LR:0.1, E:1000",
          "LR:0.001, E:5000",
          "LR:0.01, E:5000",
          "LR:0.05, E:5000",
          "LR:0.1, E:5000",
          "LR:0.001, E:1000",
          "LR:0.01, E:1000",
          "LR:0.05, E:1000",
          "LR:0.1, E:1000",
          "LR:0.001, E:5000",
          "LR:0.01, E:5000",
          "LR:0.05, E:5000",
          "LR:0.1, E:5000",
          "LR:0.001, E:1000",
          "LR:0.01, E:1000",
          "LR:0.05, E:1000",
          "LR:0.1, E:1000",
          "LR:0.001, E:5000",
          "LR:0.01, E:5000",
          "LR:0.05, E:5000",
          "LR:0.1, E:5000",
          "LR:0.001, E:1000",
          "LR:0.01, E:1000",
          "LR:0.05, E:1000",
          "LR:0.1, E:1000",
          "LR:0.001, E:5000",
          "LR:0.01, E:5000",
          "LR:0.05, E:5000",
          "LR:0.1, E:5000",
          "LR:0.001, E:1000",
          "LR:0.01, E:1000",
          "LR:0.05, E:1000",
          "LR:0.1, E:1000",
          "LR:0.001, E:5000",
          "LR:0.01, E:5000",
          "LR:0.05, E:5000",
          "LR:0.1, E:5000",
          "LR:0.001, E:1000",
          "LR:0.01, E:1000",
          "LR:0.05, E:1000",
          "LR:0.1, E:1000",
          "LR:0.001, E:5000",
          "LR:0.01, E:5000",
          "LR:0.05, E:5000",
          "LR:0.1, E:5000",
          "LR:0.001, E:1000",
          "LR:0.01, E:1000",
          "LR:0.05, E:1000",
          "LR:0.1, E:1000",
          "LR:0.001, E:5000",
          "LR:0.01, E:5000",
          "LR:0.05, E:5000",
          "LR:0.1, E:5000",
          "LR:0.001, E:1000",
          "LR:0.01, E:1000",
          "LR:0.05, E:1000",
          "LR:0.1, E:1000",
          "LR:0.001, E:5000",
          "LR:0.01, E:5000",
          "LR:0.05, E:5000",
          "LR:0.1, E:5000",
          "LR:0.001, E:1000",
          "LR:0.01, E:1000",
          "LR:0.05, E:1000",
          "LR:0.1, E:1000",
          "LR:0.001, E:5000",
          "LR:0.01, E:5000",
          "LR:0.05, E:5000",
          "LR:0.1, E:5000",
          "LR:0.001, E:1000",
          "LR:0.01, E:1000",
          "LR:0.05, E:1000",
          "LR:0.1, E:1000",
          "LR:0.001, E:5000",
          "LR:0.01, E:5000",
          "LR:0.05, E:5000",
          "LR:0.1, E:5000",
          "LR:0.001, E:1000",
          "LR:0.01, E:1000",
          "LR:0.05, E:1000",
          "LR:0.1, E:1000",
          "LR:0.001, E:5000",
          "LR:0.01, E:5000",
          "LR:0.05, E:5000",
          "LR:0.1, E:5000",
          "LR:0.001, E:1000",
          "LR:0.01, E:1000",
          "LR:0.05, E:1000",
          "LR:0.1, E:1000",
          "LR:0.001, E:5000",
          "LR:0.01, E:5000",
          "LR:0.05, E:5000",
          "LR:0.1, E:5000",
          "LR:0.001, E:1000",
          "LR:0.01, E:1000",
          "LR:0.05, E:1000",
          "LR:0.1, E:1000",
          "LR:0.001, E:5000",
          "LR:0.01, E:5000",
          "LR:0.05, E:5000",
          "LR:0.1, E:5000",
          "LR:0.001, E:1000",
          "LR:0.01, E:1000",
          "LR:0.05, E:1000",
          "LR:0.1, E:1000",
          "LR:0.001, E:5000",
          "LR:0.01, E:5000",
          "LR:0.05, E:5000",
          "LR:0.1, E:5000",
          "LR:0.001, E:1000",
          "LR:0.01, E:1000",
          "LR:0.05, E:1000",
          "LR:0.1, E:1000",
          "LR:0.001, E:5000",
          "LR:0.01, E:5000",
          "LR:0.05, E:5000",
          "LR:0.1, E:5000",
          "LR:0.001, E:1000",
          "LR:0.01, E:1000",
          "LR:0.05, E:1000",
          "LR:0.1, E:1000",
          "LR:0.001, E:5000",
          "LR:0.01, E:5000",
          "LR:0.05, E:5000",
          "LR:0.1, E:5000",
          "LR:0.001, E:1000",
          "LR:0.01, E:1000",
          "LR:0.05, E:1000",
          "LR:0.1, E:1000",
          "LR:0.001, E:5000",
          "LR:0.01, E:5000",
          "LR:0.05, E:5000",
          "LR:0.1, E:5000",
          "LR:0.001, E:1000",
          "LR:0.01, E:1000",
          "LR:0.05, E:1000",
          "LR:0.1, E:1000",
          "LR:0.001, E:5000",
          "LR:0.01, E:5000",
          "LR:0.05, E:5000"
         ],
         "textposition": "top center",
         "type": "scatter",
         "x": {
          "bdata": "yJi7lpAP5D8kufyH9NvnP2fV52or9uc/nzws1Jrm5z9NFYxK6gToP9xGA3gLJOg/j8L1KFyP6D8ukKD4MeboPy7/If32deA/OGdEaW/w5z8UrkfhehToP7mNBvAWSOg/TRWMSuoE6D8UrkfhehToP0Otad5xiug/j1N0JJf/6D+ASL99HTjjP5T2Bl+YTOc/+1xtxf6y5z9NhA1Pr5TnPxB6Nqs+V+c/OdbFbTSA5z/7XG3F/rLnP+xRuB6F6+c/Q61p3nGK4j9wzojS3uDnP0dy+Q/pt+c/R3L5D+m35z/NzMzMzMzmP0dy+Q/pt+c/Z9Xnaiv25z89m1Wfq63oP+zAOSNKe98/ih9j7lpC4D+KH2PuWkLgP4XrUbgehd8/HhZqTfOO3z988rBQa5rfP4XrUbgehd8/hetRuB6F3z/swDkjSnvfP4ofY+5aQuA/ih9j7lpC4D+KH2PuWkLgPx4Wak3zjt8/ih9j7lpC4D+KH2PuWkLgP4ofY+5aQuA/8fRKWYY44D/7XG3F/rLnP02EDU+vlOc/w2SqYFRS5z9NhA1Pr5TnP2ZmZmZmZug/GlHaG3xh6D8UrkfhehToP5T2Bl+YTOc/5q4l5IOe5z8u/yH99nXoP+LplbIMceg/qaROQBNh5z8u/yH99nXoP2b35GGh1ug/qRPQRNjw6D+ze/KwUGvgPxB6Nqs+V+c/JCh+jLlr5z8+eVioNc3nPy6QoPgx5uI/FR3J5T+k5z9m9+RhodboP1yPwvUoXOk/Lv8h/fZ14D+KH2PuWkLoP9IA3gIJiuc/cM6I0t7g5z+amZmZmZnjP9IA3gIJiuc/9ihcj8L16D/7y+7Jw0LpP4ofY+5aQuA/8fRKWYY44D/ChqdXyjLgP65H4XoUrt8/8fRKWYY44D/Xo3A9CtffP/H0SlmGOOA/8fRKWYY44D/x9EpZhjjgP8KGp1fKMuA/woanV8oy4D/ChqdXyjLgP8KGp1fKMuA/woanV8oy4D/ChqdXyjLgP/H0SlmGOOA/hetRuB6F3z9X7C+7Jw/lPx4Wak3zjuE/j1N0JJf/4D+ZKhiV1AnoP8KGp1fKMug/9ihcj8L15D9m9+RhodbkP4XrUbgehd8/3EYDeAsk6D+At0CC4sfoP2uad5yiI+c/yJi7lpAP6D+At0CC4sfoP2b35GGh1ug/TYQNT6+U5z9m9+RhodbmP+zAOSNKe+c/+1xtxf6y5z+z6nO1FfvnP6MBvAUSFOc/s+pztRX75z/SAN4CCYrpPyS5/If02+k/GeJYF7fR5j8VHcnlP6TnP5kqGJXUCeg/PZtVn6ut6D+ASL99HTjnP5kqGJXUCeg/cT0K16Nw6T/sUbgehevpPxUdyeU/pN8/FR3J5T+k3z8Fo5I6AU3gPz0K16NwPeA/KVyPwvUo4D/HKTqSy3/gP9zXgXNGlOA/gEi/fR044T+lTkATYcPfP0dy+Q/pt98/PQrXo3A94D9mZmZmZmbgP5Axdy0hH+A/PQrXo3A94D+kcD0K16PgPw==",
          "dtype": "f8"
         },
         "y": {
          "bdata": "H4XrUbge5T+PwvUoXI/oP83MzMzMzOg/ZmZmZmZm6D+kcD0K16PoP83MzMzMzOg/CtejcD0K6T/2KFyPwvXoP65H4XoUruE/pHA9Ctej6D/NzMzMzMzoP6RwPQrXo+g/exSuR+F66D/NzMzMzMzoP6RwPQrXo+g/exSuR+F66D89CtejcD3kPwAAAAAAAOY/UrgehetR6D8pXI/C9SjoP5qZmZmZmec/FK5H4XoU6D8pXI/C9SjoP4/C9Shcj+g/16NwPQrX4z+kcD0K16PoPylcj8L1KOg/PQrXo3A96D/hehSuR+HmPylcj8L1KOg/uB6F61G46D/2KFyPwvXoPwrXo3A9CuE/7FG4HoXr3T/sUbgehevdPwrXo3A9CuE/H4XrUbge4T8fhetRuB7hPwrXo3A9CuE/CtejcD0K4T8K16NwPQrhP+xRuB6F690/7FG4HoXr3T/sUbgehevdPwrXo3A9CuE/7FG4HoXr3T/sUbgehevdP+xRuB6F690/j8L1KFyP3j8AAAAAAADoP+xRuB6F6+c/rkfhehSu5z9SuB6F61HoP6RwPQrXo+g/uB6F61G46D+PwvUoXI/oPz0K16NwPeY/ZmZmZmZm6D+4HoXrUbjoPwrXo3A9Cuk/PQrXo3A96D+4HoXrUbjoPzMzMzMzM+k/CtejcD0K6T9mZmZmZmbeP3sUrkfheuY/7FG4HoXr5z8UrkfhehToP8P1KFyPwuE/FK5H4XoU6D8fhetRuB7pP/YoXI/C9eg/PQrXo3A93j89CtejcD3oP1K4HoXrUeg/4XoUrkfh6D8pXI/C9SjiP1K4HoXrUeg/CtejcD0K6T8K16NwPQrpP+xRuB6F690/7FG4HoXr3T/sUbgehevdPx+F61G4HuE/7FG4HoXr3T9I4XoUrkfhP3E9CtejcOE/7FG4HoXr3T/sUbgehevdP+xRuB6F690/7FG4HoXr3T/sUbgehevdP+xRuB6F690/7FG4HoXr3T/sUbgehevdP+xRuB6F690/CtejcD0K4T+F61G4HoXlP4/C9Shcj+A/FK5H4XoU4D97FK5H4XroP2ZmZmZmZug/MzMzMzMz5T/2KFyPwvXkPwrXo3A9CuE/j8L1KFyP6D/NzMzMzMzoP+xRuB6F6+c/exSuR+F66D/NzMzMzMzoP+F6FK5H4eg/FK5H4XoU6D9I4XoUrkfnPxSuR+F6FOg/PQrXo3A96D9mZmZmZmboP8P1KFyPwuc/exSuR+F66D9I4XoUrkfpPzMzMzMzM+k/CtejcD0K5z8pXI/C9SjoP2ZmZmZmZug/CtejcD0K6T/D9Shcj8LnP2ZmZmZmZug/9ihcj8L16D/hehSuR+HoPwrXo3A9CuE/w/UoXI/C3T9I4XoUrkfhPzMzMzMzM+E/SOF6FK5H4T9I4XoUrkfhP0jhehSuR+E/MzMzMzMz4T8K16NwPQrhP8P1KFyPwt0/w/UoXI/C3T/D9Shcj8LdP0jhehSuR+E/w/UoXI/C3T/D9Shcj8LdPw==",
          "dtype": "f8"
         }
        },
        {
         "line": {
          "color": "gray",
          "dash": "dash"
         },
         "mode": "lines",
         "name": "Ligne parfaite (Train=Test)",
         "type": "scatter",
         "x": [
          0.465,
          0.81
         ],
         "y": [
          0.465,
          0.81
         ]
        }
       ],
       "layout": {
        "height": 600,
        "template": {
         "data": {
          "bar": [
           {
            "error_x": {
             "color": "#2a3f5f"
            },
            "error_y": {
             "color": "#2a3f5f"
            },
            "marker": {
             "line": {
              "color": "white",
              "width": 0.5
             },
             "pattern": {
              "fillmode": "overlay",
              "size": 10,
              "solidity": 0.2
             }
            },
            "type": "bar"
           }
          ],
          "barpolar": [
           {
            "marker": {
             "line": {
              "color": "white",
              "width": 0.5
             },
             "pattern": {
              "fillmode": "overlay",
              "size": 10,
              "solidity": 0.2
             }
            },
            "type": "barpolar"
           }
          ],
          "carpet": [
           {
            "aaxis": {
             "endlinecolor": "#2a3f5f",
             "gridcolor": "#C8D4E3",
             "linecolor": "#C8D4E3",
             "minorgridcolor": "#C8D4E3",
             "startlinecolor": "#2a3f5f"
            },
            "baxis": {
             "endlinecolor": "#2a3f5f",
             "gridcolor": "#C8D4E3",
             "linecolor": "#C8D4E3",
             "minorgridcolor": "#C8D4E3",
             "startlinecolor": "#2a3f5f"
            },
            "type": "carpet"
           }
          ],
          "choropleth": [
           {
            "colorbar": {
             "outlinewidth": 0,
             "ticks": ""
            },
            "type": "choropleth"
           }
          ],
          "contour": [
           {
            "colorbar": {
             "outlinewidth": 0,
             "ticks": ""
            },
            "colorscale": [
             [
              0,
              "#0d0887"
             ],
             [
              0.1111111111111111,
              "#46039f"
             ],
             [
              0.2222222222222222,
              "#7201a8"
             ],
             [
              0.3333333333333333,
              "#9c179e"
             ],
             [
              0.4444444444444444,
              "#bd3786"
             ],
             [
              0.5555555555555556,
              "#d8576b"
             ],
             [
              0.6666666666666666,
              "#ed7953"
             ],
             [
              0.7777777777777778,
              "#fb9f3a"
             ],
             [
              0.8888888888888888,
              "#fdca26"
             ],
             [
              1,
              "#f0f921"
             ]
            ],
            "type": "contour"
           }
          ],
          "contourcarpet": [
           {
            "colorbar": {
             "outlinewidth": 0,
             "ticks": ""
            },
            "type": "contourcarpet"
           }
          ],
          "heatmap": [
           {
            "colorbar": {
             "outlinewidth": 0,
             "ticks": ""
            },
            "colorscale": [
             [
              0,
              "#0d0887"
             ],
             [
              0.1111111111111111,
              "#46039f"
             ],
             [
              0.2222222222222222,
              "#7201a8"
             ],
             [
              0.3333333333333333,
              "#9c179e"
             ],
             [
              0.4444444444444444,
              "#bd3786"
             ],
             [
              0.5555555555555556,
              "#d8576b"
             ],
             [
              0.6666666666666666,
              "#ed7953"
             ],
             [
              0.7777777777777778,
              "#fb9f3a"
             ],
             [
              0.8888888888888888,
              "#fdca26"
             ],
             [
              1,
              "#f0f921"
             ]
            ],
            "type": "heatmap"
           }
          ],
          "histogram": [
           {
            "marker": {
             "pattern": {
              "fillmode": "overlay",
              "size": 10,
              "solidity": 0.2
             }
            },
            "type": "histogram"
           }
          ],
          "histogram2d": [
           {
            "colorbar": {
             "outlinewidth": 0,
             "ticks": ""
            },
            "colorscale": [
             [
              0,
              "#0d0887"
             ],
             [
              0.1111111111111111,
              "#46039f"
             ],
             [
              0.2222222222222222,
              "#7201a8"
             ],
             [
              0.3333333333333333,
              "#9c179e"
             ],
             [
              0.4444444444444444,
              "#bd3786"
             ],
             [
              0.5555555555555556,
              "#d8576b"
             ],
             [
              0.6666666666666666,
              "#ed7953"
             ],
             [
              0.7777777777777778,
              "#fb9f3a"
             ],
             [
              0.8888888888888888,
              "#fdca26"
             ],
             [
              1,
              "#f0f921"
             ]
            ],
            "type": "histogram2d"
           }
          ],
          "histogram2dcontour": [
           {
            "colorbar": {
             "outlinewidth": 0,
             "ticks": ""
            },
            "colorscale": [
             [
              0,
              "#0d0887"
             ],
             [
              0.1111111111111111,
              "#46039f"
             ],
             [
              0.2222222222222222,
              "#7201a8"
             ],
             [
              0.3333333333333333,
              "#9c179e"
             ],
             [
              0.4444444444444444,
              "#bd3786"
             ],
             [
              0.5555555555555556,
              "#d8576b"
             ],
             [
              0.6666666666666666,
              "#ed7953"
             ],
             [
              0.7777777777777778,
              "#fb9f3a"
             ],
             [
              0.8888888888888888,
              "#fdca26"
             ],
             [
              1,
              "#f0f921"
             ]
            ],
            "type": "histogram2dcontour"
           }
          ],
          "mesh3d": [
           {
            "colorbar": {
             "outlinewidth": 0,
             "ticks": ""
            },
            "type": "mesh3d"
           }
          ],
          "parcoords": [
           {
            "line": {
             "colorbar": {
              "outlinewidth": 0,
              "ticks": ""
             }
            },
            "type": "parcoords"
           }
          ],
          "pie": [
           {
            "automargin": true,
            "type": "pie"
           }
          ],
          "scatter": [
           {
            "fillpattern": {
             "fillmode": "overlay",
             "size": 10,
             "solidity": 0.2
            },
            "type": "scatter"
           }
          ],
          "scatter3d": [
           {
            "line": {
             "colorbar": {
              "outlinewidth": 0,
              "ticks": ""
             }
            },
            "marker": {
             "colorbar": {
              "outlinewidth": 0,
              "ticks": ""
             }
            },
            "type": "scatter3d"
           }
          ],
          "scattercarpet": [
           {
            "marker": {
             "colorbar": {
              "outlinewidth": 0,
              "ticks": ""
             }
            },
            "type": "scattercarpet"
           }
          ],
          "scattergeo": [
           {
            "marker": {
             "colorbar": {
              "outlinewidth": 0,
              "ticks": ""
             }
            },
            "type": "scattergeo"
           }
          ],
          "scattergl": [
           {
            "marker": {
             "colorbar": {
              "outlinewidth": 0,
              "ticks": ""
             }
            },
            "type": "scattergl"
           }
          ],
          "scattermap": [
           {
            "marker": {
             "colorbar": {
              "outlinewidth": 0,
              "ticks": ""
             }
            },
            "type": "scattermap"
           }
          ],
          "scattermapbox": [
           {
            "marker": {
             "colorbar": {
              "outlinewidth": 0,
              "ticks": ""
             }
            },
            "type": "scattermapbox"
           }
          ],
          "scatterpolar": [
           {
            "marker": {
             "colorbar": {
              "outlinewidth": 0,
              "ticks": ""
             }
            },
            "type": "scatterpolar"
           }
          ],
          "scatterpolargl": [
           {
            "marker": {
             "colorbar": {
              "outlinewidth": 0,
              "ticks": ""
             }
            },
            "type": "scatterpolargl"
           }
          ],
          "scatterternary": [
           {
            "marker": {
             "colorbar": {
              "outlinewidth": 0,
              "ticks": ""
             }
            },
            "type": "scatterternary"
           }
          ],
          "surface": [
           {
            "colorbar": {
             "outlinewidth": 0,
             "ticks": ""
            },
            "colorscale": [
             [
              0,
              "#0d0887"
             ],
             [
              0.1111111111111111,
              "#46039f"
             ],
             [
              0.2222222222222222,
              "#7201a8"
             ],
             [
              0.3333333333333333,
              "#9c179e"
             ],
             [
              0.4444444444444444,
              "#bd3786"
             ],
             [
              0.5555555555555556,
              "#d8576b"
             ],
             [
              0.6666666666666666,
              "#ed7953"
             ],
             [
              0.7777777777777778,
              "#fb9f3a"
             ],
             [
              0.8888888888888888,
              "#fdca26"
             ],
             [
              1,
              "#f0f921"
             ]
            ],
            "type": "surface"
           }
          ],
          "table": [
           {
            "cells": {
             "fill": {
              "color": "#EBF0F8"
             },
             "line": {
              "color": "white"
             }
            },
            "header": {
             "fill": {
              "color": "#C8D4E3"
             },
             "line": {
              "color": "white"
             }
            },
            "type": "table"
           }
          ]
         },
         "layout": {
          "annotationdefaults": {
           "arrowcolor": "#2a3f5f",
           "arrowhead": 0,
           "arrowwidth": 1
          },
          "autotypenumbers": "strict",
          "coloraxis": {
           "colorbar": {
            "outlinewidth": 0,
            "ticks": ""
           }
          },
          "colorscale": {
           "diverging": [
            [
             0,
             "#8e0152"
            ],
            [
             0.1,
             "#c51b7d"
            ],
            [
             0.2,
             "#de77ae"
            ],
            [
             0.3,
             "#f1b6da"
            ],
            [
             0.4,
             "#fde0ef"
            ],
            [
             0.5,
             "#f7f7f7"
            ],
            [
             0.6,
             "#e6f5d0"
            ],
            [
             0.7,
             "#b8e186"
            ],
            [
             0.8,
             "#7fbc41"
            ],
            [
             0.9,
             "#4d9221"
            ],
            [
             1,
             "#276419"
            ]
           ],
           "sequential": [
            [
             0,
             "#0d0887"
            ],
            [
             0.1111111111111111,
             "#46039f"
            ],
            [
             0.2222222222222222,
             "#7201a8"
            ],
            [
             0.3333333333333333,
             "#9c179e"
            ],
            [
             0.4444444444444444,
             "#bd3786"
            ],
            [
             0.5555555555555556,
             "#d8576b"
            ],
            [
             0.6666666666666666,
             "#ed7953"
            ],
            [
             0.7777777777777778,
             "#fb9f3a"
            ],
            [
             0.8888888888888888,
             "#fdca26"
            ],
            [
             1,
             "#f0f921"
            ]
           ],
           "sequentialminus": [
            [
             0,
             "#0d0887"
            ],
            [
             0.1111111111111111,
             "#46039f"
            ],
            [
             0.2222222222222222,
             "#7201a8"
            ],
            [
             0.3333333333333333,
             "#9c179e"
            ],
            [
             0.4444444444444444,
             "#bd3786"
            ],
            [
             0.5555555555555556,
             "#d8576b"
            ],
            [
             0.6666666666666666,
             "#ed7953"
            ],
            [
             0.7777777777777778,
             "#fb9f3a"
            ],
            [
             0.8888888888888888,
             "#fdca26"
            ],
            [
             1,
             "#f0f921"
            ]
           ]
          },
          "colorway": [
           "#636efa",
           "#EF553B",
           "#00cc96",
           "#ab63fa",
           "#FFA15A",
           "#19d3f3",
           "#FF6692",
           "#B6E880",
           "#FF97FF",
           "#FECB52"
          ],
          "font": {
           "color": "#2a3f5f"
          },
          "geo": {
           "bgcolor": "white",
           "lakecolor": "white",
           "landcolor": "white",
           "showlakes": true,
           "showland": true,
           "subunitcolor": "#C8D4E3"
          },
          "hoverlabel": {
           "align": "left"
          },
          "hovermode": "closest",
          "mapbox": {
           "style": "light"
          },
          "paper_bgcolor": "white",
          "plot_bgcolor": "white",
          "polar": {
           "angularaxis": {
            "gridcolor": "#EBF0F8",
            "linecolor": "#EBF0F8",
            "ticks": ""
           },
           "bgcolor": "white",
           "radialaxis": {
            "gridcolor": "#EBF0F8",
            "linecolor": "#EBF0F8",
            "ticks": ""
           }
          },
          "scene": {
           "xaxis": {
            "backgroundcolor": "white",
            "gridcolor": "#DFE8F3",
            "gridwidth": 2,
            "linecolor": "#EBF0F8",
            "showbackground": true,
            "ticks": "",
            "zerolinecolor": "#EBF0F8"
           },
           "yaxis": {
            "backgroundcolor": "white",
            "gridcolor": "#DFE8F3",
            "gridwidth": 2,
            "linecolor": "#EBF0F8",
            "showbackground": true,
            "ticks": "",
            "zerolinecolor": "#EBF0F8"
           },
           "zaxis": {
            "backgroundcolor": "white",
            "gridcolor": "#DFE8F3",
            "gridwidth": 2,
            "linecolor": "#EBF0F8",
            "showbackground": true,
            "ticks": "",
            "zerolinecolor": "#EBF0F8"
           }
          },
          "shapedefaults": {
           "line": {
            "color": "#2a3f5f"
           }
          },
          "ternary": {
           "aaxis": {
            "gridcolor": "#DFE8F3",
            "linecolor": "#A2B1C6",
            "ticks": ""
           },
           "baxis": {
            "gridcolor": "#DFE8F3",
            "linecolor": "#A2B1C6",
            "ticks": ""
           },
           "bgcolor": "white",
           "caxis": {
            "gridcolor": "#DFE8F3",
            "linecolor": "#A2B1C6",
            "ticks": ""
           }
          },
          "title": {
           "x": 0.05
          },
          "xaxis": {
           "automargin": true,
           "gridcolor": "#EBF0F8",
           "linecolor": "#EBF0F8",
           "ticks": "",
           "title": {
            "standoff": 15
           },
           "zerolinecolor": "#EBF0F8",
           "zerolinewidth": 2
          },
          "yaxis": {
           "automargin": true,
           "gridcolor": "#EBF0F8",
           "linecolor": "#EBF0F8",
           "ticks": "",
           "title": {
            "standoff": 15
           },
           "zerolinecolor": "#EBF0F8",
           "zerolinewidth": 2
          }
         }
        },
        "title": {
         "text": "🎯 Performance Train vs Test (couleur = écart)"
        },
        "xaxis": {
         "title": {
          "text": "Train Accuracy"
         }
        },
        "yaxis": {
         "title": {
          "text": "Test Accuracy"
         }
        }
       }
      }
     },
     "metadata": {},
     "output_type": "display_data"
    },
    {
     "name": "stdout",
     "output_type": "stream",
     "text": [
      "\n",
      "🎯 RECOMMANDATIONS:\n",
      "• Meilleur learning rate: 0.05 (Test Accuracy: 0.7900)\n",
      "• Meilleur nombre d'époques: 5000\n",
      "• L'écart Train-Test est de 0.0081, indiquant un léger overfitting\n",
      "• Le modèle généralise bien\n",
      "• Ordre des learning rates par performance: [0.1, 0.05, 0.01, 0.001]\n",
      "• Plus d'époques semble améliorer les performances: [5000, 1000]\n"
     ]
    }
   ],
   "source": [
    "import pandas as pd\n",
    "import plotly.graph_objects as go\n",
    "import plotly.express as px\n",
    "from plotly.subplots import make_subplots\n",
    "import numpy as np\n",
    "from datetime import datetime\n",
    "\n",
    "df = pd.read_csv(\"../tests-projets/results/logs/rbf.csv\")\n",
    "print(df.head(5))\n",
    "# Convertir timestamp en datetime\n",
    "df['timestamp'] = pd.to_datetime(df['timestamp'])\n",
    "\n",
    "# Ajouter une colonne pour l'écart entre train et test\n",
    "df['accuracy_gap'] = df['train_accuracy'] - df['test_accuracy']\n",
    "\n",
    "# Trouver le meilleur modèle\n",
    "best_model = df.loc[df['test_accuracy'].idxmax()]\n",
    "\n",
    "print(\"🏆 MEILLEUR MODÈLE:\")\n",
    "print(f\"Test Accuracy: {best_model['test_accuracy']:.4f} ({best_model['test_accuracy']*100:.1f}%)\")\n",
    "print(f\"Train Accuracy: {best_model['train_accuracy']:.4f} ({best_model['train_accuracy']*100:.1f}%)\")\n",
    "print(f\"Learning Rate: {best_model['learning_rate']}\")\n",
    "print(f\"Epochs: {best_model['epochs']}\")\n",
    "print(f\"Écart Train-Test: {best_model['accuracy_gap']:.4f}\")\n",
    "print(\"-\" * 50)\n",
    "\n",
    "# 1. Graphique de comparaison Train vs Test Accuracy\n",
    "fig1 = go.Figure()\n",
    "\n",
    "fig1.add_trace(go.Scatter(\n",
    "    x=list(range(len(df))),\n",
    "    y=df['train_accuracy'],\n",
    "    mode='lines+markers',\n",
    "    name='Train Accuracy',\n",
    "    line=dict(color='#ff7f0e', width=3),\n",
    "    marker=dict(size=8)\n",
    "))\n",
    "\n",
    "fig1.add_trace(go.Scatter(\n",
    "    x=list(range(len(df))),\n",
    "    y=df['test_accuracy'],\n",
    "    mode='lines+markers',\n",
    "    name='Test Accuracy',\n",
    "    line=dict(color='#1f77b4', width=3),\n",
    "    marker=dict(size=8)\n",
    "))\n",
    "\n",
    "# Marquer le meilleur modèle\n",
    "best_idx = df['test_accuracy'].idxmax()\n",
    "fig1.add_trace(go.Scatter(\n",
    "    x=[best_idx],\n",
    "    y=[best_model['test_accuracy']],\n",
    "    mode='markers',\n",
    "    name='Meilleur modèle',\n",
    "    marker=dict(size=15, color='red', symbol='star')\n",
    "))\n",
    "\n",
    "fig1.update_layout(\n",
    "    title='📊 Comparaison Train vs Test Accuracy',\n",
    "    xaxis_title='Expériences',\n",
    "    yaxis_title='Accuracy',\n",
    "    hovermode='x unified',\n",
    "    template='plotly_white',\n",
    "    height=500\n",
    ")\n",
    "\n",
    "fig1.show()\n",
    "\n",
    "# 2. Impact du Learning Rate\n",
    "fig2 = px.box(df, x='learning_rate', y='test_accuracy', \n",
    "              title='📈 Impact du Learning Rate sur Test Accuracy',\n",
    "              color='learning_rate',\n",
    "              color_discrete_sequence=px.colors.qualitative.Set3)\n",
    "\n",
    "fig2.add_trace(go.Scatter(\n",
    "    x=df['learning_rate'],\n",
    "    y=df['test_accuracy'],\n",
    "    mode='markers',\n",
    "    marker=dict(size=10, color='red', opacity=0.7),\n",
    "    name='Données individuelles'\n",
    "))\n",
    "\n",
    "fig2.update_layout(template='plotly_white', height=500)\n",
    "fig2.show()\n",
    "\n",
    "# 3. Impact des époques avec learning rate\n",
    "fig3 = px.scatter(df, x='epochs', y='test_accuracy', \n",
    "                  color='learning_rate', size='train_accuracy',\n",
    "                  title='⏱️ Impact Époques vs Learning Rate sur Test Accuracy',\n",
    "                  color_continuous_scale='viridis',\n",
    "                  size_max=20)\n",
    "\n",
    "fig3.update_layout(template='plotly_white', height=500)\n",
    "fig3.show()\n",
    "\n",
    "# 4. Heatmap des hyperparamètres\n",
    "pivot_table = df.pivot_table(values='test_accuracy', \n",
    "                           index='epochs', \n",
    "                           columns='learning_rate', \n",
    "                           aggfunc='mean')\n",
    "\n",
    "fig4 = go.Figure(data=go.Heatmap(\n",
    "    z=pivot_table.values,\n",
    "    x=pivot_table.columns,\n",
    "    y=pivot_table.index,\n",
    "    colorscale='RdYlBu_r',\n",
    "    text=np.round(pivot_table.values, 4),\n",
    "    texttemplate=\"%{text}\",\n",
    "    textfont={\"size\": 12}\n",
    "))\n",
    "\n",
    "fig4.update_layout(\n",
    "    title='🔥 Heatmap: Test Accuracy par Époques et Learning Rate',\n",
    "    xaxis_title='Learning Rate',\n",
    "    yaxis_title='Époques',\n",
    "    template='plotly_white',\n",
    "    height=500\n",
    ")\n",
    "\n",
    "fig4.show()\n",
    "\n",
    "# 5. Évolution temporelle\n",
    "fig5 = make_subplots(\n",
    "    rows=2, cols=1,\n",
    "    subplot_titles=('Accuracy dans le temps', 'Écart Train-Test dans le temps'),\n",
    "    vertical_spacing=0.1\n",
    ")\n",
    "\n",
    "fig5.add_trace(\n",
    "    go.Scatter(x=df['timestamp'], y=df['train_accuracy'], \n",
    "               name='Train Accuracy', line=dict(color='orange')),\n",
    "    row=1, col=1\n",
    ")\n",
    "\n",
    "fig5.add_trace(\n",
    "    go.Scatter(x=df['timestamp'], y=df['test_accuracy'], \n",
    "               name='Test Accuracy', line=dict(color='blue')),\n",
    "    row=1, col=1\n",
    ")\n",
    "\n",
    "fig5.add_trace(\n",
    "    go.Scatter(x=df['timestamp'], y=df['accuracy_gap'], \n",
    "               name='Écart Train-Test', line=dict(color='red'),\n",
    "               fill='tonexty'),\n",
    "    row=2, col=1\n",
    ")\n",
    "\n",
    "fig5.update_layout(\n",
    "    title_text='🏆 Évolution temporelle des performances',\n",
    "    template='plotly_white',\n",
    "    height=700\n",
    ")\n",
    "\n",
    "fig5.show()\n",
    "\n",
    "# 6. Analyse statistique détaillée\n",
    "print(\"\\n📊 ANALYSE STATISTIQUE DÉTAILLÉE:\")\n",
    "print(\"\\nPerformances par Learning Rate:\")\n",
    "lr_stats = df.groupby('learning_rate').agg({\n",
    "    'test_accuracy': ['mean', 'std', 'max'],\n",
    "    'train_accuracy': ['mean', 'std', 'max'],\n",
    "    'accuracy_gap': ['mean', 'std']\n",
    "}).round(4)\n",
    "\n",
    "print(lr_stats)\n",
    "\n",
    "print(\"\\nPerformances par nombre d'époques:\")\n",
    "epochs_stats = df.groupby('epochs').agg({\n",
    "    'test_accuracy': ['mean', 'std', 'max'],\n",
    "    'train_accuracy': ['mean', 'std', 'max'],\n",
    "    'accuracy_gap': ['mean', 'std']\n",
    "}).round(4)\n",
    "\n",
    "print(epochs_stats)\n",
    "\n",
    "# 7. Graphique de performance globale\n",
    "fig6 = go.Figure()\n",
    "\n",
    "# Créer des étiquettes personnalisées\n",
    "labels = [f\"LR:{lr}, E:{ep}\" for lr, ep in zip(df['learning_rate'], df['epochs'])]\n",
    "\n",
    "fig6.add_trace(go.Scatter(\n",
    "    x=df['train_accuracy'],\n",
    "    y=df['test_accuracy'],\n",
    "    mode='markers+text',\n",
    "    text=labels,\n",
    "    textposition='top center',\n",
    "    marker=dict(\n",
    "        size=15,\n",
    "        color=df['accuracy_gap'],\n",
    "        colorscale='RdYlBu',\n",
    "        colorbar=dict(title=\"Écart Train-Test\"),\n",
    "        line=dict(width=2, color='black')\n",
    "    ),\n",
    "    name='Modèles'\n",
    "))\n",
    "\n",
    "# Ligne de référence (performance parfaite)\n",
    "max_acc = max(df['train_accuracy'].max(), df['test_accuracy'].max())\n",
    "min_acc = min(df['train_accuracy'].min(), df['test_accuracy'].min())\n",
    "\n",
    "fig6.add_trace(go.Scatter(\n",
    "    x=[min_acc, max_acc],\n",
    "    y=[min_acc, max_acc],\n",
    "    mode='lines',\n",
    "    line=dict(dash='dash', color='gray'),\n",
    "    name='Ligne parfaite (Train=Test)'\n",
    "))\n",
    "\n",
    "fig6.update_layout(\n",
    "    title='🎯 Performance Train vs Test (couleur = écart)',\n",
    "    xaxis_title='Train Accuracy',\n",
    "    yaxis_title='Test Accuracy',\n",
    "    template='plotly_white',\n",
    "    height=600\n",
    ")\n",
    "\n",
    "fig6.show()\n",
    "\n",
    "# Recommandations\n",
    "print(\"\\n🎯 RECOMMANDATIONS:\")\n",
    "print(f\"• Meilleur learning rate: {best_model['learning_rate']} (Test Accuracy: {best_model['test_accuracy']:.4f})\")\n",
    "print(f\"• Meilleur nombre d'époques: {best_model['epochs']}\")\n",
    "print(f\"• L'écart Train-Test est de {best_model['accuracy_gap']:.4f}, indiquant un léger overfitting\")\n",
    "\n",
    "if best_model['accuracy_gap'] > 0.01:\n",
    "    print(\"• Considérer la régularisation pour réduire l'overfitting\")\n",
    "else:\n",
    "    print(\"• Le modèle généralise bien\")\n",
    "\n",
    "# Learning rate optimal\n",
    "lr_performance = df.groupby('learning_rate')['test_accuracy'].mean().sort_values(ascending=False)\n",
    "print(f\"• Ordre des learning rates par performance: {list(lr_performance.index)}\")\n",
    "\n",
    "# Époques optimales\n",
    "epochs_performance = df.groupby('epochs')['test_accuracy'].mean().sort_values(ascending=False)\n",
    "print(f\"• Plus d'époques semble améliorer les performances: {list(epochs_performance.index)}\")"
   ]
  },
  {
   "cell_type": "code",
   "execution_count": 16,
   "id": "fee11d3d",
   "metadata": {},
   "outputs": [
    {
     "data": {
      "application/vnd.plotly.v1+json": {
       "config": {
        "plotlyServerURL": "https://plot.ly"
       },
       "data": [
        {
         "customdata": [
          [
           0.001,
           1000
          ],
          [
           0.01,
           1000
          ],
          [
           0.05,
           1000
          ],
          [
           0.1,
           1000
          ],
          [
           0.001,
           5000
          ],
          [
           0.01,
           5000
          ],
          [
           0.05,
           5000
          ],
          [
           0.1,
           5000
          ],
          [
           0.001,
           1000
          ],
          [
           0.01,
           1000
          ],
          [
           0.05,
           1000
          ],
          [
           0.1,
           1000
          ],
          [
           0.001,
           5000
          ],
          [
           0.01,
           5000
          ],
          [
           0.05,
           5000
          ],
          [
           0.1,
           5000
          ],
          [
           0.001,
           1000
          ],
          [
           0.01,
           1000
          ],
          [
           0.05,
           1000
          ],
          [
           0.1,
           1000
          ],
          [
           0.001,
           5000
          ],
          [
           0.01,
           5000
          ],
          [
           0.05,
           5000
          ],
          [
           0.1,
           5000
          ],
          [
           0.001,
           1000
          ],
          [
           0.01,
           1000
          ],
          [
           0.05,
           1000
          ],
          [
           0.1,
           1000
          ],
          [
           0.001,
           5000
          ],
          [
           0.01,
           5000
          ],
          [
           0.05,
           5000
          ],
          [
           0.1,
           5000
          ],
          [
           0.001,
           1000
          ],
          [
           0.01,
           1000
          ],
          [
           0.05,
           1000
          ],
          [
           0.1,
           1000
          ],
          [
           0.001,
           5000
          ],
          [
           0.01,
           5000
          ],
          [
           0.05,
           5000
          ],
          [
           0.1,
           5000
          ],
          [
           0.001,
           1000
          ],
          [
           0.01,
           1000
          ],
          [
           0.05,
           1000
          ],
          [
           0.1,
           1000
          ],
          [
           0.001,
           5000
          ],
          [
           0.01,
           5000
          ],
          [
           0.05,
           5000
          ],
          [
           0.1,
           5000
          ],
          [
           0.001,
           1000
          ],
          [
           0.01,
           1000
          ],
          [
           0.05,
           1000
          ],
          [
           0.1,
           1000
          ],
          [
           0.001,
           5000
          ],
          [
           0.01,
           5000
          ],
          [
           0.05,
           5000
          ],
          [
           0.1,
           5000
          ],
          [
           0.001,
           1000
          ],
          [
           0.01,
           1000
          ],
          [
           0.05,
           1000
          ],
          [
           0.1,
           1000
          ],
          [
           0.001,
           5000
          ],
          [
           0.01,
           5000
          ],
          [
           0.05,
           5000
          ],
          [
           0.1,
           5000
          ],
          [
           0.001,
           1000
          ],
          [
           0.01,
           1000
          ],
          [
           0.05,
           1000
          ],
          [
           0.1,
           1000
          ],
          [
           0.001,
           5000
          ],
          [
           0.01,
           5000
          ],
          [
           0.05,
           5000
          ],
          [
           0.1,
           5000
          ],
          [
           0.001,
           1000
          ],
          [
           0.01,
           1000
          ],
          [
           0.05,
           1000
          ],
          [
           0.1,
           1000
          ],
          [
           0.001,
           5000
          ],
          [
           0.01,
           5000
          ],
          [
           0.05,
           5000
          ],
          [
           0.1,
           5000
          ],
          [
           0.001,
           1000
          ],
          [
           0.01,
           1000
          ],
          [
           0.05,
           1000
          ],
          [
           0.1,
           1000
          ],
          [
           0.001,
           5000
          ],
          [
           0.01,
           5000
          ],
          [
           0.05,
           5000
          ],
          [
           0.1,
           5000
          ],
          [
           0.001,
           1000
          ],
          [
           0.01,
           1000
          ],
          [
           0.05,
           1000
          ],
          [
           0.1,
           1000
          ],
          [
           0.001,
           5000
          ],
          [
           0.01,
           5000
          ],
          [
           0.05,
           5000
          ],
          [
           0.1,
           5000
          ],
          [
           0.001,
           1000
          ],
          [
           0.01,
           1000
          ],
          [
           0.05,
           1000
          ],
          [
           0.1,
           1000
          ],
          [
           0.001,
           5000
          ],
          [
           0.01,
           5000
          ],
          [
           0.05,
           5000
          ],
          [
           0.1,
           5000
          ],
          [
           0.001,
           1000
          ],
          [
           0.01,
           1000
          ],
          [
           0.05,
           1000
          ],
          [
           0.1,
           1000
          ],
          [
           0.001,
           5000
          ],
          [
           0.01,
           5000
          ],
          [
           0.05,
           5000
          ],
          [
           0.1,
           5000
          ],
          [
           0.001,
           1000
          ],
          [
           0.01,
           1000
          ],
          [
           0.05,
           1000
          ],
          [
           0.1,
           1000
          ],
          [
           0.001,
           5000
          ],
          [
           0.01,
           5000
          ],
          [
           0.05,
           5000
          ],
          [
           0.1,
           5000
          ],
          [
           0.001,
           1000
          ],
          [
           0.01,
           1000
          ],
          [
           0.05,
           1000
          ],
          [
           0.1,
           1000
          ],
          [
           0.001,
           5000
          ],
          [
           0.01,
           5000
          ],
          [
           0.05,
           5000
          ],
          [
           0.1,
           5000
          ],
          [
           0.001,
           1000
          ],
          [
           0.01,
           1000
          ],
          [
           0.05,
           1000
          ],
          [
           0.1,
           1000
          ],
          [
           0.001,
           5000
          ],
          [
           0.01,
           5000
          ],
          [
           0.05,
           5000
          ],
          [
           0.1,
           5000
          ],
          [
           0.001,
           1000
          ],
          [
           0.01,
           1000
          ],
          [
           0.05,
           1000
          ],
          [
           0.1,
           1000
          ],
          [
           0.001,
           5000
          ],
          [
           0.01,
           5000
          ],
          [
           0.05,
           5000
          ]
         ],
         "hovertemplate": "<b>Expérience %{x}</b><br>Accuracy Gap: %{y:.4f}<br>Learning Rate: %{customdata[0]}<br>Époques: %{customdata[1]}<br><extra></extra>",
         "line": {
          "color": "#e74c3c",
          "width": 4
         },
         "marker": {
          "color": "#c0392b",
          "line": {
           "color": "white",
           "width": 2
          },
          "size": 10
         },
         "mode": "lines+markers",
         "name": "Accuracy Gap",
         "type": "scatter",
         "x": [
          0,
          1,
          2,
          3,
          4,
          5,
          6,
          7,
          8,
          9,
          10,
          11,
          12,
          13,
          14,
          15,
          16,
          17,
          18,
          19,
          20,
          21,
          22,
          23,
          24,
          25,
          26,
          27,
          28,
          29,
          30,
          31,
          32,
          33,
          34,
          35,
          36,
          37,
          38,
          39,
          40,
          41,
          42,
          43,
          44,
          45,
          46,
          47,
          48,
          49,
          50,
          51,
          52,
          53,
          54,
          55,
          56,
          57,
          58,
          59,
          60,
          61,
          62,
          63,
          64,
          65,
          66,
          67,
          68,
          69,
          70,
          71,
          72,
          73,
          74,
          75,
          76,
          77,
          78,
          79,
          80,
          81,
          82,
          83,
          84,
          85,
          86,
          87,
          88,
          89,
          90,
          91,
          92,
          93,
          94,
          95,
          96,
          97,
          98,
          99,
          100,
          101,
          102,
          103,
          104,
          105,
          106,
          107,
          108,
          109,
          110,
          111,
          112,
          113,
          114,
          115,
          116,
          117,
          118,
          119,
          120,
          121,
          122,
          123,
          124,
          125,
          126,
          127,
          128,
          129,
          130,
          131,
          132,
          133,
          134,
          135,
          136,
          137,
          138,
          139,
          140,
          141,
          142
         ],
         "y": {
          "bdata": "cMX+snvyoL9gLSEf9GyWv8Dsnjws1Jq/wHGKjuTyj7/gaiv2l92TvyC+MJkqGJW/wB6F61G4jr8AkDF3LSFfvwCI9NvXgaO/gC0hH/Rslr8g16NwPQqXv8C6uI0G8Ia/gMt/SL99jb8g16NwPQqXvwBhw9MrZWm/gOLHmLuWkD/QG3xhMlWgv0Bpb/CFyaQ/4Gor9pfdk7+A+zpwzoiSv4Dix5i7loC/YPs6cM6Ikr+Ay39Iv32Nv2AUrkfhepS/QGlv8IXJpL+ARpT2Bl+Yv4B4eqUsQ4y/wP6ye/KwkL8AFK5H4Xpkv4B4eqUsQ4y/ICqpE9BEmL9AbqMBvAWCv0Bpb/CFyaS/QGlv8IXJpD9AaW/whcmkP3gUrkfheqS/AKFns+pzpb8QvjCZKhilv3gUrkfheqS/eBSuR+F6pL9AaW/whcmkv0Bpb/CFyaQ/QGlv8IXJpD9AaW/whcmkP7C/7J48LKS/QGlv8IXJpD9AaW/whcmkP0Bpb/CFyaQ/MHUCmggbnj9AwaikTkCDv8Bns+pztYW/wLq4jQbwhr+ggCbChqeXvwAfhetRuH6/gGez6nO1hb/AHoXrUbiOv3DF/rJ78qA/APAWSFD8mL+A4seYu5aAvwClvcEXJpO/gLIMcayLm7+A4seYu5aAv0DzjlN0JIe/AGHD0ytlab8AiPTb14GjP6CyDHGsi5s/AHKKjuTyj7+ANc07TtGBv7CmeccpOqI/wD+k374OjL9AbqMBvAWCv4CZmZmZmYk/+KBns+pzpT8ANFUwKqlDPwDwFkhQ/Ji/EMe6uI0GoL8Q16NwPQqnPwDwFkhQ/Ji/ABSuR+F6ZL+AeHqlLEN8P0Bpb/CFyaQ/sL/snjwspD/A3LWEfNCjP4AUrkfheqS/sL/snjwspD/I9Shcj8KlvwCI9NvXgaO/sL/snjwspD+wv+yePCykP8DctYR80KM/wNy1hHzQoz/A3LWEfNCjP8DctYR80KM/wNy1hHzQoz/A3LWEfNCjP7C/7J48LKQ/eBSuR+F6pL+Ay39Iv32Nv+Bxio7k8p8/YK+UZYhjnT+AeHqlLEOMvwDSb18Hznm/gB6F61G4fr8AkDF3LSFvv3gUrkfheqS/wOyePCzUir8ANFUwKqlDvyDwFkhQ/Ji/wOyePCzUir8ANFUwKqlDvwD2Bl+YTFW/wHGKjuTyj7+AeHqlLEOMvwClvcEXJpO/QKg1zTtOkb/A7J48LNSKvwCEns2qz5W/AHKKjuTyj7+A4seYu5aAPyC+MJkqGJU/gHh6pSxDfL+A4seYu5aQv0DzjlN0JIe/QPOOU3Qkh79gqDXNO06Rv0DzjlN0JIe/wB6F61G4jj+wcD0K16OgP/iH9NvXgaO/IHUCmggbnj9gyAc9m1Wfv8AehetRuJ6/8FG4HoXrob8g8BZIUPyYv4AtIR/0bJa/ADRVMCqpQz94+zpwzoiiv0DIBz2bVZ8/uPUoXI/CpT9IuB6F61GoP4D7OnDOiKK/uPUoXI/CpT8oXI/C9SisPw==",
          "dtype": "f8"
         }
        }
       ],
       "layout": {
        "annotations": [
         {
          "showarrow": false,
          "text": "Gap = 0 (généralisation parfaite)",
          "x": 0,
          "xanchor": "left",
          "xref": "x domain",
          "y": 0,
          "yanchor": "bottom",
          "yref": "y"
         },
         {
          "showarrow": false,
          "text": "Moyenne = -0.0028",
          "x": 0,
          "xanchor": "left",
          "xref": "x domain",
          "y": -0.0027853146853146866,
          "yanchor": "top",
          "yref": "y"
         },
         {
          "showarrow": false,
          "text": "Zone de sous-apprentissage",
          "x": 0.5,
          "xanchor": "center",
          "xref": "x domain",
          "y": -0.1,
          "yanchor": "bottom",
          "yref": "y"
         },
         {
          "showarrow": false,
          "text": "Zone optimale",
          "x": 0.5,
          "xanchor": "center",
          "xref": "x domain",
          "y": 0.02,
          "yanchor": "top",
          "yref": "y"
         },
         {
          "showarrow": false,
          "text": "Overfitting léger",
          "x": 0.5,
          "xanchor": "center",
          "xref": "x domain",
          "y": 0.1,
          "yanchor": "top",
          "yref": "y"
         },
         {
          "arrowcolor": "green",
          "arrowhead": 2,
          "arrowwidth": 2,
          "bgcolor": "lightgreen",
          "bordercolor": "green",
          "borderwidth": 2,
          "showarrow": true,
          "text": "Minimum<br>LR: 0.01<br>E: 5000",
          "x": 85,
          "y": -0.04250000000000004
         },
         {
          "arrowcolor": "red",
          "arrowhead": 2,
          "arrowwidth": 2,
          "bgcolor": "lightcoral",
          "bordercolor": "red",
          "borderwidth": 2,
          "showarrow": true,
          "text": "Maximum<br>LR: 0.05<br>E: 5000",
          "x": 142,
          "y": 0.05499999999999999
         }
        ],
        "font": {
         "size": 12
        },
        "height": 600,
        "hovermode": "x unified",
        "legend": {
         "orientation": "h",
         "x": 1,
         "xanchor": "right",
         "y": 1.02,
         "yanchor": "bottom"
        },
        "shapes": [
         {
          "line": {
           "color": "green",
           "dash": "dash",
           "width": 2
          },
          "type": "line",
          "x0": 0,
          "x1": 1,
          "xref": "x domain",
          "y0": 0,
          "y1": 0,
          "yref": "y"
         },
         {
          "line": {
           "color": "orange",
           "dash": "dot",
           "width": 2
          },
          "type": "line",
          "x0": 0,
          "x1": 1,
          "xref": "x domain",
          "y0": -0.0027853146853146866,
          "y1": -0.0027853146853146866,
          "yref": "y"
         },
         {
          "fillcolor": "lightgreen",
          "opacity": 0.2,
          "type": "rect",
          "x0": 0,
          "x1": 1,
          "xref": "x domain",
          "y0": -0.1,
          "y1": 0,
          "yref": "y"
         },
         {
          "fillcolor": "lightblue",
          "opacity": 0.2,
          "type": "rect",
          "x0": 0,
          "x1": 1,
          "xref": "x domain",
          "y0": 0,
          "y1": 0.02,
          "yref": "y"
         },
         {
          "fillcolor": "lightyellow",
          "opacity": 0.2,
          "type": "rect",
          "x0": 0,
          "x1": 1,
          "xref": "x domain",
          "y0": 0.02,
          "y1": 0.1,
          "yref": "y"
         }
        ],
        "template": {
         "data": {
          "bar": [
           {
            "error_x": {
             "color": "#2a3f5f"
            },
            "error_y": {
             "color": "#2a3f5f"
            },
            "marker": {
             "line": {
              "color": "white",
              "width": 0.5
             },
             "pattern": {
              "fillmode": "overlay",
              "size": 10,
              "solidity": 0.2
             }
            },
            "type": "bar"
           }
          ],
          "barpolar": [
           {
            "marker": {
             "line": {
              "color": "white",
              "width": 0.5
             },
             "pattern": {
              "fillmode": "overlay",
              "size": 10,
              "solidity": 0.2
             }
            },
            "type": "barpolar"
           }
          ],
          "carpet": [
           {
            "aaxis": {
             "endlinecolor": "#2a3f5f",
             "gridcolor": "#C8D4E3",
             "linecolor": "#C8D4E3",
             "minorgridcolor": "#C8D4E3",
             "startlinecolor": "#2a3f5f"
            },
            "baxis": {
             "endlinecolor": "#2a3f5f",
             "gridcolor": "#C8D4E3",
             "linecolor": "#C8D4E3",
             "minorgridcolor": "#C8D4E3",
             "startlinecolor": "#2a3f5f"
            },
            "type": "carpet"
           }
          ],
          "choropleth": [
           {
            "colorbar": {
             "outlinewidth": 0,
             "ticks": ""
            },
            "type": "choropleth"
           }
          ],
          "contour": [
           {
            "colorbar": {
             "outlinewidth": 0,
             "ticks": ""
            },
            "colorscale": [
             [
              0,
              "#0d0887"
             ],
             [
              0.1111111111111111,
              "#46039f"
             ],
             [
              0.2222222222222222,
              "#7201a8"
             ],
             [
              0.3333333333333333,
              "#9c179e"
             ],
             [
              0.4444444444444444,
              "#bd3786"
             ],
             [
              0.5555555555555556,
              "#d8576b"
             ],
             [
              0.6666666666666666,
              "#ed7953"
             ],
             [
              0.7777777777777778,
              "#fb9f3a"
             ],
             [
              0.8888888888888888,
              "#fdca26"
             ],
             [
              1,
              "#f0f921"
             ]
            ],
            "type": "contour"
           }
          ],
          "contourcarpet": [
           {
            "colorbar": {
             "outlinewidth": 0,
             "ticks": ""
            },
            "type": "contourcarpet"
           }
          ],
          "heatmap": [
           {
            "colorbar": {
             "outlinewidth": 0,
             "ticks": ""
            },
            "colorscale": [
             [
              0,
              "#0d0887"
             ],
             [
              0.1111111111111111,
              "#46039f"
             ],
             [
              0.2222222222222222,
              "#7201a8"
             ],
             [
              0.3333333333333333,
              "#9c179e"
             ],
             [
              0.4444444444444444,
              "#bd3786"
             ],
             [
              0.5555555555555556,
              "#d8576b"
             ],
             [
              0.6666666666666666,
              "#ed7953"
             ],
             [
              0.7777777777777778,
              "#fb9f3a"
             ],
             [
              0.8888888888888888,
              "#fdca26"
             ],
             [
              1,
              "#f0f921"
             ]
            ],
            "type": "heatmap"
           }
          ],
          "histogram": [
           {
            "marker": {
             "pattern": {
              "fillmode": "overlay",
              "size": 10,
              "solidity": 0.2
             }
            },
            "type": "histogram"
           }
          ],
          "histogram2d": [
           {
            "colorbar": {
             "outlinewidth": 0,
             "ticks": ""
            },
            "colorscale": [
             [
              0,
              "#0d0887"
             ],
             [
              0.1111111111111111,
              "#46039f"
             ],
             [
              0.2222222222222222,
              "#7201a8"
             ],
             [
              0.3333333333333333,
              "#9c179e"
             ],
             [
              0.4444444444444444,
              "#bd3786"
             ],
             [
              0.5555555555555556,
              "#d8576b"
             ],
             [
              0.6666666666666666,
              "#ed7953"
             ],
             [
              0.7777777777777778,
              "#fb9f3a"
             ],
             [
              0.8888888888888888,
              "#fdca26"
             ],
             [
              1,
              "#f0f921"
             ]
            ],
            "type": "histogram2d"
           }
          ],
          "histogram2dcontour": [
           {
            "colorbar": {
             "outlinewidth": 0,
             "ticks": ""
            },
            "colorscale": [
             [
              0,
              "#0d0887"
             ],
             [
              0.1111111111111111,
              "#46039f"
             ],
             [
              0.2222222222222222,
              "#7201a8"
             ],
             [
              0.3333333333333333,
              "#9c179e"
             ],
             [
              0.4444444444444444,
              "#bd3786"
             ],
             [
              0.5555555555555556,
              "#d8576b"
             ],
             [
              0.6666666666666666,
              "#ed7953"
             ],
             [
              0.7777777777777778,
              "#fb9f3a"
             ],
             [
              0.8888888888888888,
              "#fdca26"
             ],
             [
              1,
              "#f0f921"
             ]
            ],
            "type": "histogram2dcontour"
           }
          ],
          "mesh3d": [
           {
            "colorbar": {
             "outlinewidth": 0,
             "ticks": ""
            },
            "type": "mesh3d"
           }
          ],
          "parcoords": [
           {
            "line": {
             "colorbar": {
              "outlinewidth": 0,
              "ticks": ""
             }
            },
            "type": "parcoords"
           }
          ],
          "pie": [
           {
            "automargin": true,
            "type": "pie"
           }
          ],
          "scatter": [
           {
            "fillpattern": {
             "fillmode": "overlay",
             "size": 10,
             "solidity": 0.2
            },
            "type": "scatter"
           }
          ],
          "scatter3d": [
           {
            "line": {
             "colorbar": {
              "outlinewidth": 0,
              "ticks": ""
             }
            },
            "marker": {
             "colorbar": {
              "outlinewidth": 0,
              "ticks": ""
             }
            },
            "type": "scatter3d"
           }
          ],
          "scattercarpet": [
           {
            "marker": {
             "colorbar": {
              "outlinewidth": 0,
              "ticks": ""
             }
            },
            "type": "scattercarpet"
           }
          ],
          "scattergeo": [
           {
            "marker": {
             "colorbar": {
              "outlinewidth": 0,
              "ticks": ""
             }
            },
            "type": "scattergeo"
           }
          ],
          "scattergl": [
           {
            "marker": {
             "colorbar": {
              "outlinewidth": 0,
              "ticks": ""
             }
            },
            "type": "scattergl"
           }
          ],
          "scattermap": [
           {
            "marker": {
             "colorbar": {
              "outlinewidth": 0,
              "ticks": ""
             }
            },
            "type": "scattermap"
           }
          ],
          "scattermapbox": [
           {
            "marker": {
             "colorbar": {
              "outlinewidth": 0,
              "ticks": ""
             }
            },
            "type": "scattermapbox"
           }
          ],
          "scatterpolar": [
           {
            "marker": {
             "colorbar": {
              "outlinewidth": 0,
              "ticks": ""
             }
            },
            "type": "scatterpolar"
           }
          ],
          "scatterpolargl": [
           {
            "marker": {
             "colorbar": {
              "outlinewidth": 0,
              "ticks": ""
             }
            },
            "type": "scatterpolargl"
           }
          ],
          "scatterternary": [
           {
            "marker": {
             "colorbar": {
              "outlinewidth": 0,
              "ticks": ""
             }
            },
            "type": "scatterternary"
           }
          ],
          "surface": [
           {
            "colorbar": {
             "outlinewidth": 0,
             "ticks": ""
            },
            "colorscale": [
             [
              0,
              "#0d0887"
             ],
             [
              0.1111111111111111,
              "#46039f"
             ],
             [
              0.2222222222222222,
              "#7201a8"
             ],
             [
              0.3333333333333333,
              "#9c179e"
             ],
             [
              0.4444444444444444,
              "#bd3786"
             ],
             [
              0.5555555555555556,
              "#d8576b"
             ],
             [
              0.6666666666666666,
              "#ed7953"
             ],
             [
              0.7777777777777778,
              "#fb9f3a"
             ],
             [
              0.8888888888888888,
              "#fdca26"
             ],
             [
              1,
              "#f0f921"
             ]
            ],
            "type": "surface"
           }
          ],
          "table": [
           {
            "cells": {
             "fill": {
              "color": "#EBF0F8"
             },
             "line": {
              "color": "white"
             }
            },
            "header": {
             "fill": {
              "color": "#C8D4E3"
             },
             "line": {
              "color": "white"
             }
            },
            "type": "table"
           }
          ]
         },
         "layout": {
          "annotationdefaults": {
           "arrowcolor": "#2a3f5f",
           "arrowhead": 0,
           "arrowwidth": 1
          },
          "autotypenumbers": "strict",
          "coloraxis": {
           "colorbar": {
            "outlinewidth": 0,
            "ticks": ""
           }
          },
          "colorscale": {
           "diverging": [
            [
             0,
             "#8e0152"
            ],
            [
             0.1,
             "#c51b7d"
            ],
            [
             0.2,
             "#de77ae"
            ],
            [
             0.3,
             "#f1b6da"
            ],
            [
             0.4,
             "#fde0ef"
            ],
            [
             0.5,
             "#f7f7f7"
            ],
            [
             0.6,
             "#e6f5d0"
            ],
            [
             0.7,
             "#b8e186"
            ],
            [
             0.8,
             "#7fbc41"
            ],
            [
             0.9,
             "#4d9221"
            ],
            [
             1,
             "#276419"
            ]
           ],
           "sequential": [
            [
             0,
             "#0d0887"
            ],
            [
             0.1111111111111111,
             "#46039f"
            ],
            [
             0.2222222222222222,
             "#7201a8"
            ],
            [
             0.3333333333333333,
             "#9c179e"
            ],
            [
             0.4444444444444444,
             "#bd3786"
            ],
            [
             0.5555555555555556,
             "#d8576b"
            ],
            [
             0.6666666666666666,
             "#ed7953"
            ],
            [
             0.7777777777777778,
             "#fb9f3a"
            ],
            [
             0.8888888888888888,
             "#fdca26"
            ],
            [
             1,
             "#f0f921"
            ]
           ],
           "sequentialminus": [
            [
             0,
             "#0d0887"
            ],
            [
             0.1111111111111111,
             "#46039f"
            ],
            [
             0.2222222222222222,
             "#7201a8"
            ],
            [
             0.3333333333333333,
             "#9c179e"
            ],
            [
             0.4444444444444444,
             "#bd3786"
            ],
            [
             0.5555555555555556,
             "#d8576b"
            ],
            [
             0.6666666666666666,
             "#ed7953"
            ],
            [
             0.7777777777777778,
             "#fb9f3a"
            ],
            [
             0.8888888888888888,
             "#fdca26"
            ],
            [
             1,
             "#f0f921"
            ]
           ]
          },
          "colorway": [
           "#636efa",
           "#EF553B",
           "#00cc96",
           "#ab63fa",
           "#FFA15A",
           "#19d3f3",
           "#FF6692",
           "#B6E880",
           "#FF97FF",
           "#FECB52"
          ],
          "font": {
           "color": "#2a3f5f"
          },
          "geo": {
           "bgcolor": "white",
           "lakecolor": "white",
           "landcolor": "white",
           "showlakes": true,
           "showland": true,
           "subunitcolor": "#C8D4E3"
          },
          "hoverlabel": {
           "align": "left"
          },
          "hovermode": "closest",
          "mapbox": {
           "style": "light"
          },
          "paper_bgcolor": "white",
          "plot_bgcolor": "white",
          "polar": {
           "angularaxis": {
            "gridcolor": "#EBF0F8",
            "linecolor": "#EBF0F8",
            "ticks": ""
           },
           "bgcolor": "white",
           "radialaxis": {
            "gridcolor": "#EBF0F8",
            "linecolor": "#EBF0F8",
            "ticks": ""
           }
          },
          "scene": {
           "xaxis": {
            "backgroundcolor": "white",
            "gridcolor": "#DFE8F3",
            "gridwidth": 2,
            "linecolor": "#EBF0F8",
            "showbackground": true,
            "ticks": "",
            "zerolinecolor": "#EBF0F8"
           },
           "yaxis": {
            "backgroundcolor": "white",
            "gridcolor": "#DFE8F3",
            "gridwidth": 2,
            "linecolor": "#EBF0F8",
            "showbackground": true,
            "ticks": "",
            "zerolinecolor": "#EBF0F8"
           },
           "zaxis": {
            "backgroundcolor": "white",
            "gridcolor": "#DFE8F3",
            "gridwidth": 2,
            "linecolor": "#EBF0F8",
            "showbackground": true,
            "ticks": "",
            "zerolinecolor": "#EBF0F8"
           }
          },
          "shapedefaults": {
           "line": {
            "color": "#2a3f5f"
           }
          },
          "ternary": {
           "aaxis": {
            "gridcolor": "#DFE8F3",
            "linecolor": "#A2B1C6",
            "ticks": ""
           },
           "baxis": {
            "gridcolor": "#DFE8F3",
            "linecolor": "#A2B1C6",
            "ticks": ""
           },
           "bgcolor": "white",
           "caxis": {
            "gridcolor": "#DFE8F3",
            "linecolor": "#A2B1C6",
            "ticks": ""
           }
          },
          "title": {
           "x": 0.05
          },
          "xaxis": {
           "automargin": true,
           "gridcolor": "#EBF0F8",
           "linecolor": "#EBF0F8",
           "ticks": "",
           "title": {
            "standoff": 15
           },
           "zerolinecolor": "#EBF0F8",
           "zerolinewidth": 2
          },
          "yaxis": {
           "automargin": true,
           "gridcolor": "#EBF0F8",
           "linecolor": "#EBF0F8",
           "ticks": "",
           "title": {
            "standoff": 15
           },
           "zerolinecolor": "#EBF0F8",
           "zerolinewidth": 2
          }
         }
        },
        "title": {
         "font": {
          "color": "#2c3e50",
          "size": 20
         },
         "text": "Courbe de l'Accuracy Gap (Overfitting / Underfitting)",
         "x": 0.5
        },
        "width": 1000,
        "xaxis": {
         "title": {
          "text": "Expériences"
         }
        },
        "yaxis": {
         "title": {
          "text": "Accuracy Gap (Train - Test)"
         }
        }
       }
      }
     },
     "metadata": {},
     "output_type": "display_data"
    }
   ],
   "source": [
    "fig = go.Figure()\n",
    "\n",
    "# Courbe principale de l'accuracy gap\n",
    "fig.add_trace(go.Scatter(\n",
    "    x=list(range(len(df))),\n",
    "    y=df['accuracy_gap'],\n",
    "    mode='lines+markers',\n",
    "    name='Accuracy Gap',\n",
    "    line=dict(color='#e74c3c', width=4),\n",
    "    marker=dict(size=10, color='#c0392b', line=dict(width=2, color='white')),\n",
    "    hovertemplate='<b>Expérience %{x}</b><br>' +\n",
    "                  'Accuracy Gap: %{y:.4f}<br>' +\n",
    "                  'Learning Rate: %{customdata[0]}<br>' +\n",
    "                  'Époques: %{customdata[1]}<br>' +\n",
    "                  '<extra></extra>',\n",
    "    customdata=list(zip(df['learning_rate'], df['epochs']))\n",
    "))\n",
    "\n",
    "# Ligne de référence à 0 (pas d'overfitting)\n",
    "fig.add_hline(y=0, line_dash=\"dash\", line_color=\"green\", line_width=2,\n",
    "              annotation_text=\"Gap = 0 (généralisation parfaite)\", \n",
    "              annotation_position=\"top left\")\n",
    "\n",
    "# Ligne de la moyenne\n",
    "mean_gap = df['accuracy_gap'].mean()\n",
    "fig.add_hline(y=mean_gap, line_dash=\"dot\", line_color=\"orange\", line_width=2,\n",
    "              annotation_text=f\"Moyenne = {mean_gap:.4f}\", \n",
    "              annotation_position=\"bottom left\")\n",
    "\n",
    "# Colorer le fond selon les zones d'overfitting\n",
    "fig.add_hrect(y0=-0.1, y1=0, fillcolor=\"lightgreen\", opacity=0.2, \n",
    "              annotation_text=\"Zone de sous-apprentissage\", annotation_position=\"inside bottom\")\n",
    "fig.add_hrect(y0=0, y1=0.02, fillcolor=\"lightblue\", opacity=0.2,\n",
    "              annotation_text=\"Zone optimale\", annotation_position=\"inside top\")\n",
    "fig.add_hrect(y0=0.02, y1=0.1, fillcolor=\"lightyellow\", opacity=0.2,\n",
    "              annotation_text=\"Overfitting léger\", annotation_position=\"inside top\")\n",
    "\n",
    "# Annoter les points extrêmes\n",
    "min_gap_idx = df['accuracy_gap'].idxmin()\n",
    "max_gap_idx = df['accuracy_gap'].idxmax()\n",
    "\n",
    "fig.add_annotation(\n",
    "    x=min_gap_idx, y=df.loc[min_gap_idx, 'accuracy_gap'],\n",
    "    text=f\"Minimum<br>LR: {df.loc[min_gap_idx, 'learning_rate']}<br>E: {df.loc[min_gap_idx, 'epochs']}\",\n",
    "    showarrow=True, arrowhead=2, arrowcolor=\"green\", arrowwidth=2,\n",
    "    bgcolor=\"lightgreen\", bordercolor=\"green\", borderwidth=2\n",
    ")\n",
    "\n",
    "fig.add_annotation(\n",
    "    x=max_gap_idx, y=df.loc[max_gap_idx, 'accuracy_gap'],\n",
    "    text=f\"Maximum<br>LR: {df.loc[max_gap_idx, 'learning_rate']}<br>E: {df.loc[max_gap_idx, 'epochs']}\",\n",
    "    showarrow=True, arrowhead=2, arrowcolor=\"red\", arrowwidth=2,\n",
    "    bgcolor=\"lightcoral\", bordercolor=\"red\", borderwidth=2\n",
    ")\n",
    "\n",
    "# Mise en forme\n",
    "fig.update_layout(\n",
    "    title={\n",
    "        'text': 'Courbe de l\\'Accuracy Gap (Overfitting / Underfitting)',\n",
    "        'x': 0.5,\n",
    "        'font': {'size': 20, 'color': '#2c3e50'}\n",
    "    },\n",
    "    xaxis_title='Expériences',\n",
    "    yaxis_title='Accuracy Gap (Train - Test)',\n",
    "    template='plotly_white',\n",
    "    height=600,\n",
    "    width=1000,\n",
    "    hovermode='x unified',\n",
    "    font=dict(size=12),\n",
    "    legend=dict(\n",
    "        orientation=\"h\",\n",
    "        yanchor=\"bottom\",\n",
    "        y=1.02,\n",
    "        xanchor=\"right\",\n",
    "        x=1\n",
    "    )\n",
    ")\n",
    "\n",
    "# # Ajouter des étiquettes sur l'axe X\n",
    "# fig.update_xaxis(\n",
    "#     tickmode='array',\n",
    "#     tickvals=list(range(len(df))),\n",
    "#     ticktext=[f\"Exp {i+1}\" for i in range(len(df))],\n",
    "#     tickangle=45\n",
    "# )\n",
    "\n",
    "fig.show()"
   ]
  },
  {
   "cell_type": "code",
   "execution_count": 21,
   "id": "b0f603d0",
   "metadata": {},
   "outputs": [
    {
     "data": {
      "application/vnd.plotly.v1+json": {
       "config": {
        "plotlyServerURL": "https://plot.ly"
       },
       "data": [
        {
         "alignmentgroup": "True",
         "hovertemplate": "Nombre de genres=%{x}<br>Test Accuracy=%{y}<extra></extra>",
         "legendgroup": "2 genres",
         "marker": {
          "color": "#636efa"
         },
         "name": "2 genres",
         "notched": false,
         "offsetgroup": "2 genres",
         "orientation": "v",
         "showlegend": true,
         "type": "box",
         "x": [
          "2 genres",
          "2 genres"
         ],
         "x0": " ",
         "xaxis": "x",
         "y": {
          "bdata": "XI/C9Shc5z+F61G4HoXnPw==",
          "dtype": "f8"
         },
         "y0": " ",
         "yaxis": "y"
        },
        {
         "alignmentgroup": "True",
         "hovertemplate": "Nombre de genres=%{x}<br>Test Accuracy=%{y}<extra></extra>",
         "legendgroup": "10 genres",
         "marker": {
          "color": "#EF553B"
         },
         "name": "10 genres",
         "notched": false,
         "offsetgroup": "10 genres",
         "orientation": "v",
         "showlegend": true,
         "type": "box",
         "x": [
          "10 genres",
          "10 genres"
         ],
         "x0": " ",
         "xaxis": "x",
         "y": {
          "bdata": "PujZrPpcxT8ofoy5awnJPw==",
          "dtype": "f8"
         },
         "y0": " ",
         "yaxis": "y"
        }
       ],
       "layout": {
        "annotations": [
         {
          "showarrow": false,
          "text": "Référence = 0.5",
          "x": "2 genres",
          "y": 0.5,
          "yshift": 10
         },
         {
          "showarrow": false,
          "text": "Référence = 0.1",
          "x": "10 genres",
          "y": 0.1,
          "yshift": 10
         }
        ],
        "boxmode": "overlay",
        "legend": {
         "title": {
          "text": "Nombre de genres"
         },
         "tracegroupgap": 0
        },
        "shapes": [
         {
          "line": {
           "color": "black",
           "dash": "dash"
          },
          "type": "line",
          "x0": -0.4,
          "x1": 0.4,
          "xref": "x",
          "y0": 0.5,
          "y1": 0.5,
          "yref": "y"
         },
         {
          "line": {
           "color": "black",
           "dash": "dash"
          },
          "type": "line",
          "x0": 0.6,
          "x1": 1.4,
          "xref": "x",
          "y0": 0.1,
          "y1": 0.1,
          "yref": "y"
         }
        ],
        "template": {
         "data": {
          "bar": [
           {
            "error_x": {
             "color": "#2a3f5f"
            },
            "error_y": {
             "color": "#2a3f5f"
            },
            "marker": {
             "line": {
              "color": "#E5ECF6",
              "width": 0.5
             },
             "pattern": {
              "fillmode": "overlay",
              "size": 10,
              "solidity": 0.2
             }
            },
            "type": "bar"
           }
          ],
          "barpolar": [
           {
            "marker": {
             "line": {
              "color": "#E5ECF6",
              "width": 0.5
             },
             "pattern": {
              "fillmode": "overlay",
              "size": 10,
              "solidity": 0.2
             }
            },
            "type": "barpolar"
           }
          ],
          "carpet": [
           {
            "aaxis": {
             "endlinecolor": "#2a3f5f",
             "gridcolor": "white",
             "linecolor": "white",
             "minorgridcolor": "white",
             "startlinecolor": "#2a3f5f"
            },
            "baxis": {
             "endlinecolor": "#2a3f5f",
             "gridcolor": "white",
             "linecolor": "white",
             "minorgridcolor": "white",
             "startlinecolor": "#2a3f5f"
            },
            "type": "carpet"
           }
          ],
          "choropleth": [
           {
            "colorbar": {
             "outlinewidth": 0,
             "ticks": ""
            },
            "type": "choropleth"
           }
          ],
          "contour": [
           {
            "colorbar": {
             "outlinewidth": 0,
             "ticks": ""
            },
            "colorscale": [
             [
              0,
              "#0d0887"
             ],
             [
              0.1111111111111111,
              "#46039f"
             ],
             [
              0.2222222222222222,
              "#7201a8"
             ],
             [
              0.3333333333333333,
              "#9c179e"
             ],
             [
              0.4444444444444444,
              "#bd3786"
             ],
             [
              0.5555555555555556,
              "#d8576b"
             ],
             [
              0.6666666666666666,
              "#ed7953"
             ],
             [
              0.7777777777777778,
              "#fb9f3a"
             ],
             [
              0.8888888888888888,
              "#fdca26"
             ],
             [
              1,
              "#f0f921"
             ]
            ],
            "type": "contour"
           }
          ],
          "contourcarpet": [
           {
            "colorbar": {
             "outlinewidth": 0,
             "ticks": ""
            },
            "type": "contourcarpet"
           }
          ],
          "heatmap": [
           {
            "colorbar": {
             "outlinewidth": 0,
             "ticks": ""
            },
            "colorscale": [
             [
              0,
              "#0d0887"
             ],
             [
              0.1111111111111111,
              "#46039f"
             ],
             [
              0.2222222222222222,
              "#7201a8"
             ],
             [
              0.3333333333333333,
              "#9c179e"
             ],
             [
              0.4444444444444444,
              "#bd3786"
             ],
             [
              0.5555555555555556,
              "#d8576b"
             ],
             [
              0.6666666666666666,
              "#ed7953"
             ],
             [
              0.7777777777777778,
              "#fb9f3a"
             ],
             [
              0.8888888888888888,
              "#fdca26"
             ],
             [
              1,
              "#f0f921"
             ]
            ],
            "type": "heatmap"
           }
          ],
          "histogram": [
           {
            "marker": {
             "pattern": {
              "fillmode": "overlay",
              "size": 10,
              "solidity": 0.2
             }
            },
            "type": "histogram"
           }
          ],
          "histogram2d": [
           {
            "colorbar": {
             "outlinewidth": 0,
             "ticks": ""
            },
            "colorscale": [
             [
              0,
              "#0d0887"
             ],
             [
              0.1111111111111111,
              "#46039f"
             ],
             [
              0.2222222222222222,
              "#7201a8"
             ],
             [
              0.3333333333333333,
              "#9c179e"
             ],
             [
              0.4444444444444444,
              "#bd3786"
             ],
             [
              0.5555555555555556,
              "#d8576b"
             ],
             [
              0.6666666666666666,
              "#ed7953"
             ],
             [
              0.7777777777777778,
              "#fb9f3a"
             ],
             [
              0.8888888888888888,
              "#fdca26"
             ],
             [
              1,
              "#f0f921"
             ]
            ],
            "type": "histogram2d"
           }
          ],
          "histogram2dcontour": [
           {
            "colorbar": {
             "outlinewidth": 0,
             "ticks": ""
            },
            "colorscale": [
             [
              0,
              "#0d0887"
             ],
             [
              0.1111111111111111,
              "#46039f"
             ],
             [
              0.2222222222222222,
              "#7201a8"
             ],
             [
              0.3333333333333333,
              "#9c179e"
             ],
             [
              0.4444444444444444,
              "#bd3786"
             ],
             [
              0.5555555555555556,
              "#d8576b"
             ],
             [
              0.6666666666666666,
              "#ed7953"
             ],
             [
              0.7777777777777778,
              "#fb9f3a"
             ],
             [
              0.8888888888888888,
              "#fdca26"
             ],
             [
              1,
              "#f0f921"
             ]
            ],
            "type": "histogram2dcontour"
           }
          ],
          "mesh3d": [
           {
            "colorbar": {
             "outlinewidth": 0,
             "ticks": ""
            },
            "type": "mesh3d"
           }
          ],
          "parcoords": [
           {
            "line": {
             "colorbar": {
              "outlinewidth": 0,
              "ticks": ""
             }
            },
            "type": "parcoords"
           }
          ],
          "pie": [
           {
            "automargin": true,
            "type": "pie"
           }
          ],
          "scatter": [
           {
            "fillpattern": {
             "fillmode": "overlay",
             "size": 10,
             "solidity": 0.2
            },
            "type": "scatter"
           }
          ],
          "scatter3d": [
           {
            "line": {
             "colorbar": {
              "outlinewidth": 0,
              "ticks": ""
             }
            },
            "marker": {
             "colorbar": {
              "outlinewidth": 0,
              "ticks": ""
             }
            },
            "type": "scatter3d"
           }
          ],
          "scattercarpet": [
           {
            "marker": {
             "colorbar": {
              "outlinewidth": 0,
              "ticks": ""
             }
            },
            "type": "scattercarpet"
           }
          ],
          "scattergeo": [
           {
            "marker": {
             "colorbar": {
              "outlinewidth": 0,
              "ticks": ""
             }
            },
            "type": "scattergeo"
           }
          ],
          "scattergl": [
           {
            "marker": {
             "colorbar": {
              "outlinewidth": 0,
              "ticks": ""
             }
            },
            "type": "scattergl"
           }
          ],
          "scattermap": [
           {
            "marker": {
             "colorbar": {
              "outlinewidth": 0,
              "ticks": ""
             }
            },
            "type": "scattermap"
           }
          ],
          "scattermapbox": [
           {
            "marker": {
             "colorbar": {
              "outlinewidth": 0,
              "ticks": ""
             }
            },
            "type": "scattermapbox"
           }
          ],
          "scatterpolar": [
           {
            "marker": {
             "colorbar": {
              "outlinewidth": 0,
              "ticks": ""
             }
            },
            "type": "scatterpolar"
           }
          ],
          "scatterpolargl": [
           {
            "marker": {
             "colorbar": {
              "outlinewidth": 0,
              "ticks": ""
             }
            },
            "type": "scatterpolargl"
           }
          ],
          "scatterternary": [
           {
            "marker": {
             "colorbar": {
              "outlinewidth": 0,
              "ticks": ""
             }
            },
            "type": "scatterternary"
           }
          ],
          "surface": [
           {
            "colorbar": {
             "outlinewidth": 0,
             "ticks": ""
            },
            "colorscale": [
             [
              0,
              "#0d0887"
             ],
             [
              0.1111111111111111,
              "#46039f"
             ],
             [
              0.2222222222222222,
              "#7201a8"
             ],
             [
              0.3333333333333333,
              "#9c179e"
             ],
             [
              0.4444444444444444,
              "#bd3786"
             ],
             [
              0.5555555555555556,
              "#d8576b"
             ],
             [
              0.6666666666666666,
              "#ed7953"
             ],
             [
              0.7777777777777778,
              "#fb9f3a"
             ],
             [
              0.8888888888888888,
              "#fdca26"
             ],
             [
              1,
              "#f0f921"
             ]
            ],
            "type": "surface"
           }
          ],
          "table": [
           {
            "cells": {
             "fill": {
              "color": "#EBF0F8"
             },
             "line": {
              "color": "white"
             }
            },
            "header": {
             "fill": {
              "color": "#C8D4E3"
             },
             "line": {
              "color": "white"
             }
            },
            "type": "table"
           }
          ]
         },
         "layout": {
          "annotationdefaults": {
           "arrowcolor": "#2a3f5f",
           "arrowhead": 0,
           "arrowwidth": 1
          },
          "autotypenumbers": "strict",
          "coloraxis": {
           "colorbar": {
            "outlinewidth": 0,
            "ticks": ""
           }
          },
          "colorscale": {
           "diverging": [
            [
             0,
             "#8e0152"
            ],
            [
             0.1,
             "#c51b7d"
            ],
            [
             0.2,
             "#de77ae"
            ],
            [
             0.3,
             "#f1b6da"
            ],
            [
             0.4,
             "#fde0ef"
            ],
            [
             0.5,
             "#f7f7f7"
            ],
            [
             0.6,
             "#e6f5d0"
            ],
            [
             0.7,
             "#b8e186"
            ],
            [
             0.8,
             "#7fbc41"
            ],
            [
             0.9,
             "#4d9221"
            ],
            [
             1,
             "#276419"
            ]
           ],
           "sequential": [
            [
             0,
             "#0d0887"
            ],
            [
             0.1111111111111111,
             "#46039f"
            ],
            [
             0.2222222222222222,
             "#7201a8"
            ],
            [
             0.3333333333333333,
             "#9c179e"
            ],
            [
             0.4444444444444444,
             "#bd3786"
            ],
            [
             0.5555555555555556,
             "#d8576b"
            ],
            [
             0.6666666666666666,
             "#ed7953"
            ],
            [
             0.7777777777777778,
             "#fb9f3a"
            ],
            [
             0.8888888888888888,
             "#fdca26"
            ],
            [
             1,
             "#f0f921"
            ]
           ],
           "sequentialminus": [
            [
             0,
             "#0d0887"
            ],
            [
             0.1111111111111111,
             "#46039f"
            ],
            [
             0.2222222222222222,
             "#7201a8"
            ],
            [
             0.3333333333333333,
             "#9c179e"
            ],
            [
             0.4444444444444444,
             "#bd3786"
            ],
            [
             0.5555555555555556,
             "#d8576b"
            ],
            [
             0.6666666666666666,
             "#ed7953"
            ],
            [
             0.7777777777777778,
             "#fb9f3a"
            ],
            [
             0.8888888888888888,
             "#fdca26"
            ],
            [
             1,
             "#f0f921"
            ]
           ]
          },
          "colorway": [
           "#636efa",
           "#EF553B",
           "#00cc96",
           "#ab63fa",
           "#FFA15A",
           "#19d3f3",
           "#FF6692",
           "#B6E880",
           "#FF97FF",
           "#FECB52"
          ],
          "font": {
           "color": "#2a3f5f"
          },
          "geo": {
           "bgcolor": "white",
           "lakecolor": "white",
           "landcolor": "#E5ECF6",
           "showlakes": true,
           "showland": true,
           "subunitcolor": "white"
          },
          "hoverlabel": {
           "align": "left"
          },
          "hovermode": "closest",
          "mapbox": {
           "style": "light"
          },
          "paper_bgcolor": "white",
          "plot_bgcolor": "#E5ECF6",
          "polar": {
           "angularaxis": {
            "gridcolor": "white",
            "linecolor": "white",
            "ticks": ""
           },
           "bgcolor": "#E5ECF6",
           "radialaxis": {
            "gridcolor": "white",
            "linecolor": "white",
            "ticks": ""
           }
          },
          "scene": {
           "xaxis": {
            "backgroundcolor": "#E5ECF6",
            "gridcolor": "white",
            "gridwidth": 2,
            "linecolor": "white",
            "showbackground": true,
            "ticks": "",
            "zerolinecolor": "white"
           },
           "yaxis": {
            "backgroundcolor": "#E5ECF6",
            "gridcolor": "white",
            "gridwidth": 2,
            "linecolor": "white",
            "showbackground": true,
            "ticks": "",
            "zerolinecolor": "white"
           },
           "zaxis": {
            "backgroundcolor": "#E5ECF6",
            "gridcolor": "white",
            "gridwidth": 2,
            "linecolor": "white",
            "showbackground": true,
            "ticks": "",
            "zerolinecolor": "white"
           }
          },
          "shapedefaults": {
           "line": {
            "color": "#2a3f5f"
           }
          },
          "ternary": {
           "aaxis": {
            "gridcolor": "white",
            "linecolor": "white",
            "ticks": ""
           },
           "baxis": {
            "gridcolor": "white",
            "linecolor": "white",
            "ticks": ""
           },
           "bgcolor": "#E5ECF6",
           "caxis": {
            "gridcolor": "white",
            "linecolor": "white",
            "ticks": ""
           }
          },
          "title": {
           "x": 0.05
          },
          "xaxis": {
           "automargin": true,
           "gridcolor": "white",
           "linecolor": "white",
           "ticks": "",
           "title": {
            "standoff": 15
           },
           "zerolinecolor": "white",
           "zerolinewidth": 2
          },
          "yaxis": {
           "automargin": true,
           "gridcolor": "white",
           "linecolor": "white",
           "ticks": "",
           "title": {
            "standoff": 15
           },
           "zerolinecolor": "white",
           "zerolinewidth": 2
          }
         }
        },
        "title": {
         "text": "Comparaison de la test_accuracy : 2 genres vs 10 genres"
        },
        "xaxis": {
         "anchor": "y",
         "categoryarray": [
          "2 genres",
          "10 genres"
         ],
         "categoryorder": "array",
         "domain": [
          0,
          1
         ],
         "title": {
          "text": "Nombre de genres"
         }
        },
        "yaxis": {
         "anchor": "x",
         "domain": [
          0,
          1
         ],
         "range": [
          0,
          1
         ],
         "title": {
          "text": "Test Accuracy"
         }
        }
       }
      }
     },
     "metadata": {},
     "output_type": "display_data"
    }
   ],
   "source": [
    "import pandas as pd\n",
    "import plotly.express as px\n",
    "\n",
    "# Données\n",
    "\n",
    "columns = [\n",
    "    \"timestamp\", \"model\", \"genres\", \"shape\", \"train_acc\", \"test_acc\", \"nb_centers\",\n",
    "    \"std\", \"algo\", \"epochs\", \"lr\"\n",
    "]\n",
    "\n",
    "df = pd.read_csv(\"../results/logs/rbf4.csv\")\n",
    "df[\"num_genres\"] = df[\"categories\"].str.count(r\"\\|\") + 1\n",
    "df[\"Group\"] = df[\"num_genres\"].apply(lambda x: \"2 genres\" if x == 2 else \"10 genres\")\n",
    "\n",
    "# Création du boxplot de base\n",
    "fig = px.box(\n",
    "    df,\n",
    "    x=\"Group\",\n",
    "    y=\"test_accuracy\",\n",
    "    title=\"Comparaison de la test_accuracy : 2 genres vs 10 genres\",\n",
    "    labels={\"test_accuracy\": \"Test Accuracy\", \"Group\": \"Nombre de genres\"},\n",
    "    color=\"Group\"\n",
    ")\n",
    "\n",
    "# Ajout des lignes horizontales conditionnelles\n",
    "fig.add_shape(\n",
    "    type=\"line\",\n",
    "    x0=-0.4, x1=0.4, y0=0.5, y1=0.5,\n",
    "    xref=\"x\", yref=\"y\",\n",
    "    line=dict(color=\"black\", dash=\"dash\"),\n",
    ")\n",
    "fig.add_annotation(x=\"2 genres\", y=0.5, text=\"Référence = 0.5\", showarrow=False, yshift=10)\n",
    "\n",
    "fig.add_shape(\n",
    "    type=\"line\",\n",
    "    x0=0.6, x1=1.4, y0=0.1, y1=0.1,\n",
    "    xref=\"x\", yref=\"y\",\n",
    "    line=dict(color=\"black\", dash=\"dash\"),\n",
    ")\n",
    "fig.add_annotation(x=\"10 genres\", y=0.1, text=\"Référence = 0.1\", showarrow=False, yshift=10)\n",
    "fig.update_yaxes(range=[0, 1])\n",
    "fig.show()"
   ]
  },
  {
   "cell_type": "code",
   "execution_count": 5,
   "id": "4f6b010c",
   "metadata": {},
   "outputs": [
    {
     "name": "stdout",
     "output_type": "stream",
     "text": [
      "timestamp         2025-07-22T02:22:38.623817\n",
      "model                                 linear\n",
      "categories                 Horreur|Animation\n",
      "size                                   15x10\n",
      "train_accuracy                      0.770939\n",
      "test_accuracy                       0.746835\n",
      "epochs                                  5000\n",
      "learning_rate                           0.05\n",
      "algo                              rosenblatt\n",
      "Name: 10, dtype: object\n"
     ]
    }
   ],
   "source": [
    "import pandas as pd\n",
    "\n",
    "df = pd.read_csv(\"../tests-projets/results/logs/linear.csv\")\n",
    "\n",
    "best_row = df.loc[df['test_accuracy'].idxmax()]\n",
    "print(best_row)"
   ]
  },
  {
   "cell_type": "code",
   "execution_count": 6,
   "id": "af1fb1cd",
   "metadata": {},
   "outputs": [
    {
     "name": "stdout",
     "output_type": "stream",
     "text": [
      "timestamp         2025-07-22T02:31:20.624175\n",
      "model                                 linear\n",
      "categories          Horreur|Animation|Action\n",
      "size                                   15x10\n",
      "train_accuracy                      0.650314\n",
      "test_accuracy                       0.586265\n",
      "epochs                                  5000\n",
      "learning_rate                           0.05\n",
      "algo                        gradient-descent\n",
      "Name: 11, dtype: object\n"
     ]
    }
   ],
   "source": [
    "import pandas as pd\n",
    "\n",
    "df = pd.read_csv(\"../tests-projets/results/logs/linear2.csv\")\n",
    "\n",
    "best_row = df.loc[df['test_accuracy'].idxmax()]\n",
    "print(best_row)"
   ]
  },
  {
   "cell_type": "code",
   "execution_count": 3,
   "id": "87766ab5",
   "metadata": {},
   "outputs": [
    {
     "data": {
      "application/vnd.plotly.v1+json": {
       "config": {
        "plotlyServerURL": "https://plot.ly"
       },
       "data": [
        {
         "cells": {
          "align": "center",
          "fill": {
           "color": "white"
          },
          "line": {
           "color": "lightgray"
          },
          "values": [
           [
            "15x10",
            "10x10",
            "20x15",
            "10x5"
           ],
           [
            0.7375,
            0.7844,
            0.6719,
            0.7756
           ],
           [
            0.76,
            0.76,
            0.7325,
            0.7425
           ],
           [
            "Taille d'image avec la meilleure test_accuracy, et est supérieur au train_acc, ce qui montre qu'il n'y a pas d'overfitting",
            "test_accuracy également le plus élevé, mais inférieur au train_acc, donc on commence à avoir un léger overfitting",
            "Ici, on observe un underfitting, car on monte le nombre de paramètres, sans monter le nombres d'exemples, le train_acc chute",
            "Encore un léger overfitting, avec une perte de qualité sur les images, qui risque d'entrainer des biais pour les entrainements"
           ]
          ]
         },
         "header": {
          "align": "center",
          "fill": {
           "color": "lightgray"
          },
          "font": {
           "color": "black",
           "size": 12
          },
          "line": {
           "color": "darkslategray"
          },
          "values": [
           "size",
           "train_accuracy",
           "test_accuracy",
           "Commentaire"
          ]
         },
         "type": "table"
        }
       ],
       "layout": {
        "height": 500,
        "template": {
         "data": {
          "bar": [
           {
            "error_x": {
             "color": "#2a3f5f"
            },
            "error_y": {
             "color": "#2a3f5f"
            },
            "marker": {
             "line": {
              "color": "#E5ECF6",
              "width": 0.5
             },
             "pattern": {
              "fillmode": "overlay",
              "size": 10,
              "solidity": 0.2
             }
            },
            "type": "bar"
           }
          ],
          "barpolar": [
           {
            "marker": {
             "line": {
              "color": "#E5ECF6",
              "width": 0.5
             },
             "pattern": {
              "fillmode": "overlay",
              "size": 10,
              "solidity": 0.2
             }
            },
            "type": "barpolar"
           }
          ],
          "carpet": [
           {
            "aaxis": {
             "endlinecolor": "#2a3f5f",
             "gridcolor": "white",
             "linecolor": "white",
             "minorgridcolor": "white",
             "startlinecolor": "#2a3f5f"
            },
            "baxis": {
             "endlinecolor": "#2a3f5f",
             "gridcolor": "white",
             "linecolor": "white",
             "minorgridcolor": "white",
             "startlinecolor": "#2a3f5f"
            },
            "type": "carpet"
           }
          ],
          "choropleth": [
           {
            "colorbar": {
             "outlinewidth": 0,
             "ticks": ""
            },
            "type": "choropleth"
           }
          ],
          "contour": [
           {
            "colorbar": {
             "outlinewidth": 0,
             "ticks": ""
            },
            "colorscale": [
             [
              0,
              "#0d0887"
             ],
             [
              0.1111111111111111,
              "#46039f"
             ],
             [
              0.2222222222222222,
              "#7201a8"
             ],
             [
              0.3333333333333333,
              "#9c179e"
             ],
             [
              0.4444444444444444,
              "#bd3786"
             ],
             [
              0.5555555555555556,
              "#d8576b"
             ],
             [
              0.6666666666666666,
              "#ed7953"
             ],
             [
              0.7777777777777778,
              "#fb9f3a"
             ],
             [
              0.8888888888888888,
              "#fdca26"
             ],
             [
              1,
              "#f0f921"
             ]
            ],
            "type": "contour"
           }
          ],
          "contourcarpet": [
           {
            "colorbar": {
             "outlinewidth": 0,
             "ticks": ""
            },
            "type": "contourcarpet"
           }
          ],
          "heatmap": [
           {
            "colorbar": {
             "outlinewidth": 0,
             "ticks": ""
            },
            "colorscale": [
             [
              0,
              "#0d0887"
             ],
             [
              0.1111111111111111,
              "#46039f"
             ],
             [
              0.2222222222222222,
              "#7201a8"
             ],
             [
              0.3333333333333333,
              "#9c179e"
             ],
             [
              0.4444444444444444,
              "#bd3786"
             ],
             [
              0.5555555555555556,
              "#d8576b"
             ],
             [
              0.6666666666666666,
              "#ed7953"
             ],
             [
              0.7777777777777778,
              "#fb9f3a"
             ],
             [
              0.8888888888888888,
              "#fdca26"
             ],
             [
              1,
              "#f0f921"
             ]
            ],
            "type": "heatmap"
           }
          ],
          "histogram": [
           {
            "marker": {
             "pattern": {
              "fillmode": "overlay",
              "size": 10,
              "solidity": 0.2
             }
            },
            "type": "histogram"
           }
          ],
          "histogram2d": [
           {
            "colorbar": {
             "outlinewidth": 0,
             "ticks": ""
            },
            "colorscale": [
             [
              0,
              "#0d0887"
             ],
             [
              0.1111111111111111,
              "#46039f"
             ],
             [
              0.2222222222222222,
              "#7201a8"
             ],
             [
              0.3333333333333333,
              "#9c179e"
             ],
             [
              0.4444444444444444,
              "#bd3786"
             ],
             [
              0.5555555555555556,
              "#d8576b"
             ],
             [
              0.6666666666666666,
              "#ed7953"
             ],
             [
              0.7777777777777778,
              "#fb9f3a"
             ],
             [
              0.8888888888888888,
              "#fdca26"
             ],
             [
              1,
              "#f0f921"
             ]
            ],
            "type": "histogram2d"
           }
          ],
          "histogram2dcontour": [
           {
            "colorbar": {
             "outlinewidth": 0,
             "ticks": ""
            },
            "colorscale": [
             [
              0,
              "#0d0887"
             ],
             [
              0.1111111111111111,
              "#46039f"
             ],
             [
              0.2222222222222222,
              "#7201a8"
             ],
             [
              0.3333333333333333,
              "#9c179e"
             ],
             [
              0.4444444444444444,
              "#bd3786"
             ],
             [
              0.5555555555555556,
              "#d8576b"
             ],
             [
              0.6666666666666666,
              "#ed7953"
             ],
             [
              0.7777777777777778,
              "#fb9f3a"
             ],
             [
              0.8888888888888888,
              "#fdca26"
             ],
             [
              1,
              "#f0f921"
             ]
            ],
            "type": "histogram2dcontour"
           }
          ],
          "mesh3d": [
           {
            "colorbar": {
             "outlinewidth": 0,
             "ticks": ""
            },
            "type": "mesh3d"
           }
          ],
          "parcoords": [
           {
            "line": {
             "colorbar": {
              "outlinewidth": 0,
              "ticks": ""
             }
            },
            "type": "parcoords"
           }
          ],
          "pie": [
           {
            "automargin": true,
            "type": "pie"
           }
          ],
          "scatter": [
           {
            "fillpattern": {
             "fillmode": "overlay",
             "size": 10,
             "solidity": 0.2
            },
            "type": "scatter"
           }
          ],
          "scatter3d": [
           {
            "line": {
             "colorbar": {
              "outlinewidth": 0,
              "ticks": ""
             }
            },
            "marker": {
             "colorbar": {
              "outlinewidth": 0,
              "ticks": ""
             }
            },
            "type": "scatter3d"
           }
          ],
          "scattercarpet": [
           {
            "marker": {
             "colorbar": {
              "outlinewidth": 0,
              "ticks": ""
             }
            },
            "type": "scattercarpet"
           }
          ],
          "scattergeo": [
           {
            "marker": {
             "colorbar": {
              "outlinewidth": 0,
              "ticks": ""
             }
            },
            "type": "scattergeo"
           }
          ],
          "scattergl": [
           {
            "marker": {
             "colorbar": {
              "outlinewidth": 0,
              "ticks": ""
             }
            },
            "type": "scattergl"
           }
          ],
          "scattermap": [
           {
            "marker": {
             "colorbar": {
              "outlinewidth": 0,
              "ticks": ""
             }
            },
            "type": "scattermap"
           }
          ],
          "scattermapbox": [
           {
            "marker": {
             "colorbar": {
              "outlinewidth": 0,
              "ticks": ""
             }
            },
            "type": "scattermapbox"
           }
          ],
          "scatterpolar": [
           {
            "marker": {
             "colorbar": {
              "outlinewidth": 0,
              "ticks": ""
             }
            },
            "type": "scatterpolar"
           }
          ],
          "scatterpolargl": [
           {
            "marker": {
             "colorbar": {
              "outlinewidth": 0,
              "ticks": ""
             }
            },
            "type": "scatterpolargl"
           }
          ],
          "scatterternary": [
           {
            "marker": {
             "colorbar": {
              "outlinewidth": 0,
              "ticks": ""
             }
            },
            "type": "scatterternary"
           }
          ],
          "surface": [
           {
            "colorbar": {
             "outlinewidth": 0,
             "ticks": ""
            },
            "colorscale": [
             [
              0,
              "#0d0887"
             ],
             [
              0.1111111111111111,
              "#46039f"
             ],
             [
              0.2222222222222222,
              "#7201a8"
             ],
             [
              0.3333333333333333,
              "#9c179e"
             ],
             [
              0.4444444444444444,
              "#bd3786"
             ],
             [
              0.5555555555555556,
              "#d8576b"
             ],
             [
              0.6666666666666666,
              "#ed7953"
             ],
             [
              0.7777777777777778,
              "#fb9f3a"
             ],
             [
              0.8888888888888888,
              "#fdca26"
             ],
             [
              1,
              "#f0f921"
             ]
            ],
            "type": "surface"
           }
          ],
          "table": [
           {
            "cells": {
             "fill": {
              "color": "#EBF0F8"
             },
             "line": {
              "color": "white"
             }
            },
            "header": {
             "fill": {
              "color": "#C8D4E3"
             },
             "line": {
              "color": "white"
             }
            },
            "type": "table"
           }
          ]
         },
         "layout": {
          "annotationdefaults": {
           "arrowcolor": "#2a3f5f",
           "arrowhead": 0,
           "arrowwidth": 1
          },
          "autotypenumbers": "strict",
          "coloraxis": {
           "colorbar": {
            "outlinewidth": 0,
            "ticks": ""
           }
          },
          "colorscale": {
           "diverging": [
            [
             0,
             "#8e0152"
            ],
            [
             0.1,
             "#c51b7d"
            ],
            [
             0.2,
             "#de77ae"
            ],
            [
             0.3,
             "#f1b6da"
            ],
            [
             0.4,
             "#fde0ef"
            ],
            [
             0.5,
             "#f7f7f7"
            ],
            [
             0.6,
             "#e6f5d0"
            ],
            [
             0.7,
             "#b8e186"
            ],
            [
             0.8,
             "#7fbc41"
            ],
            [
             0.9,
             "#4d9221"
            ],
            [
             1,
             "#276419"
            ]
           ],
           "sequential": [
            [
             0,
             "#0d0887"
            ],
            [
             0.1111111111111111,
             "#46039f"
            ],
            [
             0.2222222222222222,
             "#7201a8"
            ],
            [
             0.3333333333333333,
             "#9c179e"
            ],
            [
             0.4444444444444444,
             "#bd3786"
            ],
            [
             0.5555555555555556,
             "#d8576b"
            ],
            [
             0.6666666666666666,
             "#ed7953"
            ],
            [
             0.7777777777777778,
             "#fb9f3a"
            ],
            [
             0.8888888888888888,
             "#fdca26"
            ],
            [
             1,
             "#f0f921"
            ]
           ],
           "sequentialminus": [
            [
             0,
             "#0d0887"
            ],
            [
             0.1111111111111111,
             "#46039f"
            ],
            [
             0.2222222222222222,
             "#7201a8"
            ],
            [
             0.3333333333333333,
             "#9c179e"
            ],
            [
             0.4444444444444444,
             "#bd3786"
            ],
            [
             0.5555555555555556,
             "#d8576b"
            ],
            [
             0.6666666666666666,
             "#ed7953"
            ],
            [
             0.7777777777777778,
             "#fb9f3a"
            ],
            [
             0.8888888888888888,
             "#fdca26"
            ],
            [
             1,
             "#f0f921"
            ]
           ]
          },
          "colorway": [
           "#636efa",
           "#EF553B",
           "#00cc96",
           "#ab63fa",
           "#FFA15A",
           "#19d3f3",
           "#FF6692",
           "#B6E880",
           "#FF97FF",
           "#FECB52"
          ],
          "font": {
           "color": "#2a3f5f"
          },
          "geo": {
           "bgcolor": "white",
           "lakecolor": "white",
           "landcolor": "#E5ECF6",
           "showlakes": true,
           "showland": true,
           "subunitcolor": "white"
          },
          "hoverlabel": {
           "align": "left"
          },
          "hovermode": "closest",
          "mapbox": {
           "style": "light"
          },
          "paper_bgcolor": "white",
          "plot_bgcolor": "#E5ECF6",
          "polar": {
           "angularaxis": {
            "gridcolor": "white",
            "linecolor": "white",
            "ticks": ""
           },
           "bgcolor": "#E5ECF6",
           "radialaxis": {
            "gridcolor": "white",
            "linecolor": "white",
            "ticks": ""
           }
          },
          "scene": {
           "xaxis": {
            "backgroundcolor": "#E5ECF6",
            "gridcolor": "white",
            "gridwidth": 2,
            "linecolor": "white",
            "showbackground": true,
            "ticks": "",
            "zerolinecolor": "white"
           },
           "yaxis": {
            "backgroundcolor": "#E5ECF6",
            "gridcolor": "white",
            "gridwidth": 2,
            "linecolor": "white",
            "showbackground": true,
            "ticks": "",
            "zerolinecolor": "white"
           },
           "zaxis": {
            "backgroundcolor": "#E5ECF6",
            "gridcolor": "white",
            "gridwidth": 2,
            "linecolor": "white",
            "showbackground": true,
            "ticks": "",
            "zerolinecolor": "white"
           }
          },
          "shapedefaults": {
           "line": {
            "color": "#2a3f5f"
           }
          },
          "ternary": {
           "aaxis": {
            "gridcolor": "white",
            "linecolor": "white",
            "ticks": ""
           },
           "baxis": {
            "gridcolor": "white",
            "linecolor": "white",
            "ticks": ""
           },
           "bgcolor": "#E5ECF6",
           "caxis": {
            "gridcolor": "white",
            "linecolor": "white",
            "ticks": ""
           }
          },
          "title": {
           "x": 0.05
          },
          "xaxis": {
           "automargin": true,
           "gridcolor": "white",
           "linecolor": "white",
           "ticks": "",
           "title": {
            "standoff": 15
           },
           "zerolinecolor": "white",
           "zerolinewidth": 2
          },
          "yaxis": {
           "automargin": true,
           "gridcolor": "white",
           "linecolor": "white",
           "ticks": "",
           "title": {
            "standoff": 15
           },
           "zerolinecolor": "white",
           "zerolinewidth": 2
          }
         }
        },
        "title": {
         "text": "Résultats d'entraînement du modèle RBF"
        },
        "width": 1400
       }
      }
     },
     "metadata": {},
     "output_type": "display_data"
    }
   ],
   "source": [
    "import pandas as pd\n",
    "import plotly.graph_objects as go\n",
    "\n",
    "df = pd.read_csv(\"../results/logs/rbf_various_sizes.csv\")\n",
    "\n",
    "comms = [\n",
    "    \"Taille d'image avec la meilleure test_accuracy, et est supérieur au train_acc, ce qui montre qu'il n'y a pas d'overfitting\",\n",
    "    \"test_accuracy également le plus élevé, mais inférieur au train_acc, donc on commence à avoir un léger overfitting\",\n",
    "    \"Ici, on observe un underfitting, car on monte le nombre de paramètres, sans monter le nombres d'exemples, le train_acc chute\",\n",
    "    \"Encore un léger overfitting, avec une perte de qualité sur les images, qui risque d'entrainer des biais pour les entrainements\"\n",
    "]\n",
    "\n",
    "df[\"comm\"] = comms\n",
    "\n",
    "fig = go.Figure(data=[go.Table(\n",
    "    header=dict(\n",
    "        values=[\"size\", \"train_accuracy\", \"test_accuracy\", \"Commentaire\"],\n",
    "        fill_color='lightgray',\n",
    "        align='center',\n",
    "        font=dict(color='black', size=12),\n",
    "        line_color='darkslategray'\n",
    "    ),\n",
    "    cells=dict(\n",
    "        values=[df[col] for col in [\"size\", \"train_accuracy\", \"test_accuracy\", \"comm\"]],\n",
    "        fill_color='white',\n",
    "        align='center',\n",
    "        line_color='lightgray'\n",
    "    )\n",
    ")])\n",
    "\n",
    "fig.update_layout(\n",
    "    title=\"Résultats d'entraînement du modèle RBF\",\n",
    "    width=1400,\n",
    "    height=500\n",
    ")\n",
    "\n",
    "fig.show()"
   ]
  },
  {
   "cell_type": "code",
   "execution_count": null,
   "id": "e075e9a8",
   "metadata": {},
   "outputs": [],
   "source": []
  }
 ],
 "metadata": {
  "kernelspec": {
   "display_name": "Python 3",
   "language": "python",
   "name": "python3"
  },
  "language_info": {
   "codemirror_mode": {
    "name": "ipython",
    "version": 3
   },
   "file_extension": ".py",
   "mimetype": "text/x-python",
   "name": "python",
   "nbconvert_exporter": "python",
   "pygments_lexer": "ipython3",
   "version": "3.10.4"
  }
 },
 "nbformat": 4,
 "nbformat_minor": 5
}
