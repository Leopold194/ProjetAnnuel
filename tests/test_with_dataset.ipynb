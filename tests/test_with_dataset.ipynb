{
 "cells": [
  {
   "cell_type": "code",
   "execution_count": 1,
   "id": "4df6b27e",
   "metadata": {},
   "outputs": [],
   "source": [
    "import json\n",
    "\n",
    "with open(r\"..\\dataset\\images_flat.json\", \"r\") as dataset:\n",
    "    data = json.load(dataset)\n",
    "    \n",
    "imgs_as_lists = [movie[\"image\"] for movie in data]\n",
    "genres = [movie[\"genre\"] for movie in data]"
   ]
  },
  {
   "cell_type": "code",
   "execution_count": 2,
   "id": "d820f83b",
   "metadata": {},
   "outputs": [
    {
     "name": "stdout",
     "output_type": "stream",
     "text": [
      "Name: ProjetAnnuel\n",
      "Version: 0.1.0\n",
      "Summary: \n",
      "Home-page: \n",
      "Author: \n",
      "Author-email: \n",
      "License: \n",
      "Location: D:\\Users\\hadinao\\Documents\\Cours_ESGI\\PA\\ProjetAnnuel\\venv\\Lib\\site-packages\n",
      "Requires: \n",
      "Required-by: \n"
     ]
    }
   ],
   "source": [
    "!pip show projetannuel"
   ]
  },
  {
   "cell_type": "code",
   "execution_count": 2,
   "id": "0ec8b4a5",
   "metadata": {},
   "outputs": [],
   "source": [
    "import projetannuel\n",
    "\n",
    "y = projetannuel.string_labels(genres)\n",
    "\n",
    "model = projetannuel.LinearModel(\n",
    "    imgs_as_lists,\n",
    "    y\n",
    ")"
   ]
  },
  {
   "cell_type": "code",
   "execution_count": 3,
   "id": "e6259b26",
   "metadata": {},
   "outputs": [
    {
     "name": "stdout",
     "output_type": "stream",
     "text": [
      "Ici ça passe\n"
     ]
    }
   ],
   "source": [
    "model.train_classification(epochs=100, learning_rate=0.1)"
   ]
  },
  {
   "cell_type": "code",
   "execution_count": 9,
   "id": "287f6e56",
   "metadata": {},
   "outputs": [],
   "source": [
    "y_pred = []\n",
    "for img in imgs_as_lists:\n",
    "    y_pred.append(model.predict(img))"
   ]
  },
  {
   "cell_type": "code",
   "execution_count": 10,
   "id": "ac0fc05b",
   "metadata": {},
   "outputs": [
    {
     "name": "stdout",
     "output_type": "stream",
     "text": [
      "['Animation', 'Animation', 'Animation', 'Animation', 'Animation', 'Animation', 'Animation', 'Animation', 'Animation', 'Animation', 'Animation', 'Animation', 'Animation', 'Animation', 'Animation', 'Animation', 'Animation', 'Animation', 'Animation', 'Animation', 'Animation', 'Animation', 'Animation', 'Animation', 'Animation', 'Animation', 'Animation', 'Animation', 'Animation', 'Animation', 'Animation', 'Animation', 'Animation', 'Animation', 'Animation', 'Animation', 'Animation', 'Animation', 'Animation', 'Animation', 'Animation', 'Animation', 'Animation', 'Animation', 'Animation', 'Animation', 'Animation', 'Animation', 'Animation', 'Animation', 'Animation', 'Animation', 'Animation', 'Animation', 'Animation', 'Animation', 'Animation', 'Animation', 'Animation', 'Animation', 'Animation', 'Animation', 'Animation', 'Animation', 'Animation', 'Animation', 'Animation', 'Animation', 'Animation', 'Animation', 'Animation', 'Animation', 'Animation', 'Animation', 'Animation', 'Animation', 'Animation', 'Animation', 'Animation', 'Animation', 'Animation', 'Animation', 'Animation', 'Animation', 'Animation', 'Animation', 'Animation', 'Animation', 'Animation', 'Animation', 'Animation', 'Animation', 'Animation', 'Animation', 'Animation', 'Animation', 'Animation', 'Animation', 'Animation', 'Animation', 'Animation', 'Horreur', 'Animation', 'Horreur', 'Animation', 'Animation', 'Animation', 'Horreur', 'Animation', 'Horreur', 'Animation', 'Animation', 'Animation', 'Animation', 'Animation', 'Horreur', 'Animation', 'Animation', 'Animation', 'Horreur', 'Animation', 'Horreur', 'Animation', 'Animation', 'Animation', 'Horreur', 'Horreur', 'Animation', 'Horreur', 'Horreur', 'Animation', 'Animation', 'Animation', 'Horreur', 'Animation', 'Horreur', 'Horreur', 'Animation', 'Animation', 'Animation', 'Horreur', 'Animation', 'Animation', 'Animation', 'Horreur', 'Animation', 'Horreur', 'Animation', 'Animation', 'Horreur', 'Horreur', 'Animation', 'Animation', 'Animation', 'Animation', 'Animation', 'Horreur', 'Animation', 'Animation', 'Animation', 'Animation', 'Animation', 'Animation', 'Animation', 'Animation', 'Horreur', 'Animation', 'Animation', 'Horreur', 'Horreur', 'Animation', 'Animation', 'Horreur', 'Animation', 'Horreur', 'Animation', 'Animation', 'Horreur', 'Animation', 'Horreur', 'Animation', 'Horreur', 'Animation', 'Animation', 'Animation', 'Horreur', 'Animation', 'Animation', 'Horreur', 'Horreur', 'Animation', 'Animation', 'Horreur', 'Animation', 'Animation', 'Animation', 'Animation', 'Horreur', 'Animation', 'Horreur']\n"
     ]
    }
   ],
   "source": [
    "print(y_pred)"
   ]
  },
  {
   "cell_type": "code",
   "execution_count": 11,
   "id": "34147490",
   "metadata": {},
   "outputs": [
    {
     "data": {
      "text/plain": [
       "0.67"
      ]
     },
     "execution_count": 11,
     "metadata": {},
     "output_type": "execute_result"
    }
   ],
   "source": [
    "projetannuel.accuracy_score(genres, y_pred)"
   ]
  },
  {
   "cell_type": "code",
   "execution_count": 8,
   "id": "89a6b722",
   "metadata": {},
   "outputs": [
    {
     "name": "stdout",
     "output_type": "stream",
     "text": [
      "[16.48222886969674, 17.26978799617042, 16.820779844412115, 17.26938819745533, 17.26978799617042, 14.60941489722319, 17.26978799617042, 12.132335724486179, 17.26938819745533, 17.26978799617042, 8.948513867557907, 15.651822819138715, 17.26938819745533, 17.26978799617042, 9.540113303160814, 15.583920837351902, 17.26938819745533, 17.26978799617042, 7.25010726568238, 7.464891395846365, 16.142319187847562, 17.26978799617042, 7.525934757498487, 16.454580162893215, 17.26978799617042, 7.042558487608207, 15.439738115281685, 17.26978799617042, 6.173707817475199, 10.703478793740738, 16.924394508425614, 12.825978625884348, 17.134619937424354, 8.391288376404809, 12.84891324003624, 16.876674368869054, 17.26978799617042, 5.534834385613529, 7.394842650070131, 10.730493532528053, 16.751128827450415, 17.26978799617042, 5.002745571481723, 7.45007889106977, 11.330980598596668, 16.702816558290227, 17.26978799617042, 4.834910988361951, 7.199558058252564, 10.688502508088176, 16.288119359913086, 17.26978799617042, 4.612629377674939, 7.3672386755068215, 13.005994324912455, 16.597041486270612, 17.265795457689332, 4.499976961908709, 6.77463282006799, 10.918941367712334, 15.69237827920845, 17.2138919446055, 4.1377038712209995, 6.204701703955776, 7.397640927387139, 13.857414789721515, 17.02813840388725, 4.689898221923448, 4.533963954689751, 11.992003626851735, 16.81537767042648, 6.73195794767152, 11.734813122096876, 14.526312471942195, 16.97122962274069, 4.131409973934504, 3.349858339391149, 4.885789288751351, 7.9905878830968415, 13.11253462731332, 16.939812584163313, 4.07299922325355, 3.4676602194303676, 7.550856249485462, 14.571731038793382, 14.06753292616451, 16.86615369749298, 3.7421296525952266, 3.1813272790597984, 6.085350640936671, 11.287602455148912, 13.206155984063422, 16.821405119085775, 3.412720404235663, 3.0624402660687724, 5.002217622759899, 8.71538658712869, 11.826092958892826, 16.340497686236116, 5.476855422631921]\n"
     ]
    }
   ],
   "source": [
    "print(model.loss)"
   ]
  },
  {
   "cell_type": "code",
   "execution_count": 7,
   "id": "0d7d582c",
   "metadata": {},
   "outputs": [
    {
     "data": {
      "image/png": "[encoded data removed]",
      "text/plain": [
       "<Figure size 1000x500 with 1 Axes>"
      ]
     },
     "metadata": {},
     "output_type": "display_data"
    }
   ],
   "source": [
    "import matplotlib.pyplot as plt\n",
    "import numpy as np\n",
    "\n",
    "plt.figure(figsize=(10, 5))\n",
    "plt.plot(model.loss, label='Loss')\n",
    "plt.xlabel('Epoch')\n",
    "plt.ylabel('Loss')\n",
    "plt.title('Courbe de perte (loss) au fil des epochs')\n",
    "plt.grid(True)\n",
    "plt.ylim(0, 1)\n",
    "plt.yticks(np.arange(0, 1.1, 0.1))\n",
    "plt.legend()\n",
    "plt.tight_layout()\n",
    "plt.show()"
   ]
  },
  {
   "cell_type": "markdown",
   "id": "6b01dcfc",
   "metadata": {},
   "source": [
    "## MLP"
   ]
  },
  {
   "cell_type": "code",
   "execution_count": 2,
   "id": "e2b13461",
   "metadata": {},
   "outputs": [
    {
     "data": {
      "text/plain": [
       "1160"
      ]
     },
     "execution_count": 2,
     "metadata": {},
     "output_type": "execute_result"
    }
   ],
   "source": [
    "genres_binary = [[0] if x==\"Animation\" else [1] for x in genres]\n",
    "len(genres_binary)"
   ]
  },
  {
   "cell_type": "code",
   "execution_count": 3,
   "id": "6793cfa5",
   "metadata": {},
   "outputs": [],
   "source": [
    "import projetannuel as pa\n",
    "model = pa.MLP([1200, 2,2, 1])\n",
    "model.train(imgs_as_lists,genres_binary,1000,0.01,True)\n",
    "y_pred = [model.predict(x,True)[0] for x in imgs_as_lists]"
   ]
  },
  {
   "cell_type": "code",
   "execution_count": 4,
   "id": "496d3046",
   "metadata": {},
   "outputs": [
    {
     "ename": "AttributeError",
     "evalue": "'builtins.MLP' object has no attribute 'loss'",
     "output_type": "error",
     "traceback": [
      "\u001b[31m---------------------------------------------------------------------------\u001b[39m",
      "\u001b[31mAttributeError\u001b[39m                            Traceback (most recent call last)",
      "\u001b[36mCell\u001b[39m\u001b[36m \u001b[39m\u001b[32mIn[4]\u001b[39m\u001b[32m, line 1\u001b[39m\n\u001b[32m----> \u001b[39m\u001b[32m1\u001b[39m \u001b[43mmodel\u001b[49m\u001b[43m.\u001b[49m\u001b[43mloss\u001b[49m\n",
      "\u001b[31mAttributeError\u001b[39m: 'builtins.MLP' object has no attribute 'loss'"
     ]
    }
   ],
   "source": [
    "model.loss"
   ]
  },
  {
   "cell_type": "code",
   "execution_count": 23,
   "id": "c0a950a2",
   "metadata": {},
   "outputs": [],
   "source": [
    "genres_binary_2 = [x[0] for x in genres_binary]"
   ]
  },
  {
   "cell_type": "code",
   "execution_count": 29,
   "id": "4dd6308e",
   "metadata": {},
   "outputs": [
    {
     "data": {
      "text/plain": [
       "1160"
      ]
     },
     "execution_count": 29,
     "metadata": {},
     "output_type": "execute_result"
    }
   ],
   "source": [
    "y_pred = [0 if x<0.5 else 1 for x in y_pred]\n",
    "y_pred.count(1)"
   ]
  },
  {
   "cell_type": "code",
   "execution_count": 24,
   "id": "22dfb1f6",
   "metadata": {},
   "outputs": [
    {
     "data": {
      "text/plain": [
       "0.49224137931034484"
      ]
     },
     "execution_count": 24,
     "metadata": {},
     "output_type": "execute_result"
    }
   ],
   "source": [
    "pa.accuracy_score(genres_binary_2, y_pred)"
   ]
  }
 ],
 "metadata": {
  "kernelspec": {
   "display_name": "venv",
   "language": "python",
   "name": "python3"
  },
  "language_info": {
   "codemirror_mode": {
    "name": "ipython",
    "version": 3
   },
   "file_extension": ".py",
   "mimetype": "text/x-python",
   "name": "python",
   "nbconvert_exporter": "python",
   "pygments_lexer": "ipython3",
   "version": "3.12.7"
  }
 },
 "nbformat": 4,
 "nbformat_minor": 5
}
