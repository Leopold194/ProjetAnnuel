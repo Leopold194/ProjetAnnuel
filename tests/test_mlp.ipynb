{
 "cells": [
  {
   "cell_type": "code",
   "execution_count": null,
   "id": "5467e08c",
   "metadata": {},
   "outputs": [],
   "source": [
    "import projetannuel as pa "
   ]
  },
  {
   "cell_type": "code",
   "execution_count": null,
   "id": "2cf0b01c",
   "metadata": {},
   "outputs": [],
   "source": [
    "import numpy as np "
   ]
  },
  {
   "cell_type": "code",
   "execution_count": null,
   "id": "299f12b8",
   "metadata": {},
   "outputs": [],
   "source": [
    "import pandas as pd \n",
    "df = pd.read_csv(\"../data/BankNote_Authentication.csv\", sep=',')\n",
    "df"
   ]
  },
  {
   "cell_type": "code",
   "execution_count": null,
   "id": "f5e81b4d",
   "metadata": {},
   "outputs": [],
   "source": [
    "import numpy as np\n",
    "np.random.seed(0)\n",
    "\n",
    "def split_dataframe(df, test_ratio=0.2, seed=42):\n",
    "    np.random.seed(seed)\n",
    "    shuffled_indices = np.random.permutation(len(df))\n",
    "    test_set_size = int(len(df) * test_ratio)\n",
    "    test_indices = shuffled_indices[:test_set_size]\n",
    "    train_indices = shuffled_indices[test_set_size:]\n",
    "    return df.iloc[train_indices], df.iloc[test_indices]\n",
    "\n",
    "train_df, test_df = split_dataframe(df, test_ratio=0.2)"
   ]
  },
  {
   "cell_type": "code",
   "execution_count": null,
   "id": "07132e56",
   "metadata": {},
   "outputs": [],
   "source": [
    "Y_train = [ x for x in train_df[\"class\"] ]\n",
    "print(f\"Y_train len : {len(Y_train)}\")\n",
    "Y_test = [x for x in test_df[\"class\"]]\n",
    "print(f\"Y_test len : {len(Y_test)}\")"
   ]
  },
  {
   "cell_type": "code",
   "execution_count": null,
   "id": "e05273b4",
   "metadata": {},
   "outputs": [],
   "source": [
    "X = train_df[['variance', 'skewness', 'curtosis', 'entropy']].values\n",
    "X_test = test_df[['variance', 'skewness', 'curtosis', 'entropy']].values"
   ]
  },
  {
   "cell_type": "code",
   "execution_count": null,
   "id": "d0accff3",
   "metadata": {},
   "outputs": [],
   "source": [
    "Y_train = np.array(Y_train).reshape(-1,1)\n",
    "Y_test = np.array(Y_test).reshape(-1,1)"
   ]
  },
  {
   "cell_type": "code",
   "execution_count": null,
   "id": "98b4afcd",
   "metadata": {},
   "outputs": [],
   "source": [
    "model = pa.MLP([4,3,3,1])\n",
    "model.train(X,Y_train,20000,0.1,True)\n",
    "Y_pred = [model.predict(x,True) for x in X_test]"
   ]
  },
  {
   "cell_type": "code",
   "execution_count": 53,
   "id": "f40a5b63",
   "metadata": {},
   "outputs": [
    {
     "data": {
      "text/plain": [
       "1.0"
      ]
     },
     "execution_count": 53,
     "metadata": {},
     "output_type": "execute_result"
    }
   ],
   "source": [
    "pa.accuracy_score(Y_test.tolist(),Y_pred)"
   ]
  }
 ],
 "metadata": {
  "kernelspec": {
   "display_name": "venv",
   "language": "python",
   "name": "python3"
  },
  "language_info": {
   "codemirror_mode": {
    "name": "ipython",
    "version": 3
   },
   "file_extension": ".py",
   "mimetype": "text/x-python",
   "name": "python",
   "nbconvert_exporter": "python",
   "pygments_lexer": "ipython3",
   "version": "3.12.7"
  }
 },
 "nbformat": 4,
 "nbformat_minor": 5
}
