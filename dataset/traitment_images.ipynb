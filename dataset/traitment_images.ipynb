{
 "cells": [
  {
   "cell_type": "code",
   "execution_count": null,
   "id": "a09b7f6a",
   "metadata": {},
   "outputs": [
    {
     "name": "stdout",
     "output_type": "stream",
     "text": [
      "📂 Chargement du dataset...\n",
      "🎬 16849 films trouvés dans le dataset\n",
      "🔄 Traitement de 5 images...\n"
     ]
    },
    {
     "name": "stderr",
     "output_type": "stream",
     "text": [
      "Genre: Action: 100%|██████████| 5/5 [00:02<00:00,  2.32img/s, Success=5, Failed=0, Size=20x30]"
     ]
    },
    {
     "name": "stdout",
     "output_type": "stream",
     "text": [
      "\n",
      "✅ Traitement terminé !\n",
      "   📊 Images traitées avec succès: 5\n",
      "   ❌ Échecs: 0\n",
      "   📐 Taille des images: 20x30\n",
      "   🎯 Genres uniques: 1\n",
      "\n",
      "💾 Arrays prêts pour l'entraînement:\n",
      "   - imgs: 5 images de shape (1, 3, 30, 20)\n",
      "   - genres: 5 labels\n"
     ]
    },
    {
     "name": "stderr",
     "output_type": "stream",
     "text": [
      "\n"
     ]
    }
   ],
   "source": [
    "from PIL import Image\n",
    "import numpy as np\n",
    "import requests\n",
    "from io import BytesIO\n",
    "import json\n",
    "import os\n",
    "from tqdm import tqdm\n",
    "import time\n",
    "\n",
    "# Variables pour la taille des images\n",
    "x, y = 20, 30\n",
    "\n",
    "folder_name = f\"images_{x}x{y}\"\n",
    "os.makedirs(folder_name, exist_ok=True)\n",
    "\n",
    "print(\"📂 Chargement du dataset...\")\n",
    "with open(\"movies_full_classif.json\") as dataset:\n",
    "    data = json.load(dataset)\n",
    "\n",
    "print(f\"🎬 {len(data)} films trouvés dans le dataset\")\n",
    "\n",
    "movies_to_process = data[:5]\n",
    "print(f\"🔄 Traitement de {len(movies_to_process)} images...\")\n",
    "\n",
    "imgs = []\n",
    "genres = []\n",
    "failed_downloads = []\n",
    "\n",
    "with tqdm(movies_to_process, desc=\"Processing images\", unit=\"img\") as pbar:\n",
    "    \n",
    "    for i, movie in enumerate(pbar):\n",
    "        try:\n",
    "            pbar.set_description(f\"Genre: {movie['genre'][:15]}\")\n",
    "            \n",
    "            url = movie[\"poster\"]\n",
    "            response = requests.get(url, timeout=10)\n",
    "            response.raise_for_status()\n",
    "            \n",
    "            img = Image.open(BytesIO(response.content)).convert(\"RGB\")\n",
    "            img = img.resize((x, y))\n",
    "            \n",
    "            genre_clean = movie['genre'].replace('/', '_').replace('\\\\', '_')\n",
    "            filename = f\"{folder_name}/movie_{i:03d}_{genre_clean}.jpg\"\n",
    "            img.save(filename, \"JPEG\")\n",
    "            \n",
    "            img_array = np.array(img, dtype=np.float32)\n",
    "            img_array /= 255.0\n",
    "            img_array = np.transpose(img_array, (2, 0, 1))\n",
    "            img_batch = np.expand_dims(img_array, axis=0)\n",
    "            \n",
    "            imgs_as_lists = [img[0].flatten().tolist() for img in imgs]\n",
    "            \n",
    "            imgs.append(img_batch)\n",
    "            genres.append(movie[\"genre\"])\n",
    "            \n",
    "            pbar.set_postfix({\n",
    "                'Success': len(imgs),\n",
    "                'Failed': len(failed_downloads),\n",
    "                'Size': f\"{x}x{y}\"\n",
    "            })\n",
    "            \n",
    "        except requests.RequestException as e:\n",
    "            failed_downloads.append({\n",
    "                'index': i,\n",
    "                'genre': movie.get('genre', 'Unknown'),\n",
    "                'error': f\"Network error: {str(e)}\"\n",
    "            })\n",
    "            pbar.set_postfix({\n",
    "                'Success': len(imgs),\n",
    "                'Failed': len(failed_downloads),\n",
    "                'LastError': 'Network'\n",
    "            })\n",
    "            \n",
    "        except Exception as e:\n",
    "            failed_downloads.append({\n",
    "                'index': i,\n",
    "                'genre': movie.get('genre', 'Unknown'),\n",
    "                'error': f\"Processing error: {str(e)}\"\n",
    "            })\n",
    "            pbar.set_postfix({\n",
    "                'Success': len(imgs),\n",
    "                'Failed': len(failed_downloads),\n",
    "                'LastError': 'Processing'\n",
    "            })\n",
    "        \n",
    "        time.sleep(0.1)\n",
    "\n",
    "# Résumé final\n",
    "print(f\"\\n✅ Traitement terminé !\")\n",
    "print(f\"   📊 Images traitées avec succès: {len(imgs)}\")\n",
    "print(f\"   ❌ Échecs: {len(failed_downloads)}\")\n",
    "print(f\"   📐 Taille des images: {x}x{y}\")\n",
    "print(f\"   🎯 Genres uniques: {len(set(genres))}\")\n",
    "\n",
    "# Afficher les erreurs si il y en a\n",
    "if failed_downloads:\n",
    "    print(f\"\\n⚠️  Détail des échecs:\")\n",
    "    for fail in failed_downloads[:5]:  # Afficher les 5 premiers\n",
    "        print(f\"   - Film {fail['index']} ({fail['genre']}): {fail['error']}\")\n",
    "    if len(failed_downloads) > 5:\n",
    "        print(f\"   ... et {len(failed_downloads) - 5} autres échecs\")\n",
    "\n",
    "print(f\"\\n💾 Arrays prêts pour l'entraînement:\")\n",
    "print(f\"   - imgs: {len(imgs)} images de shape {imgs[0].shape if imgs else 'N/A'}\")\n",
    "print(f\"   - genres: {len(genres)} labels\")"
   ]
  },
  {
   "cell_type": "code",
   "execution_count": 4,
   "id": "6e97daa9",
   "metadata": {},
   "outputs": [
    {
     "name": "stdout",
     "output_type": "stream",
     "text": [
      "[{'index': 1986, 'genre': 'Aventure', 'error': \"Network error: HTTPSConnectionPool(host='image.tmdb.org', port=443): Read timed out. (read timeout=10)\"}, {'index': 5158, 'genre': 'Documentaire', 'error': \"Network error: HTTPSConnectionPool(host='image.tmdb.org', port=443): Read timed out. (read timeout=10)\"}, {'index': 5452, 'genre': 'Documentaire', 'error': \"Network error: HTTPSConnectionPool(host='image.tmdb.org', port=443): Read timed out. (read timeout=10)\"}, {'index': 6119, 'genre': 'Drame', 'error': \"Network error: HTTPSConnectionPool(host='image.tmdb.org', port=443): Read timed out. (read timeout=10)\"}, {'index': 9403, 'genre': 'Histoire', 'error': \"Network error: HTTPSConnectionPool(host='image.tmdb.org', port=443): Read timed out. (read timeout=10)\"}, {'index': 9481, 'genre': 'Histoire', 'error': \"Network error: HTTPSConnectionPool(host='image.tmdb.org', port=443): Read timed out. (read timeout=10)\"}, {'index': 9580, 'genre': 'Histoire', 'error': \"Network error: HTTPSConnectionPool(host='image.tmdb.org', port=443): Read timed out. (read timeout=10)\"}, {'index': 10016, 'genre': 'Horreur', 'error': \"Network error: HTTPSConnectionPool(host='image.tmdb.org', port=443): Read timed out. (read timeout=10)\"}, {'index': 10076, 'genre': 'Horreur', 'error': \"Network error: HTTPSConnectionPool(host='image.tmdb.org', port=443): Read timed out. (read timeout=10)\"}, {'index': 13079, 'genre': 'Romance', 'error': \"Network error: HTTPSConnectionPool(host='image.tmdb.org', port=443): Read timed out. (read timeout=10)\"}, {'index': 14314, 'genre': 'TÃ©lÃ©film', 'error': \"Network error: HTTPSConnectionPool(host='image.tmdb.org', port=443): Read timed out. (read timeout=10)\"}, {'index': 14357, 'genre': 'TÃ©lÃ©film', 'error': \"Network error: HTTPSConnectionPool(host='image.tmdb.org', port=443): Read timed out. (read timeout=10)\"}]\n"
     ]
    }
   ],
   "source": [
    "print(failed_downloads)"
   ]
  },
  {
   "cell_type": "code",
   "execution_count": 5,
   "id": "67b5f017",
   "metadata": {},
   "outputs": [],
   "source": [
    "# Conversion des images en listes pour JSON\n",
    "# imgs_as_lists = [img.tolist() for img in imgs]\n",
    "\n",
    "# # Création d'une structure avec les genres associés\n",
    "# data_to_save = [\n",
    "#     {\"image\": img, \"genre\": genre}\n",
    "#     for img, genre in zip(imgs_as_lists, genres)\n",
    "# ]\n",
    "\n",
    "# # Écriture dans un fichier JSON\n",
    "# with open(\"images_and_genres.json\", \"w\") as f:\n",
    "#     json.dump(data_to_save, f)\n",
    "\n",
    "imgs_as_lists = [img[0].flatten().tolist() for img in imgs]\n",
    "data_to_save = [\n",
    "    {\"image\": img, \"genre\": genre}\n",
    "    for img, genre in zip(imgs_as_lists, genres)\n",
    "]\n",
    "\n",
    "# Sauvegarder dans un fichier JSON\n",
    "with open(\"images_flat_full.json\", \"w\") as f:\n",
    "    json.dump(data_to_save, f)\n"
   ]
  },
  {
   "cell_type": "code",
   "execution_count": null,
   "id": "a72b61db",
   "metadata": {},
   "outputs": [],
   "source": []
  }
 ],
 "metadata": {
  "kernelspec": {
   "display_name": "Python 3",
   "language": "python",
   "name": "python3"
  },
  "language_info": {
   "codemirror_mode": {
    "name": "ipython",
    "version": 3
   },
   "file_extension": ".py",
   "mimetype": "text/x-python",
   "name": "python",
   "nbconvert_exporter": "python",
   "pygments_lexer": "ipython3",
   "version": "3.10.4"
  }
 },
 "nbformat": 4,
 "nbformat_minor": 5
}
