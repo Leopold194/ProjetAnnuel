{
 "cells": [
  {
   "cell_type": "code",
<<<<<<< HEAD
   "execution_count": 10,
=======
   "execution_count": 1,
>>>>>>> 9b1a748849a164f013473f9ef0cf89e93b787496
   "id": "a09b7f6a",
   "metadata": {},
   "outputs": [],
   "source": [
    "from PIL import Image\n",
    "import numpy as np\n",
    "import requests\n",
    "from io import BytesIO\n",
    "import json\n",
    "\n",
    "with open(\"movies_binary_classif.json\") as dataset:\n",
    "    data = json.load(dataset)\n",
    "\n",
    "imgs = []\n",
    "\n",
    "for movie in data:\n",
    "\n",
    "    url = movie[\"poster\"]\n",
    "\n",
    "    response = requests.get(url)\n",
    "    img = Image.open(BytesIO(response.content)).convert(\"RGB\")\n",
    "\n",
<<<<<<< HEAD
    "    #img = img.resize((224, 224))\n",
=======
>>>>>>> 9b1a748849a164f013473f9ef0cf89e93b787496
    "    img = img.resize((20, 20))\n",
    "\n",
    "    img_array = np.array(img, dtype=np.float32)\n",
    "\n",
    "    img_array /= 255.0\n",
    "\n",
    "    img_array = np.transpose(img_array, (2, 0, 1))\n",
    "\n",
    "    img_batch = np.expand_dims(img_array, axis=0)\n",
    "    \n",
    "    imgs.append(img_batch)\n",
    "    \n",
    "genres = [movie[\"genre\"] for movie in data]\n"
   ]
  },
  {
   "cell_type": "code",
<<<<<<< HEAD
   "execution_count": 11,
=======
   "execution_count": 2,
>>>>>>> 9b1a748849a164f013473f9ef0cf89e93b787496
   "id": "67b5f017",
   "metadata": {},
   "outputs": [],
   "source": [
    "# Conversion des images en listes pour JSON\n",
    "# imgs_as_lists = [img.tolist() for img in imgs]\n",
    "\n",
    "# # Création d'une structure avec les genres associés\n",
    "# data_to_save = [\n",
    "#     {\"image\": img, \"genre\": genre}\n",
    "#     for img, genre in zip(imgs_as_lists, genres)\n",
    "# ]\n",
    "\n",
    "# # Écriture dans un fichier JSON\n",
    "# with open(\"images_and_genres.json\", \"w\") as f:\n",
    "#     json.dump(data_to_save, f)\n",
    "\n",
    "imgs_as_lists = [img[0].flatten().tolist() for img in imgs]\n",
    "data_to_save = [\n",
    "    {\"image\": img, \"genre\": genre}\n",
    "    for img, genre in zip(imgs_as_lists, genres)\n",
    "]\n",
    "\n",
    "# Sauvegarder dans un fichier JSON\n",
    "with open(\"images_flat_2.json\", \"w\") as f:\n",
    "    json.dump(data_to_save, f)\n"
   ]
  }
 ],
 "metadata": {
  "kernelspec": {
<<<<<<< HEAD
   "display_name": "venv",
=======
   "display_name": "Python 3",
>>>>>>> 9b1a748849a164f013473f9ef0cf89e93b787496
   "language": "python",
   "name": "python3"
  },
  "language_info": {
   "codemirror_mode": {
    "name": "ipython",
    "version": 3
   },
   "file_extension": ".py",
   "mimetype": "text/x-python",
   "name": "python",
   "nbconvert_exporter": "python",
   "pygments_lexer": "ipython3",
<<<<<<< HEAD
   "version": "3.12.7"
=======
   "version": "3.10.4"
>>>>>>> 9b1a748849a164f013473f9ef0cf89e93b787496
  }
 },
 "nbformat": 4,
 "nbformat_minor": 5
}
