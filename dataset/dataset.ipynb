{
 "cells": [
  {
   "cell_type": "code",
   "execution_count": null,
   "id": "37f32dbc",
   "metadata": {},
   "outputs": [],
   "source": [
    "import requests\n",
    "import dotenv\n",
    "import os\n",
    "import json\n",
    "\n",
    "dotenv.load_dotenv()\n",
    "token = os.getenv(\"TMDB_TOKEN\")\n",
    "\n",
    "\n",
    "headers = {\n",
    "    \"accept\": \"application/json\",\n",
    "    \"Authorization\": f\"Bearer {token}\"\n",
    "}\n",
    "\n",
    "\n",
    "url = \"https://api.themoviedb.org/3/genre/movie/list?language=fr\"\n",
    "response = requests.get(url, headers=headers)\n",
    "genres_str = response.json()\n",
    "id_to_genre = {genre['id']: genre['name'] for genre in genres_str['genres']}\n",
    "\n",
    "page = 1\n",
    "list_movies = []\n",
    "while page <= 20:\n",
    "    url = f\"https://api.themoviedb.org/3/movie/top_rated?language=fr-FR&page={page}\"\n",
    "    response = requests.get(url, headers=headers)\n",
    "    response = response.json()\n",
    "    \n",
    "    for i in range(0, len(response[\"results\"])):\n",
    "        data = {\n",
    "            \"genres\": [id_to_genre[i] for i in response[\"results\"][i][\"genre_ids\"]],\n",
    "            \"poster\": f\"https://image.tmdb.org/t/p/original{response['results'][i].get('poster_path')}\"\n",
    "        }\n",
    "        list_movies.append(data)\n",
    "    page += 1\n",
    "    \n",
    "with open(\"movies.json\", \"w\") as f:\n",
    "    json.dump(list_movies, f, indent=4)"
   ]
  }
 ],
 "metadata": {
  "kernelspec": {
   "display_name": "Python 3",
   "language": "python",
   "name": "python3"
  },
  "language_info": {
   "codemirror_mode": {
    "name": "ipython",
    "version": 3
   },
   "file_extension": ".py",
   "mimetype": "text/x-python",
   "name": "python",
   "nbconvert_exporter": "python",
   "pygments_lexer": "ipython3",
   "version": "3.10.4"
  }
 },
 "nbformat": 4,
 "nbformat_minor": 5
}
