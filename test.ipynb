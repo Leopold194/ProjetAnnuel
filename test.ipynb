{
 "cells": [
  {
   "cell_type": "code",
   "execution_count": 16,
   "id": "36111e11",
   "metadata": {},
   "outputs": [
    {
     "data": {
      "text/html": [
       "<div>\n",
       "<style scoped>\n",
       "    .dataframe tbody tr th:only-of-type {\n",
       "        vertical-align: middle;\n",
       "    }\n",
       "\n",
       "    .dataframe tbody tr th {\n",
       "        vertical-align: top;\n",
       "    }\n",
       "\n",
       "    .dataframe thead th {\n",
       "        text-align: right;\n",
       "    }\n",
       "</style>\n",
       "<table border=\"1\" class=\"dataframe\">\n",
       "  <thead>\n",
       "    <tr style=\"text-align: right;\">\n",
       "      <th></th>\n",
       "      <th>timestamp</th>\n",
       "      <th>model</th>\n",
       "      <th>categories</th>\n",
       "      <th>size</th>\n",
       "      <th>train_accuracy</th>\n",
       "      <th>test_accuracy</th>\n",
       "      <th>epochs</th>\n",
       "      <th>learning_rate</th>\n",
       "      <th>algo</th>\n",
       "    </tr>\n",
       "  </thead>\n",
       "  <tbody>\n",
       "    <tr>\n",
       "      <th>0</th>\n",
       "      <td>2025-07-23T16:26:07.873043</td>\n",
       "      <td>linear</td>\n",
       "      <td>['Horreur', 'Animation', 'Action']</td>\n",
       "      <td>15x10</td>\n",
       "      <td>0.567296</td>\n",
       "      <td>0.497487</td>\n",
       "      <td>361.972681</td>\n",
       "      <td>0.105471</td>\n",
       "      <td>gradient-descent</td>\n",
       "    </tr>\n",
       "    <tr>\n",
       "      <th>1</th>\n",
       "      <td>2025-07-23T16:28:01.008604</td>\n",
       "      <td>linear</td>\n",
       "      <td>['Horreur', 'Animation', 'Action']</td>\n",
       "      <td>15x10</td>\n",
       "      <td>0.423100</td>\n",
       "      <td>0.438900</td>\n",
       "      <td>839.000000</td>\n",
       "      <td>0.027900</td>\n",
       "      <td>rosenblatt</td>\n",
       "    </tr>\n",
       "    <tr>\n",
       "      <th>2</th>\n",
       "      <td>2025-07-23T16:28:39.324585</td>\n",
       "      <td>linear</td>\n",
       "      <td>['Horreur', 'Animation', 'Action']</td>\n",
       "      <td>15x10</td>\n",
       "      <td>0.590800</td>\n",
       "      <td>0.527600</td>\n",
       "      <td>813.000000</td>\n",
       "      <td>0.101200</td>\n",
       "      <td>gradient-descent</td>\n",
       "    </tr>\n",
       "    <tr>\n",
       "      <th>3</th>\n",
       "      <td>2025-07-23T16:29:18.633351</td>\n",
       "      <td>linear</td>\n",
       "      <td>['Horreur', 'Animation', 'Action']</td>\n",
       "      <td>15x10</td>\n",
       "      <td>0.501000</td>\n",
       "      <td>0.472400</td>\n",
       "      <td>1697.000000</td>\n",
       "      <td>0.031300</td>\n",
       "      <td>rosenblatt</td>\n",
       "    </tr>\n",
       "    <tr>\n",
       "      <th>4</th>\n",
       "      <td>2025-07-23T16:29:32.476540</td>\n",
       "      <td>linear</td>\n",
       "      <td>['Horreur', 'Animation', 'Action']</td>\n",
       "      <td>15x10</td>\n",
       "      <td>0.491000</td>\n",
       "      <td>0.479100</td>\n",
       "      <td>585.000000</td>\n",
       "      <td>0.032700</td>\n",
       "      <td>rosenblatt</td>\n",
       "    </tr>\n",
       "  </tbody>\n",
       "</table>\n",
       "</div>"
      ],
      "text/plain": [
       "                    timestamp   model                          categories  \\\n",
       "0  2025-07-23T16:26:07.873043  linear  ['Horreur', 'Animation', 'Action']   \n",
       "1  2025-07-23T16:28:01.008604  linear  ['Horreur', 'Animation', 'Action']   \n",
       "2  2025-07-23T16:28:39.324585  linear  ['Horreur', 'Animation', 'Action']   \n",
       "3  2025-07-23T16:29:18.633351  linear  ['Horreur', 'Animation', 'Action']   \n",
       "4  2025-07-23T16:29:32.476540  linear  ['Horreur', 'Animation', 'Action']   \n",
       "\n",
       "    size  train_accuracy  test_accuracy       epochs  learning_rate  \\\n",
       "0  15x10        0.567296       0.497487   361.972681       0.105471   \n",
       "1  15x10        0.423100       0.438900   839.000000       0.027900   \n",
       "2  15x10        0.590800       0.527600   813.000000       0.101200   \n",
       "3  15x10        0.501000       0.472400  1697.000000       0.031300   \n",
       "4  15x10        0.491000       0.479100   585.000000       0.032700   \n",
       "\n",
       "               algo  \n",
       "0  gradient-descent  \n",
       "1        rosenblatt  \n",
       "2  gradient-descent  \n",
       "3        rosenblatt  \n",
       "4        rosenblatt  "
      ]
     },
     "execution_count": 16,
     "metadata": {},
     "output_type": "execute_result"
    }
   ],
   "source": [
    "import pandas as pd \n",
    "df = pd.read_csv(\"results/logs/linear_genetic.csv\")\n",
    "df.head()"
   ]
  },
  {
   "cell_type": "code",
   "execution_count": 17,
   "id": "f40f4720",
   "metadata": {},
   "outputs": [],
   "source": [
    "df = df.iloc[:150,:]"
   ]
  },
  {
   "cell_type": "code",
   "execution_count": 2,
   "id": "cdf15d71",
   "metadata": {},
   "outputs": [
    {
     "data": {
      "text/html": [
       "<div>\n",
       "<style scoped>\n",
       "    .dataframe tbody tr th:only-of-type {\n",
       "        vertical-align: middle;\n",
       "    }\n",
       "\n",
       "    .dataframe tbody tr th {\n",
       "        vertical-align: top;\n",
       "    }\n",
       "\n",
       "    .dataframe thead th {\n",
       "        text-align: right;\n",
       "    }\n",
       "</style>\n",
       "<table border=\"1\" class=\"dataframe\">\n",
       "  <thead>\n",
       "    <tr style=\"text-align: right;\">\n",
       "      <th></th>\n",
       "      <th>timestamp</th>\n",
       "      <th>model_type</th>\n",
       "      <th>categories</th>\n",
       "      <th>image_size</th>\n",
       "      <th>train_accuracy</th>\n",
       "      <th>test_accuracy</th>\n",
       "      <th>soft_margin</th>\n",
       "    </tr>\n",
       "  </thead>\n",
       "  <tbody>\n",
       "    <tr>\n",
       "      <th>4</th>\n",
       "      <td>2025-07-22T03:24:26.694176</td>\n",
       "      <td>OneVsRest</td>\n",
       "      <td>['Horreur', 'Animation', 'Action']</td>\n",
       "      <td>15x10</td>\n",
       "      <td>0.5254</td>\n",
       "      <td>0.5477</td>\n",
       "      <td>0.5</td>\n",
       "    </tr>\n",
       "  </tbody>\n",
       "</table>\n",
       "</div>"
      ],
      "text/plain": [
       "                    timestamp model_type                          categories  \\\n",
       "4  2025-07-22T03:24:26.694176  OneVsRest  ['Horreur', 'Animation', 'Action']   \n",
       "\n",
       "  image_size  train_accuracy  test_accuracy  soft_margin  \n",
       "4      15x10          0.5254         0.5477          0.5  "
      ]
     },
     "execution_count": 2,
     "metadata": {},
     "output_type": "execute_result"
    }
   ],
   "source": [
    "#df = df[df.categories.str.contains(\"ction\")]\n",
    "df[df[\"test_accuracy\"]==df.test_accuracy.max()]"
   ]
  },
  {
   "cell_type": "code",
   "execution_count": 5,
   "id": "241a1c58",
   "metadata": {},
   "outputs": [
    {
     "data": {
      "application/vnd.plotly.v1+json": {
       "config": {
        "plotlyServerURL": "https://plot.ly"
       },
       "data": [
        {
         "mode": "lines+markers",
         "name": "Train Accuracy",
         "type": "scatter",
         "x": {
          "bdata": "exSuR+F6hD+amZmZmZmpP5qZmZmZmbk/mpmZmZmZuT+amZmZmZm5P5qZmZmZmbk/mpmZmZmZyT8zMzMzMzPTP2ZmZmZmZtY/mpmZmZmZ2T/NzMzMzMzcPwAAAAAAAOA/AAAAAAAA4D+amZmZmZnhPzMzMzMzM+M/AAAAAAAA8D8AAAAAAADwPwAAAAAAAPg/AAAAAAAAAEAAAAAAAAAEQAAAAAAAABRA",
          "dtype": "f8"
         },
         "y": {
          "bdata": "hjjWxW003D/KVMGopE7cP2uad5yiI90/8IXJVMGo3D8ibHh6pSzhP/Mf0m9fB94/fdCzWfW52j9AE2HD0yvdPx04Z0Rpb+A/7MA5I0p74T/D9Shcj8LVP/p+arx0k9w/VTAqqRPQ4D83GsBbIEHhP6+UZYhjXdw/rWnecYqO4D9iEFg5tMjgPwfwFkhQ/OA/BFYOLbKd4T8wTKYKRiXhP33Qs1n1ud4/",
          "dtype": "f8"
         }
        },
        {
         "mode": "lines+markers",
         "name": "Test Accuracy",
         "type": "scatter",
         "x": {
          "bdata": "exSuR+F6hD+amZmZmZmpP5qZmZmZmbk/mpmZmZmZuT+amZmZmZm5P5qZmZmZmbk/mpmZmZmZyT8zMzMzMzPTP2ZmZmZmZtY/mpmZmZmZ2T/NzMzMzMzcPwAAAAAAAOA/AAAAAAAA4D+amZmZmZnhPzMzMzMzM+M/AAAAAAAA8D8AAAAAAADwPwAAAAAAAPg/AAAAAAAAAEAAAAAAAAAEQAAAAAAAABRA",
          "dtype": "f8"
         },
         "y": {
          "bdata": "FD/G3LWE3D8NcayL22jcP8gHPZtVn98/vHSTGARW3j/wFkhQ/BjhP9Pe4AuTqd4/S8gHPZtV2z9LyAc9m1XbP5p3nKIjueA/dQKaCBue4D/OiNLe4AvXP0vIBz2bVds/SZ2AJsKG4T9Iv30dOGfgP2EyVTAqqds/GJXUCWgi4D9B8WPMXUvgP5p3nKIjueA/8BZIUPwY4T8UrkfhehTgP0XY8PRKWeA/",
          "dtype": "f8"
         }
        }
       ],
       "layout": {
        "template": {
         "data": {
          "bar": [
           {
            "error_x": {
             "color": "#2a3f5f"
            },
            "error_y": {
             "color": "#2a3f5f"
            },
            "marker": {
             "line": {
              "color": "white",
              "width": 0.5
             },
             "pattern": {
              "fillmode": "overlay",
              "size": 10,
              "solidity": 0.2
             }
            },
            "type": "bar"
           }
          ],
          "barpolar": [
           {
            "marker": {
             "line": {
              "color": "white",
              "width": 0.5
             },
             "pattern": {
              "fillmode": "overlay",
              "size": 10,
              "solidity": 0.2
             }
            },
            "type": "barpolar"
           }
          ],
          "carpet": [
           {
            "aaxis": {
             "endlinecolor": "#2a3f5f",
             "gridcolor": "#C8D4E3",
             "linecolor": "#C8D4E3",
             "minorgridcolor": "#C8D4E3",
             "startlinecolor": "#2a3f5f"
            },
            "baxis": {
             "endlinecolor": "#2a3f5f",
             "gridcolor": "#C8D4E3",
             "linecolor": "#C8D4E3",
             "minorgridcolor": "#C8D4E3",
             "startlinecolor": "#2a3f5f"
            },
            "type": "carpet"
           }
          ],
          "choropleth": [
           {
            "colorbar": {
             "outlinewidth": 0,
             "ticks": ""
            },
            "type": "choropleth"
           }
          ],
          "contour": [
           {
            "colorbar": {
             "outlinewidth": 0,
             "ticks": ""
            },
            "colorscale": [
             [
              0,
              "#0d0887"
             ],
             [
              0.1111111111111111,
              "#46039f"
             ],
             [
              0.2222222222222222,
              "#7201a8"
             ],
             [
              0.3333333333333333,
              "#9c179e"
             ],
             [
              0.4444444444444444,
              "#bd3786"
             ],
             [
              0.5555555555555556,
              "#d8576b"
             ],
             [
              0.6666666666666666,
              "#ed7953"
             ],
             [
              0.7777777777777778,
              "#fb9f3a"
             ],
             [
              0.8888888888888888,
              "#fdca26"
             ],
             [
              1,
              "#f0f921"
             ]
            ],
            "type": "contour"
           }
          ],
          "contourcarpet": [
           {
            "colorbar": {
             "outlinewidth": 0,
             "ticks": ""
            },
            "type": "contourcarpet"
           }
          ],
          "heatmap": [
           {
            "colorbar": {
             "outlinewidth": 0,
             "ticks": ""
            },
            "colorscale": [
             [
              0,
              "#0d0887"
             ],
             [
              0.1111111111111111,
              "#46039f"
             ],
             [
              0.2222222222222222,
              "#7201a8"
             ],
             [
              0.3333333333333333,
              "#9c179e"
             ],
             [
              0.4444444444444444,
              "#bd3786"
             ],
             [
              0.5555555555555556,
              "#d8576b"
             ],
             [
              0.6666666666666666,
              "#ed7953"
             ],
             [
              0.7777777777777778,
              "#fb9f3a"
             ],
             [
              0.8888888888888888,
              "#fdca26"
             ],
             [
              1,
              "#f0f921"
             ]
            ],
            "type": "heatmap"
           }
          ],
          "histogram": [
           {
            "marker": {
             "pattern": {
              "fillmode": "overlay",
              "size": 10,
              "solidity": 0.2
             }
            },
            "type": "histogram"
           }
          ],
          "histogram2d": [
           {
            "colorbar": {
             "outlinewidth": 0,
             "ticks": ""
            },
            "colorscale": [
             [
              0,
              "#0d0887"
             ],
             [
              0.1111111111111111,
              "#46039f"
             ],
             [
              0.2222222222222222,
              "#7201a8"
             ],
             [
              0.3333333333333333,
              "#9c179e"
             ],
             [
              0.4444444444444444,
              "#bd3786"
             ],
             [
              0.5555555555555556,
              "#d8576b"
             ],
             [
              0.6666666666666666,
              "#ed7953"
             ],
             [
              0.7777777777777778,
              "#fb9f3a"
             ],
             [
              0.8888888888888888,
              "#fdca26"
             ],
             [
              1,
              "#f0f921"
             ]
            ],
            "type": "histogram2d"
           }
          ],
          "histogram2dcontour": [
           {
            "colorbar": {
             "outlinewidth": 0,
             "ticks": ""
            },
            "colorscale": [
             [
              0,
              "#0d0887"
             ],
             [
              0.1111111111111111,
              "#46039f"
             ],
             [
              0.2222222222222222,
              "#7201a8"
             ],
             [
              0.3333333333333333,
              "#9c179e"
             ],
             [
              0.4444444444444444,
              "#bd3786"
             ],
             [
              0.5555555555555556,
              "#d8576b"
             ],
             [
              0.6666666666666666,
              "#ed7953"
             ],
             [
              0.7777777777777778,
              "#fb9f3a"
             ],
             [
              0.8888888888888888,
              "#fdca26"
             ],
             [
              1,
              "#f0f921"
             ]
            ],
            "type": "histogram2dcontour"
           }
          ],
          "mesh3d": [
           {
            "colorbar": {
             "outlinewidth": 0,
             "ticks": ""
            },
            "type": "mesh3d"
           }
          ],
          "parcoords": [
           {
            "line": {
             "colorbar": {
              "outlinewidth": 0,
              "ticks": ""
             }
            },
            "type": "parcoords"
           }
          ],
          "pie": [
           {
            "automargin": true,
            "type": "pie"
           }
          ],
          "scatter": [
           {
            "fillpattern": {
             "fillmode": "overlay",
             "size": 10,
             "solidity": 0.2
            },
            "type": "scatter"
           }
          ],
          "scatter3d": [
           {
            "line": {
             "colorbar": {
              "outlinewidth": 0,
              "ticks": ""
             }
            },
            "marker": {
             "colorbar": {
              "outlinewidth": 0,
              "ticks": ""
             }
            },
            "type": "scatter3d"
           }
          ],
          "scattercarpet": [
           {
            "marker": {
             "colorbar": {
              "outlinewidth": 0,
              "ticks": ""
             }
            },
            "type": "scattercarpet"
           }
          ],
          "scattergeo": [
           {
            "marker": {
             "colorbar": {
              "outlinewidth": 0,
              "ticks": ""
             }
            },
            "type": "scattergeo"
           }
          ],
          "scattergl": [
           {
            "marker": {
             "colorbar": {
              "outlinewidth": 0,
              "ticks": ""
             }
            },
            "type": "scattergl"
           }
          ],
          "scattermap": [
           {
            "marker": {
             "colorbar": {
              "outlinewidth": 0,
              "ticks": ""
             }
            },
            "type": "scattermap"
           }
          ],
          "scattermapbox": [
           {
            "marker": {
             "colorbar": {
              "outlinewidth": 0,
              "ticks": ""
             }
            },
            "type": "scattermapbox"
           }
          ],
          "scatterpolar": [
           {
            "marker": {
             "colorbar": {
              "outlinewidth": 0,
              "ticks": ""
             }
            },
            "type": "scatterpolar"
           }
          ],
          "scatterpolargl": [
           {
            "marker": {
             "colorbar": {
              "outlinewidth": 0,
              "ticks": ""
             }
            },
            "type": "scatterpolargl"
           }
          ],
          "scatterternary": [
           {
            "marker": {
             "colorbar": {
              "outlinewidth": 0,
              "ticks": ""
             }
            },
            "type": "scatterternary"
           }
          ],
          "surface": [
           {
            "colorbar": {
             "outlinewidth": 0,
             "ticks": ""
            },
            "colorscale": [
             [
              0,
              "#0d0887"
             ],
             [
              0.1111111111111111,
              "#46039f"
             ],
             [
              0.2222222222222222,
              "#7201a8"
             ],
             [
              0.3333333333333333,
              "#9c179e"
             ],
             [
              0.4444444444444444,
              "#bd3786"
             ],
             [
              0.5555555555555556,
              "#d8576b"
             ],
             [
              0.6666666666666666,
              "#ed7953"
             ],
             [
              0.7777777777777778,
              "#fb9f3a"
             ],
             [
              0.8888888888888888,
              "#fdca26"
             ],
             [
              1,
              "#f0f921"
             ]
            ],
            "type": "surface"
           }
          ],
          "table": [
           {
            "cells": {
             "fill": {
              "color": "#EBF0F8"
             },
             "line": {
              "color": "white"
             }
            },
            "header": {
             "fill": {
              "color": "#C8D4E3"
             },
             "line": {
              "color": "white"
             }
            },
            "type": "table"
           }
          ]
         },
         "layout": {
          "annotationdefaults": {
           "arrowcolor": "#2a3f5f",
           "arrowhead": 0,
           "arrowwidth": 1
          },
          "autotypenumbers": "strict",
          "coloraxis": {
           "colorbar": {
            "outlinewidth": 0,
            "ticks": ""
           }
          },
          "colorscale": {
           "diverging": [
            [
             0,
             "#8e0152"
            ],
            [
             0.1,
             "#c51b7d"
            ],
            [
             0.2,
             "#de77ae"
            ],
            [
             0.3,
             "#f1b6da"
            ],
            [
             0.4,
             "#fde0ef"
            ],
            [
             0.5,
             "#f7f7f7"
            ],
            [
             0.6,
             "#e6f5d0"
            ],
            [
             0.7,
             "#b8e186"
            ],
            [
             0.8,
             "#7fbc41"
            ],
            [
             0.9,
             "#4d9221"
            ],
            [
             1,
             "#276419"
            ]
           ],
           "sequential": [
            [
             0,
             "#0d0887"
            ],
            [
             0.1111111111111111,
             "#46039f"
            ],
            [
             0.2222222222222222,
             "#7201a8"
            ],
            [
             0.3333333333333333,
             "#9c179e"
            ],
            [
             0.4444444444444444,
             "#bd3786"
            ],
            [
             0.5555555555555556,
             "#d8576b"
            ],
            [
             0.6666666666666666,
             "#ed7953"
            ],
            [
             0.7777777777777778,
             "#fb9f3a"
            ],
            [
             0.8888888888888888,
             "#fdca26"
            ],
            [
             1,
             "#f0f921"
            ]
           ],
           "sequentialminus": [
            [
             0,
             "#0d0887"
            ],
            [
             0.1111111111111111,
             "#46039f"
            ],
            [
             0.2222222222222222,
             "#7201a8"
            ],
            [
             0.3333333333333333,
             "#9c179e"
            ],
            [
             0.4444444444444444,
             "#bd3786"
            ],
            [
             0.5555555555555556,
             "#d8576b"
            ],
            [
             0.6666666666666666,
             "#ed7953"
            ],
            [
             0.7777777777777778,
             "#fb9f3a"
            ],
            [
             0.8888888888888888,
             "#fdca26"
            ],
            [
             1,
             "#f0f921"
            ]
           ]
          },
          "colorway": [
           "#636efa",
           "#EF553B",
           "#00cc96",
           "#ab63fa",
           "#FFA15A",
           "#19d3f3",
           "#FF6692",
           "#B6E880",
           "#FF97FF",
           "#FECB52"
          ],
          "font": {
           "color": "#2a3f5f"
          },
          "geo": {
           "bgcolor": "white",
           "lakecolor": "white",
           "landcolor": "white",
           "showlakes": true,
           "showland": true,
           "subunitcolor": "#C8D4E3"
          },
          "hoverlabel": {
           "align": "left"
          },
          "hovermode": "closest",
          "mapbox": {
           "style": "light"
          },
          "paper_bgcolor": "white",
          "plot_bgcolor": "white",
          "polar": {
           "angularaxis": {
            "gridcolor": "#EBF0F8",
            "linecolor": "#EBF0F8",
            "ticks": ""
           },
           "bgcolor": "white",
           "radialaxis": {
            "gridcolor": "#EBF0F8",
            "linecolor": "#EBF0F8",
            "ticks": ""
           }
          },
          "scene": {
           "xaxis": {
            "backgroundcolor": "white",
            "gridcolor": "#DFE8F3",
            "gridwidth": 2,
            "linecolor": "#EBF0F8",
            "showbackground": true,
            "ticks": "",
            "zerolinecolor": "#EBF0F8"
           },
           "yaxis": {
            "backgroundcolor": "white",
            "gridcolor": "#DFE8F3",
            "gridwidth": 2,
            "linecolor": "#EBF0F8",
            "showbackground": true,
            "ticks": "",
            "zerolinecolor": "#EBF0F8"
           },
           "zaxis": {
            "backgroundcolor": "white",
            "gridcolor": "#DFE8F3",
            "gridwidth": 2,
            "linecolor": "#EBF0F8",
            "showbackground": true,
            "ticks": "",
            "zerolinecolor": "#EBF0F8"
           }
          },
          "shapedefaults": {
           "line": {
            "color": "#2a3f5f"
           }
          },
          "ternary": {
           "aaxis": {
            "gridcolor": "#DFE8F3",
            "linecolor": "#A2B1C6",
            "ticks": ""
           },
           "baxis": {
            "gridcolor": "#DFE8F3",
            "linecolor": "#A2B1C6",
            "ticks": ""
           },
           "bgcolor": "white",
           "caxis": {
            "gridcolor": "#DFE8F3",
            "linecolor": "#A2B1C6",
            "ticks": ""
           }
          },
          "title": {
           "x": 0.05
          },
          "xaxis": {
           "automargin": true,
           "gridcolor": "#EBF0F8",
           "linecolor": "#EBF0F8",
           "ticks": "",
           "title": {
            "standoff": 15
           },
           "zerolinecolor": "#EBF0F8",
           "zerolinewidth": 2
          },
          "yaxis": {
           "automargin": true,
           "gridcolor": "#EBF0F8",
           "linecolor": "#EBF0F8",
           "ticks": "",
           "title": {
            "standoff": 15
           },
           "zerolinecolor": "#EBF0F8",
           "zerolinewidth": 2
          }
         }
        },
        "title": {
         "text": "Accuracy vs Soft Margin"
        },
        "xaxis": {
         "title": {
          "text": "Soft Margin"
         }
        },
        "yaxis": {
         "range": [
          0,
          1
         ],
         "title": {
          "text": "Accuracy"
         }
        }
       }
      }
     },
     "metadata": {},
     "output_type": "display_data"
    }
   ],
   "source": [
    "import pandas as pd\n",
    "import plotly.graph_objects as go\n",
    "# Création du graphique\n",
    "fig = go.Figure()\n",
    "\n",
    "fig.add_trace(go.Scatter(\n",
    "    x=df['soft_margin'],\n",
    "    y=df['train_accuracy'],\n",
    "    mode='lines+markers',\n",
    "    name='Train Accuracy'\n",
    "))\n",
    "\n",
    "fig.add_trace(go.Scatter(\n",
    "    x=df['soft_margin'],\n",
    "    y=df['test_accuracy'],\n",
    "    mode='lines+markers',\n",
    "    name='Test Accuracy'\n",
    "))\n",
    "\n",
    "fig.update_layout(\n",
    "    title='Accuracy vs Soft Margin',\n",
    "    xaxis_title='Soft Margin',\n",
    "    yaxis_title='Accuracy',\n",
    "    yaxis=dict(range=[0, 1]),\n",
    "    template='plotly_white'\n",
    ")\n",
    "\n",
    "fig.show()"
   ]
  },
  {
   "cell_type": "code",
   "execution_count": 15,
   "id": "d66e610a",
   "metadata": {},
   "outputs": [
    {
     "name": "stderr",
     "output_type": "stream",
     "text": [
      "C:\\Users\\AIO\\AppData\\Local\\Temp\\ipykernel_6096\\1813437215.py:3: SettingWithCopyWarning:\n",
      "\n",
      "\n",
      "A value is trying to be set on a copy of a slice from a DataFrame.\n",
      "Try using .loc[row_indexer,col_indexer] = value instead\n",
      "\n",
      "See the caveats in the documentation: https://pandas.pydata.org/pandas-docs/stable/user_guide/indexing.html#returning-a-view-versus-a-copy\n",
      "\n"
     ]
    },
    {
     "data": {
      "application/vnd.plotly.v1+json": {
       "config": {
        "plotlyServerURL": "https://plot.ly"
       },
       "data": [
        {
         "mode": "lines+markers",
         "name": "Train Accuracy",
         "type": "scatter",
         "x": [
          "2025-07-23T16:26:07.873043",
          "2025-07-23T16:28:01.008604",
          "2025-07-23T16:28:39.324585",
          "2025-07-23T16:29:18.633351",
          "2025-07-23T16:29:32.476540",
          "2025-07-23T16:29:48.949235",
          "2025-07-23T16:31:27.336223",
          "2025-07-23T16:32:06.578100",
          "2025-07-23T16:32:30.301919",
          "2025-07-23T16:32:50.840830",
          "2025-07-23T16:33:58.289597",
          "2025-07-23T16:34:37.506575",
          "2025-07-23T16:34:41.306749",
          "2025-07-23T16:34:50.176007",
          "2025-07-23T16:35:37.783658",
          "2025-07-23T16:36:05.272016",
          "2025-07-23T16:37:07.404401",
          "2025-07-23T16:37:58.026260",
          "2025-07-23T16:38:13.870925",
          "2025-07-23T16:38:37.976615",
          "2025-07-23T16:39:26.206833",
          "2025-07-23T16:40:27.512733",
          "2025-07-23T16:40:39.934835",
          "2025-07-23T16:41:12.795307",
          "2025-07-23T16:41:44.030936",
          "2025-07-23T16:42:33.823339",
          "2025-07-23T16:43:22.287472",
          "2025-07-23T16:44:09.530593",
          "2025-07-23T16:44:17.556196",
          "2025-07-23T16:45:06.824655",
          "2025-07-23T16:46:09.924788",
          "2025-07-23T16:47:10.667088",
          "2025-07-23T16:47:25.260754",
          "2025-07-23T16:47:53.383039",
          "2025-07-23T16:48:28.998181",
          "2025-07-23T16:48:41.426536",
          "2025-07-23T16:48:58.661289",
          "2025-07-23T16:49:15.032257",
          "2025-07-23T16:49:41.514153",
          "2025-07-23T16:50:09.096119",
          "2025-07-23T16:52:30.518421",
          "2025-07-23T16:53:07.614308",
          "2025-07-23T16:53:37.203103",
          "2025-07-23T16:54:03.199203",
          "2025-07-23T16:54:41.391615",
          "2025-07-23T16:55:23.379804",
          "2025-07-23T16:56:10.054841",
          "2025-07-23T16:56:47.197039",
          "2025-07-23T16:57:22.621951",
          "2025-07-23T16:58:15.381775",
          "2025-07-23T16:59:03.898278",
          "2025-07-23T16:59:43.649089",
          "2025-07-23T17:00:34.523236",
          "2025-07-23T17:01:01.172485",
          "2025-07-23T17:01:39.290847",
          "2025-07-23T17:02:31.856123",
          "2025-07-23T17:03:10.169225",
          "2025-07-23T17:03:49.983121",
          "2025-07-23T17:04:27.328198",
          "2025-07-23T17:05:18.389043",
          "2025-07-23T17:06:09.087502",
          "2025-07-23T17:06:51.693363",
          "2025-07-23T17:07:33.714588",
          "2025-07-23T17:07:58.698289",
          "2025-07-23T17:08:35.633029",
          "2025-07-23T17:09:25.142441",
          "2025-07-23T17:10:03.748918",
          "2025-07-23T17:10:50.537515",
          "2025-07-23T17:11:39.023812",
          "2025-07-23T17:12:08.962029",
          "2025-07-23T17:12:57.627027",
          "2025-07-23T17:13:48.627508",
          "2025-07-23T17:14:40.846239",
          "2025-07-23T17:15:31.689829",
          "2025-07-23T17:16:16.124744",
          "2025-07-23T17:16:55.191064",
          "2025-07-23T17:17:33.872599",
          "2025-07-23T17:18:06.471830",
          "2025-07-23T17:18:57.483162",
          "2025-07-23T17:19:44.670176",
          "2025-07-23T17:20:25.687575",
          "2025-07-23T17:21:07.742842",
          "2025-07-23T17:21:58.677231",
          "2025-07-23T17:22:28.503760",
          "2025-07-23T17:23:10.807232",
          "2025-07-23T17:23:52.840353",
          "2025-07-23T17:24:41.244332",
          "2025-07-23T17:25:27.954282",
          "2025-07-23T17:25:59.282604",
          "2025-07-23T17:26:38.598415",
          "2025-07-23T17:27:19.913399",
          "2025-07-23T17:28:07.553073",
          "2025-07-23T17:28:51.725682",
          "2025-07-23T17:29:39.458871",
          "2025-07-23T17:30:26.516801",
          "2025-07-23T17:30:56.639469",
          "2025-07-23T17:31:45.297725",
          "2025-07-23T17:32:27.826541",
          "2025-07-23T17:33:08.414184",
          "2025-07-23T17:33:52.847133",
          "2025-07-23T17:34:39.324706",
          "2025-07-23T17:35:24.108491",
          "2025-07-23T17:36:10.769914",
          "2025-07-23T17:36:58.157040",
          "2025-07-23T17:37:48.702147",
          "2025-07-23T17:38:37.096726",
          "2025-07-23T17:39:19.416524",
          "2025-07-23T17:40:04.138334",
          "2025-07-23T17:40:48.253430",
          "2025-07-23T17:41:30.307781",
          "2025-07-23T17:42:15.182873",
          "2025-07-23T17:43:00.103579",
          "2025-07-23T17:43:36.824001",
          "2025-07-23T17:44:07.691197",
          "2025-07-23T17:44:44.014407",
          "2025-07-23T17:45:33.756239",
          "2025-07-23T17:46:10.473249",
          "2025-07-23T17:46:42.086599",
          "2025-07-23T17:47:27.138604",
          "2025-07-23T17:48:14.302770"
         ],
         "y": {
          "bdata": "D4PLGEkn4j+jAbwFEhTbP/JBz2bV5+I/1XjpJjEI4D8GgZVDi2zfPwmKH2PuWuI/dCSX/5B+4z96pSxDHOvgP6MBvAUSFNs/JQaBlUOL4j94CyQofozjP0Otad5xito/KH6MuWsJ1T/P91PjpZvcPzMzMzMzM+M/owG8BRIU4z9fKcsQx7riP/8h/fZ14OI/BFYOLbKd1z/dJAaBlUPbP5huEoPAyuE/NxrAWyBB4z/P91PjpZvcP4Y41sVtNNg/0ETY8PRK4z/HSzeJQWDjP+zAOSNKe+M/Imx4eqUs4z/HuriNBvDePzm0yHa+n+A/8kHPZtXn4D++MJkqGJXiPxkEVg4tsuE/63O1FfvL4j8E54wo7Q3ePxdIUPwYc98/zH9Iv30d4D8Z4lgXt9HcP/YoXI/C9eI/C7Wmeccp3j8H8BZIUPzgP7yWkA96NuE/93XgnBGl4T8ZBFYOLbLhPyEf9GxWfeI/1sVtNIC34j8u/yH99nXiP5HtfD81XuI/f9k9eVio4T8bnl4pyxDhP/W52or9Zd8/yeU/pN++4D//If32deDiP3ZxGw3gLdQ/PZtVn6ut4D8c6+I2GsDhP5VliGNd3N4/whcmUwWj4j9hw9MrZRngP9cS8kHPZuE/5BQdyeU/4D+28/3UeOneP44G8BZIUOI/NIC3QILi4T8DCYofY+7gP49TdCSX/+I/2V92Tx4W4j9LyAc9m1XhP9bFbTSAt+I/yJi7lpAP4j/ImLuWkA/iP2IQWDm0yOA/BoGVQ4ts3z/hehSuR+HgP2B2Tx4WauE/8kHPZtXn4D+tad5xio7iP2HD0ytlGeI/gnNGlPYG4T8Fo5I6AU3iP/Xb14FzRuI/dnEbDeAt4j/swDkjSnvhP8iYu5aQD+I/liGOdXEb4T8aUdobfGHiP6K0N/jCZOI/PE7RkVz+4T/RkVz+Q/rhP18pyxDHuuI/mbuWkA964j9iEFg5tMjiPx+F61G4HuE/JlMFo5I64T8+6Nms+lzhPw8LtaZ5x+E/VOOlm8Qg4j/uWkI+6NngP8X+snvysOA/B/AWSFD84D9JLv8h/fbhPwmKH2PuWuI/ldQJaCJs4j8aUdobfGHiP7FQa5p3nOI/orQ3+MJk4j8Jih9j7lriP44G8BZIUOI/T6+UZYhj4T8u/yH99nXiP3zysFBrmuE/G55eKcsQ4T/EsS5uowHiPyS5/If02+E/sAPnjCjt4T8aUdobfGHiPxpR2ht8YeI/f9k9eVio4T9Q/Bhz1xLiPzm0yHa+n+I/",
          "dtype": "f8"
         }
        },
        {
         "mode": "lines+markers",
         "name": "Test Accuracy",
         "type": "scatter",
         "x": [
          "2025-07-23T16:26:07.873043",
          "2025-07-23T16:28:01.008604",
          "2025-07-23T16:28:39.324585",
          "2025-07-23T16:29:18.633351",
          "2025-07-23T16:29:32.476540",
          "2025-07-23T16:29:48.949235",
          "2025-07-23T16:31:27.336223",
          "2025-07-23T16:32:06.578100",
          "2025-07-23T16:32:30.301919",
          "2025-07-23T16:32:50.840830",
          "2025-07-23T16:33:58.289597",
          "2025-07-23T16:34:37.506575",
          "2025-07-23T16:34:41.306749",
          "2025-07-23T16:34:50.176007",
          "2025-07-23T16:35:37.783658",
          "2025-07-23T16:36:05.272016",
          "2025-07-23T16:37:07.404401",
          "2025-07-23T16:37:58.026260",
          "2025-07-23T16:38:13.870925",
          "2025-07-23T16:38:37.976615",
          "2025-07-23T16:39:26.206833",
          "2025-07-23T16:40:27.512733",
          "2025-07-23T16:40:39.934835",
          "2025-07-23T16:41:12.795307",
          "2025-07-23T16:41:44.030936",
          "2025-07-23T16:42:33.823339",
          "2025-07-23T16:43:22.287472",
          "2025-07-23T16:44:09.530593",
          "2025-07-23T16:44:17.556196",
          "2025-07-23T16:45:06.824655",
          "2025-07-23T16:46:09.924788",
          "2025-07-23T16:47:10.667088",
          "2025-07-23T16:47:25.260754",
          "2025-07-23T16:47:53.383039",
          "2025-07-23T16:48:28.998181",
          "2025-07-23T16:48:41.426536",
          "2025-07-23T16:48:58.661289",
          "2025-07-23T16:49:15.032257",
          "2025-07-23T16:49:41.514153",
          "2025-07-23T16:50:09.096119",
          "2025-07-23T16:52:30.518421",
          "2025-07-23T16:53:07.614308",
          "2025-07-23T16:53:37.203103",
          "2025-07-23T16:54:03.199203",
          "2025-07-23T16:54:41.391615",
          "2025-07-23T16:55:23.379804",
          "2025-07-23T16:56:10.054841",
          "2025-07-23T16:56:47.197039",
          "2025-07-23T16:57:22.621951",
          "2025-07-23T16:58:15.381775",
          "2025-07-23T16:59:03.898278",
          "2025-07-23T16:59:43.649089",
          "2025-07-23T17:00:34.523236",
          "2025-07-23T17:01:01.172485",
          "2025-07-23T17:01:39.290847",
          "2025-07-23T17:02:31.856123",
          "2025-07-23T17:03:10.169225",
          "2025-07-23T17:03:49.983121",
          "2025-07-23T17:04:27.328198",
          "2025-07-23T17:05:18.389043",
          "2025-07-23T17:06:09.087502",
          "2025-07-23T17:06:51.693363",
          "2025-07-23T17:07:33.714588",
          "2025-07-23T17:07:58.698289",
          "2025-07-23T17:08:35.633029",
          "2025-07-23T17:09:25.142441",
          "2025-07-23T17:10:03.748918",
          "2025-07-23T17:10:50.537515",
          "2025-07-23T17:11:39.023812",
          "2025-07-23T17:12:08.962029",
          "2025-07-23T17:12:57.627027",
          "2025-07-23T17:13:48.627508",
          "2025-07-23T17:14:40.846239",
          "2025-07-23T17:15:31.689829",
          "2025-07-23T17:16:16.124744",
          "2025-07-23T17:16:55.191064",
          "2025-07-23T17:17:33.872599",
          "2025-07-23T17:18:06.471830",
          "2025-07-23T17:18:57.483162",
          "2025-07-23T17:19:44.670176",
          "2025-07-23T17:20:25.687575",
          "2025-07-23T17:21:07.742842",
          "2025-07-23T17:21:58.677231",
          "2025-07-23T17:22:28.503760",
          "2025-07-23T17:23:10.807232",
          "2025-07-23T17:23:52.840353",
          "2025-07-23T17:24:41.244332",
          "2025-07-23T17:25:27.954282",
          "2025-07-23T17:25:59.282604",
          "2025-07-23T17:26:38.598415",
          "2025-07-23T17:27:19.913399",
          "2025-07-23T17:28:07.553073",
          "2025-07-23T17:28:51.725682",
          "2025-07-23T17:29:39.458871",
          "2025-07-23T17:30:26.516801",
          "2025-07-23T17:30:56.639469",
          "2025-07-23T17:31:45.297725",
          "2025-07-23T17:32:27.826541",
          "2025-07-23T17:33:08.414184",
          "2025-07-23T17:33:52.847133",
          "2025-07-23T17:34:39.324706",
          "2025-07-23T17:35:24.108491",
          "2025-07-23T17:36:10.769914",
          "2025-07-23T17:36:58.157040",
          "2025-07-23T17:37:48.702147",
          "2025-07-23T17:38:37.096726",
          "2025-07-23T17:39:19.416524",
          "2025-07-23T17:40:04.138334",
          "2025-07-23T17:40:48.253430",
          "2025-07-23T17:41:30.307781",
          "2025-07-23T17:42:15.182873",
          "2025-07-23T17:43:00.103579",
          "2025-07-23T17:43:36.824001",
          "2025-07-23T17:44:07.691197",
          "2025-07-23T17:44:44.014407",
          "2025-07-23T17:45:33.756239",
          "2025-07-23T17:46:10.473249",
          "2025-07-23T17:46:42.086599",
          "2025-07-23T17:47:27.138604",
          "2025-07-23T17:48:14.302770"
         ],
         "y": {
          "bdata": "Xpo4jNXW3z+7uI0G8BbcP8PTK2UZ4uA/eVioNc073j/T3uALk6neP0HxY8xdS+A/8BZIUPwY4T/IBz2bVZ/fP/CFyVTBqNg/y6FFtvP94D+XkA96NqvgP4hjXdxGA9g/bHh6pSxD1D+U9gZfmEzZP/T91HjpJuE/IEHxY8xd4T/wFkhQ/BjhP/AWSFD8GOE/3SQGgZVD1z/yQc9m1efaP5p3nKIjueA/9+RhodY04T9TliGOdXHbP5Axdy0hH9g/oyO5/If04T/LoUW28/3gP/AWSFD8GOE/x7q4jQbw4D+4rwPnjCjdP9Pe4AuTqd4/GJXUCWgi4D8YldQJaCLgPySX/5B++94/HVpkO99P4T8NcayL22jcP8RCrWnecd4/XynLEMe63D/1SlmGONbZP/fkYaHWNOE/arx0kxgE3j9xGw3gLZDgPyQofoy5a+E/HVpkO99P4T8oDwu1pnnhP6YKRiV1AuI/oyO5/If04T+BlUOLbOfhP4GVQ4ts5+E/8BZIUPwY4T+eXinLEMfgPwpoImx4et0/y6FFtvP94D+q8dJNYhDiPwdfmEwVjNI/l5APejar4D924JwRpb3hPx3J5T+k394/VFInoImw4T9B8WPMXUvgP8PTK2UZ4uA/yAc9m1Wf3z92Tx4Wak3fPygPC7WmeeE/IEHxY8xd4T9B8WPMXUvgP0mdgCbChuE/cRsN4C2Q4D/D0ytlGeLgP89m1edqK+I/IEHxY8xd4T/7y+7Jw0LhP8PTK2UZ4uA/xEKtad5x3j8YldQJaCLgP/vL7snDQuE/FK5H4XoU4D9NhA1Pr5ThP86I0t7gC+E/GJXUCWgi4D8kKH6MuWvhP/yp8dJNYuI/escpOpLL4T/OiNLe4AvhP3rHKTqSy+E/x7q4jQbw4D+iRbbz/dTgP4GVQ4ts5+E/rthfdk8e4j/HuriNBvDgP1RSJ6CJsOE/fa62Yn/Z4T+u2F92Tx7iP5eQD3o2q+A/y6FFtvP94D+BlUOLbOfhP5eQD3o2q+A/rthfdk8e4j89CtejcD3gPxx8YTJVMOA/KA8LtaZ54T9JnYAmwobhP67YX3ZPHuI/UWuad5yi4T9JnYAmwobhPyQofoy5a+E/TYQNT6+U4T+mCkYldQLiP67YX3ZPHuI/y6FFtvP94D8gQfFjzF3hP2pN845TdOA/PQrXo3A94D96xyk6ksvhP55eKcsQx+A/TYQNT6+U4T99rrZif9nhPx1aZDvfT+E/w9MrZRni4D9Ra5p3nKLhP6MjufyH9OE/",
          "dtype": "f8"
         }
        }
       ],
       "layout": {
        "legend": {
         "title": {
          "text": "Metric"
         }
        },
        "template": {
         "data": {
          "bar": [
           {
            "error_x": {
             "color": "#2a3f5f"
            },
            "error_y": {
             "color": "#2a3f5f"
            },
            "marker": {
             "line": {
              "color": "#E5ECF6",
              "width": 0.5
             },
             "pattern": {
              "fillmode": "overlay",
              "size": 10,
              "solidity": 0.2
             }
            },
            "type": "bar"
           }
          ],
          "barpolar": [
           {
            "marker": {
             "line": {
              "color": "#E5ECF6",
              "width": 0.5
             },
             "pattern": {
              "fillmode": "overlay",
              "size": 10,
              "solidity": 0.2
             }
            },
            "type": "barpolar"
           }
          ],
          "carpet": [
           {
            "aaxis": {
             "endlinecolor": "#2a3f5f",
             "gridcolor": "white",
             "linecolor": "white",
             "minorgridcolor": "white",
             "startlinecolor": "#2a3f5f"
            },
            "baxis": {
             "endlinecolor": "#2a3f5f",
             "gridcolor": "white",
             "linecolor": "white",
             "minorgridcolor": "white",
             "startlinecolor": "#2a3f5f"
            },
            "type": "carpet"
           }
          ],
          "choropleth": [
           {
            "colorbar": {
             "outlinewidth": 0,
             "ticks": ""
            },
            "type": "choropleth"
           }
          ],
          "contour": [
           {
            "colorbar": {
             "outlinewidth": 0,
             "ticks": ""
            },
            "colorscale": [
             [
              0,
              "#0d0887"
             ],
             [
              0.1111111111111111,
              "#46039f"
             ],
             [
              0.2222222222222222,
              "#7201a8"
             ],
             [
              0.3333333333333333,
              "#9c179e"
             ],
             [
              0.4444444444444444,
              "#bd3786"
             ],
             [
              0.5555555555555556,
              "#d8576b"
             ],
             [
              0.6666666666666666,
              "#ed7953"
             ],
             [
              0.7777777777777778,
              "#fb9f3a"
             ],
             [
              0.8888888888888888,
              "#fdca26"
             ],
             [
              1,
              "#f0f921"
             ]
            ],
            "type": "contour"
           }
          ],
          "contourcarpet": [
           {
            "colorbar": {
             "outlinewidth": 0,
             "ticks": ""
            },
            "type": "contourcarpet"
           }
          ],
          "heatmap": [
           {
            "colorbar": {
             "outlinewidth": 0,
             "ticks": ""
            },
            "colorscale": [
             [
              0,
              "#0d0887"
             ],
             [
              0.1111111111111111,
              "#46039f"
             ],
             [
              0.2222222222222222,
              "#7201a8"
             ],
             [
              0.3333333333333333,
              "#9c179e"
             ],
             [
              0.4444444444444444,
              "#bd3786"
             ],
             [
              0.5555555555555556,
              "#d8576b"
             ],
             [
              0.6666666666666666,
              "#ed7953"
             ],
             [
              0.7777777777777778,
              "#fb9f3a"
             ],
             [
              0.8888888888888888,
              "#fdca26"
             ],
             [
              1,
              "#f0f921"
             ]
            ],
            "type": "heatmap"
           }
          ],
          "histogram": [
           {
            "marker": {
             "pattern": {
              "fillmode": "overlay",
              "size": 10,
              "solidity": 0.2
             }
            },
            "type": "histogram"
           }
          ],
          "histogram2d": [
           {
            "colorbar": {
             "outlinewidth": 0,
             "ticks": ""
            },
            "colorscale": [
             [
              0,
              "#0d0887"
             ],
             [
              0.1111111111111111,
              "#46039f"
             ],
             [
              0.2222222222222222,
              "#7201a8"
             ],
             [
              0.3333333333333333,
              "#9c179e"
             ],
             [
              0.4444444444444444,
              "#bd3786"
             ],
             [
              0.5555555555555556,
              "#d8576b"
             ],
             [
              0.6666666666666666,
              "#ed7953"
             ],
             [
              0.7777777777777778,
              "#fb9f3a"
             ],
             [
              0.8888888888888888,
              "#fdca26"
             ],
             [
              1,
              "#f0f921"
             ]
            ],
            "type": "histogram2d"
           }
          ],
          "histogram2dcontour": [
           {
            "colorbar": {
             "outlinewidth": 0,
             "ticks": ""
            },
            "colorscale": [
             [
              0,
              "#0d0887"
             ],
             [
              0.1111111111111111,
              "#46039f"
             ],
             [
              0.2222222222222222,
              "#7201a8"
             ],
             [
              0.3333333333333333,
              "#9c179e"
             ],
             [
              0.4444444444444444,
              "#bd3786"
             ],
             [
              0.5555555555555556,
              "#d8576b"
             ],
             [
              0.6666666666666666,
              "#ed7953"
             ],
             [
              0.7777777777777778,
              "#fb9f3a"
             ],
             [
              0.8888888888888888,
              "#fdca26"
             ],
             [
              1,
              "#f0f921"
             ]
            ],
            "type": "histogram2dcontour"
           }
          ],
          "mesh3d": [
           {
            "colorbar": {
             "outlinewidth": 0,
             "ticks": ""
            },
            "type": "mesh3d"
           }
          ],
          "parcoords": [
           {
            "line": {
             "colorbar": {
              "outlinewidth": 0,
              "ticks": ""
             }
            },
            "type": "parcoords"
           }
          ],
          "pie": [
           {
            "automargin": true,
            "type": "pie"
           }
          ],
          "scatter": [
           {
            "fillpattern": {
             "fillmode": "overlay",
             "size": 10,
             "solidity": 0.2
            },
            "type": "scatter"
           }
          ],
          "scatter3d": [
           {
            "line": {
             "colorbar": {
              "outlinewidth": 0,
              "ticks": ""
             }
            },
            "marker": {
             "colorbar": {
              "outlinewidth": 0,
              "ticks": ""
             }
            },
            "type": "scatter3d"
           }
          ],
          "scattercarpet": [
           {
            "marker": {
             "colorbar": {
              "outlinewidth": 0,
              "ticks": ""
             }
            },
            "type": "scattercarpet"
           }
          ],
          "scattergeo": [
           {
            "marker": {
             "colorbar": {
              "outlinewidth": 0,
              "ticks": ""
             }
            },
            "type": "scattergeo"
           }
          ],
          "scattergl": [
           {
            "marker": {
             "colorbar": {
              "outlinewidth": 0,
              "ticks": ""
             }
            },
            "type": "scattergl"
           }
          ],
          "scattermap": [
           {
            "marker": {
             "colorbar": {
              "outlinewidth": 0,
              "ticks": ""
             }
            },
            "type": "scattermap"
           }
          ],
          "scattermapbox": [
           {
            "marker": {
             "colorbar": {
              "outlinewidth": 0,
              "ticks": ""
             }
            },
            "type": "scattermapbox"
           }
          ],
          "scatterpolar": [
           {
            "marker": {
             "colorbar": {
              "outlinewidth": 0,
              "ticks": ""
             }
            },
            "type": "scatterpolar"
           }
          ],
          "scatterpolargl": [
           {
            "marker": {
             "colorbar": {
              "outlinewidth": 0,
              "ticks": ""
             }
            },
            "type": "scatterpolargl"
           }
          ],
          "scatterternary": [
           {
            "marker": {
             "colorbar": {
              "outlinewidth": 0,
              "ticks": ""
             }
            },
            "type": "scatterternary"
           }
          ],
          "surface": [
           {
            "colorbar": {
             "outlinewidth": 0,
             "ticks": ""
            },
            "colorscale": [
             [
              0,
              "#0d0887"
             ],
             [
              0.1111111111111111,
              "#46039f"
             ],
             [
              0.2222222222222222,
              "#7201a8"
             ],
             [
              0.3333333333333333,
              "#9c179e"
             ],
             [
              0.4444444444444444,
              "#bd3786"
             ],
             [
              0.5555555555555556,
              "#d8576b"
             ],
             [
              0.6666666666666666,
              "#ed7953"
             ],
             [
              0.7777777777777778,
              "#fb9f3a"
             ],
             [
              0.8888888888888888,
              "#fdca26"
             ],
             [
              1,
              "#f0f921"
             ]
            ],
            "type": "surface"
           }
          ],
          "table": [
           {
            "cells": {
             "fill": {
              "color": "#EBF0F8"
             },
             "line": {
              "color": "white"
             }
            },
            "header": {
             "fill": {
              "color": "#C8D4E3"
             },
             "line": {
              "color": "white"
             }
            },
            "type": "table"
           }
          ]
         },
         "layout": {
          "annotationdefaults": {
           "arrowcolor": "#2a3f5f",
           "arrowhead": 0,
           "arrowwidth": 1
          },
          "autotypenumbers": "strict",
          "coloraxis": {
           "colorbar": {
            "outlinewidth": 0,
            "ticks": ""
           }
          },
          "colorscale": {
           "diverging": [
            [
             0,
             "#8e0152"
            ],
            [
             0.1,
             "#c51b7d"
            ],
            [
             0.2,
             "#de77ae"
            ],
            [
             0.3,
             "#f1b6da"
            ],
            [
             0.4,
             "#fde0ef"
            ],
            [
             0.5,
             "#f7f7f7"
            ],
            [
             0.6,
             "#e6f5d0"
            ],
            [
             0.7,
             "#b8e186"
            ],
            [
             0.8,
             "#7fbc41"
            ],
            [
             0.9,
             "#4d9221"
            ],
            [
             1,
             "#276419"
            ]
           ],
           "sequential": [
            [
             0,
             "#0d0887"
            ],
            [
             0.1111111111111111,
             "#46039f"
            ],
            [
             0.2222222222222222,
             "#7201a8"
            ],
            [
             0.3333333333333333,
             "#9c179e"
            ],
            [
             0.4444444444444444,
             "#bd3786"
            ],
            [
             0.5555555555555556,
             "#d8576b"
            ],
            [
             0.6666666666666666,
             "#ed7953"
            ],
            [
             0.7777777777777778,
             "#fb9f3a"
            ],
            [
             0.8888888888888888,
             "#fdca26"
            ],
            [
             1,
             "#f0f921"
            ]
           ],
           "sequentialminus": [
            [
             0,
             "#0d0887"
            ],
            [
             0.1111111111111111,
             "#46039f"
            ],
            [
             0.2222222222222222,
             "#7201a8"
            ],
            [
             0.3333333333333333,
             "#9c179e"
            ],
            [
             0.4444444444444444,
             "#bd3786"
            ],
            [
             0.5555555555555556,
             "#d8576b"
            ],
            [
             0.6666666666666666,
             "#ed7953"
            ],
            [
             0.7777777777777778,
             "#fb9f3a"
            ],
            [
             0.8888888888888888,
             "#fdca26"
            ],
            [
             1,
             "#f0f921"
            ]
           ]
          },
          "colorway": [
           "#636efa",
           "#EF553B",
           "#00cc96",
           "#ab63fa",
           "#FFA15A",
           "#19d3f3",
           "#FF6692",
           "#B6E880",
           "#FF97FF",
           "#FECB52"
          ],
          "font": {
           "color": "#2a3f5f"
          },
          "geo": {
           "bgcolor": "white",
           "lakecolor": "white",
           "landcolor": "#E5ECF6",
           "showlakes": true,
           "showland": true,
           "subunitcolor": "white"
          },
          "hoverlabel": {
           "align": "left"
          },
          "hovermode": "closest",
          "mapbox": {
           "style": "light"
          },
          "paper_bgcolor": "white",
          "plot_bgcolor": "#E5ECF6",
          "polar": {
           "angularaxis": {
            "gridcolor": "white",
            "linecolor": "white",
            "ticks": ""
           },
           "bgcolor": "#E5ECF6",
           "radialaxis": {
            "gridcolor": "white",
            "linecolor": "white",
            "ticks": ""
           }
          },
          "scene": {
           "xaxis": {
            "backgroundcolor": "#E5ECF6",
            "gridcolor": "white",
            "gridwidth": 2,
            "linecolor": "white",
            "showbackground": true,
            "ticks": "",
            "zerolinecolor": "white"
           },
           "yaxis": {
            "backgroundcolor": "#E5ECF6",
            "gridcolor": "white",
            "gridwidth": 2,
            "linecolor": "white",
            "showbackground": true,
            "ticks": "",
            "zerolinecolor": "white"
           },
           "zaxis": {
            "backgroundcolor": "#E5ECF6",
            "gridcolor": "white",
            "gridwidth": 2,
            "linecolor": "white",
            "showbackground": true,
            "ticks": "",
            "zerolinecolor": "white"
           }
          },
          "shapedefaults": {
           "line": {
            "color": "#2a3f5f"
           }
          },
          "ternary": {
           "aaxis": {
            "gridcolor": "white",
            "linecolor": "white",
            "ticks": ""
           },
           "baxis": {
            "gridcolor": "white",
            "linecolor": "white",
            "ticks": ""
           },
           "bgcolor": "#E5ECF6",
           "caxis": {
            "gridcolor": "white",
            "linecolor": "white",
            "ticks": ""
           }
          },
          "title": {
           "x": 0.05
          },
          "xaxis": {
           "automargin": true,
           "gridcolor": "white",
           "linecolor": "white",
           "ticks": "",
           "title": {
            "standoff": 15
           },
           "zerolinecolor": "white",
           "zerolinewidth": 2
          },
          "yaxis": {
           "automargin": true,
           "gridcolor": "white",
           "linecolor": "white",
           "ticks": "",
           "title": {
            "standoff": 15
           },
           "zerolinecolor": "white",
           "zerolinewidth": 2
          }
         }
        },
        "title": {
         "text": "Train and Test Accuracy vs Time"
        },
        "xaxis": {
         "title": {
          "text": "Timestamp"
         }
        },
        "yaxis": {
         "title": {
          "text": "Accuracy"
         }
        }
       }
      }
     },
     "metadata": {},
     "output_type": "display_data"
    }
   ],
   "source": [
    "import plotly.graph_objects as go\n",
    "\n",
    "df['timestamp'] = pd.to_datetime(df['timestamp'])\n",
    "\n",
    "# Create Plotly figure with scatter + line\n",
    "fig = go.Figure()\n",
    "fig.add_trace(go.Scatter(\n",
    "    x=df['timestamp'], y=df['train_accuracy'],\n",
    "    mode='lines+markers', name='Train Accuracy'\n",
    "))\n",
    "fig.add_trace(go.Scatter(\n",
    "    x=df['timestamp'], y=df['test_accuracy'],\n",
    "    mode='lines+markers', name='Test Accuracy'\n",
    "))\n",
    "fig.update_layout(\n",
    "    title=\"Train and Test Accuracy vs Time\",\n",
    "    xaxis_title=\"Timestamp\",\n",
    "    yaxis_title=\"Accuracy\",\n",
    "    legend_title=\"Metric\"\n",
    ")\n",
    "\n",
    "fig.show()"
   ]
  },
  {
   "cell_type": "code",
   "execution_count": null,
   "id": "c6580464",
   "metadata": {},
   "outputs": [
    {
     "data": {
      "application/vnd.plotly.v1+json": {
       "config": {
        "plotlyServerURL": "https://plot.ly"
       },
       "data": [
        {
         "mode": "lines+markers",
         "name": "Train Accuracy",
         "type": "scatter",
         "x": [
          "2025-07-23T16:26:07.873043000",
          "2025-07-23T16:28:01.008604000",
          "2025-07-23T16:28:39.324585000",
          "2025-07-23T16:29:18.633351000",
          "2025-07-23T16:29:32.476540000",
          "2025-07-23T16:29:48.949235000",
          "2025-07-23T16:31:27.336223000",
          "2025-07-23T16:32:06.578100000",
          "2025-07-23T16:32:30.301919000",
          "2025-07-23T16:32:50.840830000",
          "2025-07-23T16:33:58.289597000",
          "2025-07-23T16:34:37.506575000",
          "2025-07-23T16:34:41.306749000",
          "2025-07-23T16:34:50.176007000",
          "2025-07-23T16:35:37.783658000",
          "2025-07-23T16:36:05.272016000",
          "2025-07-23T16:37:07.404401000",
          "2025-07-23T16:37:58.026260000",
          "2025-07-23T16:38:13.870925000",
          "2025-07-23T16:38:37.976615000",
          "2025-07-23T16:39:26.206833000",
          "2025-07-23T16:40:27.512733000",
          "2025-07-23T16:40:39.934835000",
          "2025-07-23T16:41:12.795307000",
          "2025-07-23T16:41:44.030936000",
          "2025-07-23T16:42:33.823339000",
          "2025-07-23T16:43:22.287472000",
          "2025-07-23T16:44:09.530593000",
          "2025-07-23T16:44:17.556196000",
          "2025-07-23T16:45:06.824655000",
          "2025-07-23T16:46:09.924788000",
          "2025-07-23T16:47:10.667088000",
          "2025-07-23T16:47:25.260754000",
          "2025-07-23T16:47:53.383039000",
          "2025-07-23T16:48:28.998181000",
          "2025-07-23T16:48:41.426536000",
          "2025-07-23T16:48:58.661289000",
          "2025-07-23T16:49:15.032257000",
          "2025-07-23T16:49:41.514153000",
          "2025-07-23T16:50:09.096119000",
          "2025-07-23T16:52:30.518421000",
          "2025-07-23T16:53:07.614308000",
          "2025-07-23T16:53:37.203103000",
          "2025-07-23T16:54:03.199203000",
          "2025-07-23T16:54:41.391615000",
          "2025-07-23T16:55:23.379804000",
          "2025-07-23T16:56:10.054841000",
          "2025-07-23T16:56:47.197039000",
          "2025-07-23T16:57:22.621951000",
          "2025-07-23T16:58:15.381775000",
          "2025-07-23T16:59:03.898278000",
          "2025-07-23T16:59:43.649089000",
          "2025-07-23T17:00:34.523236000",
          "2025-07-23T17:01:01.172485000",
          "2025-07-23T17:01:39.290847000",
          "2025-07-23T17:02:31.856123000",
          "2025-07-23T17:03:10.169225000",
          "2025-07-23T17:03:49.983121000",
          "2025-07-23T17:04:27.328198000",
          "2025-07-23T17:05:18.389043000",
          "2025-07-23T17:06:09.087502000",
          "2025-07-23T17:06:51.693363000",
          "2025-07-23T17:07:33.714588000",
          "2025-07-23T17:07:58.698289000",
          "2025-07-23T17:08:35.633029000",
          "2025-07-23T17:09:25.142441000",
          "2025-07-23T17:10:03.748918000",
          "2025-07-23T17:10:50.537515000",
          "2025-07-23T17:11:39.023812000",
          "2025-07-23T17:12:08.962029000",
          "2025-07-23T17:12:57.627027000",
          "2025-07-23T17:13:48.627508000",
          "2025-07-23T17:14:40.846239000",
          "2025-07-23T17:15:31.689829000",
          "2025-07-23T17:16:16.124744000",
          "2025-07-23T17:16:55.191064000",
          "2025-07-23T17:17:33.872599000",
          "2025-07-23T17:18:06.471830000",
          "2025-07-23T17:18:57.483162000",
          "2025-07-23T17:19:44.670176000",
          "2025-07-23T17:20:25.687575000",
          "2025-07-23T17:21:07.742842000",
          "2025-07-23T17:21:58.677231000",
          "2025-07-23T17:22:28.503760000",
          "2025-07-23T17:23:10.807232000",
          "2025-07-23T17:23:52.840353000",
          "2025-07-23T17:24:41.244332000",
          "2025-07-23T17:25:27.954282000",
          "2025-07-23T17:25:59.282604000",
          "2025-07-23T17:26:38.598415000",
          "2025-07-23T17:27:19.913399000",
          "2025-07-23T17:28:07.553073000",
          "2025-07-23T17:28:51.725682000",
          "2025-07-23T17:29:39.458871000",
          "2025-07-23T17:30:26.516801000",
          "2025-07-23T17:30:56.639469000",
          "2025-07-23T17:31:45.297725000",
          "2025-07-23T17:32:27.826541000",
          "2025-07-23T17:33:08.414184000",
          "2025-07-23T17:33:52.847133000",
          "2025-07-23T17:34:39.324706000",
          "2025-07-23T17:35:24.108491000",
          "2025-07-23T17:36:10.769914000",
          "2025-07-23T17:36:58.157040000",
          "2025-07-23T17:37:48.702147000",
          "2025-07-23T17:38:37.096726000",
          "2025-07-23T17:39:19.416524000",
          "2025-07-23T17:40:04.138334000",
          "2025-07-23T17:40:48.253430000",
          "2025-07-23T17:41:30.307781000",
          "2025-07-23T17:42:15.182873000",
          "2025-07-23T17:43:00.103579000",
          "2025-07-23T17:43:36.824001000",
          "2025-07-23T17:44:07.691197000",
          "2025-07-23T17:44:44.014407000",
          "2025-07-23T17:45:33.756239000",
          "2025-07-23T17:46:10.473249000",
          "2025-07-23T17:46:42.086599000",
          "2025-07-23T17:47:27.138604000",
          "2025-07-23T17:48:14.302770000",
          "2025-07-23T17:48:56.783616000",
          "2025-07-23T17:49:41.774392000",
          "2025-07-23T17:50:17.514214000",
          "2025-07-23T17:51:00.550817000",
          "2025-07-23T17:51:42.997206000",
          "2025-07-23T17:52:32.030095000",
          "2025-07-23T17:53:18.041222000",
          "2025-07-23T17:54:05.156447000",
          "2025-07-23T17:54:56.993862000",
          "2025-07-23T17:55:42.863579000",
          "2025-07-23T17:56:25.969693000",
          "2025-07-23T17:57:15.019765000",
          "2025-07-23T17:58:04.211446000",
          "2025-07-23T17:58:46.128804000",
          "2025-07-23T17:59:33.304484000",
          "2025-07-23T18:00:18.726071000",
          "2025-07-23T18:01:09.105981000",
          "2025-07-23T18:01:45.757227000",
          "2025-07-23T18:02:33.257851000",
          "2025-07-23T18:03:25.865266000",
          "2025-07-23T18:04:08.895653000",
          "2025-07-23T18:04:55.360229000",
          "2025-07-23T18:05:45.342760000",
          "2025-07-23T18:06:26.737664000",
          "2025-07-23T18:07:08.503254000",
          "2025-07-23T18:07:51.225755000",
          "2025-07-23T18:08:38.614583000",
          "2025-07-23T18:09:24.933598000",
          "2025-07-23T18:10:04.790882000",
          "2025-07-23T18:10:46.337499000"
         ],
         "y": {
          "bdata": "D4PLGEkn4j+jAbwFEhTbP/JBz2bV5+I/1XjpJjEI4D8GgZVDi2zfPwmKH2PuWuI/dCSX/5B+4z96pSxDHOvgP6MBvAUSFNs/JQaBlUOL4j94CyQofozjP0Otad5xito/KH6MuWsJ1T/P91PjpZvcPzMzMzMzM+M/owG8BRIU4z9fKcsQx7riP/8h/fZ14OI/BFYOLbKd1z/dJAaBlUPbP5huEoPAyuE/NxrAWyBB4z/P91PjpZvcP4Y41sVtNNg/0ETY8PRK4z/HSzeJQWDjP+zAOSNKe+M/Imx4eqUs4z/HuriNBvDePzm0yHa+n+A/8kHPZtXn4D++MJkqGJXiPxkEVg4tsuE/63O1FfvL4j8E54wo7Q3ePxdIUPwYc98/zH9Iv30d4D8Z4lgXt9HcP/YoXI/C9eI/C7Wmeccp3j8H8BZIUPzgP7yWkA96NuE/93XgnBGl4T8ZBFYOLbLhPyEf9GxWfeI/1sVtNIC34j8u/yH99nXiP5HtfD81XuI/f9k9eVio4T8bnl4pyxDhP/W52or9Zd8/yeU/pN++4D//If32deDiP3ZxGw3gLdQ/PZtVn6ut4D8c6+I2GsDhP5VliGNd3N4/whcmUwWj4j9hw9MrZRngP9cS8kHPZuE/5BQdyeU/4D+28/3UeOneP44G8BZIUOI/NIC3QILi4T8DCYofY+7gP49TdCSX/+I/2V92Tx4W4j9LyAc9m1XhP9bFbTSAt+I/yJi7lpAP4j/ImLuWkA/iP2IQWDm0yOA/BoGVQ4ts3z/hehSuR+HgP2B2Tx4WauE/8kHPZtXn4D+tad5xio7iP2HD0ytlGeI/gnNGlPYG4T8Fo5I6AU3iP/Xb14FzRuI/dnEbDeAt4j/swDkjSnvhP8iYu5aQD+I/liGOdXEb4T8aUdobfGHiP6K0N/jCZOI/PE7RkVz+4T/RkVz+Q/rhP18pyxDHuuI/mbuWkA964j9iEFg5tMjiPx+F61G4HuE/JlMFo5I64T8+6Nms+lzhPw8LtaZ5x+E/VOOlm8Qg4j/uWkI+6NngP8X+snvysOA/B/AWSFD84D9JLv8h/fbhPwmKH2PuWuI/ldQJaCJs4j8aUdobfGHiP7FQa5p3nOI/orQ3+MJk4j8Jih9j7lriP44G8BZIUOI/T6+UZYhj4T8u/yH99nXiP3zysFBrmuE/G55eKcsQ4T/EsS5uowHiPyS5/If02+E/sAPnjCjt4T8aUdobfGHiPxpR2ht8YeI/f9k9eVio4T9Q/Bhz1xLiPzm0yHa+n+I/3EYDeAsk4j+lTkATYcPhP1D8GHPXEuI/whcmUwWj4j8aUdobfGHiPzbNO07RkeI/VOOlm8Qg4j+KH2PuWkLiP+5aQj7o2eI/m1Wfq63Y4T8hH/RsVn3iP0p7gy9MpuI/RpT2Bl+Y4j9hw9MrZRniP0p7gy9MpuI/ppvEILBy4j8Jih9j7lriP1TjpZvEIOI/W0I+6Nms4j9Q/Bhz1xLiP/Xb14FzRuI/CYofY+5a4j+xUGuad5ziPzbNO07RkeI/whcmUwWj4j+xUGuad5ziPzhnRGlv8OE/jgbwFkhQ4j88TtGRXP7hP/H0SlmGOOI/",
          "dtype": "f8"
         }
        },
        {
         "mode": "lines+markers",
         "name": "Test Accuracy",
         "type": "scatter",
         "x": [
          "2025-07-23T16:26:07.873043000",
          "2025-07-23T16:28:01.008604000",
          "2025-07-23T16:28:39.324585000",
          "2025-07-23T16:29:18.633351000",
          "2025-07-23T16:29:32.476540000",
          "2025-07-23T16:29:48.949235000",
          "2025-07-23T16:31:27.336223000",
          "2025-07-23T16:32:06.578100000",
          "2025-07-23T16:32:30.301919000",
          "2025-07-23T16:32:50.840830000",
          "2025-07-23T16:33:58.289597000",
          "2025-07-23T16:34:37.506575000",
          "2025-07-23T16:34:41.306749000",
          "2025-07-23T16:34:50.176007000",
          "2025-07-23T16:35:37.783658000",
          "2025-07-23T16:36:05.272016000",
          "2025-07-23T16:37:07.404401000",
          "2025-07-23T16:37:58.026260000",
          "2025-07-23T16:38:13.870925000",
          "2025-07-23T16:38:37.976615000",
          "2025-07-23T16:39:26.206833000",
          "2025-07-23T16:40:27.512733000",
          "2025-07-23T16:40:39.934835000",
          "2025-07-23T16:41:12.795307000",
          "2025-07-23T16:41:44.030936000",
          "2025-07-23T16:42:33.823339000",
          "2025-07-23T16:43:22.287472000",
          "2025-07-23T16:44:09.530593000",
          "2025-07-23T16:44:17.556196000",
          "2025-07-23T16:45:06.824655000",
          "2025-07-23T16:46:09.924788000",
          "2025-07-23T16:47:10.667088000",
          "2025-07-23T16:47:25.260754000",
          "2025-07-23T16:47:53.383039000",
          "2025-07-23T16:48:28.998181000",
          "2025-07-23T16:48:41.426536000",
          "2025-07-23T16:48:58.661289000",
          "2025-07-23T16:49:15.032257000",
          "2025-07-23T16:49:41.514153000",
          "2025-07-23T16:50:09.096119000",
          "2025-07-23T16:52:30.518421000",
          "2025-07-23T16:53:07.614308000",
          "2025-07-23T16:53:37.203103000",
          "2025-07-23T16:54:03.199203000",
          "2025-07-23T16:54:41.391615000",
          "2025-07-23T16:55:23.379804000",
          "2025-07-23T16:56:10.054841000",
          "2025-07-23T16:56:47.197039000",
          "2025-07-23T16:57:22.621951000",
          "2025-07-23T16:58:15.381775000",
          "2025-07-23T16:59:03.898278000",
          "2025-07-23T16:59:43.649089000",
          "2025-07-23T17:00:34.523236000",
          "2025-07-23T17:01:01.172485000",
          "2025-07-23T17:01:39.290847000",
          "2025-07-23T17:02:31.856123000",
          "2025-07-23T17:03:10.169225000",
          "2025-07-23T17:03:49.983121000",
          "2025-07-23T17:04:27.328198000",
          "2025-07-23T17:05:18.389043000",
          "2025-07-23T17:06:09.087502000",
          "2025-07-23T17:06:51.693363000",
          "2025-07-23T17:07:33.714588000",
          "2025-07-23T17:07:58.698289000",
          "2025-07-23T17:08:35.633029000",
          "2025-07-23T17:09:25.142441000",
          "2025-07-23T17:10:03.748918000",
          "2025-07-23T17:10:50.537515000",
          "2025-07-23T17:11:39.023812000",
          "2025-07-23T17:12:08.962029000",
          "2025-07-23T17:12:57.627027000",
          "2025-07-23T17:13:48.627508000",
          "2025-07-23T17:14:40.846239000",
          "2025-07-23T17:15:31.689829000",
          "2025-07-23T17:16:16.124744000",
          "2025-07-23T17:16:55.191064000",
          "2025-07-23T17:17:33.872599000",
          "2025-07-23T17:18:06.471830000",
          "2025-07-23T17:18:57.483162000",
          "2025-07-23T17:19:44.670176000",
          "2025-07-23T17:20:25.687575000",
          "2025-07-23T17:21:07.742842000",
          "2025-07-23T17:21:58.677231000",
          "2025-07-23T17:22:28.503760000",
          "2025-07-23T17:23:10.807232000",
          "2025-07-23T17:23:52.840353000",
          "2025-07-23T17:24:41.244332000",
          "2025-07-23T17:25:27.954282000",
          "2025-07-23T17:25:59.282604000",
          "2025-07-23T17:26:38.598415000",
          "2025-07-23T17:27:19.913399000",
          "2025-07-23T17:28:07.553073000",
          "2025-07-23T17:28:51.725682000",
          "2025-07-23T17:29:39.458871000",
          "2025-07-23T17:30:26.516801000",
          "2025-07-23T17:30:56.639469000",
          "2025-07-23T17:31:45.297725000",
          "2025-07-23T17:32:27.826541000",
          "2025-07-23T17:33:08.414184000",
          "2025-07-23T17:33:52.847133000",
          "2025-07-23T17:34:39.324706000",
          "2025-07-23T17:35:24.108491000",
          "2025-07-23T17:36:10.769914000",
          "2025-07-23T17:36:58.157040000",
          "2025-07-23T17:37:48.702147000",
          "2025-07-23T17:38:37.096726000",
          "2025-07-23T17:39:19.416524000",
          "2025-07-23T17:40:04.138334000",
          "2025-07-23T17:40:48.253430000",
          "2025-07-23T17:41:30.307781000",
          "2025-07-23T17:42:15.182873000",
          "2025-07-23T17:43:00.103579000",
          "2025-07-23T17:43:36.824001000",
          "2025-07-23T17:44:07.691197000",
          "2025-07-23T17:44:44.014407000",
          "2025-07-23T17:45:33.756239000",
          "2025-07-23T17:46:10.473249000",
          "2025-07-23T17:46:42.086599000",
          "2025-07-23T17:47:27.138604000",
          "2025-07-23T17:48:14.302770000",
          "2025-07-23T17:48:56.783616000",
          "2025-07-23T17:49:41.774392000",
          "2025-07-23T17:50:17.514214000",
          "2025-07-23T17:51:00.550817000",
          "2025-07-23T17:51:42.997206000",
          "2025-07-23T17:52:32.030095000",
          "2025-07-23T17:53:18.041222000",
          "2025-07-23T17:54:05.156447000",
          "2025-07-23T17:54:56.993862000",
          "2025-07-23T17:55:42.863579000",
          "2025-07-23T17:56:25.969693000",
          "2025-07-23T17:57:15.019765000",
          "2025-07-23T17:58:04.211446000",
          "2025-07-23T17:58:46.128804000",
          "2025-07-23T17:59:33.304484000",
          "2025-07-23T18:00:18.726071000",
          "2025-07-23T18:01:09.105981000",
          "2025-07-23T18:01:45.757227000",
          "2025-07-23T18:02:33.257851000",
          "2025-07-23T18:03:25.865266000",
          "2025-07-23T18:04:08.895653000",
          "2025-07-23T18:04:55.360229000",
          "2025-07-23T18:05:45.342760000",
          "2025-07-23T18:06:26.737664000",
          "2025-07-23T18:07:08.503254000",
          "2025-07-23T18:07:51.225755000",
          "2025-07-23T18:08:38.614583000",
          "2025-07-23T18:09:24.933598000",
          "2025-07-23T18:10:04.790882000",
          "2025-07-23T18:10:46.337499000"
         ],
         "y": {
          "bdata": "Xpo4jNXW3z+7uI0G8BbcP8PTK2UZ4uA/eVioNc073j/T3uALk6neP0HxY8xdS+A/8BZIUPwY4T/IBz2bVZ/fP/CFyVTBqNg/y6FFtvP94D+XkA96NqvgP4hjXdxGA9g/bHh6pSxD1D+U9gZfmEzZP/T91HjpJuE/IEHxY8xd4T/wFkhQ/BjhP/AWSFD8GOE/3SQGgZVD1z/yQc9m1efaP5p3nKIjueA/9+RhodY04T9TliGOdXHbP5Axdy0hH9g/oyO5/If04T/LoUW28/3gP/AWSFD8GOE/x7q4jQbw4D+4rwPnjCjdP9Pe4AuTqd4/GJXUCWgi4D8YldQJaCLgPySX/5B++94/HVpkO99P4T8NcayL22jcP8RCrWnecd4/XynLEMe63D/1SlmGONbZP/fkYaHWNOE/arx0kxgE3j9xGw3gLZDgPyQofoy5a+E/HVpkO99P4T8oDwu1pnnhP6YKRiV1AuI/oyO5/If04T+BlUOLbOfhP4GVQ4ts5+E/8BZIUPwY4T+eXinLEMfgPwpoImx4et0/y6FFtvP94D+q8dJNYhDiPwdfmEwVjNI/l5APejar4D924JwRpb3hPx3J5T+k394/VFInoImw4T9B8WPMXUvgP8PTK2UZ4uA/yAc9m1Wf3z92Tx4Wak3fPygPC7WmeeE/IEHxY8xd4T9B8WPMXUvgP0mdgCbChuE/cRsN4C2Q4D/D0ytlGeLgP89m1edqK+I/IEHxY8xd4T/7y+7Jw0LhP8PTK2UZ4uA/xEKtad5x3j8YldQJaCLgP/vL7snDQuE/FK5H4XoU4D9NhA1Pr5ThP86I0t7gC+E/GJXUCWgi4D8kKH6MuWvhP/yp8dJNYuI/escpOpLL4T/OiNLe4AvhP3rHKTqSy+E/x7q4jQbw4D+iRbbz/dTgP4GVQ4ts5+E/rthfdk8e4j/HuriNBvDgP1RSJ6CJsOE/fa62Yn/Z4T+u2F92Tx7iP5eQD3o2q+A/y6FFtvP94D+BlUOLbOfhP5eQD3o2q+A/rthfdk8e4j89CtejcD3gPxx8YTJVMOA/KA8LtaZ54T9JnYAmwobhP67YX3ZPHuI/UWuad5yi4T9JnYAmwobhPyQofoy5a+E/TYQNT6+U4T+mCkYldQLiP67YX3ZPHuI/y6FFtvP94D8gQfFjzF3hP2pN845TdOA/PQrXo3A94D96xyk6ksvhP55eKcsQx+A/TYQNT6+U4T99rrZif9nhPx1aZDvfT+E/w9MrZRni4D9Ra5p3nKLhP6MjufyH9OE/duCcEaW94T/HuriNBvDgPygPC7WmeeE/pgpGJXUC4j+BlUOLbOfhP6rx0k1iEOI/duCcEaW94T99rrZif9nhP6YKRiV1AuI/zojS3uAL4T/7y+7Jw0LhP1RSJ6CJsOE/gZVDi2zn4T/7y+7Jw0LhP6YKRiV1AuI/SZ2AJsKG4T+BlUOLbOfhP6MjufyH9OE/duCcEaW94T8HX5hMFYziP02EDU+vlOE/IEHxY8xd4T9JnYAmwobhP3rHKTqSy+E/KA8LtaZ54T8dWmQ730/hP8PTK2UZ4uA/9+RhodY04T99rrZif9nhPyQofoy5a+E/",
          "dtype": "f8"
         }
        }
       ],
       "layout": {
        "legend": {
         "title": {
          "text": "Metric"
         }
        },
        "shapes": [
         {
          "line": {
           "color": "gray",
           "dash": "dash"
          },
          "type": "line",
          "x0": "2025-07-23T16:36:05.272016",
          "x1": "2025-07-23T16:36:05.272016",
          "xref": "x",
          "y0": 0,
          "y1": 1,
          "yref": "paper"
         },
         {
          "line": {
           "color": "gray",
           "dash": "dash"
          },
          "type": "line",
          "x0": "2025-07-23T16:46:09.924788",
          "x1": "2025-07-23T16:46:09.924788",
          "xref": "x",
          "y0": 0,
          "y1": 1,
          "yref": "paper"
         },
         {
          "line": {
           "color": "gray",
           "dash": "dash"
          },
          "type": "line",
          "x0": "2025-07-23T16:55:23.379804",
          "x1": "2025-07-23T16:55:23.379804",
          "xref": "x",
          "y0": 0,
          "y1": 1,
          "yref": "paper"
         },
         {
          "line": {
           "color": "gray",
           "dash": "dash"
          },
          "type": "line",
          "x0": "2025-07-23T17:06:09.087502",
          "x1": "2025-07-23T17:06:09.087502",
          "xref": "x",
          "y0": 0,
          "y1": 1,
          "yref": "paper"
         },
         {
          "line": {
           "color": "gray",
           "dash": "dash"
          },
          "type": "line",
          "x0": "2025-07-23T17:16:55.191064",
          "x1": "2025-07-23T17:16:55.191064",
          "xref": "x",
          "y0": 0,
          "y1": 1,
          "yref": "paper"
         },
         {
          "line": {
           "color": "gray",
           "dash": "dash"
          },
          "type": "line",
          "x0": "2025-07-23T17:27:19.913399",
          "x1": "2025-07-23T17:27:19.913399",
          "xref": "x",
          "y0": 0,
          "y1": 1,
          "yref": "paper"
         },
         {
          "line": {
           "color": "gray",
           "dash": "dash"
          },
          "type": "line",
          "x0": "2025-07-23T17:38:37.096726",
          "x1": "2025-07-23T17:38:37.096726",
          "xref": "x",
          "y0": 0,
          "y1": 1,
          "yref": "paper"
         },
         {
          "line": {
           "color": "gray",
           "dash": "dash"
          },
          "type": "line",
          "x0": "2025-07-23T17:48:56.783616",
          "x1": "2025-07-23T17:48:56.783616",
          "xref": "x",
          "y0": 0,
          "y1": 1,
          "yref": "paper"
         },
         {
          "line": {
           "color": "gray",
           "dash": "dash"
          },
          "type": "line",
          "x0": "2025-07-23T18:00:18.726071",
          "x1": "2025-07-23T18:00:18.726071",
          "xref": "x",
          "y0": 0,
          "y1": 1,
          "yref": "paper"
         }
        ],
        "template": {
         "data": {
          "bar": [
           {
            "error_x": {
             "color": "#2a3f5f"
            },
            "error_y": {
             "color": "#2a3f5f"
            },
            "marker": {
             "line": {
              "color": "white",
              "width": 0.5
             },
             "pattern": {
              "fillmode": "overlay",
              "size": 10,
              "solidity": 0.2
             }
            },
            "type": "bar"
           }
          ],
          "barpolar": [
           {
            "marker": {
             "line": {
              "color": "white",
              "width": 0.5
             },
             "pattern": {
              "fillmode": "overlay",
              "size": 10,
              "solidity": 0.2
             }
            },
            "type": "barpolar"
           }
          ],
          "carpet": [
           {
            "aaxis": {
             "endlinecolor": "#2a3f5f",
             "gridcolor": "#C8D4E3",
             "linecolor": "#C8D4E3",
             "minorgridcolor": "#C8D4E3",
             "startlinecolor": "#2a3f5f"
            },
            "baxis": {
             "endlinecolor": "#2a3f5f",
             "gridcolor": "#C8D4E3",
             "linecolor": "#C8D4E3",
             "minorgridcolor": "#C8D4E3",
             "startlinecolor": "#2a3f5f"
            },
            "type": "carpet"
           }
          ],
          "choropleth": [
           {
            "colorbar": {
             "outlinewidth": 0,
             "ticks": ""
            },
            "type": "choropleth"
           }
          ],
          "contour": [
           {
            "colorbar": {
             "outlinewidth": 0,
             "ticks": ""
            },
            "colorscale": [
             [
              0,
              "#0d0887"
             ],
             [
              0.1111111111111111,
              "#46039f"
             ],
             [
              0.2222222222222222,
              "#7201a8"
             ],
             [
              0.3333333333333333,
              "#9c179e"
             ],
             [
              0.4444444444444444,
              "#bd3786"
             ],
             [
              0.5555555555555556,
              "#d8576b"
             ],
             [
              0.6666666666666666,
              "#ed7953"
             ],
             [
              0.7777777777777778,
              "#fb9f3a"
             ],
             [
              0.8888888888888888,
              "#fdca26"
             ],
             [
              1,
              "#f0f921"
             ]
            ],
            "type": "contour"
           }
          ],
          "contourcarpet": [
           {
            "colorbar": {
             "outlinewidth": 0,
             "ticks": ""
            },
            "type": "contourcarpet"
           }
          ],
          "heatmap": [
           {
            "colorbar": {
             "outlinewidth": 0,
             "ticks": ""
            },
            "colorscale": [
             [
              0,
              "#0d0887"
             ],
             [
              0.1111111111111111,
              "#46039f"
             ],
             [
              0.2222222222222222,
              "#7201a8"
             ],
             [
              0.3333333333333333,
              "#9c179e"
             ],
             [
              0.4444444444444444,
              "#bd3786"
             ],
             [
              0.5555555555555556,
              "#d8576b"
             ],
             [
              0.6666666666666666,
              "#ed7953"
             ],
             [
              0.7777777777777778,
              "#fb9f3a"
             ],
             [
              0.8888888888888888,
              "#fdca26"
             ],
             [
              1,
              "#f0f921"
             ]
            ],
            "type": "heatmap"
           }
          ],
          "histogram": [
           {
            "marker": {
             "pattern": {
              "fillmode": "overlay",
              "size": 10,
              "solidity": 0.2
             }
            },
            "type": "histogram"
           }
          ],
          "histogram2d": [
           {
            "colorbar": {
             "outlinewidth": 0,
             "ticks": ""
            },
            "colorscale": [
             [
              0,
              "#0d0887"
             ],
             [
              0.1111111111111111,
              "#46039f"
             ],
             [
              0.2222222222222222,
              "#7201a8"
             ],
             [
              0.3333333333333333,
              "#9c179e"
             ],
             [
              0.4444444444444444,
              "#bd3786"
             ],
             [
              0.5555555555555556,
              "#d8576b"
             ],
             [
              0.6666666666666666,
              "#ed7953"
             ],
             [
              0.7777777777777778,
              "#fb9f3a"
             ],
             [
              0.8888888888888888,
              "#fdca26"
             ],
             [
              1,
              "#f0f921"
             ]
            ],
            "type": "histogram2d"
           }
          ],
          "histogram2dcontour": [
           {
            "colorbar": {
             "outlinewidth": 0,
             "ticks": ""
            },
            "colorscale": [
             [
              0,
              "#0d0887"
             ],
             [
              0.1111111111111111,
              "#46039f"
             ],
             [
              0.2222222222222222,
              "#7201a8"
             ],
             [
              0.3333333333333333,
              "#9c179e"
             ],
             [
              0.4444444444444444,
              "#bd3786"
             ],
             [
              0.5555555555555556,
              "#d8576b"
             ],
             [
              0.6666666666666666,
              "#ed7953"
             ],
             [
              0.7777777777777778,
              "#fb9f3a"
             ],
             [
              0.8888888888888888,
              "#fdca26"
             ],
             [
              1,
              "#f0f921"
             ]
            ],
            "type": "histogram2dcontour"
           }
          ],
          "mesh3d": [
           {
            "colorbar": {
             "outlinewidth": 0,
             "ticks": ""
            },
            "type": "mesh3d"
           }
          ],
          "parcoords": [
           {
            "line": {
             "colorbar": {
              "outlinewidth": 0,
              "ticks": ""
             }
            },
            "type": "parcoords"
           }
          ],
          "pie": [
           {
            "automargin": true,
            "type": "pie"
           }
          ],
          "scatter": [
           {
            "fillpattern": {
             "fillmode": "overlay",
             "size": 10,
             "solidity": 0.2
            },
            "type": "scatter"
           }
          ],
          "scatter3d": [
           {
            "line": {
             "colorbar": {
              "outlinewidth": 0,
              "ticks": ""
             }
            },
            "marker": {
             "colorbar": {
              "outlinewidth": 0,
              "ticks": ""
             }
            },
            "type": "scatter3d"
           }
          ],
          "scattercarpet": [
           {
            "marker": {
             "colorbar": {
              "outlinewidth": 0,
              "ticks": ""
             }
            },
            "type": "scattercarpet"
           }
          ],
          "scattergeo": [
           {
            "marker": {
             "colorbar": {
              "outlinewidth": 0,
              "ticks": ""
             }
            },
            "type": "scattergeo"
           }
          ],
          "scattergl": [
           {
            "marker": {
             "colorbar": {
              "outlinewidth": 0,
              "ticks": ""
             }
            },
            "type": "scattergl"
           }
          ],
          "scattermap": [
           {
            "marker": {
             "colorbar": {
              "outlinewidth": 0,
              "ticks": ""
             }
            },
            "type": "scattermap"
           }
          ],
          "scattermapbox": [
           {
            "marker": {
             "colorbar": {
              "outlinewidth": 0,
              "ticks": ""
             }
            },
            "type": "scattermapbox"
           }
          ],
          "scatterpolar": [
           {
            "marker": {
             "colorbar": {
              "outlinewidth": 0,
              "ticks": ""
             }
            },
            "type": "scatterpolar"
           }
          ],
          "scatterpolargl": [
           {
            "marker": {
             "colorbar": {
              "outlinewidth": 0,
              "ticks": ""
             }
            },
            "type": "scatterpolargl"
           }
          ],
          "scatterternary": [
           {
            "marker": {
             "colorbar": {
              "outlinewidth": 0,
              "ticks": ""
             }
            },
            "type": "scatterternary"
           }
          ],
          "surface": [
           {
            "colorbar": {
             "outlinewidth": 0,
             "ticks": ""
            },
            "colorscale": [
             [
              0,
              "#0d0887"
             ],
             [
              0.1111111111111111,
              "#46039f"
             ],
             [
              0.2222222222222222,
              "#7201a8"
             ],
             [
              0.3333333333333333,
              "#9c179e"
             ],
             [
              0.4444444444444444,
              "#bd3786"
             ],
             [
              0.5555555555555556,
              "#d8576b"
             ],
             [
              0.6666666666666666,
              "#ed7953"
             ],
             [
              0.7777777777777778,
              "#fb9f3a"
             ],
             [
              0.8888888888888888,
              "#fdca26"
             ],
             [
              1,
              "#f0f921"
             ]
            ],
            "type": "surface"
           }
          ],
          "table": [
           {
            "cells": {
             "fill": {
              "color": "#EBF0F8"
             },
             "line": {
              "color": "white"
             }
            },
            "header": {
             "fill": {
              "color": "#C8D4E3"
             },
             "line": {
              "color": "white"
             }
            },
            "type": "table"
           }
          ]
         },
         "layout": {
          "annotationdefaults": {
           "arrowcolor": "#2a3f5f",
           "arrowhead": 0,
           "arrowwidth": 1
          },
          "autotypenumbers": "strict",
          "coloraxis": {
           "colorbar": {
            "outlinewidth": 0,
            "ticks": ""
           }
          },
          "colorscale": {
           "diverging": [
            [
             0,
             "#8e0152"
            ],
            [
             0.1,
             "#c51b7d"
            ],
            [
             0.2,
             "#de77ae"
            ],
            [
             0.3,
             "#f1b6da"
            ],
            [
             0.4,
             "#fde0ef"
            ],
            [
             0.5,
             "#f7f7f7"
            ],
            [
             0.6,
             "#e6f5d0"
            ],
            [
             0.7,
             "#b8e186"
            ],
            [
             0.8,
             "#7fbc41"
            ],
            [
             0.9,
             "#4d9221"
            ],
            [
             1,
             "#276419"
            ]
           ],
           "sequential": [
            [
             0,
             "#0d0887"
            ],
            [
             0.1111111111111111,
             "#46039f"
            ],
            [
             0.2222222222222222,
             "#7201a8"
            ],
            [
             0.3333333333333333,
             "#9c179e"
            ],
            [
             0.4444444444444444,
             "#bd3786"
            ],
            [
             0.5555555555555556,
             "#d8576b"
            ],
            [
             0.6666666666666666,
             "#ed7953"
            ],
            [
             0.7777777777777778,
             "#fb9f3a"
            ],
            [
             0.8888888888888888,
             "#fdca26"
            ],
            [
             1,
             "#f0f921"
            ]
           ],
           "sequentialminus": [
            [
             0,
             "#0d0887"
            ],
            [
             0.1111111111111111,
             "#46039f"
            ],
            [
             0.2222222222222222,
             "#7201a8"
            ],
            [
             0.3333333333333333,
             "#9c179e"
            ],
            [
             0.4444444444444444,
             "#bd3786"
            ],
            [
             0.5555555555555556,
             "#d8576b"
            ],
            [
             0.6666666666666666,
             "#ed7953"
            ],
            [
             0.7777777777777778,
             "#fb9f3a"
            ],
            [
             0.8888888888888888,
             "#fdca26"
            ],
            [
             1,
             "#f0f921"
            ]
           ]
          },
          "colorway": [
           "#636efa",
           "#EF553B",
           "#00cc96",
           "#ab63fa",
           "#FFA15A",
           "#19d3f3",
           "#FF6692",
           "#B6E880",
           "#FF97FF",
           "#FECB52"
          ],
          "font": {
           "color": "#2a3f5f"
          },
          "geo": {
           "bgcolor": "white",
           "lakecolor": "white",
           "landcolor": "white",
           "showlakes": true,
           "showland": true,
           "subunitcolor": "#C8D4E3"
          },
          "hoverlabel": {
           "align": "left"
          },
          "hovermode": "closest",
          "mapbox": {
           "style": "light"
          },
          "paper_bgcolor": "white",
          "plot_bgcolor": "white",
          "polar": {
           "angularaxis": {
            "gridcolor": "#EBF0F8",
            "linecolor": "#EBF0F8",
            "ticks": ""
           },
           "bgcolor": "white",
           "radialaxis": {
            "gridcolor": "#EBF0F8",
            "linecolor": "#EBF0F8",
            "ticks": ""
           }
          },
          "scene": {
           "xaxis": {
            "backgroundcolor": "white",
            "gridcolor": "#DFE8F3",
            "gridwidth": 2,
            "linecolor": "#EBF0F8",
            "showbackground": true,
            "ticks": "",
            "zerolinecolor": "#EBF0F8"
           },
           "yaxis": {
            "backgroundcolor": "white",
            "gridcolor": "#DFE8F3",
            "gridwidth": 2,
            "linecolor": "#EBF0F8",
            "showbackground": true,
            "ticks": "",
            "zerolinecolor": "#EBF0F8"
           },
           "zaxis": {
            "backgroundcolor": "white",
            "gridcolor": "#DFE8F3",
            "gridwidth": 2,
            "linecolor": "#EBF0F8",
            "showbackground": true,
            "ticks": "",
            "zerolinecolor": "#EBF0F8"
           }
          },
          "shapedefaults": {
           "line": {
            "color": "#2a3f5f"
           }
          },
          "ternary": {
           "aaxis": {
            "gridcolor": "#DFE8F3",
            "linecolor": "#A2B1C6",
            "ticks": ""
           },
           "baxis": {
            "gridcolor": "#DFE8F3",
            "linecolor": "#A2B1C6",
            "ticks": ""
           },
           "bgcolor": "white",
           "caxis": {
            "gridcolor": "#DFE8F3",
            "linecolor": "#A2B1C6",
            "ticks": ""
           }
          },
          "title": {
           "x": 0.05
          },
          "xaxis": {
           "automargin": true,
           "gridcolor": "#EBF0F8",
           "linecolor": "#EBF0F8",
           "ticks": "",
           "title": {
            "standoff": 15
           },
           "zerolinecolor": "#EBF0F8",
           "zerolinewidth": 2
          },
          "yaxis": {
           "automargin": true,
           "gridcolor": "#EBF0F8",
           "linecolor": "#EBF0F8",
           "ticks": "",
           "title": {
            "standoff": 15
           },
           "zerolinecolor": "#EBF0F8",
           "zerolinewidth": 2
          }
         }
        },
        "title": {
         "text": "Train and Test Accuracy vs Time (avec générations)"
        },
        "xaxis": {
         "title": {
          "text": "Timestamp"
         }
        },
        "yaxis": {
         "title": {
          "text": "Accuracy"
         }
        }
       }
      }
     },
     "metadata": {},
     "output_type": "display_data"
    }
   ],
   "source": [
    "import plotly.graph_objects as go\n",
    "import pandas as pd\n",
    "\n",
    "# Assure-toi que timestamp est bien converti\n",
    "df['timestamp'] = pd.to_datetime(df['timestamp'])\n",
    "\n",
    "# Crée la figure\n",
    "fig = go.Figure()\n",
    "\n",
    "# Ajoute les courbes\n",
    "fig.add_trace(go.Scatter(\n",
    "    x=df['timestamp'], y=df['train_accuracy'],\n",
    "    mode='lines+markers', name='Train Accuracy'\n",
    "))\n",
    "fig.add_trace(go.Scatter(\n",
    "    x=df['timestamp'], y=df['test_accuracy'],\n",
    "    mode='lines+markers', name='Test Accuracy'\n",
    "))\n",
    "\n",
    "# Ajouter des lignes verticales tous les 15 points (séparation de générations)\n",
    "generation_interval = 15\n",
    "for i in range(generation_interval, len(df), generation_interval):\n",
    "    ts = df['timestamp'].iloc[i]\n",
    "    fig.add_shape(\n",
    "        dict(\n",
    "            type=\"line\",\n",
    "            x0=ts, x1=ts,\n",
    "            y0=0, y1=1,\n",
    "            xref='x', yref='paper',\n",
    "            line=dict(color=\"gray\", dash=\"dash\")\n",
    "        )\n",
    "    )\n",
    "\n",
    "# Layout\n",
    "fig.update_layout(\n",
    "    title=\"Train and Test Accuracy vs Time (avec générations)\",\n",
    "    xaxis_title=\"Timestamp\",\n",
    "    yaxis_title=\"Accuracy\",\n",
    "    legend_title=\"Metric\",\n",
    "    template=\"plotly_white\",  # Tu peux changer à \"none\" si tu veux full custom\n",
    "    xaxis=dict(\n",
    "        showgrid=True,\n",
    "        gridcolor='lightblue',\n",
    "        gridwidth=1\n",
    "    ),\n",
    "    yaxis=dict(\n",
    "        showgrid=True,\n",
    "        gridcolor='lightblue',\n",
    "        gridwidth=1,\n",
    "        range=[0, 1]  # Pour forcer l'axe Y à [0,1]\n",
    "    )\n",
    ")\n",
    "\n",
    "fig.show()\n"
   ]
  },
  {
   "cell_type": "code",
   "execution_count": 7,
   "id": "3e3e2576",
   "metadata": {},
   "outputs": [
    {
     "data": {
      "image/png": "[encoded data removed]",
      "text/plain": [
       "<Figure size 1000x700 with 1 Axes>"
      ]
     },
     "metadata": {},
     "output_type": "display_data"
    }
   ],
   "source": [
    "import pandas as pd\n",
    "import numpy as np\n",
    "import matplotlib.pyplot as plt\n",
    "from mpl_toolkits.mplot3d import Axes3D\n",
    "\n",
    "\n",
    "\n",
    "# Pivot the table into a meshgrid-compatible form\n",
    "pivot = df.pivot_table(index='Soft_Margin', columns='gamma', values='test_accuracy')\n",
    "X, Y = np.meshgrid(pivot.columns.values, pivot.index.values)\n",
    "Z = pivot.values\n",
    "\n",
    "# Plotting\n",
    "fig = plt.figure(figsize=(10, 7))\n",
    "ax = fig.add_subplot(111, projection='3d')\n",
    "ax.plot_surface(X, Y, Z, cmap='viridis', edgecolor='k')\n",
    "\n",
    "# Labels\n",
    "ax.set_xlabel('Gamma')\n",
    "ax.set_ylabel('Soft Margin')\n",
    "ax.set_zlabel('Test Accuracy')\n",
    "ax.set_title('SVM Test Accuracy Surface')\n",
    "\n",
    "plt.tight_layout()\n",
    "plt.show()\n"
   ]
  },
  {
   "cell_type": "code",
   "execution_count": 8,
   "id": "fc4fc94d",
   "metadata": {},
   "outputs": [
    {
     "data": {
      "image/png": "[encoded data removed]",
      "text/plain": [
       "<Figure size 800x600 with 1 Axes>"
      ]
     },
     "metadata": {},
     "output_type": "display_data"
    }
   ],
   "source": [
    "import pandas as pd\n",
    "import matplotlib.pyplot as plt\n",
    "from mpl_toolkits.mplot3d import Axes3D\n",
    "\n",
    "\n",
    "\n",
    "# Create plot\n",
    "fig = plt.figure(figsize=(8, 6))\n",
    "ax = fig.add_subplot(111, projection='3d')\n",
    "\n",
    "# Scatter plot\n",
    "ax.scatter(df[\"gamma\"], df[\"Soft_Margin\"], df[\"test_accuracy\"], c=df[\"test_accuracy\"], cmap='viridis', s=80)\n",
    "\n",
    "# Labels\n",
    "ax.set_xlabel('Gamma')\n",
    "ax.set_ylabel('Soft Margin')\n",
    "ax.set_zlabel('Test Accuracy')\n",
    "ax.set_title('3D Scatter Plot of Test Accuracy vs Gamma and Soft Margin')\n",
    "\n",
    "plt.tight_layout()\n",
    "plt.show()\n"
   ]
  },
  {
   "cell_type": "code",
   "execution_count": 5,
   "id": "eb1fd6db",
   "metadata": {},
   "outputs": [
    {
     "data": {
      "text/html": [
       "<div>\n",
       "<style scoped>\n",
       "    .dataframe tbody tr th:only-of-type {\n",
       "        vertical-align: middle;\n",
       "    }\n",
       "\n",
       "    .dataframe tbody tr th {\n",
       "        vertical-align: top;\n",
       "    }\n",
       "\n",
       "    .dataframe thead th {\n",
       "        text-align: right;\n",
       "    }\n",
       "</style>\n",
       "<table border=\"1\" class=\"dataframe\">\n",
       "  <thead>\n",
       "    <tr style=\"text-align: right;\">\n",
       "      <th></th>\n",
       "      <th>timestamp</th>\n",
       "      <th>model_type</th>\n",
       "      <th>categories</th>\n",
       "      <th>image_size</th>\n",
       "      <th>train_accuracy</th>\n",
       "      <th>test_accuracy</th>\n",
       "      <th>soft_margin</th>\n",
       "    </tr>\n",
       "  </thead>\n",
       "  <tbody>\n",
       "    <tr>\n",
       "      <th>0</th>\n",
       "      <td>2025-07-22T03:05:50.906115</td>\n",
       "      <td>OneVsRest</td>\n",
       "      <td>['Horreur', 'Animation', 'Action']</td>\n",
       "      <td>15x10</td>\n",
       "      <td>0.4553</td>\n",
       "      <td>0.4941</td>\n",
       "      <td>0.10</td>\n",
       "    </tr>\n",
       "    <tr>\n",
       "      <th>1</th>\n",
       "      <td>2025-07-22T03:07:22.133542</td>\n",
       "      <td>OneVsOne</td>\n",
       "      <td>['Horreur', 'Animation', 'Action']</td>\n",
       "      <td>15x10</td>\n",
       "      <td>0.4478</td>\n",
       "      <td>0.4740</td>\n",
       "      <td>0.10</td>\n",
       "    </tr>\n",
       "    <tr>\n",
       "      <th>2</th>\n",
       "      <td>2025-07-22T03:20:44.270464</td>\n",
       "      <td>OneVsRest</td>\n",
       "      <td>['Horreur', 'Animation', 'Action']</td>\n",
       "      <td>15x10</td>\n",
       "      <td>0.5367</td>\n",
       "      <td>0.5343</td>\n",
       "      <td>0.10</td>\n",
       "    </tr>\n",
       "    <tr>\n",
       "      <th>3</th>\n",
       "      <td>2025-07-22T03:15:57.019154</td>\n",
       "      <td>OneVsOne</td>\n",
       "      <td>['Horreur', 'Animation', 'Action']</td>\n",
       "      <td>15x10</td>\n",
       "      <td>0.4692</td>\n",
       "      <td>0.4791</td>\n",
       "      <td>0.10</td>\n",
       "    </tr>\n",
       "    <tr>\n",
       "      <th>4</th>\n",
       "      <td>2025-07-22T03:24:26.694176</td>\n",
       "      <td>OneVsRest</td>\n",
       "      <td>['Horreur', 'Animation', 'Action']</td>\n",
       "      <td>15x10</td>\n",
       "      <td>0.5254</td>\n",
       "      <td>0.5477</td>\n",
       "      <td>0.50</td>\n",
       "    </tr>\n",
       "    <tr>\n",
       "      <th>5</th>\n",
       "      <td>2025-07-22T03:17:27.676311</td>\n",
       "      <td>OneVsOne</td>\n",
       "      <td>['Horreur', 'Animation', 'Action']</td>\n",
       "      <td>15x10</td>\n",
       "      <td>0.4465</td>\n",
       "      <td>0.4271</td>\n",
       "      <td>0.50</td>\n",
       "    </tr>\n",
       "    <tr>\n",
       "      <th>6</th>\n",
       "      <td>2025-07-22T03:24:01.366466</td>\n",
       "      <td>OneVsRest</td>\n",
       "      <td>['Horreur', 'Animation', 'Action']</td>\n",
       "      <td>15x10</td>\n",
       "      <td>0.5245</td>\n",
       "      <td>0.5092</td>\n",
       "      <td>1.00</td>\n",
       "    </tr>\n",
       "    <tr>\n",
       "      <th>7</th>\n",
       "      <td>2025-07-22T03:17:40.807476</td>\n",
       "      <td>OneVsOne</td>\n",
       "      <td>['Horreur', 'Animation', 'Action']</td>\n",
       "      <td>15x10</td>\n",
       "      <td>0.5174</td>\n",
       "      <td>0.5042</td>\n",
       "      <td>1.00</td>\n",
       "    </tr>\n",
       "    <tr>\n",
       "      <th>8</th>\n",
       "      <td>2025-07-22T03:53:14.123847</td>\n",
       "      <td>OneVsRest</td>\n",
       "      <td>['Horreur', 'Animation', 'Action']</td>\n",
       "      <td>15x10</td>\n",
       "      <td>0.4407</td>\n",
       "      <td>0.4456</td>\n",
       "      <td>0.01</td>\n",
       "    </tr>\n",
       "    <tr>\n",
       "      <th>9</th>\n",
       "      <td>2025-07-22T03:58:55.299073</td>\n",
       "      <td>OneVsRest</td>\n",
       "      <td>['Horreur', 'Animation', 'Action']</td>\n",
       "      <td>15x10</td>\n",
       "      <td>0.4423</td>\n",
       "      <td>0.4439</td>\n",
       "      <td>0.05</td>\n",
       "    </tr>\n",
       "    <tr>\n",
       "      <th>10</th>\n",
       "      <td>2025-07-22T04:10:44.220036</td>\n",
       "      <td>OneVsRest</td>\n",
       "      <td>['Horreur', 'Animation', 'Action']</td>\n",
       "      <td>15x10</td>\n",
       "      <td>0.5505</td>\n",
       "      <td>0.5343</td>\n",
       "      <td>2.00</td>\n",
       "    </tr>\n",
       "    <tr>\n",
       "      <th>11</th>\n",
       "      <td>2025-07-22T04:56:54.130136</td>\n",
       "      <td>OneVsRest</td>\n",
       "      <td>['Horreur', 'Animation', 'Action']</td>\n",
       "      <td>15x10</td>\n",
       "      <td>0.4801</td>\n",
       "      <td>0.5109</td>\n",
       "      <td>5.00</td>\n",
       "    </tr>\n",
       "  </tbody>\n",
       "</table>\n",
       "</div>"
      ],
      "text/plain": [
       "                     timestamp model_type                          categories  \\\n",
       "0   2025-07-22T03:05:50.906115  OneVsRest  ['Horreur', 'Animation', 'Action']   \n",
       "1   2025-07-22T03:07:22.133542   OneVsOne  ['Horreur', 'Animation', 'Action']   \n",
       "2   2025-07-22T03:20:44.270464  OneVsRest  ['Horreur', 'Animation', 'Action']   \n",
       "3   2025-07-22T03:15:57.019154   OneVsOne  ['Horreur', 'Animation', 'Action']   \n",
       "4   2025-07-22T03:24:26.694176  OneVsRest  ['Horreur', 'Animation', 'Action']   \n",
       "5   2025-07-22T03:17:27.676311   OneVsOne  ['Horreur', 'Animation', 'Action']   \n",
       "6   2025-07-22T03:24:01.366466  OneVsRest  ['Horreur', 'Animation', 'Action']   \n",
       "7   2025-07-22T03:17:40.807476   OneVsOne  ['Horreur', 'Animation', 'Action']   \n",
       "8   2025-07-22T03:53:14.123847  OneVsRest  ['Horreur', 'Animation', 'Action']   \n",
       "9   2025-07-22T03:58:55.299073  OneVsRest  ['Horreur', 'Animation', 'Action']   \n",
       "10  2025-07-22T04:10:44.220036  OneVsRest  ['Horreur', 'Animation', 'Action']   \n",
       "11  2025-07-22T04:56:54.130136  OneVsRest  ['Horreur', 'Animation', 'Action']   \n",
       "\n",
       "   image_size  train_accuracy  test_accuracy  soft_margin  \n",
       "0       15x10          0.4553         0.4941         0.10  \n",
       "1       15x10          0.4478         0.4740         0.10  \n",
       "2       15x10          0.5367         0.5343         0.10  \n",
       "3       15x10          0.4692         0.4791         0.10  \n",
       "4       15x10          0.5254         0.5477         0.50  \n",
       "5       15x10          0.4465         0.4271         0.50  \n",
       "6       15x10          0.5245         0.5092         1.00  \n",
       "7       15x10          0.5174         0.5042         1.00  \n",
       "8       15x10          0.4407         0.4456         0.01  \n",
       "9       15x10          0.4423         0.4439         0.05  \n",
       "10      15x10          0.5505         0.5343         2.00  \n",
       "11      15x10          0.4801         0.5109         5.00  "
      ]
     },
     "execution_count": 5,
     "metadata": {},
     "output_type": "execute_result"
    }
   ],
   "source": [
    "import pandas as pd\n",
    "df = pd.read_csv(\"results/logs/svm_linear.csv\")\n",
    "df"
   ]
  },
  {
   "cell_type": "code",
   "execution_count": 11,
   "id": "fa6d854e",
   "metadata": {},
   "outputs": [
    {
     "data": {
      "text/html": [
       "<div>\n",
       "<style scoped>\n",
       "    .dataframe tbody tr th:only-of-type {\n",
       "        vertical-align: middle;\n",
       "    }\n",
       "\n",
       "    .dataframe tbody tr th {\n",
       "        vertical-align: top;\n",
       "    }\n",
       "\n",
       "    .dataframe thead th {\n",
       "        text-align: right;\n",
       "    }\n",
       "</style>\n",
       "<table border=\"1\" class=\"dataframe\">\n",
       "  <thead>\n",
       "    <tr style=\"text-align: right;\">\n",
       "      <th></th>\n",
       "      <th>timestamp</th>\n",
       "      <th>model_type</th>\n",
       "      <th>categories</th>\n",
       "      <th>image_size</th>\n",
       "      <th>train_accuracy</th>\n",
       "      <th>test_accuracy</th>\n",
       "      <th>soft_margin</th>\n",
       "    </tr>\n",
       "  </thead>\n",
       "  <tbody>\n",
       "    <tr>\n",
       "      <th>8</th>\n",
       "      <td>2025-07-22T03:53:14.123847</td>\n",
       "      <td>OneVsRest</td>\n",
       "      <td>['Horreur', 'Animation', 'Action']</td>\n",
       "      <td>15x10</td>\n",
       "      <td>0.4407</td>\n",
       "      <td>0.4456</td>\n",
       "      <td>0.01</td>\n",
       "    </tr>\n",
       "    <tr>\n",
       "      <th>9</th>\n",
       "      <td>2025-07-22T03:58:55.299073</td>\n",
       "      <td>OneVsRest</td>\n",
       "      <td>['Horreur', 'Animation', 'Action']</td>\n",
       "      <td>15x10</td>\n",
       "      <td>0.4423</td>\n",
       "      <td>0.4439</td>\n",
       "      <td>0.05</td>\n",
       "    </tr>\n",
       "    <tr>\n",
       "      <th>0</th>\n",
       "      <td>2025-07-22T03:05:50.906115</td>\n",
       "      <td>OneVsRest</td>\n",
       "      <td>['Horreur', 'Animation', 'Action']</td>\n",
       "      <td>15x10</td>\n",
       "      <td>0.4553</td>\n",
       "      <td>0.4941</td>\n",
       "      <td>0.10</td>\n",
       "    </tr>\n",
       "    <tr>\n",
       "      <th>1</th>\n",
       "      <td>2025-07-22T03:07:22.133542</td>\n",
       "      <td>OneVsOne</td>\n",
       "      <td>['Horreur', 'Animation', 'Action']</td>\n",
       "      <td>15x10</td>\n",
       "      <td>0.4478</td>\n",
       "      <td>0.4740</td>\n",
       "      <td>0.10</td>\n",
       "    </tr>\n",
       "    <tr>\n",
       "      <th>2</th>\n",
       "      <td>2025-07-22T03:20:44.270464</td>\n",
       "      <td>OneVsRest</td>\n",
       "      <td>['Horreur', 'Animation', 'Action']</td>\n",
       "      <td>15x10</td>\n",
       "      <td>0.5367</td>\n",
       "      <td>0.5343</td>\n",
       "      <td>0.10</td>\n",
       "    </tr>\n",
       "    <tr>\n",
       "      <th>3</th>\n",
       "      <td>2025-07-22T03:15:57.019154</td>\n",
       "      <td>OneVsOne</td>\n",
       "      <td>['Horreur', 'Animation', 'Action']</td>\n",
       "      <td>15x10</td>\n",
       "      <td>0.4692</td>\n",
       "      <td>0.4791</td>\n",
       "      <td>0.10</td>\n",
       "    </tr>\n",
       "    <tr>\n",
       "      <th>4</th>\n",
       "      <td>2025-07-22T03:24:26.694176</td>\n",
       "      <td>OneVsRest</td>\n",
       "      <td>['Horreur', 'Animation', 'Action']</td>\n",
       "      <td>15x10</td>\n",
       "      <td>0.5254</td>\n",
       "      <td>0.5477</td>\n",
       "      <td>0.50</td>\n",
       "    </tr>\n",
       "    <tr>\n",
       "      <th>5</th>\n",
       "      <td>2025-07-22T03:17:27.676311</td>\n",
       "      <td>OneVsOne</td>\n",
       "      <td>['Horreur', 'Animation', 'Action']</td>\n",
       "      <td>15x10</td>\n",
       "      <td>0.4465</td>\n",
       "      <td>0.4271</td>\n",
       "      <td>0.50</td>\n",
       "    </tr>\n",
       "    <tr>\n",
       "      <th>7</th>\n",
       "      <td>2025-07-22T03:17:40.807476</td>\n",
       "      <td>OneVsOne</td>\n",
       "      <td>['Horreur', 'Animation', 'Action']</td>\n",
       "      <td>15x10</td>\n",
       "      <td>0.5174</td>\n",
       "      <td>0.5042</td>\n",
       "      <td>1.00</td>\n",
       "    </tr>\n",
       "    <tr>\n",
       "      <th>6</th>\n",
       "      <td>2025-07-22T03:24:01.366466</td>\n",
       "      <td>OneVsRest</td>\n",
       "      <td>['Horreur', 'Animation', 'Action']</td>\n",
       "      <td>15x10</td>\n",
       "      <td>0.5245</td>\n",
       "      <td>0.5092</td>\n",
       "      <td>1.00</td>\n",
       "    </tr>\n",
       "    <tr>\n",
       "      <th>10</th>\n",
       "      <td>2025-07-22T04:10:44.220036</td>\n",
       "      <td>OneVsRest</td>\n",
       "      <td>['Horreur', 'Animation', 'Action']</td>\n",
       "      <td>15x10</td>\n",
       "      <td>0.5505</td>\n",
       "      <td>0.5343</td>\n",
       "      <td>2.00</td>\n",
       "    </tr>\n",
       "    <tr>\n",
       "      <th>11</th>\n",
       "      <td>2025-07-22T04:56:54.130136</td>\n",
       "      <td>OneVsRest</td>\n",
       "      <td>['Horreur', 'Animation', 'Action']</td>\n",
       "      <td>15x10</td>\n",
       "      <td>0.4801</td>\n",
       "      <td>0.5109</td>\n",
       "      <td>5.00</td>\n",
       "    </tr>\n",
       "  </tbody>\n",
       "</table>\n",
       "</div>"
      ],
      "text/plain": [
       "                     timestamp model_type                          categories  \\\n",
       "8   2025-07-22T03:53:14.123847  OneVsRest  ['Horreur', 'Animation', 'Action']   \n",
       "9   2025-07-22T03:58:55.299073  OneVsRest  ['Horreur', 'Animation', 'Action']   \n",
       "0   2025-07-22T03:05:50.906115  OneVsRest  ['Horreur', 'Animation', 'Action']   \n",
       "1   2025-07-22T03:07:22.133542   OneVsOne  ['Horreur', 'Animation', 'Action']   \n",
       "2   2025-07-22T03:20:44.270464  OneVsRest  ['Horreur', 'Animation', 'Action']   \n",
       "3   2025-07-22T03:15:57.019154   OneVsOne  ['Horreur', 'Animation', 'Action']   \n",
       "4   2025-07-22T03:24:26.694176  OneVsRest  ['Horreur', 'Animation', 'Action']   \n",
       "5   2025-07-22T03:17:27.676311   OneVsOne  ['Horreur', 'Animation', 'Action']   \n",
       "7   2025-07-22T03:17:40.807476   OneVsOne  ['Horreur', 'Animation', 'Action']   \n",
       "6   2025-07-22T03:24:01.366466  OneVsRest  ['Horreur', 'Animation', 'Action']   \n",
       "10  2025-07-22T04:10:44.220036  OneVsRest  ['Horreur', 'Animation', 'Action']   \n",
       "11  2025-07-22T04:56:54.130136  OneVsRest  ['Horreur', 'Animation', 'Action']   \n",
       "\n",
       "   image_size  train_accuracy  test_accuracy  soft_margin  \n",
       "8       15x10          0.4407         0.4456         0.01  \n",
       "9       15x10          0.4423         0.4439         0.05  \n",
       "0       15x10          0.4553         0.4941         0.10  \n",
       "1       15x10          0.4478         0.4740         0.10  \n",
       "2       15x10          0.5367         0.5343         0.10  \n",
       "3       15x10          0.4692         0.4791         0.10  \n",
       "4       15x10          0.5254         0.5477         0.50  \n",
       "5       15x10          0.4465         0.4271         0.50  \n",
       "7       15x10          0.5174         0.5042         1.00  \n",
       "6       15x10          0.5245         0.5092         1.00  \n",
       "10      15x10          0.5505         0.5343         2.00  \n",
       "11      15x10          0.4801         0.5109         5.00  "
      ]
     },
     "execution_count": 11,
     "metadata": {},
     "output_type": "execute_result"
    }
   ],
   "source": [
    "df.sort_values(by=[\"soft_margin\"])"
   ]
  },
  {
   "cell_type": "code",
   "execution_count": 4,
   "id": "7d4393c0",
   "metadata": {},
   "outputs": [
    {
     "data": {
      "text/html": [
       "<div>\n",
       "<style scoped>\n",
       "    .dataframe tbody tr th:only-of-type {\n",
       "        vertical-align: middle;\n",
       "    }\n",
       "\n",
       "    .dataframe tbody tr th {\n",
       "        vertical-align: top;\n",
       "    }\n",
       "\n",
       "    .dataframe thead th {\n",
       "        text-align: right;\n",
       "    }\n",
       "</style>\n",
       "<table border=\"1\" class=\"dataframe\">\n",
       "  <thead>\n",
       "    <tr style=\"text-align: right;\">\n",
       "      <th></th>\n",
       "      <th>timestamp</th>\n",
       "      <th>model</th>\n",
       "      <th>categories</th>\n",
       "      <th>size</th>\n",
       "      <th>train_accuracy</th>\n",
       "      <th>test_accuracy</th>\n",
       "      <th>epochs</th>\n",
       "      <th>learning_rate</th>\n",
       "      <th>algo</th>\n",
       "    </tr>\n",
       "  </thead>\n",
       "  <tbody>\n",
       "    <tr>\n",
       "      <th>10</th>\n",
       "      <td>2025-07-22T02:22:38.623817</td>\n",
       "      <td>linear</td>\n",
       "      <td>Horreur|Animation</td>\n",
       "      <td>15x10</td>\n",
       "      <td>0.770939</td>\n",
       "      <td>0.746835</td>\n",
       "      <td>5000</td>\n",
       "      <td>0.05</td>\n",
       "      <td>rosenblatt</td>\n",
       "    </tr>\n",
       "    <tr>\n",
       "      <th>13</th>\n",
       "      <td>2025-07-22T02:23:24.180606</td>\n",
       "      <td>linear</td>\n",
       "      <td>Horreur|Animation</td>\n",
       "      <td>15x10</td>\n",
       "      <td>0.767132</td>\n",
       "      <td>0.746835</td>\n",
       "      <td>1000</td>\n",
       "      <td>0.10</td>\n",
       "      <td>gradient-descent</td>\n",
       "    </tr>\n",
       "  </tbody>\n",
       "</table>\n",
       "</div>"
      ],
      "text/plain": [
       "                     timestamp   model         categories   size  \\\n",
       "10  2025-07-22T02:22:38.623817  linear  Horreur|Animation  15x10   \n",
       "13  2025-07-22T02:23:24.180606  linear  Horreur|Animation  15x10   \n",
       "\n",
       "    train_accuracy  test_accuracy  epochs  learning_rate              algo  \n",
       "10        0.770939       0.746835    5000           0.05        rosenblatt  \n",
       "13        0.767132       0.746835    1000           0.10  gradient-descent  "
      ]
     },
     "execution_count": 4,
     "metadata": {},
     "output_type": "execute_result"
    }
   ],
   "source": [
    "df[df.test_accuracy==df.test_accuracy.max()]"
   ]
  }
 ],
 "metadata": {
  "kernelspec": {
   "display_name": ".venv",
   "language": "python",
   "name": "python3"
  },
  "language_info": {
   "codemirror_mode": {
    "name": "ipython",
    "version": 3
   },
   "file_extension": ".py",
   "mimetype": "text/x-python",
   "name": "python",
   "nbconvert_exporter": "python",
   "pygments_lexer": "ipython3",
   "version": "3.11.9"
  }
 },
 "nbformat": 4,
 "nbformat_minor": 5
}
