{
 "cells": [
  {
   "cell_type": "markdown",
   "metadata": {
    "vscode": {
     "languageId": "plaintext"
    }
   },
   "source": [
    "## Prérequis :\n",
    "- Avoir installé rust\n",
    "- Avoir installé maturin (pip install maturin)\n",
    "- Avoir crée et activé un environnement virtuel python (`python -m venv venv && source venv/bin/activate`)\n",
    "\n",
    "## Compilation (test)\n",
    "```bash\n",
    "maturin develop\n",
    "```\n",
    "> A executer à chaque modification du code rust dans l'environnement virtuel python\n",
    "\n",
    "## Compilation (release)\n",
    "```bash\n",
    "maturin build\n",
    "pip install target/wheel/*.whl\n",
    "```\n",
    "> A executer pour compiler le code rust en release\n",
    "\n",
    "# Usage\n",
    "Le module installé a en python un nom correspondant a la propriété `lib.name` du fichier `Cargo.toml` \n",
    "ex :\n",
    "```\n",
    "[package]\n",
    "name = \"ProjetAnnuel\"\n",
    "version = \"0.1.0\"\n",
    "edition = \"2021\"\n",
    "\n",
    "[lib]\n",
    "name = \"projetannuel\"\n",
    "crate-type = [\"cdylib\"]\n",
    "\n",
    "[dependencies]\n",
    "pyo3 = {version= \"0.24.0\", features = [\"extension-module\"] }\n",
    "```\n",
    "\n",
    "Le module python s'appellera `projetannuel` et sera importable en python avec `import projetannuel`"
   ]
  },
  {
   "cell_type": "code",
   "execution_count": null,
   "metadata": {},
   "outputs": [],
   "source": [
    "import projetannuel\n",
    "\n",
    "projetannuel.sum_as_string(100, 11) # 111"
   ]
  }
 ],
 "metadata": {
  "language_info": {
   "name": "python"
  }
 },
 "nbformat": 4,
 "nbformat_minor": 2
}
