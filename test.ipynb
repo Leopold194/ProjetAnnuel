{
 "cells": [
  {
   "cell_type": "markdown",
   "metadata": {
    "vscode": {
     "languageId": "plaintext"
    }
   },
   "source": [
    "## Prérequis :\n",
    "- Avoir installé rust\n",
    "- Avoir installé maturin (pip install maturin)\n",
    "- Avoir crée et activé un environnement virtuel python (`python -m venv venv && source venv/bin/activate`)\n",
    "\n",
    "## Compilation (test)\n",
    "```bash\n",
    "maturin develop\n",
    "```\n",
    "> A executer à chaque modification du code rust dans l'environnement virtuel python\n",
    "\n",
    "## Compilation (release)\n",
    "```bash\n",
    "maturin build\n",
    "pip install target/wheel/*.whl\n",
    "```\n",
    "> A executer pour compiler le code rust en release\n",
    "\n",
    "# Usage\n",
    "Le module installé a en python un nom correspondant a la propriété `lib.name` du fichier `Cargo.toml` \n",
    "ex :\n",
    "```\n",
    "[package]\n",
    "name = \"ProjetAnnuel\"\n",
    "version = \"0.1.0\"\n",
    "edition = \"2021\"\n",
    "\n",
    "[lib]\n",
    "name = \"projetannuel\"\n",
    "crate-type = [\"cdylib\"]\n",
    "\n",
    "[dependencies]\n",
    "pyo3 = {version= \"0.24.0\", features = [\"extension-module\"] }\n",
    "```\n",
    "\n",
    "Le module python s'appellera `projetannuel` et sera importable en python avec `import projetannuel`"
   ]
  },
  {
   "cell_type": "code",
   "execution_count": 26,
   "metadata": {},
   "outputs": [],
   "source": [
    "import projetannuel\n"
   ]
  },
  {
   "cell_type": "code",
   "execution_count": 27,
   "metadata": {},
   "outputs": [],
   "source": [
    "import pandas as pd"
   ]
  },
  {
   "cell_type": "code",
   "execution_count": 28,
   "metadata": {},
   "outputs": [
    {
     "data": {
      "application/vnd.microsoft.datawrangler.viewer.v0+json": {
       "columns": [
        {
         "name": "index",
         "rawType": "int64",
         "type": "integer"
        },
        {
         "name": "longueur de pétale (cm)",
         "rawType": "float64",
         "type": "float"
        },
        {
         "name": "Largeur de pétale",
         "rawType": "float64",
         "type": "float"
        },
        {
         "name": "Longueur de sépale",
         "rawType": "float64",
         "type": "float"
        },
        {
         "name": "Largeur de sépale",
         "rawType": "float64",
         "type": "float"
        },
        {
         "name": "ID",
         "rawType": "object",
         "type": "string"
        },
        {
         "name": "Espèce",
         "rawType": "object",
         "type": "string"
        }
       ],
       "conversionMethod": "pd.DataFrame",
       "ref": "7b22591a-a2f2-4a97-8d09-6742e069c109",
       "rows": [
        [
         "114",
         "6.3",
         "1.8",
         "7.3",
         "2.9",
         "c3df88ce-1f25-478d-9c11-80518230bad7",
         "Iris-virginica"
        ],
        [
         "62",
         "6.4",
         "2.0",
         "7.9",
         "3.8",
         "646595be-1cac-4b25-bcc6-bc5305fd201b",
         "Iris-virginica"
        ],
        [
         "33",
         "6.6",
         "2.1",
         "7.6",
         "3.0",
         "397ef579-78e8-48b4-aa5a-eadec82e651e",
         "Iris-virginica"
        ],
        [
         "107",
         "6.9",
         "2.3",
         "7.7",
         "2.6",
         "b6eb4add-bf92-4cd3-b006-97751f42ecf7",
         "Iris-virginica"
        ],
        [
         "7",
         "3.9",
         "1.1",
         "5.6",
         "2.5",
         "0ce4515f-8e31-4bf6-a8ef-13a1f702b708",
         "Iris-versicolor"
        ],
        [
         "100",
         "4.8",
         "1.8",
         "6.2",
         "2.8",
         "a9d65ecb-883a-44c2-97d3-92b547e4018d",
         "Iris-virginica"
        ],
        [
         "40",
         "5.7",
         "2.1",
         "6.7",
         "3.3",
         "415fe20b-e468-436d-ad53-1c59a0cdbb87",
         "Iris-virginica"
        ],
        [
         "86",
         "4.5",
         "1.5",
         "5.6",
         "3.0",
         "917ef77c-0aa3-4eab-8fb2-2291e1e19366",
         "Iris-versicolor"
        ],
        [
         "76",
         "1.3",
         "0.3",
         "5.0",
         "3.5",
         "8260aa87-cc6b-40b4-a837-6fbb9b992e79",
         "Iris-setosa"
        ],
        [
         "71",
         "5.6",
         "1.4",
         "6.1",
         "2.6",
         "7bbc59cd-b981-4985-9bcf-3c443c0da272",
         "Iris-virginica"
        ],
        [
         "134",
         "3.6",
         "1.3",
         "5.6",
         "2.9",
         "e4ed7dfa-0ec1-47c1-9aac-c024461b8dbf",
         "Iris-versicolor"
        ],
        [
         "51",
         "3.0",
         "1.1",
         "5.1",
         "2.5",
         "57da4787-618f-4462-aa9b-ffb560ebfefe",
         "Iris-versicolor"
        ],
        [
         "73",
         "4.5",
         "1.7",
         "4.9",
         "2.5",
         "7e7f7964-fa7f-4627-8336-294d52e4e2bc",
         "Iris-virginica"
        ],
        [
         "54",
         "4.8",
         "1.4",
         "6.8",
         "2.8",
         "5aa627b5-7ed9-4c19-a8ea-f885bfeda66e",
         "Iris-versicolor"
        ],
        [
         "63",
         "5.8",
         "1.6",
         "7.2",
         "3.0",
         "6b6c7890-bef8-42a3-86f9-2fdaa8bfa1e6",
         "Iris-virginica"
        ],
        [
         "37",
         "4.5",
         "1.3",
         "5.7",
         "2.8",
         "3d48248d-357b-46eb-b2a4-647cbc21dd12",
         "Iris-versicolor"
        ],
        [
         "78",
         "1.4",
         "0.2",
         "5.0",
         "3.6",
         "83bfde8c-b24a-48b3-86fd-acf851fd8429",
         "Iris-setosa"
        ],
        [
         "90",
         "4.0",
         "1.2",
         "5.8",
         "2.6",
         "95dad3a5-e19b-49bf-80a3-607970268e54",
         "Iris-versicolor"
        ],
        [
         "45",
         "3.7",
         "1.0",
         "5.5",
         "2.4",
         "482e7f9a-1b3d-4905-bb58-2acb0f21abc1",
         "Iris-versicolor"
        ],
        [
         "16",
         "5.6",
         "2.4",
         "6.7",
         "3.1",
         "1f6f043b-3dc7-4993-95b0-04e5b3579525",
         "Iris-virginica"
        ],
        [
         "121",
         "1.6",
         "0.2",
         "4.8",
         "3.4",
         "d23ec4ae-c5f8-4d1d-8737-d42e8f2f85f6",
         "Iris-setosa"
        ],
        [
         "66",
         "4.3",
         "1.3",
         "6.4",
         "2.9",
         "731d429d-8336-4b52-ab96-f52c5ae6f3b9",
         "Iris-versicolor"
        ],
        [
         "24",
         "5.6",
         "2.1",
         "6.4",
         "2.8",
         "2f520a5a-639b-4250-a630-ff363183ce4a",
         "Iris-virginica"
        ],
        [
         "8",
         "4.1",
         "1.3",
         "5.6",
         "3.0",
         "0d1e26c5-0aa0-48da-b892-c9e90e36d186",
         "Iris-versicolor"
        ],
        [
         "126",
         "1.9",
         "0.4",
         "5.1",
         "3.8",
         "d717675a-6fb5-44c6-b951-7e26d10037ae",
         "Iris-setosa"
        ],
        [
         "22",
         "1.5",
         "0.1",
         "5.2",
         "4.1",
         "2912c3fd-a200-4ca5-b6b2-72add6504161",
         "Iris-setosa"
        ],
        [
         "44",
         "4.1",
         "1.3",
         "5.7",
         "2.8",
         "47bd7039-08d0-444b-b4ac-ec135c62b657",
         "Iris-versicolor"
        ],
        [
         "97",
         "3.9",
         "1.2",
         "5.8",
         "2.7",
         "a6456896-b092-47cc-bdc7-497702359862",
         "Iris-versicolor"
        ],
        [
         "93",
         "1.4",
         "0.2",
         "5.5",
         "4.2",
         "9b16d255-c5d3-4471-be07-a4153239b751",
         "Iris-setosa"
        ],
        [
         "26",
         "5.0",
         "2.0",
         "5.7",
         "2.5",
         "308aa1c8-b58a-493d-89b6-fbda66dbecdf",
         "Iris-virginica"
        ],
        [
         "137",
         "1.3",
         "0.3",
         "4.5",
         "2.3",
         "ea026b79-ba31-4a59-8955-05e01b733658",
         "Iris-setosa"
        ],
        [
         "84",
         "4.2",
         "1.3",
         "5.7",
         "2.9",
         "8e80fe15-367d-4766-8181-e3853ab57f78",
         "Iris-versicolor"
        ],
        [
         "27",
         "1.5",
         "0.2",
         "5.0",
         "3.4",
         "328b65af-ec6a-406d-a4cc-30c343fc9c5e",
         "Iris-setosa"
        ],
        [
         "127",
         "4.8",
         "1.8",
         "5.9",
         "3.2",
         "d813b62c-0a96-44b1-a0bf-28ef5f3a38b3",
         "Iris-versicolor"
        ],
        [
         "132",
         "1.5",
         "0.2",
         "5.3",
         "3.7",
         "e040f312-8a47-4f80-9420-080ba05a49a0",
         "Iris-setosa"
        ],
        [
         "59",
         "4.4",
         "1.4",
         "6.7",
         "3.1",
         "5ffa7ffc-75aa-4591-b3a4-ff8985709224",
         "Iris-versicolor"
        ],
        [
         "18",
         "5.4",
         "2.3",
         "6.2",
         "3.4",
         "21e4a4f1-500b-456b-816b-267993e40ace",
         "Iris-virginica"
        ],
        [
         "83",
         "1.4",
         "0.3",
         "4.6",
         "3.4",
         "8ca6df65-b6c4-4267-9db4-42383fa27d76",
         "Iris-setosa"
        ],
        [
         "61",
         "4.5",
         "1.5",
         "6.4",
         "3.2",
         "63d53ae9-bbc1-42f8-8e28-efacfdd769d4",
         "Iris-versicolor"
        ],
        [
         "92",
         "1.4",
         "0.2",
         "4.6",
         "3.2",
         "97db5d1c-2f2c-48ce-b90d-81426f120049",
         "Iris-setosa"
        ],
        [
         "112",
         "5.0",
         "1.9",
         "6.3",
         "2.5",
         "c0fb5413-9bbd-40dc-89d2-f82de866dd20",
         "Iris-virginica"
        ],
        [
         "2",
         "4.8",
         "1.8",
         "6.0",
         "3.0",
         "047c9133-edd0-461f-a65a-05767ebcff10",
         "Iris-virginica"
        ],
        [
         "141",
         "1.6",
         "0.2",
         "5.1",
         "3.8",
         "f0d5aa79-5412-43c8-b56b-fa7b31b2669d",
         "Iris-setosa"
        ],
        [
         "43",
         "4.1",
         "1.0",
         "5.8",
         "2.7",
         "47b1734c-362d-4231-9f0f-569f2d1709c3",
         "Iris-versicolor"
        ],
        [
         "10",
         "1.4",
         "0.3",
         "5.1",
         "3.5",
         "10c14f1c-5943-4467-bf1d-d761ab3844e8",
         "Iris-setosa"
        ],
        [
         "60",
         "1.1",
         "0.1",
         "4.3",
         "3.0",
         "60862bdb-931b-480d-8757-cb257440ce41",
         "Iris-setosa"
        ],
        [
         "116",
         "6.7",
         "2.0",
         "7.7",
         "2.8",
         "c61aa024-0eac-48c0-93eb-2082de8f51b8",
         "Iris-virginica"
        ],
        [
         "144",
         "1.3",
         "0.4",
         "5.4",
         "3.9",
         "f55ab874-a6a5-43d4-af8f-a5cf1bde9142",
         "Iris-setosa"
        ],
        [
         "119",
         "1.0",
         "0.2",
         "4.6",
         "3.6",
         "cd4ebcab-1dab-4473-9a3d-d1e79e15df61",
         "Iris-setosa"
        ],
        [
         "108",
         "5.3",
         "1.9",
         "6.4",
         "2.7",
         "ba5820f4-9dc4-45cd-8035-24b8294a7cca",
         "Iris-virginica"
        ]
       ],
       "shape": {
        "columns": 6,
        "rows": 150
       }
      },
      "text/html": [
       "<div>\n",
       "<style scoped>\n",
       "    .dataframe tbody tr th:only-of-type {\n",
       "        vertical-align: middle;\n",
       "    }\n",
       "\n",
       "    .dataframe tbody tr th {\n",
       "        vertical-align: top;\n",
       "    }\n",
       "\n",
       "    .dataframe thead th {\n",
       "        text-align: right;\n",
       "    }\n",
       "</style>\n",
       "<table border=\"1\" class=\"dataframe\">\n",
       "  <thead>\n",
       "    <tr style=\"text-align: right;\">\n",
       "      <th></th>\n",
       "      <th>longueur de pétale (cm)</th>\n",
       "      <th>Largeur de pétale</th>\n",
       "      <th>Longueur de sépale</th>\n",
       "      <th>Largeur de sépale</th>\n",
       "      <th>ID</th>\n",
       "      <th>Espèce</th>\n",
       "    </tr>\n",
       "  </thead>\n",
       "  <tbody>\n",
       "    <tr>\n",
       "      <th>114</th>\n",
       "      <td>6.3</td>\n",
       "      <td>1.8</td>\n",
       "      <td>7.3</td>\n",
       "      <td>2.9</td>\n",
       "      <td>c3df88ce-1f25-478d-9c11-80518230bad7</td>\n",
       "      <td>Iris-virginica</td>\n",
       "    </tr>\n",
       "    <tr>\n",
       "      <th>62</th>\n",
       "      <td>6.4</td>\n",
       "      <td>2.0</td>\n",
       "      <td>7.9</td>\n",
       "      <td>3.8</td>\n",
       "      <td>646595be-1cac-4b25-bcc6-bc5305fd201b</td>\n",
       "      <td>Iris-virginica</td>\n",
       "    </tr>\n",
       "    <tr>\n",
       "      <th>33</th>\n",
       "      <td>6.6</td>\n",
       "      <td>2.1</td>\n",
       "      <td>7.6</td>\n",
       "      <td>3.0</td>\n",
       "      <td>397ef579-78e8-48b4-aa5a-eadec82e651e</td>\n",
       "      <td>Iris-virginica</td>\n",
       "    </tr>\n",
       "    <tr>\n",
       "      <th>107</th>\n",
       "      <td>6.9</td>\n",
       "      <td>2.3</td>\n",
       "      <td>7.7</td>\n",
       "      <td>2.6</td>\n",
       "      <td>b6eb4add-bf92-4cd3-b006-97751f42ecf7</td>\n",
       "      <td>Iris-virginica</td>\n",
       "    </tr>\n",
       "    <tr>\n",
       "      <th>7</th>\n",
       "      <td>3.9</td>\n",
       "      <td>1.1</td>\n",
       "      <td>5.6</td>\n",
       "      <td>2.5</td>\n",
       "      <td>0ce4515f-8e31-4bf6-a8ef-13a1f702b708</td>\n",
       "      <td>Iris-versicolor</td>\n",
       "    </tr>\n",
       "    <tr>\n",
       "      <th>...</th>\n",
       "      <td>...</td>\n",
       "      <td>...</td>\n",
       "      <td>...</td>\n",
       "      <td>...</td>\n",
       "      <td>...</td>\n",
       "      <td>...</td>\n",
       "    </tr>\n",
       "    <tr>\n",
       "      <th>9</th>\n",
       "      <td>5.6</td>\n",
       "      <td>1.8</td>\n",
       "      <td>6.3</td>\n",
       "      <td>2.9</td>\n",
       "      <td>0dd2c701-49ca-489b-9abe-8ae3aef7b831</td>\n",
       "      <td>Iris-virginica</td>\n",
       "    </tr>\n",
       "    <tr>\n",
       "      <th>103</th>\n",
       "      <td>1.3</td>\n",
       "      <td>0.2</td>\n",
       "      <td>4.4</td>\n",
       "      <td>3.2</td>\n",
       "      <td>ae343a80-4c0b-4c8f-9b3f-afd689f67955</td>\n",
       "      <td>Iris-setosa</td>\n",
       "    </tr>\n",
       "    <tr>\n",
       "      <th>67</th>\n",
       "      <td>4.3</td>\n",
       "      <td>1.3</td>\n",
       "      <td>6.2</td>\n",
       "      <td>2.9</td>\n",
       "      <td>75df5623-4271-4760-9fad-99a8a62fb4fc</td>\n",
       "      <td>Iris-versicolor</td>\n",
       "    </tr>\n",
       "    <tr>\n",
       "      <th>117</th>\n",
       "      <td>4.9</td>\n",
       "      <td>1.5</td>\n",
       "      <td>6.3</td>\n",
       "      <td>2.5</td>\n",
       "      <td>c660988b-a4b4-4261-9f14-d8eab78b2a38</td>\n",
       "      <td>Iris-versicolor</td>\n",
       "    </tr>\n",
       "    <tr>\n",
       "      <th>47</th>\n",
       "      <td>1.3</td>\n",
       "      <td>0.2</td>\n",
       "      <td>4.4</td>\n",
       "      <td>3.0</td>\n",
       "      <td>4f9dccbf-1e1f-4a57-8d0a-378c69188e43</td>\n",
       "      <td>Iris-setosa</td>\n",
       "    </tr>\n",
       "  </tbody>\n",
       "</table>\n",
       "<p>150 rows × 6 columns</p>\n",
       "</div>"
      ],
      "text/plain": [
       "     longueur de pétale (cm)  Largeur de pétale  Longueur de sépale  \\\n",
       "114                      6.3                1.8                 7.3   \n",
       "62                       6.4                2.0                 7.9   \n",
       "33                       6.6                2.1                 7.6   \n",
       "107                      6.9                2.3                 7.7   \n",
       "7                        3.9                1.1                 5.6   \n",
       "..                       ...                ...                 ...   \n",
       "9                        5.6                1.8                 6.3   \n",
       "103                      1.3                0.2                 4.4   \n",
       "67                       4.3                1.3                 6.2   \n",
       "117                      4.9                1.5                 6.3   \n",
       "47                       1.3                0.2                 4.4   \n",
       "\n",
       "     Largeur de sépale                                    ID           Espèce  \n",
       "114                2.9  c3df88ce-1f25-478d-9c11-80518230bad7   Iris-virginica  \n",
       "62                 3.8  646595be-1cac-4b25-bcc6-bc5305fd201b   Iris-virginica  \n",
       "33                 3.0  397ef579-78e8-48b4-aa5a-eadec82e651e   Iris-virginica  \n",
       "107                2.6  b6eb4add-bf92-4cd3-b006-97751f42ecf7   Iris-virginica  \n",
       "7                  2.5  0ce4515f-8e31-4bf6-a8ef-13a1f702b708  Iris-versicolor  \n",
       "..                 ...                                   ...              ...  \n",
       "9                  2.9  0dd2c701-49ca-489b-9abe-8ae3aef7b831   Iris-virginica  \n",
       "103                3.2  ae343a80-4c0b-4c8f-9b3f-afd689f67955      Iris-setosa  \n",
       "67                 2.9  75df5623-4271-4760-9fad-99a8a62fb4fc  Iris-versicolor  \n",
       "117                2.5  c660988b-a4b4-4261-9f14-d8eab78b2a38  Iris-versicolor  \n",
       "47                 3.0  4f9dccbf-1e1f-4a57-8d0a-378c69188e43      Iris-setosa  \n",
       "\n",
       "[150 rows x 6 columns]"
      ]
     },
     "execution_count": 28,
     "metadata": {},
     "output_type": "execute_result"
    }
   ],
   "source": [
    "df = pd.read_csv(\"/home/ed0uard/Téléchargements/iris.csv\", sep=';')\n",
    "\n",
    "# shuffle dataframe with seed 0\n",
    "df = df.sample(frac=1, random_state=0)\n",
    "\n",
    "df"
   ]
  },
  {
   "cell_type": "code",
   "execution_count": 29,
   "metadata": {},
   "outputs": [],
   "source": [
    "import numpy as np\n",
    "\n",
    "def split_dataframe(df, test_ratio=0.2, seed=42):\n",
    "    np.random.seed(seed)\n",
    "    shuffled_indices = np.random.permutation(len(df))\n",
    "    test_set_size = int(len(df) * test_ratio)\n",
    "    test_indices = shuffled_indices[:test_set_size]\n",
    "    train_indices = shuffled_indices[test_set_size:]\n",
    "    return df.iloc[train_indices], df.iloc[test_indices]\n",
    "\n",
    "train_df, test_df = split_dataframe(df, test_ratio=0.2)"
   ]
  },
  {
   "cell_type": "code",
   "execution_count": 30,
   "metadata": {},
   "outputs": [
    {
     "data": {
      "text/plain": [
       "(<LabelsEnum_Str at 0x749e38b45e90>, 30)"
      ]
     },
     "execution_count": 30,
     "metadata": {},
     "output_type": "execute_result"
    }
   ],
   "source": [
    "Y_train = [x for x in train_df[\"Espèce\"]]\n",
    "Y_test = [x for x in test_df[\"Espèce\"]]\n",
    "Y_train = projetannuel.StringLabels(Y_train)\n",
    "Y_train, len(Y_test)"
   ]
  },
  {
   "cell_type": "code",
   "execution_count": 31,
   "metadata": {},
   "outputs": [
    {
     "data": {
      "text/plain": [
       "Index(['longueur de pétale (cm)', 'Largeur de pétale', 'Longueur de sépale',\n",
       "       'Largeur de sépale', 'ID', 'Espèce'],\n",
       "      dtype='object')"
      ]
     },
     "execution_count": 31,
     "metadata": {},
     "output_type": "execute_result"
    }
   ],
   "source": [
    "df.columns"
   ]
  },
  {
   "cell_type": "code",
   "execution_count": 32,
   "metadata": {},
   "outputs": [],
   "source": [
    "X = train_df[['longueur de pétale (cm)', 'Largeur de pétale', 'Longueur de sépale','Largeur de sépale']].values"
   ]
  },
  {
   "cell_type": "code",
   "execution_count": 33,
   "metadata": {},
   "outputs": [
    {
     "data": {
      "text/plain": [
       "<LinearModel at 0x749e38800c90>"
      ]
     },
     "execution_count": 33,
     "metadata": {},
     "output_type": "execute_result"
    }
   ],
   "source": [
    "model = projetannuel.LinearModel(\n",
    "    X\n",
    "    ,\n",
    "    Y_train\n",
    ")\n",
    "\n",
    "model"
   ]
  },
  {
   "cell_type": "code",
   "execution_count": 34,
   "metadata": {},
   "outputs": [],
   "source": [
    "model.train_classification(5_000_000,0.0001)"
   ]
  },
  {
   "cell_type": "code",
   "execution_count": 35,
   "metadata": {},
   "outputs": [
    {
     "data": {
      "text/plain": [
       "['Iris-versicolor',\n",
       " 'Iris-versicolor',\n",
       " 'Iris-versicolor',\n",
       " 'Iris-versicolor',\n",
       " 'Iris-versicolor',\n",
       " 'Iris-versicolor',\n",
       " 'Iris-versicolor',\n",
       " 'Iris-versicolor',\n",
       " 'Iris-virginica',\n",
       " 'Iris-versicolor',\n",
       " 'Iris-virginica',\n",
       " 'Iris-virginica',\n",
       " 'Iris-virginica',\n",
       " 'Iris-virginica',\n",
       " 'Iris-virginica',\n",
       " 'Iris-versicolor',\n",
       " 'Iris-virginica',\n",
       " 'Iris-versicolor',\n",
       " 'Iris-virginica',\n",
       " 'Iris-versicolor',\n",
       " 'Iris-virginica',\n",
       " 'Iris-versicolor',\n",
       " 'Iris-versicolor',\n",
       " 'Iris-virginica',\n",
       " 'Iris-versicolor',\n",
       " 'Iris-virginica',\n",
       " 'Iris-versicolor',\n",
       " 'Iris-virginica',\n",
       " 'Iris-versicolor',\n",
       " 'Iris-versicolor']"
      ]
     },
     "execution_count": 35,
     "metadata": {},
     "output_type": "execute_result"
    }
   ],
   "source": [
    "Y_pred = []\n",
    "\n",
    "for v in test_df[['longueur de pétale (cm)', 'Largeur de pétale', 'Longueur de sépale','Largeur de sépale']].values :\n",
    "    pred = model.predict(v)\n",
    "    Y_pred.append(pred)\n",
    "    \n",
    "Y_pred"
   ]
  },
  {
   "cell_type": "code",
   "execution_count": 36,
   "metadata": {},
   "outputs": [
    {
     "data": {
      "text/plain": [
       "63.33333333333333"
      ]
     },
     "execution_count": 36,
     "metadata": {},
     "output_type": "execute_result"
    }
   ],
   "source": [
    "val = [\n",
    "    k==v for k,v in zip(Y_test,Y_pred)\n",
    "]\n",
    "sum(val) / len(val) * 100 "
   ]
  }
 ],
 "metadata": {
  "kernelspec": {
   "display_name": "venv",
   "language": "python",
   "name": "python3"
  },
  "language_info": {
   "codemirror_mode": {
    "name": "ipython",
    "version": 3
   },
   "file_extension": ".py",
   "mimetype": "text/x-python",
   "name": "python",
   "nbconvert_exporter": "python",
   "pygments_lexer": "ipython3",
   "version": "3.10.12"
  }
 },
 "nbformat": 4,
 "nbformat_minor": 2
}
