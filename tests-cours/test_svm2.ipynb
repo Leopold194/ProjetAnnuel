{
 "cells": [
  {
   "cell_type": "code",
   "execution_count": 1,
   "id": "fb193add",
   "metadata": {},
   "outputs": [
    {
     "name": "stdout",
     "output_type": "stream",
     "text": [
      "Help on package projetannuel:\n",
      "\n",
      "NAME\n",
      "    projetannuel\n",
      "\n",
      "DESCRIPTION\n",
      "    A Python module implemented in Rust. The name of this function must match\n",
      "    the `lib.name` setting in the `Cargo.toml`, else Python will not be able to\n",
      "    import the module.\n",
      "\n",
      "PACKAGE CONTENTS\n",
      "    projetannuel\n",
      "\n",
      "CLASSES\n",
      "    builtins.object\n",
      "        builtins.LinearModel\n",
      "        builtins.MLP\n",
      "        builtins.RBF\n",
      "        builtins.SVM\n",
      "        builtins.SVMKernelType\n",
      "    \n",
      "    class LinearModel(object)\n",
      "     |  LinearModel(x, y)\n",
      "     |  \n",
      "     |  Methods defined here:\n",
      "     |  \n",
      "     |  predict(self, /, x)\n",
      "     |  \n",
      "     |  save(self, /, path)\n",
      "     |  \n",
      "     |  train_classification(self, /, epochs, learning_rate, algo)\n",
      "     |  \n",
      "     |  train_regression(self, /)\n",
      "     |  \n",
      "     |  ----------------------------------------------------------------------\n",
      "     |  Static methods defined here:\n",
      "     |  \n",
      "     |  __new__(*args, **kwargs)\n",
      "     |      Create and return a new object.  See help(type) for accurate signature.\n",
      "     |  \n",
      "     |  load(path)\n",
      "     |  \n",
      "     |  ----------------------------------------------------------------------\n",
      "     |  Data descriptors defined here:\n",
      "     |  \n",
      "     |  loss\n",
      "     |  \n",
      "     |  model_type\n",
      "     |  \n",
      "     |  num_classes\n",
      "     |  \n",
      "     |  weights\n",
      "     |  \n",
      "     |  x\n",
      "     |  \n",
      "     |  y\n",
      "    \n",
      "    class MLP(object)\n",
      "     |  MLP(npl)\n",
      "     |  \n",
      "     |  Methods defined here:\n",
      "     |  \n",
      "     |  predict(self, /, inputs, is_classification)\n",
      "     |  \n",
      "     |  propagate(self, /, inputs, is_classification)\n",
      "     |  \n",
      "     |  save(self, /, path)\n",
      "     |  \n",
      "     |  train(self, /, all_inputs, all_outputs, epochs, alpha, is_classification)\n",
      "     |  \n",
      "     |  ----------------------------------------------------------------------\n",
      "     |  Static methods defined here:\n",
      "     |  \n",
      "     |  __new__(*args, **kwargs)\n",
      "     |      Create and return a new object.  See help(type) for accurate signature.\n",
      "     |  \n",
      "     |  load(path)\n",
      "     |  \n",
      "     |  ----------------------------------------------------------------------\n",
      "     |  Data descriptors defined here:\n",
      "     |  \n",
      "     |  loss\n",
      "    \n",
      "    class RBF(object)\n",
      "     |  RBF(x, y, gamma, k)\n",
      "     |  \n",
      "     |  Methods defined here:\n",
      "     |  \n",
      "     |  predict(self, /, x)\n",
      "     |  \n",
      "     |  save(self, /, path)\n",
      "     |  \n",
      "     |  train_classification(self, /, epochs, learning_rate, algo)\n",
      "     |  \n",
      "     |  train_regression(self, /)\n",
      "     |  \n",
      "     |  ----------------------------------------------------------------------\n",
      "     |  Static methods defined here:\n",
      "     |  \n",
      "     |  __new__(*args, **kwargs)\n",
      "     |      Create and return a new object.  See help(type) for accurate signature.\n",
      "     |  \n",
      "     |  load(path)\n",
      "     |  \n",
      "     |  ----------------------------------------------------------------------\n",
      "     |  Data descriptors defined here:\n",
      "     |  \n",
      "     |  centers\n",
      "     |  \n",
      "     |  gamma\n",
      "     |  \n",
      "     |  loss\n",
      "     |  \n",
      "     |  model_type\n",
      "     |  \n",
      "     |  num_classes\n",
      "     |  \n",
      "     |  weights\n",
      "     |  \n",
      "     |  x\n",
      "     |  \n",
      "     |  y\n",
      "    \n",
      "    class SVM(object)\n",
      "     |  SVM(kernel)\n",
      "     |  \n",
      "     |  Methods defined here:\n",
      "     |  \n",
      "     |  predict(self, /, x_list)\n",
      "     |  \n",
      "     |  save(self, /, path)\n",
      "     |  \n",
      "     |  train(self, /, x_py, y_py)\n",
      "     |  \n",
      "     |  ----------------------------------------------------------------------\n",
      "     |  Static methods defined here:\n",
      "     |  \n",
      "     |  __new__(*args, **kwargs)\n",
      "     |      Create and return a new object.  See help(type) for accurate signature.\n",
      "     |  \n",
      "     |  load(path)\n",
      "     |  \n",
      "     |  ----------------------------------------------------------------------\n",
      "     |  Data descriptors defined here:\n",
      "     |  \n",
      "     |  alpha\n",
      "     |  \n",
      "     |  bias\n",
      "     |  \n",
      "     |  kernel\n",
      "     |  \n",
      "     |  support_labels\n",
      "     |  \n",
      "     |  support_vectors\n",
      "    \n",
      "    class SVMKernelType(object)\n",
      "     |  Built-in subclasses:\n",
      "     |      SVMKernelType_Linear\n",
      "     |      SVMKernelType_Polynomial\n",
      "     |      SVMKernelType_RBF\n",
      "     |  \n",
      "     |  Methods defined here:\n",
      "     |  \n",
      "     |  __repr__(self, /)\n",
      "     |      Return repr(self).\n",
      "     |  \n",
      "     |  ----------------------------------------------------------------------\n",
      "     |  Static methods defined here:\n",
      "     |  \n",
      "     |  __new__(*args, **kwargs)\n",
      "     |      Create and return a new object.  See help(type) for accurate signature.\n",
      "     |  \n",
      "     |  linear()\n",
      "     |  \n",
      "     |  polynomial(degree)\n",
      "     |  \n",
      "     |  rbf(gamma)\n",
      "     |  \n",
      "     |  ----------------------------------------------------------------------\n",
      "     |  Data and other attributes defined here:\n",
      "     |  \n",
      "     |  Linear = <class 'builtins.SVMKernelType_Linear'>\n",
      "     |  \n",
      "     |  Polynomial = <class 'builtins.SVMKernelType_Polynomial'>\n",
      "     |  \n",
      "     |  RBF = <class 'builtins.SVMKernelType_RBF'>\n",
      "\n",
      "FUNCTIONS\n",
      "    accuracy_score(y_true, y_pred)\n",
      "    \n",
      "    float_labels(labels)\n",
      "    \n",
      "    mean_squared_error(y_true, y_pred)\n",
      "    \n",
      "    root_mean_squared_error(y_true, y_pred)\n",
      "    \n",
      "    string_labels(labels)\n",
      "\n",
      "DATA\n",
      "    __all__ = ['accuracy_score', 'mean_squared_error', 'root_mean_squared_...\n",
      "\n",
      "FILE\n",
      "    c:\\users\\hadinao\\appdata\\local\\programs\\python\\python311\\lib\\site-packages\\projetannuel\\__init__.py\n",
      "\n",
      "\n"
     ]
    }
   ],
   "source": [
    "import projetannuel as pa \n",
    "help(pa)"
   ]
  },
  {
   "cell_type": "code",
   "execution_count": 2,
   "id": "3c5c4403",
   "metadata": {},
   "outputs": [],
   "source": [
    "import numpy as np\n",
    "import matplotlib.pyplot as plt\n",
    "from sklearn.datasets import make_classification\n",
    "\n",
    "# Génère des données linéairement séparables en 2D\n",
    "X, y = make_classification(n_samples=100, n_features=2, \n",
    "                           n_redundant=0, n_clusters_per_class=1,\n",
    "                           class_sep=2.0, random_state=42)\n",
    "\n",
    "# Convertit les labels en -1 / +1 pour le SVM\n",
    "y = 2 * y - 1\n",
    "\n",
    "X_train = X.tolist()\n",
    "y_train = y.tolist()\n"
   ]
  },
  {
   "cell_type": "code",
   "execution_count": 3,
   "id": "a2f66ffc",
   "metadata": {},
   "outputs": [
    {
     "data": {
      "image/png": "[encoded data removed]",
      "text/plain": [
       "<Figure size 600x600 with 1 Axes>"
      ]
     },
     "metadata": {},
     "output_type": "display_data"
    }
   ],
   "source": [
    "plt.figure(figsize=(6, 6))\n",
    "plt.scatter(X[y == -1][:, 0], X[y == -1][:, 1], color=\"red\", label=\"Classe -1\")\n",
    "plt.scatter(X[y == 1][:, 0], X[y == 1][:, 1], color=\"blue\", label=\"Classe +1\")\n",
    "plt.title(\"Données d'entraînement\")\n",
    "plt.xlabel(\"x₁\")\n",
    "plt.ylabel(\"x₂\")\n",
    "plt.legend()\n",
    "plt.grid(True)\n",
    "plt.show()\n"
   ]
  },
  {
   "cell_type": "code",
   "execution_count": 4,
   "id": "169eae12",
   "metadata": {},
   "outputs": [],
   "source": [
    "from projetannuel import SVM, SVMKernelType\n",
    "\n",
    "# Initialise le modèle avec noyau linéaire\n",
    "model = SVM(SVMKernelType.Linear())\n",
    "\n",
    "# Entraîne le modèle\n",
    "model.train(X_train, y_train)\n"
   ]
  },
  {
   "cell_type": "code",
   "execution_count": 13,
   "id": "eb56a21b",
   "metadata": {},
   "outputs": [
    {
     "data": {
      "text/plain": [
       "[-1.0]"
      ]
     },
     "execution_count": 13,
     "metadata": {},
     "output_type": "execute_result"
    }
   ],
   "source": [
    "model.predict([X_train[0]])"
   ]
  },
  {
   "cell_type": "code",
   "execution_count": 12,
   "id": "44ce3950",
   "metadata": {},
   "outputs": [
    {
     "data": {
      "text/plain": [
       "[2.228311836266957, -1.7571784388988299]"
      ]
     },
     "execution_count": 12,
     "metadata": {},
     "output_type": "execute_result"
    }
   ],
   "source": [
    "X_train[0]"
   ]
  },
  {
   "cell_type": "code",
   "execution_count": 14,
   "id": "937eaa59",
   "metadata": {},
   "outputs": [],
   "source": [
    "Y_pred =[model.predict([x])[0] for x in X_train]"
   ]
  },
  {
   "cell_type": "code",
   "execution_count": 20,
   "id": "5f0214e7",
   "metadata": {},
   "outputs": [
    {
     "ename": "TypeError",
     "evalue": "list indices must be integers or slices, not tuple",
     "output_type": "error",
     "traceback": [
      "\u001b[1;31m---------------------------------------------------------------------------\u001b[0m",
      "\u001b[1;31mTypeError\u001b[0m                                 Traceback (most recent call last)",
      "Cell \u001b[1;32mIn[20], line 13\u001b[0m\n\u001b[0;32m     10\u001b[0m Z \u001b[38;5;241m=\u001b[39m np\u001b[38;5;241m.\u001b[39marray(model\u001b[38;5;241m.\u001b[39mpredict(grid\u001b[38;5;241m.\u001b[39mtolist()))\u001b[38;5;241m.\u001b[39mreshape(xx\u001b[38;5;241m.\u001b[39mshape)\n\u001b[0;32m     12\u001b[0m plt\u001b[38;5;241m.\u001b[39mcontourf(xx, yy, Z, levels\u001b[38;5;241m=\u001b[39m[\u001b[38;5;241m-\u001b[39m\u001b[38;5;241m1\u001b[39m, \u001b[38;5;241m0\u001b[39m, \u001b[38;5;241m1\u001b[39m], colors\u001b[38;5;241m=\u001b[39m[\u001b[38;5;124m\"\u001b[39m\u001b[38;5;124m#AAAAFF\u001b[39m\u001b[38;5;124m\"\u001b[39m, \u001b[38;5;124m\"\u001b[39m\u001b[38;5;124m#FFAAAA\u001b[39m\u001b[38;5;124m\"\u001b[39m])\n\u001b[1;32m---> 13\u001b[0m plt\u001b[38;5;241m.\u001b[39mscatter(\u001b[43mX_train\u001b[49m\u001b[43m[\u001b[49m\u001b[43m:\u001b[49m\u001b[43m,\u001b[49m\u001b[43m \u001b[49m\u001b[38;5;241;43m0\u001b[39;49m\u001b[43m]\u001b[49m, X_train[:, \u001b[38;5;241m1\u001b[39m], c\u001b[38;5;241m=\u001b[39mY_pred\u001b[38;5;241m.\u001b[39mravel(), cmap\u001b[38;5;241m=\u001b[39mplt\u001b[38;5;241m.\u001b[39mcm\u001b[38;5;241m.\u001b[39mbwr, edgecolors\u001b[38;5;241m=\u001b[39m\u001b[38;5;124m'\u001b[39m\u001b[38;5;124mk\u001b[39m\u001b[38;5;124m'\u001b[39m)\n\u001b[0;32m     14\u001b[0m plt\u001b[38;5;241m.\u001b[39mtitle(\u001b[38;5;124m\"\u001b[39m\u001b[38;5;124mSVM Prediction Surface\u001b[39m\u001b[38;5;124m\"\u001b[39m)\n\u001b[0;32m     15\u001b[0m plt\u001b[38;5;241m.\u001b[39mgrid(\u001b[38;5;28;01mTrue\u001b[39;00m)\n",
      "\u001b[1;31mTypeError\u001b[0m: list indices must be integers or slices, not tuple"
     ]
    },
    {
     "data": {
      "image/png": "[encoded data removed]",
      "text/plain": [
       "<Figure size 640x480 with 1 Axes>"
      ]
     },
     "metadata": {},
     "output_type": "display_data"
    }
   ],
   "source": [
    "import numpy as np\n",
    "import matplotlib.pyplot as plt \n",
    "\n",
    "h = 0.02\n",
    "x_min, x_max = X[:, 0].min() - 0.5, X[:, 0].max() + 0.5\n",
    "y_min, y_max = X[:, 1].min() - 0.5, X[:, 1].max() + 0.5\n",
    "xx, yy = np.meshgrid(np.arange(x_min, x_max, h),\n",
    "                     np.arange(y_min, y_max, h))\n",
    "grid = np.c_[xx.ravel(), yy.ravel()]\n",
    "Z = np.array(model.predict(grid.tolist())).reshape(xx.shape)\n",
    "\n",
    "plt.contourf(xx, yy, Z, levels=[-1, 0, 1], colors=[\"#AAAAFF\", \"#FFAAAA\"])\n",
    "plt.scatter(X_train[:, 0], X_train[:, 1], c=Y_pred.ravel(), cmap=plt.cm.bwr, edgecolors='k')\n",
    "plt.title(\"SVM Prediction Surface\")\n",
    "plt.grid(True)\n",
    "plt.show()\n"
   ]
  },
  {
   "cell_type": "code",
   "execution_count": 21,
   "id": "34a59f9e",
   "metadata": {},
   "outputs": [],
   "source": [
    "model.save(\"test_svm.json\")"
   ]
  },
  {
   "cell_type": "code",
   "execution_count": 22,
   "id": "b10cd6df",
   "metadata": {},
   "outputs": [],
   "source": [
    "model2 = SVM.load(\"test_svm.json\")"
   ]
  },
  {
   "cell_type": "code",
   "execution_count": 36,
   "id": "c06aa4a8",
   "metadata": {},
   "outputs": [],
   "source": [
    "model2.train(X_train,y_train)"
   ]
  },
  {
   "cell_type": "code",
   "execution_count": 37,
   "id": "6fe9f374",
   "metadata": {},
   "outputs": [],
   "source": [
    "Y_pred2 = [model2.predict([x])[0] for x in X_train]"
   ]
  },
  {
   "cell_type": "code",
   "execution_count": 38,
   "id": "4edf12d5",
   "metadata": {},
   "outputs": [],
   "source": [
    "for i in range(len(Y_pred)):\n",
    "    if Y_pred[i]!=Y_pred2[i]:\n",
    "        print(\"Strange\")"
   ]
  },
  {
   "cell_type": "code",
   "execution_count": 31,
   "id": "c1d597d3",
   "metadata": {},
   "outputs": [
    {
     "data": {
      "text/plain": [
       "SVM"
      ]
     },
     "execution_count": 31,
     "metadata": {},
     "output_type": "execute_result"
    }
   ],
   "source": [
    "type(model2)"
   ]
  },
  {
   "cell_type": "code",
   "execution_count": null,
   "id": "16f96ea0",
   "metadata": {},
   "outputs": [],
   "source": [
    "model2.train()"
   ]
  },
  {
   "cell_type": "code",
   "execution_count": 32,
   "id": "d7c1079f",
   "metadata": {},
   "outputs": [],
   "source": [
    "X = np.concatenate([np.random.random((50,2)) * 0.9 + np.array([1, 1]), np.random.random((50,2)) * 0.9 + np.array([2, 2])])\n",
    "Y = np.concatenate([np.ones((50, 1)), np.ones((50, 1)) * -1.0])"
   ]
  },
  {
   "cell_type": "code",
   "execution_count": 33,
   "id": "32f7364d",
   "metadata": {},
   "outputs": [
    {
     "name": "stderr",
     "output_type": "stream",
     "text": [
      "C:\\Users\\hadinao\\AppData\\Local\\Temp\\ipykernel_26700\\901456840.py:1: DeprecationWarning: Conversion of an array with ndim > 0 to a scalar is deprecated, and will error in future. Ensure you extract a single element from your array before performing this operation. (Deprecated NumPy 1.25.)\n",
      "  model2.train(X,Y)\n"
     ]
    }
   ],
   "source": [
    "model2.train(X,Y)"
   ]
  },
  {
   "cell_type": "code",
   "execution_count": 34,
   "id": "2fe10390",
   "metadata": {},
   "outputs": [],
   "source": [
    "Y_pred2 = [model2.predict([x])[0] for x in X_train]"
   ]
  }
 ],
 "metadata": {
  "kernelspec": {
   "display_name": "Python 3",
   "language": "python",
   "name": "python3"
  },
  "language_info": {
   "codemirror_mode": {
    "name": "ipython",
    "version": 3
   },
   "file_extension": ".py",
   "mimetype": "text/x-python",
   "name": "python",
   "nbconvert_exporter": "python",
   "pygments_lexer": "ipython3",
   "version": "3.11.9"
  }
 },
 "nbformat": 4,
 "nbformat_minor": 5
}
